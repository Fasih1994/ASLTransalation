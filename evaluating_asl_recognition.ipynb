{
 "cells": [
  {
   "cell_type": "markdown",
   "metadata": {},
   "source": [
    "# Evaluating ASL Recognition Models"
   ]
  },
  {
   "cell_type": "markdown",
   "metadata": {},
   "source": [
    "## Confusion Matrix of Test Data\n",
    "\n",
    "After performing tests, a confusion matrix can be used to evaluate the model and it's accuracy for each ASL handshape/letter.\n",
    "\n",
    " We can compare the different models which achieved an accuracy between 60%-70%."
   ]
  },
  {
   "cell_type": "code",
   "execution_count": null,
   "metadata": {},
   "outputs": [],
   "source": [
    "# Imports\n",
    "import os\n",
    "import numpy as np\n",
    "import matplotlib.pyplot as plt\n",
    "\n",
    "# For confusion matrix calculation/visualization\n",
    "import tensorflow as tf\n",
    "import seaborn as sn\n",
    "import pandas as pd"
   ]
  },
  {
   "cell_type": "markdown",
   "metadata": {},
   "source": [
    "### VGG16 120px-by-120px Evaluation"
   ]
  },
  {
   "cell_type": "code",
   "execution_count": null,
   "metadata": {},
   "outputs": [],
   "source": [
    "# Load model weights\n",
    "# Use test data to make predictions (for evaluation)\n",
    "\n",
    "# Change one-hot encoding to just an integer representing letter (match research paper)\n",
    "# Get percents to compare with research paper benchmark\n",
    "\n",
    "# Print out counts to see distribution of the number of letters tested against\n",
    "\n",
    "# Display percentages for confusion matrix"
   ]
  },
  {
   "cell_type": "markdown",
   "metadata": {},
   "source": [
    "### VGG19 120px-by-120px Evaluation"
   ]
  },
  {
   "cell_type": "code",
   "execution_count": null,
   "metadata": {},
   "outputs": [],
   "source": [
    "# Load model weights\n",
    "# Use test data to make predictions (for evaluation)\n",
    "\n",
    "# Change one-hot encoding to just an integer representing letter (match research paper)\n",
    "# Get percents to compare with research paper benchmark\n",
    "\n",
    "# Print out counts to see distribution of the number of letters tested against\n",
    "\n",
    "# Display percentages for confusion matrix"
   ]
  },
  {
   "cell_type": "markdown",
   "metadata": {},
   "source": [
    "### VGG16 160px-by-160px Evaluation"
   ]
  },
  {
   "cell_type": "code",
   "execution_count": null,
   "metadata": {},
   "outputs": [],
   "source": [
    "# Load model weights\n",
    "# Use test data to make predictions (for evaluation)\n",
    "\n",
    "# Change one-hot encoding to just an integer representing letter (match research paper)\n",
    "# Get percents to compare with research paper benchmark\n",
    "\n",
    "# Print out counts to see distribution of the number of letters tested against\n",
    "\n",
    "# Display percentages for confusion matrix"
   ]
  },
  {
   "cell_type": "markdown",
   "metadata": {},
   "source": [
    "### ResNet50 Evaluation"
   ]
  },
  {
   "cell_type": "code",
   "execution_count": null,
   "metadata": {},
   "outputs": [],
   "source": [
    "# Load model weights\n",
    "# Use test data to make predictions (for evaluation)\n",
    "\n",
    "# Change one-hot encoding to just an integer representing letter (match research paper)\n",
    "# Get percents to compare with research paper benchmark\n",
    "\n",
    "# Print out counts to see distribution of the number of letters tested against\n",
    "\n",
    "# Display percentages for confusion matrix"
   ]
  }
 ],
 "metadata": {
  "kernelspec": {
   "display_name": "Python 3",
   "language": "python",
   "name": "python3"
  },
  "language_info": {
   "codemirror_mode": {
    "name": "ipython",
    "version": 3
   },
   "file_extension": ".py",
   "mimetype": "text/x-python",
   "name": "python",
   "nbconvert_exporter": "python",
   "pygments_lexer": "ipython3",
   "version": "3.6.4"
  }
 },
 "nbformat": 4,
 "nbformat_minor": 2
}
