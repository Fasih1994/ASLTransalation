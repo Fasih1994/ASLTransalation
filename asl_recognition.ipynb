{
 "cells": [
  {
   "cell_type": "markdown",
   "metadata": {},
   "source": [
    "# American Sign Language (ASL) Image Recognition"
   ]
  },
  {
   "cell_type": "markdown",
   "metadata": {},
   "source": [
    "## Introduction"
   ]
  },
  {
   "cell_type": "markdown",
   "metadata": {},
   "source": [
    "## Loading in dataset"
   ]
  },
  {
   "cell_type": "code",
   "execution_count": 14,
   "metadata": {},
   "outputs": [],
   "source": [
    "import re\n",
    "import os\n",
    "import numpy as np\n",
    "import matplotlib.pyplot as plt\n",
    "from PIL import Image, ImageFile  \n",
    "from sklearn.datasets import load_files\n",
    "from keras.utils import np_utils\n",
    "from keras.preprocessing import image                  \n",
    "from tqdm import tqdm\n",
    "\n",
    "# For transfer learning\n",
    "import scipy\n",
    "import keras.applications.vgg16 as vgg16\n",
    "\n",
    "models_dir = 'saved_models'\n",
    "data_dir = 'data'"
   ]
  },
  {
   "cell_type": "markdown",
   "metadata": {},
   "source": [
    "### Dividing data into training, validation, and testing sets\n",
    "\n",
    "Now that preprocessing the images is completed (see `data_preprocessing.ipynb` notebook), the full dataset will be split into training, validation, and testing sets. The testing set will be all the images from one subject to mirror the \"Spelling It Out\" paper's method so the benchmark model can be compared. The rest of the images will be randomly split; 80% of images for training, 20% of the images for validation."
   ]
  },
  {
   "cell_type": "code",
   "execution_count": 6,
   "metadata": {},
   "outputs": [],
   "source": [
    "def load_dataset(path, n_categories=24):\n",
    "    data = load_files(path)\n",
    "    image_files = np.array(data['filenames'])\n",
    "    # Hot encode categories to matrix\n",
    "    image_targets = np_utils.to_categorical(np.array(data['target']), n_categories)\n",
    "    return image_files, image_targets\n",
    "\n",
    "def move_data_by_category(container_dir, regex_file_format='.*png'):\n",
    "    '''Move data into a directory based on category'''\n",
    "    # Still check if files are images\n",
    "    file_list = [x for x in os.listdir(container_dir) if re.search(regex_file_format, x)]\n",
    "    # Get numerical string (note that 1 digits are represented w/ 2 digits) \n",
    "    letters = {x.split('_')[0] for x in file_list}\n",
    "    \n",
    "    for letter in letters:\n",
    "        # Only images that match letter\n",
    "        images_with_letter = [filename for filename in file_list if filename.split('_')[0] == letter]\n",
    "        # Add images to sub directory\n",
    "        new_categ_path = os.path.join(container_dir, letter)\n",
    "        if not os.path.exists(new_categ_path):\n",
    "            os.makedirs(new_categ_path)\n",
    "        print(f'Created {new_categ_path} dir with {len(images_with_letter)} items')\n",
    "        for img_filename in images_with_letter:\n",
    "            path = os.path.join(container_dir, img_filename)\n",
    "            new_path = os.path.join(new_categ_path, img_filename)            \n",
    "            os.rename(path, new_path)\n",
    "    # TODO: Check if any files were skipped (improperly named?)\n",
    "        \n",
    "\n",
    "def get_testing_data(data_dir, subject_num='4'):\n",
    "    '''Get all data/images pertaining to one subject'''\n",
    "    # Only search in directory for images with that subject\n",
    "    file_list = [x for x in os.listdir(data_dir) if re.search(f'\\d+_{subject_num}_\\d*\\.png', x)]\n",
    "    \n",
    "    # Make a new testing data directory if doesn't exist\n",
    "    testing_dir = os.path.join(data_dir, 'test')\n",
    "    if not os.path.exists(testing_dir):\n",
    "        os.makedirs(testing_dir)\n",
    "        \n",
    "    # Move images of particular subject into testing directory\n",
    "    for image_filename in file_list:\n",
    "        # file is **_n_****.png where n is an integer representing a subject\n",
    "        _, subject, _ = image_filename.split('_')\n",
    "        # Move file into testing directory\n",
    "        path = os.path.join(data_dir, image_filename)\n",
    "        new_path = os.path.join(testing_dir, image_filename)\n",
    "        os.rename(path, new_path)\n",
    "        \n",
    "    # Move each image file's numerical str representing letters found in testing into own category directory\n",
    "    move_data_by_category(testing_dir)\n",
    "    \n",
    "    return load_dataset(testing_dir)\n",
    "\n",
    "\n",
    "def get_training_validation_data(data_dir, ratio=0.8):\n",
    "    '''Randomly split data into training and validation sets'''\n",
    "    # Only search in directory for images\n",
    "    file_list = [x for x in os.listdir(data_dir) if re.search('.*png', x)]\n",
    "    \n",
    "    # Make a new training & validation data directory if doesn't exist\n",
    "    train_dir = os.path.join(data_dir, 'train')\n",
    "    valid_dir = os.path.join(data_dir, 'valid')\n",
    "    if not os.path.exists(train_dir):\n",
    "        os.makedirs(train_dir)\n",
    "    if not os.path.exists(valid_dir):\n",
    "        os.makedirs(valid_dir)\n",
    "        \n",
    "    # Randomly split file list into training and vaidation sets\n",
    "    np.random.shuffle(file_list)\n",
    "    split_int = int(ratio * len(file_list))\n",
    "    train_list = file_list[:split_int]\n",
    "    valid_list = file_list[split_int:]\n",
    "    \n",
    "    # Move images of particular subject into testing directory\n",
    "    for filenames, new_dir in [(train_list, train_dir), (valid_list, valid_dir)]:\n",
    "        for image_filename in filenames:\n",
    "            # Move file into testing directory\n",
    "            path = os.path.join(data_dir, image_filename)\n",
    "            new_path = os.path.join(new_dir, image_filename)\n",
    "            os.rename(path, new_path)\n",
    "\n",
    "        # Move each image file's numerical str representing letters found in testing into own category directory\n",
    "        move_data_by_category(new_dir)\n",
    "    \n",
    "    return (load_dataset(train_dir), load_dataset(valid_dir))"
   ]
  },
  {
   "cell_type": "code",
   "execution_count": 7,
   "metadata": {},
   "outputs": [],
   "source": [
    "test_data, test_targets = get_testing_data(data_dir)\n",
    "train, valid = get_training_validation_data(data_dir)\n",
    "# Separated data and its targets\n",
    "train_data, train_targets = train\n",
    "valid_data, valid_targets = valid"
   ]
  },
  {
   "cell_type": "markdown",
   "metadata": {},
   "source": [
    "### Display some of the images"
   ]
  },
  {
   "cell_type": "code",
   "execution_count": null,
   "metadata": {},
   "outputs": [],
   "source": [
    "np.random.seed(8675309)\n",
    "%matplotlib inline\n",
    "\n",
    "# Display image previews below\n",
    "plt.figure(figsize=(20,55))\n",
    "columns = 8\n",
    "n = 1\n",
    "\n",
    "# Randomly choose images to display (with label)\n",
    "for image_path in np.random.choice(train_data, 24, replace=False):\n",
    "    img = Image.open(image_path)\n",
    "    plt.subplot(20, columns, n)\n",
    "    n+=1\n",
    "    plt.imshow(img)\n",
    "    letter = image_path.split('/')[-1][:2]\n",
    "    letter = chr(int(letter)+65)\n",
    "    plt.title(letter)"
   ]
  },
  {
   "cell_type": "markdown",
   "metadata": {},
   "source": [
    "### Preparing the model"
   ]
  },
  {
   "cell_type": "code",
   "execution_count": 35,
   "metadata": {},
   "outputs": [],
   "source": [
    "# Preprocessing data fro Keras (TensorFlow backend)\n",
    "def path_to_tensor(img_path):\n",
    "    # Loads image as PIL.Image.Image type\n",
    "    img = image.load_img(img_path, target_size=(224, 224), grayscale=False)\n",
    "    # Convert PIL.Image.Image type to 3D tensor with shape (224, 224, 1)\n",
    "    x = image.img_to_array(img)\n",
    "    # convert 3D tensor to 4D tensor with shape (1, 224, 224, 1) and return 4D tensor\n",
    "    return np.expand_dims(x, axis=0)\n",
    "\n",
    "def paths_to_tensor(img_paths):\n",
    "    list_of_tensors = [path_to_tensor(img_path) for img_path in tqdm(img_paths)]\n",
    "    return np.vstack(list_of_tensors)"
   ]
  },
  {
   "cell_type": "code",
   "execution_count": 36,
   "metadata": {},
   "outputs": [
    {
     "name": "stderr",
     "output_type": "stream",
     "text": [
      "100%|██████████| 10376/10376 [00:11<00:00, 922.19it/s]\n",
      "100%|██████████| 13898/13898 [00:13<00:00, 995.85it/s] \n"
     ]
    }
   ],
   "source": [
    "ImageFile.LOAD_TRUNCATED_IMAGES = True                 \n",
    "\n",
    "# pre-process the data for Keras\n",
    "valid_tensors = paths_to_tensor(valid_data).astype('float32')\n",
    "test_tensors = paths_to_tensor(test_data).astype('float32')"
   ]
  },
  {
   "cell_type": "code",
   "execution_count": 37,
   "metadata": {
    "scrolled": true
   },
   "outputs": [
    {
     "name": "stderr",
     "output_type": "stream",
     "text": [
      "100%|██████████| 41500/41500 [01:05<00:00, 637.43it/s]\n"
     ]
    }
   ],
   "source": [
    "# Prepare training data separately since this is usually large\n",
    "train_tensors = paths_to_tensor(train_data).astype('float32')"
   ]
  },
  {
   "cell_type": "markdown",
   "metadata": {},
   "source": [
    "## Basic CNN model from scratch"
   ]
  },
  {
   "cell_type": "markdown",
   "metadata": {},
   "source": [
    "### Building basic model"
   ]
  },
  {
   "cell_type": "code",
   "execution_count": 38,
   "metadata": {},
   "outputs": [
    {
     "name": "stdout",
     "output_type": "stream",
     "text": [
      "_________________________________________________________________\n",
      "Layer (type)                 Output Shape              Param #   \n",
      "=================================================================\n",
      "conv2d_7 (Conv2D)            (None, 160, 160, 16)      80        \n",
      "_________________________________________________________________\n",
      "max_pooling2d_7 (MaxPooling2 (None, 80, 80, 16)        0         \n",
      "_________________________________________________________________\n",
      "conv2d_8 (Conv2D)            (None, 80, 80, 32)        2080      \n",
      "_________________________________________________________________\n",
      "max_pooling2d_8 (MaxPooling2 (None, 40, 40, 32)        0         \n",
      "_________________________________________________________________\n",
      "conv2d_9 (Conv2D)            (None, 40, 40, 64)        8256      \n",
      "_________________________________________________________________\n",
      "max_pooling2d_9 (MaxPooling2 (None, 20, 20, 64)        0         \n",
      "_________________________________________________________________\n",
      "global_average_pooling2d_3 ( (None, 64)                0         \n",
      "_________________________________________________________________\n",
      "dense_3 (Dense)              (None, 24)                1560      \n",
      "=================================================================\n",
      "Total params: 11,976\n",
      "Trainable params: 11,976\n",
      "Non-trainable params: 0\n",
      "_________________________________________________________________\n"
     ]
    }
   ],
   "source": [
    "from keras.layers import Conv2D, MaxPooling2D, GlobalAveragePooling2D\n",
    "from keras.layers import Dropout, Flatten, Dense\n",
    "from keras.models import Sequential\n",
    "\n",
    "model = Sequential()\n",
    "#Convo 224, 224, 1\n",
    "model.add(Conv2D(filters=16, kernel_size=2, padding='same', activation='relu', \n",
    "                        input_shape=(224, 224, 1)))\n",
    "#\n",
    "model.add(MaxPooling2D(pool_size=2))\n",
    "#\n",
    "model.add(Conv2D(filters=32, kernel_size=2, padding='same', activation='relu'))\n",
    "#\n",
    "model.add(MaxPooling2D(pool_size=2))\n",
    "#\n",
    "model.add(Conv2D(filters=64, kernel_size=2, padding='same', activation='relu'))\n",
    "#\n",
    "model.add(MaxPooling2D(pool_size=2))\n",
    "#\n",
    "model.add(GlobalAveragePooling2D())\n",
    "#Dense; 24 for each handshape \n",
    "model.add(Dense(24, activation='softmax'))\n",
    "\n",
    "\n",
    "model.summary()"
   ]
  },
  {
   "cell_type": "code",
   "execution_count": 39,
   "metadata": {},
   "outputs": [],
   "source": [
    "model.compile(optimizer='rmsprop', loss='categorical_crossentropy', metrics=['accuracy'])"
   ]
  },
  {
   "cell_type": "markdown",
   "metadata": {},
   "source": [
    "### Training basic model"
   ]
  },
  {
   "cell_type": "code",
   "execution_count": 40,
   "metadata": {},
   "outputs": [
    {
     "name": "stdout",
     "output_type": "stream",
     "text": [
      "Train on 41500 samples, validate on 10376 samples\n",
      "Epoch 1/16\n",
      "41480/41500 [============================>.] - ETA: 0s - loss: 2.7345 - acc: 0.1880Epoch 00001: val_loss improved from inf to 2.30307, saving model to saved_models/weights.best.from_scratch.hdf5\n",
      "41500/41500 [==============================] - 72s 2ms/step - loss: 2.7341 - acc: 0.1881 - val_loss: 2.3031 - val_acc: 0.2963\n",
      "Epoch 2/16\n",
      "41460/41500 [============================>.] - ETA: 0s - loss: 2.1257 - acc: 0.3397Epoch 00002: val_loss improved from 2.30307 to 1.98483, saving model to saved_models/weights.best.from_scratch.hdf5\n",
      "41500/41500 [==============================] - 71s 2ms/step - loss: 2.1256 - acc: 0.3397 - val_loss: 1.9848 - val_acc: 0.3566\n",
      "Epoch 3/16\n",
      "41460/41500 [============================>.] - ETA: 0s - loss: 1.8236 - acc: 0.4251Epoch 00003: val_loss improved from 1.98483 to 1.90926, saving model to saved_models/weights.best.from_scratch.hdf5\n",
      "41500/41500 [==============================] - 71s 2ms/step - loss: 1.8238 - acc: 0.4251 - val_loss: 1.9093 - val_acc: 0.3714\n",
      "Epoch 4/16\n",
      "41460/41500 [============================>.] - ETA: 0s - loss: 1.5805 - acc: 0.4980Epoch 00004: val_loss improved from 1.90926 to 1.41748, saving model to saved_models/weights.best.from_scratch.hdf5\n",
      "41500/41500 [==============================] - 71s 2ms/step - loss: 1.5803 - acc: 0.4980 - val_loss: 1.4175 - val_acc: 0.5447\n",
      "Epoch 5/16\n",
      "41460/41500 [============================>.] - ETA: 0s - loss: 1.3729 - acc: 0.5605Epoch 00005: val_loss improved from 1.41748 to 1.19161, saving model to saved_models/weights.best.from_scratch.hdf5\n",
      "41500/41500 [==============================] - 71s 2ms/step - loss: 1.3728 - acc: 0.5605 - val_loss: 1.1916 - val_acc: 0.6340\n",
      "Epoch 6/16\n",
      "41460/41500 [============================>.] - ETA: 0s - loss: 1.2071 - acc: 0.6131Epoch 00006: val_loss improved from 1.19161 to 1.05981, saving model to saved_models/weights.best.from_scratch.hdf5\n",
      "41500/41500 [==============================] - 71s 2ms/step - loss: 1.2068 - acc: 0.6133 - val_loss: 1.0598 - val_acc: 0.6657\n",
      "Epoch 7/16\n",
      "41460/41500 [============================>.] - ETA: 0s - loss: 1.0755 - acc: 0.6519Epoch 00007: val_loss improved from 1.05981 to 1.01589, saving model to saved_models/weights.best.from_scratch.hdf5\n",
      "41500/41500 [==============================] - 71s 2ms/step - loss: 1.0752 - acc: 0.6520 - val_loss: 1.0159 - val_acc: 0.6814\n",
      "Epoch 8/16\n",
      "41460/41500 [============================>.] - ETA: 0s - loss: 0.9794 - acc: 0.6849Epoch 00008: val_loss improved from 1.01589 to 0.95951, saving model to saved_models/weights.best.from_scratch.hdf5\n",
      "41500/41500 [==============================] - 71s 2ms/step - loss: 0.9793 - acc: 0.6849 - val_loss: 0.9595 - val_acc: 0.6882\n",
      "Epoch 9/16\n",
      "41460/41500 [============================>.] - ETA: 0s - loss: 0.8979 - acc: 0.7080Epoch 00009: val_loss improved from 0.95951 to 0.88985, saving model to saved_models/weights.best.from_scratch.hdf5\n",
      "41500/41500 [==============================] - 71s 2ms/step - loss: 0.8981 - acc: 0.7079 - val_loss: 0.8899 - val_acc: 0.7046\n",
      "Epoch 10/16\n",
      "41460/41500 [============================>.] - ETA: 0s - loss: 0.8355 - acc: 0.7291Epoch 00010: val_loss improved from 0.88985 to 0.73171, saving model to saved_models/weights.best.from_scratch.hdf5\n",
      "41500/41500 [==============================] - 71s 2ms/step - loss: 0.8353 - acc: 0.7291 - val_loss: 0.7317 - val_acc: 0.7714\n",
      "Epoch 11/16\n",
      "41460/41500 [============================>.] - ETA: 0s - loss: 0.7872 - acc: 0.7438Epoch 00011: val_loss did not improve\n",
      "41500/41500 [==============================] - 71s 2ms/step - loss: 0.7873 - acc: 0.7438 - val_loss: 0.7982 - val_acc: 0.7442\n",
      "Epoch 12/16\n",
      "41460/41500 [============================>.] - ETA: 0s - loss: 0.7386 - acc: 0.7588Epoch 00012: val_loss did not improve\n",
      "41500/41500 [==============================] - 71s 2ms/step - loss: 0.7385 - acc: 0.7588 - val_loss: 0.7332 - val_acc: 0.7581\n",
      "Epoch 13/16\n",
      "41460/41500 [============================>.] - ETA: 0s - loss: 0.7035 - acc: 0.7706Epoch 00013: val_loss improved from 0.73171 to 0.70602, saving model to saved_models/weights.best.from_scratch.hdf5\n",
      "41500/41500 [==============================] - 71s 2ms/step - loss: 0.7034 - acc: 0.7706 - val_loss: 0.7060 - val_acc: 0.7738\n",
      "Epoch 14/16\n",
      "41460/41500 [============================>.] - ETA: 0s - loss: 0.6712 - acc: 0.7816Epoch 00014: val_loss improved from 0.70602 to 0.65615, saving model to saved_models/weights.best.from_scratch.hdf5\n",
      "41500/41500 [==============================] - 71s 2ms/step - loss: 0.6709 - acc: 0.7817 - val_loss: 0.6562 - val_acc: 0.7859\n",
      "Epoch 15/16\n",
      "41460/41500 [============================>.] - ETA: 0s - loss: 0.6445 - acc: 0.7899Epoch 00015: val_loss improved from 0.65615 to 0.59643, saving model to saved_models/weights.best.from_scratch.hdf5\n",
      "41500/41500 [==============================] - 71s 2ms/step - loss: 0.6444 - acc: 0.7899 - val_loss: 0.5964 - val_acc: 0.8112\n",
      "Epoch 16/16\n",
      "41460/41500 [============================>.] - ETA: 0s - loss: 0.6163 - acc: 0.8011Epoch 00016: val_loss did not improve\n",
      "41500/41500 [==============================] - 71s 2ms/step - loss: 0.6162 - acc: 0.8012 - val_loss: 0.6142 - val_acc: 0.8049\n"
     ]
    },
    {
     "data": {
      "text/plain": [
       "<keras.callbacks.History at 0x7feca9889a58>"
      ]
     },
     "execution_count": 40,
     "metadata": {},
     "output_type": "execute_result"
    }
   ],
   "source": [
    "from keras.callbacks import ModelCheckpoint  \n",
    "\n",
    "epochs = 16\n",
    "\n",
    "# Create a saved models directory\n",
    "if not os.path.exists(models_dir):\n",
    "    os.makedirs(models_dir)\n",
    "\n",
    "checkpointer = ModelCheckpoint(filepath=f'{models_dir}/weights.best.from_scratch.hdf5', \n",
    "                               verbose=1, save_best_only=True)\n",
    "\n",
    "model.fit(train_tensors, train_targets, \n",
    "          validation_data=(valid_tensors, valid_targets),\n",
    "          epochs=epochs, batch_size=20, callbacks=[checkpointer], verbose=1)"
   ]
  },
  {
   "cell_type": "markdown",
   "metadata": {},
   "source": [
    "### Evaluating basic model"
   ]
  },
  {
   "cell_type": "code",
   "execution_count": 41,
   "metadata": {},
   "outputs": [
    {
     "name": "stdout",
     "output_type": "stream",
     "text": [
      "Test accuracy: 43.3156%\n"
     ]
    }
   ],
   "source": [
    "handshape_predictions = [np.argmax(model.predict(np.expand_dims(tensor, axis=0))) for tensor in test_tensors]\n",
    "\n",
    "# report test accuracy\n",
    "test_accuracy = 100*np.sum(np.array(handshape_predictions)==np.argmax(test_targets, axis=1))/len(handshape_predictions)\n",
    "print('Test accuracy: %.4f%%' % test_accuracy)"
   ]
  },
  {
   "cell_type": "markdown",
   "metadata": {},
   "source": [
    "## Transfer Learning with VGG16"
   ]
  },
  {
   "cell_type": "markdown",
   "metadata": {},
   "source": [
    "### Preparing the model"
   ]
  },
  {
   "cell_type": "code",
   "execution_count": 12,
   "metadata": {},
   "outputs": [],
   "source": [
    "#\n",
    "n_pixels = 120\n",
    "model_name = 'model_120px'\n",
    "\n",
    "# Preprocessing data fro Keras (TensorFlow backend)\n",
    "def path_to_tensor(img_path):\n",
    "    # Loads image as PIL.Image.Image type\n",
    "    img = image.load_img(img_path, target_size=(n_pixels, n_pixels), grayscale=False)\n",
    "    # Convert PIL.Image.Image type to 3D tensor with shape (n, n, 3)\n",
    "    x = image.img_to_array(img)\n",
    "    # convert 3D tensor to 4D tensor with shape (1, n, n, 3) and return 4D tensor\n",
    "    return np.expand_dims(x, axis=0)\n",
    "\n",
    "def paths_to_tensor(img_paths):\n",
    "    list_of_tensors = [path_to_tensor(img_path) for img_path in tqdm(img_paths)]\n",
    "    return np.vstack(list_of_tensors)"
   ]
  },
  {
   "cell_type": "code",
   "execution_count": 9,
   "metadata": {},
   "outputs": [
    {
     "name": "stderr",
     "output_type": "stream",
     "text": [
      "  0%|          | 11/10376 [00:00<01:34, 109.72it/s]"
     ]
    },
    {
     "name": "stdout",
     "output_type": "stream",
     "text": [
      "Preparing to create valid tensors\n"
     ]
    },
    {
     "name": "stderr",
     "output_type": "stream",
     "text": [
      "100%|██████████| 10376/10376 [00:15<00:00, 650.71it/s]\n"
     ]
    },
    {
     "name": "stdout",
     "output_type": "stream",
     "text": [
      "valid tensors prepared\n"
     ]
    }
   ],
   "source": [
    "ImageFile.LOAD_TRUNCATED_IMAGES = True                 \n",
    "# Pre-process the data for Keras\n",
    "# Prepare training data separately since this is usually large\n",
    "\n",
    "print('Preparing to create valid tensors')\n",
    "valid_tensors = paths_to_tensor(valid_data).astype('float32')\n",
    "print('valid tensors prepared')"
   ]
  },
  {
   "cell_type": "code",
   "execution_count": 10,
   "metadata": {},
   "outputs": [
    {
     "name": "stderr",
     "output_type": "stream",
     "text": [
      "  0%|          | 68/13898 [00:00<00:20, 679.88it/s]"
     ]
    },
    {
     "name": "stdout",
     "output_type": "stream",
     "text": [
      "Preparing to create test tensors\n"
     ]
    },
    {
     "name": "stderr",
     "output_type": "stream",
     "text": [
      "100%|██████████| 13898/13898 [00:20<00:00, 681.42it/s]\n"
     ]
    },
    {
     "name": "stdout",
     "output_type": "stream",
     "text": [
      "test tensors prepared\n"
     ]
    }
   ],
   "source": [
    "print('Preparing to create test tensors')\n",
    "test_tensors = paths_to_tensor(test_data).astype('float32')\n",
    "print('test tensors prepared')"
   ]
  },
  {
   "cell_type": "code",
   "execution_count": 11,
   "metadata": {},
   "outputs": [
    {
     "name": "stderr",
     "output_type": "stream",
     "text": [
      "  0%|          | 73/41500 [00:00<00:56, 727.51it/s]"
     ]
    },
    {
     "name": "stdout",
     "output_type": "stream",
     "text": [
      "Preparing to create train tensors\n"
     ]
    },
    {
     "name": "stderr",
     "output_type": "stream",
     "text": [
      "100%|██████████| 41500/41500 [01:01<00:00, 675.17it/s]\n"
     ]
    },
    {
     "name": "stdout",
     "output_type": "stream",
     "text": [
      "train tensors prepared\n"
     ]
    }
   ],
   "source": [
    "print('Preparing to create train tensors')\n",
    "train_tensors = paths_to_tensor(train_data).astype('float32')\n",
    "print('train tensors prepared')"
   ]
  },
  {
   "cell_type": "markdown",
   "metadata": {},
   "source": [
    "### Extract Bottleneck Features for Training Set"
   ]
  },
  {
   "cell_type": "code",
   "execution_count": 16,
   "metadata": {},
   "outputs": [
    {
     "name": "stdout",
     "output_type": "stream",
     "text": [
      "data loaded\n",
      "model loaded\n",
      "bottleneck features file not detected (train)\n",
      "calculating now ...\n",
      "train data preprocessed\n",
      "bottleneck features saved (train)\n"
     ]
    }
   ],
   "source": [
    "# Load the data\n",
    "targets = np.squeeze(train_targets)\n",
    "print('data loaded')\n",
    "\n",
    "# Load vgg16 model + remove final classification layers\n",
    "model = vgg16.VGG16(weights='imagenet', include_top=False, input_shape=(n_pixels, n_pixels, 3), classes=24)\n",
    "print('model loaded')\n",
    "\n",
    "# Obtain bottleneck features (train)\n",
    "if os.path.exists('vgg16_features_train.npz'):\n",
    "    print('bottleneck features detected (train)')\n",
    "    features = np.load('vgg16_features_train.npz')['features']\n",
    "else:\n",
    "    print('bottleneck features file not detected (train)')\n",
    "    \n",
    "    print('calculating now ...')\n",
    "    # Pre-process the train data\n",
    "    big_x_train = np.array([scipy.misc.imresize(train_tensors[i], (n_pixels, n_pixels, 3)) \n",
    "                            for i in range(0, len(train_tensors))]).astype('float32')\n",
    "    vgg16_input_train = vgg16.preprocess_input(big_x_train)\n",
    "    print('train data preprocessed')\n",
    "    \n",
    "    # Extract, process, and save bottleneck features\n",
    "    features = model.predict(vgg16_input_train)\n",
    "    features = np.squeeze(features)\n",
    "    np.savez('vgg16_features_train', features=features)\n",
    "\n",
    "print('bottleneck features saved (train)')"
   ]
  },
  {
   "cell_type": "markdown",
   "metadata": {},
   "source": [
    "### Extract Bottleneck Features for Validation Set"
   ]
  },
  {
   "cell_type": "code",
   "execution_count": 18,
   "metadata": {
    "scrolled": true
   },
   "outputs": [
    {
     "name": "stdout",
     "output_type": "stream",
     "text": [
      "bottleneck features file not detected (valid)\n",
      "calculating now ...\n",
      "bottleneck features saved (valid)\n"
     ]
    }
   ],
   "source": [
    "# Obtain bottleneck features (valid)\n",
    "if os.path.exists('vgg16_features_valid.npz'):\n",
    "    print('bottleneck features detected (valid)')\n",
    "    features_valid = np.load('vgg16_features_valid.npz')['features_test']\n",
    "else:\n",
    "    # Calculating for validation set\n",
    "    print('bottleneck features file not detected (valid)')\n",
    "    print('calculating now ...')\n",
    "    # Pre-process the valid data\n",
    "    big_x_valid = np.array([scipy.misc.imresize(valid_tensors[i], (n_pixels, n_pixels, 3)) \n",
    "                       for i in range(0, len(valid_tensors))]).astype('float32')\n",
    "\n",
    "    vgg16_input_valid = vgg16.preprocess_input(big_x_valid)\n",
    "    # Extract, process, and save bottleneck features (valid)\n",
    "    features_valid = model.predict(vgg16_input_valid)\n",
    "    features_valid = np.squeeze(features_valid)\n",
    "    np.savez('vgg16_features_valid', features_test=features_valid)\n",
    "print('bottleneck features saved (valid)')"
   ]
  },
  {
   "cell_type": "markdown",
   "metadata": {},
   "source": [
    "### Extract Bottleneck Features for Test Set"
   ]
  },
  {
   "cell_type": "code",
   "execution_count": 19,
   "metadata": {
    "scrolled": true
   },
   "outputs": [
    {
     "name": "stdout",
     "output_type": "stream",
     "text": [
      "bottleneck features file not detected (test)\n",
      "calculating now ...\n",
      "bottleneck features saved (test)\n"
     ]
    }
   ],
   "source": [
    "# Obtain bottleneck features (test)\n",
    "if os.path.exists('vgg16_features_test.npz'):\n",
    "    print('bottleneck features detected (test)')\n",
    "    features_test = np.load('vgg16_features_test.npz')['features_test']\n",
    "else:\n",
    "    # Calculating for test set\n",
    "    print('bottleneck features file not detected (test)')\n",
    "    print('calculating now ...')\n",
    "    # pre-process the test data\n",
    "    big_x_test = np.array([scipy.misc.imresize(test_tensors[i], (n_pixels, n_pixels, 3)) \n",
    "                       for i in range(0, len(test_tensors))]).astype('float32')\n",
    "\n",
    "    vgg16_input_test = vgg16.preprocess_input(big_x_test)\n",
    "    # Extract, process, and save bottleneck features (test)\n",
    "    features_test = model.predict(vgg16_input_test)\n",
    "    features_test = np.squeeze(features_test)\n",
    "    np.savez('vgg16_features_test', features_test=features_test)\n",
    "print('bottleneck features saved (test)')"
   ]
  },
  {
   "cell_type": "markdown",
   "metadata": {},
   "source": [
    "### Building model"
   ]
  },
  {
   "cell_type": "code",
   "execution_count": 20,
   "metadata": {},
   "outputs": [
    {
     "name": "stdout",
     "output_type": "stream",
     "text": [
      "_________________________________________________________________\n",
      "Layer (type)                 Output Shape              Param #   \n",
      "=================================================================\n",
      "conv2d_1 (Conv2D)            (None, 2, 2, 100)         204900    \n",
      "_________________________________________________________________\n",
      "dropout_1 (Dropout)          (None, 2, 2, 100)         0         \n",
      "_________________________________________________________________\n",
      "global_average_pooling2d_1 ( (None, 100)               0         \n",
      "_________________________________________________________________\n",
      "dropout_2 (Dropout)          (None, 100)               0         \n",
      "_________________________________________________________________\n",
      "dense_1 (Dense)              (None, 24)                2424      \n",
      "=================================================================\n",
      "Total params: 207,324\n",
      "Trainable params: 207,324\n",
      "Non-trainable params: 0\n",
      "_________________________________________________________________\n"
     ]
    }
   ],
   "source": [
    "# Shallow NN\n",
    "from keras.callbacks import ModelCheckpoint   \n",
    "from keras.models import Sequential\n",
    "from keras.layers import Dense, Dropout, Conv2D, GlobalAveragePooling2D\n",
    "\n",
    "model = Sequential()\n",
    "model.add(Conv2D(filters=100, kernel_size=2, input_shape=features.shape[1:]))\n",
    "model.add(Dropout(0.4))\n",
    "model.add(GlobalAveragePooling2D())\n",
    "model.add(Dropout(0.3))\n",
    "model.add(Dense(24, activation='softmax'))\n",
    "model.summary()\n",
    "\n",
    "model.compile(loss='categorical_crossentropy', optimizer='rmsprop', metrics=['accuracy'])\n",
    "\n"
   ]
  },
  {
   "cell_type": "code",
   "execution_count": 21,
   "metadata": {},
   "outputs": [
    {
     "name": "stderr",
     "output_type": "stream",
     "text": [
      "Exception ignored in: <bound method ZipFile.__del__ of <zipfile.ZipFile filename='vgg16_features_train.npz' mode='w'>>\n",
      "Traceback (most recent call last):\n",
      "  File \"/opt/conda/lib/python3.6/zipfile.py\", line 1663, in __del__\n",
      "    self.close()\n",
      "  File \"/opt/conda/lib/python3.6/zipfile.py\", line 1672, in close\n",
      "    raise ValueError(\"Can't close the ZIP file while there is \"\n",
      "ValueError: Can't close the ZIP file while there is an open writing handle on it. Close the writing handle before closing the zip.\n"
     ]
    },
    {
     "name": "stdout",
     "output_type": "stream",
     "text": [
      "Train on 41500 samples, validate on 10376 samples\n",
      "Epoch 1/150\n",
      "Epoch 00001: val_loss improved from inf to 1.33380, saving model to vgg16_model_120px.best_batch500_epoch150.hdf5\n",
      " - 6s - loss: 5.8630 - acc: 0.5297 - val_loss: 1.3338 - val_acc: 0.8491\n",
      "Epoch 2/150\n",
      "Epoch 00002: val_loss improved from 1.33380 to 0.75100, saving model to vgg16_model_120px.best_batch500_epoch150.hdf5\n",
      " - 1s - loss: 1.8962 - acc: 0.7971 - val_loss: 0.7510 - val_acc: 0.9044\n",
      "Epoch 3/150\n",
      "Epoch 00003: val_loss improved from 0.75100 to 0.53891, saving model to vgg16_model_120px.best_batch500_epoch150.hdf5\n",
      " - 1s - loss: 1.2169 - acc: 0.8601 - val_loss: 0.5389 - val_acc: 0.9314\n",
      "Epoch 4/150\n",
      "Epoch 00004: val_loss improved from 0.53891 to 0.52316, saving model to vgg16_model_120px.best_batch500_epoch150.hdf5\n",
      " - 1s - loss: 0.8731 - acc: 0.8916 - val_loss: 0.5232 - val_acc: 0.9308\n",
      "Epoch 5/150\n",
      "Epoch 00005: val_loss improved from 0.52316 to 0.35675, saving model to vgg16_model_120px.best_batch500_epoch150.hdf5\n",
      " - 1s - loss: 0.6888 - acc: 0.9088 - val_loss: 0.3568 - val_acc: 0.9508\n",
      "Epoch 6/150\n",
      "Epoch 00006: val_loss improved from 0.35675 to 0.28007, saving model to vgg16_model_120px.best_batch500_epoch150.hdf5\n",
      " - 1s - loss: 0.5701 - acc: 0.9225 - val_loss: 0.2801 - val_acc: 0.9579\n",
      "Epoch 7/150\n",
      "Epoch 00007: val_loss improved from 0.28007 to 0.25894, saving model to vgg16_model_120px.best_batch500_epoch150.hdf5\n",
      " - 1s - loss: 0.4792 - acc: 0.9315 - val_loss: 0.2589 - val_acc: 0.9610\n",
      "Epoch 8/150\n",
      "Epoch 00008: val_loss did not improve\n",
      " - 1s - loss: 0.4308 - acc: 0.9376 - val_loss: 0.3914 - val_acc: 0.9428\n",
      "Epoch 9/150\n",
      "Epoch 00009: val_loss improved from 0.25894 to 0.21938, saving model to vgg16_model_120px.best_batch500_epoch150.hdf5\n",
      " - 1s - loss: 0.3664 - acc: 0.9427 - val_loss: 0.2194 - val_acc: 0.9648\n",
      "Epoch 10/150\n",
      "Epoch 00010: val_loss did not improve\n",
      " - 1s - loss: 0.3284 - acc: 0.9480 - val_loss: 0.2499 - val_acc: 0.9644\n",
      "Epoch 11/150\n",
      "Epoch 00011: val_loss improved from 0.21938 to 0.20808, saving model to vgg16_model_120px.best_batch500_epoch150.hdf5\n",
      " - 1s - loss: 0.2936 - acc: 0.9516 - val_loss: 0.2081 - val_acc: 0.9650\n",
      "Epoch 12/150\n",
      "Epoch 00012: val_loss improved from 0.20808 to 0.17254, saving model to vgg16_model_120px.best_batch500_epoch150.hdf5\n",
      " - 1s - loss: 0.2688 - acc: 0.9545 - val_loss: 0.1725 - val_acc: 0.9709\n",
      "Epoch 13/150\n",
      "Epoch 00013: val_loss improved from 0.17254 to 0.15781, saving model to vgg16_model_120px.best_batch500_epoch150.hdf5\n",
      " - 1s - loss: 0.2611 - acc: 0.9558 - val_loss: 0.1578 - val_acc: 0.9721\n",
      "Epoch 14/150\n",
      "Epoch 00014: val_loss did not improve\n",
      " - 1s - loss: 0.2359 - acc: 0.9596 - val_loss: 0.2039 - val_acc: 0.9657\n",
      "Epoch 15/150\n",
      "Epoch 00015: val_loss did not improve\n",
      " - 1s - loss: 0.2171 - acc: 0.9616 - val_loss: 0.1598 - val_acc: 0.9727\n",
      "Epoch 16/150\n",
      "Epoch 00016: val_loss did not improve\n",
      " - 1s - loss: 0.1969 - acc: 0.9642 - val_loss: 0.1729 - val_acc: 0.9694\n",
      "Epoch 17/150\n",
      "Epoch 00017: val_loss did not improve\n",
      " - 1s - loss: 0.1769 - acc: 0.9651 - val_loss: 0.1581 - val_acc: 0.9721\n",
      "Epoch 18/150\n",
      "Epoch 00018: val_loss did not improve\n",
      " - 1s - loss: 0.1841 - acc: 0.9655 - val_loss: 0.1692 - val_acc: 0.9719\n",
      "Epoch 19/150\n",
      "Epoch 00019: val_loss did not improve\n",
      " - 1s - loss: 0.1679 - acc: 0.9685 - val_loss: 0.1706 - val_acc: 0.9703\n",
      "Epoch 20/150\n",
      "Epoch 00020: val_loss improved from 0.15781 to 0.13637, saving model to vgg16_model_120px.best_batch500_epoch150.hdf5\n",
      " - 1s - loss: 0.1641 - acc: 0.9684 - val_loss: 0.1364 - val_acc: 0.9771\n",
      "Epoch 21/150\n",
      "Epoch 00021: val_loss did not improve\n",
      " - 1s - loss: 0.1618 - acc: 0.9684 - val_loss: 0.1445 - val_acc: 0.9747\n",
      "Epoch 22/150\n",
      "Epoch 00022: val_loss did not improve\n",
      " - 1s - loss: 0.1515 - acc: 0.9705 - val_loss: 0.1401 - val_acc: 0.9753\n",
      "Epoch 23/150\n",
      "Epoch 00023: val_loss did not improve\n",
      " - 1s - loss: 0.1484 - acc: 0.9719 - val_loss: 0.1612 - val_acc: 0.9717\n",
      "Epoch 24/150\n",
      "Epoch 00024: val_loss improved from 0.13637 to 0.13170, saving model to vgg16_model_120px.best_batch500_epoch150.hdf5\n",
      " - 1s - loss: 0.1408 - acc: 0.9727 - val_loss: 0.1317 - val_acc: 0.9772\n",
      "Epoch 25/150\n",
      "Epoch 00025: val_loss improved from 0.13170 to 0.10399, saving model to vgg16_model_120px.best_batch500_epoch150.hdf5\n",
      " - 1s - loss: 0.1389 - acc: 0.9731 - val_loss: 0.1040 - val_acc: 0.9795\n",
      "Epoch 26/150\n",
      "Epoch 00026: val_loss did not improve\n",
      " - 1s - loss: 0.1321 - acc: 0.9739 - val_loss: 0.1301 - val_acc: 0.9774\n",
      "Epoch 27/150\n",
      "Epoch 00027: val_loss did not improve\n",
      " - 1s - loss: 0.1235 - acc: 0.9747 - val_loss: 0.1218 - val_acc: 0.9774\n",
      "Epoch 28/150\n",
      "Epoch 00028: val_loss did not improve\n",
      " - 1s - loss: 0.1240 - acc: 0.9756 - val_loss: 0.1243 - val_acc: 0.9786\n",
      "Epoch 29/150\n",
      "Epoch 00029: val_loss did not improve\n",
      " - 1s - loss: 0.1205 - acc: 0.9759 - val_loss: 0.1287 - val_acc: 0.9771\n",
      "Epoch 30/150\n",
      "Epoch 00030: val_loss did not improve\n",
      " - 1s - loss: 0.1215 - acc: 0.9760 - val_loss: 0.1333 - val_acc: 0.9768\n",
      "Epoch 31/150\n",
      "Epoch 00031: val_loss did not improve\n",
      " - 1s - loss: 0.1211 - acc: 0.9760 - val_loss: 0.1321 - val_acc: 0.9780\n",
      "Epoch 32/150\n",
      "Epoch 00032: val_loss did not improve\n",
      " - 1s - loss: 0.1163 - acc: 0.9762 - val_loss: 0.1306 - val_acc: 0.9780\n",
      "Epoch 33/150\n",
      "Epoch 00033: val_loss did not improve\n",
      " - 1s - loss: 0.1082 - acc: 0.9785 - val_loss: 0.1202 - val_acc: 0.9788\n",
      "Epoch 34/150\n",
      "Epoch 00034: val_loss did not improve\n",
      " - 1s - loss: 0.1110 - acc: 0.9777 - val_loss: 0.1366 - val_acc: 0.9782\n",
      "Epoch 35/150\n",
      "Epoch 00035: val_loss did not improve\n",
      " - 1s - loss: 0.1059 - acc: 0.9792 - val_loss: 0.1331 - val_acc: 0.9773\n",
      "Epoch 36/150\n",
      "Epoch 00036: val_loss did not improve\n",
      " - 1s - loss: 0.1032 - acc: 0.9791 - val_loss: 0.1128 - val_acc: 0.9798\n",
      "Epoch 37/150\n",
      "Epoch 00037: val_loss did not improve\n",
      " - 1s - loss: 0.1037 - acc: 0.9797 - val_loss: 0.1206 - val_acc: 0.9797\n",
      "Epoch 38/150\n",
      "Epoch 00038: val_loss did not improve\n",
      " - 1s - loss: 0.0965 - acc: 0.9794 - val_loss: 0.1080 - val_acc: 0.9811\n",
      "Epoch 39/150\n",
      "Epoch 00039: val_loss did not improve\n",
      " - 1s - loss: 0.0978 - acc: 0.9802 - val_loss: 0.1189 - val_acc: 0.9795\n",
      "Epoch 40/150\n",
      "Epoch 00040: val_loss did not improve\n",
      " - 1s - loss: 0.0956 - acc: 0.9808 - val_loss: 0.1257 - val_acc: 0.9805\n",
      "Epoch 41/150\n",
      "Epoch 00041: val_loss did not improve\n",
      " - 1s - loss: 0.0919 - acc: 0.9808 - val_loss: 0.1293 - val_acc: 0.9778\n",
      "Epoch 42/150\n",
      "Epoch 00042: val_loss did not improve\n",
      " - 1s - loss: 0.0901 - acc: 0.9815 - val_loss: 0.1143 - val_acc: 0.9791\n",
      "Epoch 43/150\n",
      "Epoch 00043: val_loss did not improve\n",
      " - 1s - loss: 0.0961 - acc: 0.9812 - val_loss: 0.1277 - val_acc: 0.9790\n",
      "Epoch 44/150\n",
      "Epoch 00044: val_loss did not improve\n",
      " - 1s - loss: 0.0791 - acc: 0.9830 - val_loss: 0.1216 - val_acc: 0.9801\n",
      "Epoch 45/150\n",
      "Epoch 00045: val_loss did not improve\n",
      " - 1s - loss: 0.0895 - acc: 0.9820 - val_loss: 0.1250 - val_acc: 0.9806\n",
      "Epoch 46/150\n",
      "Epoch 00046: val_loss did not improve\n",
      " - 1s - loss: 0.0851 - acc: 0.9820 - val_loss: 0.1207 - val_acc: 0.9799\n",
      "Epoch 47/150\n",
      "Epoch 00047: val_loss did not improve\n",
      " - 1s - loss: 0.0889 - acc: 0.9825 - val_loss: 0.1346 - val_acc: 0.9782\n",
      "Epoch 48/150\n",
      "Epoch 00048: val_loss did not improve\n",
      " - 1s - loss: 0.0814 - acc: 0.9831 - val_loss: 0.1264 - val_acc: 0.9801\n",
      "Epoch 49/150\n",
      "Epoch 00049: val_loss did not improve\n",
      " - 1s - loss: 0.0780 - acc: 0.9832 - val_loss: 0.1070 - val_acc: 0.9825\n",
      "Epoch 50/150\n",
      "Epoch 00050: val_loss did not improve\n",
      " - 1s - loss: 0.0838 - acc: 0.9823 - val_loss: 0.1356 - val_acc: 0.9792\n",
      "Epoch 51/150\n",
      "Epoch 00051: val_loss did not improve\n",
      " - 1s - loss: 0.0779 - acc: 0.9833 - val_loss: 0.1385 - val_acc: 0.9793\n",
      "Epoch 52/150\n",
      "Epoch 00052: val_loss did not improve\n",
      " - 1s - loss: 0.0823 - acc: 0.9841 - val_loss: 0.1094 - val_acc: 0.9837\n",
      "Epoch 53/150\n",
      "Epoch 00053: val_loss did not improve\n",
      " - 1s - loss: 0.0736 - acc: 0.9850 - val_loss: 0.1177 - val_acc: 0.9824\n",
      "Epoch 54/150\n",
      "Epoch 00054: val_loss did not improve\n",
      " - 1s - loss: 0.0799 - acc: 0.9847 - val_loss: 0.1158 - val_acc: 0.9802\n",
      "Epoch 55/150\n",
      "Epoch 00055: val_loss did not improve\n",
      " - 1s - loss: 0.0824 - acc: 0.9834 - val_loss: 0.1330 - val_acc: 0.9792\n",
      "Epoch 56/150\n",
      "Epoch 00056: val_loss did not improve\n",
      " - 1s - loss: 0.0736 - acc: 0.9845 - val_loss: 0.1132 - val_acc: 0.9819\n",
      "Epoch 57/150\n",
      "Epoch 00057: val_loss did not improve\n",
      " - 1s - loss: 0.0806 - acc: 0.9842 - val_loss: 0.1274 - val_acc: 0.9789\n",
      "Epoch 58/150\n",
      "Epoch 00058: val_loss did not improve\n",
      " - 1s - loss: 0.0848 - acc: 0.9838 - val_loss: 0.1066 - val_acc: 0.9819\n"
     ]
    },
    {
     "name": "stdout",
     "output_type": "stream",
     "text": [
      "Epoch 59/150\n",
      "Epoch 00059: val_loss did not improve\n",
      " - 1s - loss: 0.0764 - acc: 0.9845 - val_loss: 0.1251 - val_acc: 0.9788\n",
      "Epoch 60/150\n",
      "Epoch 00060: val_loss did not improve\n",
      " - 1s - loss: 0.0777 - acc: 0.9850 - val_loss: 0.1200 - val_acc: 0.9815\n",
      "Epoch 61/150\n",
      "Epoch 00061: val_loss did not improve\n",
      " - 1s - loss: 0.0799 - acc: 0.9848 - val_loss: 0.1096 - val_acc: 0.9829\n",
      "Epoch 62/150\n",
      "Epoch 00062: val_loss did not improve\n",
      " - 1s - loss: 0.0727 - acc: 0.9858 - val_loss: 0.1076 - val_acc: 0.9827\n",
      "Epoch 63/150\n",
      "Epoch 00063: val_loss did not improve\n",
      " - 1s - loss: 0.0736 - acc: 0.9851 - val_loss: 0.1475 - val_acc: 0.9790\n",
      "Epoch 64/150\n",
      "Epoch 00064: val_loss did not improve\n",
      " - 1s - loss: 0.0779 - acc: 0.9849 - val_loss: 0.1312 - val_acc: 0.9801\n",
      "Epoch 65/150\n",
      "Epoch 00065: val_loss did not improve\n",
      " - 1s - loss: 0.0717 - acc: 0.9855 - val_loss: 0.1167 - val_acc: 0.9830\n",
      "Epoch 66/150\n",
      "Epoch 00066: val_loss did not improve\n",
      " - 1s - loss: 0.0718 - acc: 0.9859 - val_loss: 0.1115 - val_acc: 0.9830\n",
      "Epoch 67/150\n",
      "Epoch 00067: val_loss did not improve\n",
      " - 1s - loss: 0.0687 - acc: 0.9860 - val_loss: 0.1451 - val_acc: 0.9794\n",
      "Epoch 68/150\n",
      "Epoch 00068: val_loss did not improve\n",
      " - 1s - loss: 0.0694 - acc: 0.9866 - val_loss: 0.1123 - val_acc: 0.9823\n",
      "Epoch 69/150\n",
      "Epoch 00069: val_loss did not improve\n",
      " - 1s - loss: 0.0755 - acc: 0.9860 - val_loss: 0.1414 - val_acc: 0.9801\n",
      "Epoch 70/150\n",
      "Epoch 00070: val_loss did not improve\n",
      " - 1s - loss: 0.0768 - acc: 0.9851 - val_loss: 0.1232 - val_acc: 0.9819\n",
      "Epoch 71/150\n",
      "Epoch 00071: val_loss did not improve\n",
      " - 1s - loss: 0.0665 - acc: 0.9876 - val_loss: 0.1261 - val_acc: 0.9803\n",
      "Epoch 72/150\n",
      "Epoch 00072: val_loss did not improve\n",
      " - 1s - loss: 0.0687 - acc: 0.9866 - val_loss: 0.1274 - val_acc: 0.9803\n",
      "Epoch 73/150\n",
      "Epoch 00073: val_loss did not improve\n",
      " - 1s - loss: 0.0717 - acc: 0.9863 - val_loss: 0.1292 - val_acc: 0.9821\n",
      "Epoch 74/150\n",
      "Epoch 00074: val_loss did not improve\n",
      " - 1s - loss: 0.0756 - acc: 0.9863 - val_loss: 0.1211 - val_acc: 0.9825\n",
      "Epoch 75/150\n",
      "Epoch 00075: val_loss did not improve\n",
      " - 1s - loss: 0.0704 - acc: 0.9867 - val_loss: 0.1533 - val_acc: 0.9767\n",
      "Epoch 76/150\n",
      "Epoch 00076: val_loss did not improve\n",
      " - 1s - loss: 0.0656 - acc: 0.9870 - val_loss: 0.1197 - val_acc: 0.9817\n",
      "Epoch 77/150\n",
      "Epoch 00077: val_loss did not improve\n",
      " - 1s - loss: 0.0721 - acc: 0.9864 - val_loss: 0.1087 - val_acc: 0.9842\n",
      "Epoch 78/150\n",
      "Epoch 00078: val_loss did not improve\n",
      " - 1s - loss: 0.0637 - acc: 0.9875 - val_loss: 0.1403 - val_acc: 0.9811\n",
      "Epoch 79/150\n",
      "Epoch 00079: val_loss did not improve\n",
      " - 1s - loss: 0.0659 - acc: 0.9866 - val_loss: 0.1223 - val_acc: 0.9827\n",
      "Epoch 80/150\n",
      "Epoch 00080: val_loss did not improve\n",
      " - 1s - loss: 0.0677 - acc: 0.9874 - val_loss: 0.1279 - val_acc: 0.9813\n",
      "Epoch 81/150\n",
      "Epoch 00081: val_loss did not improve\n",
      " - 1s - loss: 0.0606 - acc: 0.9878 - val_loss: 0.1305 - val_acc: 0.9821\n",
      "Epoch 82/150\n",
      "Epoch 00082: val_loss did not improve\n",
      " - 1s - loss: 0.0638 - acc: 0.9876 - val_loss: 0.1303 - val_acc: 0.9816\n",
      "Epoch 83/150\n",
      "Epoch 00083: val_loss did not improve\n",
      " - 1s - loss: 0.0631 - acc: 0.9884 - val_loss: 0.1224 - val_acc: 0.9812\n",
      "Epoch 84/150\n",
      "Epoch 00084: val_loss did not improve\n",
      " - 1s - loss: 0.0625 - acc: 0.9882 - val_loss: 0.1286 - val_acc: 0.9809\n",
      "Epoch 85/150\n",
      "Epoch 00085: val_loss did not improve\n",
      " - 1s - loss: 0.0708 - acc: 0.9875 - val_loss: 0.1256 - val_acc: 0.9825\n",
      "Epoch 86/150\n",
      "Epoch 00086: val_loss did not improve\n",
      " - 1s - loss: 0.0612 - acc: 0.9880 - val_loss: 0.1249 - val_acc: 0.9825\n",
      "Epoch 87/150\n",
      "Epoch 00087: val_loss did not improve\n",
      " - 1s - loss: 0.0595 - acc: 0.9885 - val_loss: 0.1316 - val_acc: 0.9831\n",
      "Epoch 88/150\n",
      "Epoch 00088: val_loss did not improve\n",
      " - 1s - loss: 0.0590 - acc: 0.9888 - val_loss: 0.1086 - val_acc: 0.9833\n",
      "Epoch 89/150\n",
      "Epoch 00089: val_loss did not improve\n",
      " - 1s - loss: 0.0637 - acc: 0.9882 - val_loss: 0.1321 - val_acc: 0.9802\n",
      "Epoch 90/150\n",
      "Epoch 00090: val_loss did not improve\n",
      " - 1s - loss: 0.0669 - acc: 0.9880 - val_loss: 0.1167 - val_acc: 0.9832\n",
      "Epoch 91/150\n",
      "Epoch 00091: val_loss did not improve\n",
      " - 1s - loss: 0.0619 - acc: 0.9883 - val_loss: 0.1338 - val_acc: 0.9803\n",
      "Epoch 92/150\n",
      "Epoch 00092: val_loss did not improve\n",
      " - 1s - loss: 0.0646 - acc: 0.9876 - val_loss: 0.1397 - val_acc: 0.9801\n",
      "Epoch 93/150\n",
      "Epoch 00093: val_loss did not improve\n",
      " - 1s - loss: 0.0559 - acc: 0.9894 - val_loss: 0.1280 - val_acc: 0.9816\n",
      "Epoch 94/150\n",
      "Epoch 00094: val_loss did not improve\n",
      " - 1s - loss: 0.0598 - acc: 0.9887 - val_loss: 0.1350 - val_acc: 0.9823\n",
      "Epoch 95/150\n",
      "Epoch 00095: val_loss did not improve\n",
      " - 1s - loss: 0.0585 - acc: 0.9889 - val_loss: 0.1230 - val_acc: 0.9819\n",
      "Epoch 96/150\n",
      "Epoch 00096: val_loss did not improve\n",
      " - 1s - loss: 0.0579 - acc: 0.9888 - val_loss: 0.1150 - val_acc: 0.9832\n",
      "Epoch 97/150\n",
      "Epoch 00097: val_loss did not improve\n",
      " - 1s - loss: 0.0636 - acc: 0.9883 - val_loss: 0.1242 - val_acc: 0.9818\n",
      "Epoch 98/150\n",
      "Epoch 00098: val_loss did not improve\n",
      " - 1s - loss: 0.0615 - acc: 0.9887 - val_loss: 0.1096 - val_acc: 0.9845\n",
      "Epoch 99/150\n",
      "Epoch 00099: val_loss did not improve\n",
      " - 1s - loss: 0.0585 - acc: 0.9891 - val_loss: 0.1177 - val_acc: 0.9841\n",
      "Epoch 100/150\n",
      "Epoch 00100: val_loss did not improve\n",
      " - 1s - loss: 0.0592 - acc: 0.9891 - val_loss: 0.1324 - val_acc: 0.9830\n",
      "Epoch 101/150\n",
      "Epoch 00101: val_loss did not improve\n",
      " - 1s - loss: 0.0622 - acc: 0.9889 - val_loss: 0.1308 - val_acc: 0.9826\n",
      "Epoch 102/150\n",
      "Epoch 00102: val_loss did not improve\n",
      " - 1s - loss: 0.0649 - acc: 0.9885 - val_loss: 0.1262 - val_acc: 0.9818\n",
      "Epoch 103/150\n",
      "Epoch 00103: val_loss did not improve\n",
      " - 1s - loss: 0.0566 - acc: 0.9895 - val_loss: 0.1183 - val_acc: 0.9831\n",
      "Epoch 104/150\n",
      "Epoch 00104: val_loss did not improve\n",
      " - 1s - loss: 0.0612 - acc: 0.9895 - val_loss: 0.1312 - val_acc: 0.9829\n",
      "Epoch 105/150\n",
      "Epoch 00105: val_loss did not improve\n",
      " - 1s - loss: 0.0635 - acc: 0.9884 - val_loss: 0.1236 - val_acc: 0.9832\n",
      "Epoch 106/150\n",
      "Epoch 00106: val_loss did not improve\n",
      " - 1s - loss: 0.0580 - acc: 0.9893 - val_loss: 0.1443 - val_acc: 0.9787\n",
      "Epoch 107/150\n",
      "Epoch 00107: val_loss did not improve\n",
      " - 1s - loss: 0.0529 - acc: 0.9902 - val_loss: 0.1385 - val_acc: 0.9827\n",
      "Epoch 108/150\n",
      "Epoch 00108: val_loss did not improve\n",
      " - 1s - loss: 0.0584 - acc: 0.9899 - val_loss: 0.1186 - val_acc: 0.9837\n",
      "Epoch 109/150\n",
      "Epoch 00109: val_loss did not improve\n",
      " - 1s - loss: 0.0543 - acc: 0.9898 - val_loss: 0.1263 - val_acc: 0.9834\n",
      "Epoch 110/150\n",
      "Epoch 00110: val_loss did not improve\n",
      " - 1s - loss: 0.0565 - acc: 0.9896 - val_loss: 0.1311 - val_acc: 0.9814\n",
      "Epoch 111/150\n",
      "Epoch 00111: val_loss did not improve\n",
      " - 1s - loss: 0.0556 - acc: 0.9897 - val_loss: 0.1366 - val_acc: 0.9831\n",
      "Epoch 112/150\n",
      "Epoch 00112: val_loss did not improve\n",
      " - 1s - loss: 0.0633 - acc: 0.9887 - val_loss: 0.1288 - val_acc: 0.9829\n",
      "Epoch 113/150\n",
      "Epoch 00113: val_loss did not improve\n",
      " - 1s - loss: 0.0614 - acc: 0.9891 - val_loss: 0.1371 - val_acc: 0.9804\n",
      "Epoch 114/150\n",
      "Epoch 00114: val_loss did not improve\n",
      " - 1s - loss: 0.0561 - acc: 0.9902 - val_loss: 0.1239 - val_acc: 0.9831\n",
      "Epoch 115/150\n",
      "Epoch 00115: val_loss did not improve\n",
      " - 1s - loss: 0.0609 - acc: 0.9895 - val_loss: 0.1299 - val_acc: 0.9823\n",
      "Epoch 116/150\n",
      "Epoch 00116: val_loss did not improve\n",
      " - 1s - loss: 0.0608 - acc: 0.9895 - val_loss: 0.1210 - val_acc: 0.9835\n",
      "Epoch 117/150\n",
      "Epoch 00117: val_loss did not improve\n",
      " - 1s - loss: 0.0590 - acc: 0.9896 - val_loss: 0.1380 - val_acc: 0.9811\n",
      "Epoch 118/150\n",
      "Epoch 00118: val_loss did not improve\n",
      " - 1s - loss: 0.0578 - acc: 0.9895 - val_loss: 0.1241 - val_acc: 0.9838\n",
      "Epoch 119/150\n",
      "Epoch 00119: val_loss did not improve\n",
      " - 1s - loss: 0.0588 - acc: 0.9898 - val_loss: 0.1292 - val_acc: 0.9827\n",
      "Epoch 120/150\n",
      "Epoch 00120: val_loss did not improve\n",
      " - 1s - loss: 0.0527 - acc: 0.9902 - val_loss: 0.1218 - val_acc: 0.9830\n",
      "Epoch 121/150\n",
      "Epoch 00121: val_loss did not improve\n",
      " - 1s - loss: 0.0566 - acc: 0.9895 - val_loss: 0.1148 - val_acc: 0.9845\n",
      "Epoch 122/150\n",
      "Epoch 00122: val_loss did not improve\n",
      " - 1s - loss: 0.0528 - acc: 0.9904 - val_loss: 0.1374 - val_acc: 0.9814\n",
      "Epoch 123/150\n",
      "Epoch 00123: val_loss did not improve\n",
      " - 1s - loss: 0.0556 - acc: 0.9900 - val_loss: 0.1323 - val_acc: 0.9823\n",
      "Epoch 124/150\n",
      "Epoch 00124: val_loss did not improve\n",
      " - 1s - loss: 0.0555 - acc: 0.9901 - val_loss: 0.1194 - val_acc: 0.9852\n",
      "Epoch 125/150\n",
      "Epoch 00125: val_loss did not improve\n",
      " - 1s - loss: 0.0546 - acc: 0.9901 - val_loss: 0.1351 - val_acc: 0.9823\n"
     ]
    },
    {
     "name": "stdout",
     "output_type": "stream",
     "text": [
      "Epoch 126/150\n",
      "Epoch 00126: val_loss did not improve\n",
      " - 1s - loss: 0.0565 - acc: 0.9901 - val_loss: 0.1474 - val_acc: 0.9805\n",
      "Epoch 127/150\n",
      "Epoch 00127: val_loss did not improve\n",
      " - 1s - loss: 0.0606 - acc: 0.9895 - val_loss: 0.1308 - val_acc: 0.9828\n",
      "Epoch 128/150\n",
      "Epoch 00128: val_loss did not improve\n",
      " - 1s - loss: 0.0513 - acc: 0.9910 - val_loss: 0.1253 - val_acc: 0.9835\n",
      "Epoch 129/150\n",
      "Epoch 00129: val_loss did not improve\n",
      " - 1s - loss: 0.0582 - acc: 0.9899 - val_loss: 0.1253 - val_acc: 0.9835\n",
      "Epoch 130/150\n",
      "Epoch 00130: val_loss did not improve\n",
      " - 1s - loss: 0.0586 - acc: 0.9899 - val_loss: 0.1840 - val_acc: 0.9779\n",
      "Epoch 131/150\n",
      "Epoch 00131: val_loss did not improve\n",
      " - 1s - loss: 0.0543 - acc: 0.9907 - val_loss: 0.1447 - val_acc: 0.9832\n",
      "Epoch 132/150\n",
      "Epoch 00132: val_loss did not improve\n",
      " - 1s - loss: 0.0577 - acc: 0.9903 - val_loss: 0.1275 - val_acc: 0.9840\n",
      "Epoch 133/150\n",
      "Epoch 00133: val_loss did not improve\n",
      " - 1s - loss: 0.0530 - acc: 0.9902 - val_loss: 0.1321 - val_acc: 0.9830\n",
      "Epoch 134/150\n",
      "Epoch 00134: val_loss did not improve\n",
      " - 1s - loss: 0.0518 - acc: 0.9910 - val_loss: 0.1247 - val_acc: 0.9833\n",
      "Epoch 135/150\n",
      "Epoch 00135: val_loss did not improve\n",
      " - 1s - loss: 0.0565 - acc: 0.9907 - val_loss: 0.1412 - val_acc: 0.9828\n",
      "Epoch 136/150\n",
      "Epoch 00136: val_loss did not improve\n",
      " - 1s - loss: 0.0603 - acc: 0.9903 - val_loss: 0.1402 - val_acc: 0.9827\n",
      "Epoch 137/150\n",
      "Epoch 00137: val_loss did not improve\n",
      " - 1s - loss: 0.0508 - acc: 0.9913 - val_loss: 0.1309 - val_acc: 0.9824\n",
      "Epoch 138/150\n",
      "Epoch 00138: val_loss did not improve\n",
      " - 1s - loss: 0.0594 - acc: 0.9897 - val_loss: 0.1216 - val_acc: 0.9847\n",
      "Epoch 139/150\n",
      "Epoch 00139: val_loss did not improve\n",
      " - 1s - loss: 0.0534 - acc: 0.9908 - val_loss: 0.1433 - val_acc: 0.9827\n",
      "Epoch 140/150\n",
      "Epoch 00140: val_loss did not improve\n",
      " - 1s - loss: 0.0589 - acc: 0.9904 - val_loss: 0.1372 - val_acc: 0.9827\n",
      "Epoch 141/150\n",
      "Epoch 00141: val_loss did not improve\n",
      " - 1s - loss: 0.0528 - acc: 0.9912 - val_loss: 0.1422 - val_acc: 0.9822\n",
      "Epoch 142/150\n",
      "Epoch 00142: val_loss did not improve\n",
      " - 1s - loss: 0.0603 - acc: 0.9896 - val_loss: 0.1608 - val_acc: 0.9808\n",
      "Epoch 143/150\n",
      "Epoch 00143: val_loss did not improve\n",
      " - 1s - loss: 0.0595 - acc: 0.9898 - val_loss: 0.1328 - val_acc: 0.9843\n",
      "Epoch 144/150\n",
      "Epoch 00144: val_loss did not improve\n",
      " - 1s - loss: 0.0553 - acc: 0.9912 - val_loss: 0.1411 - val_acc: 0.9829\n",
      "Epoch 145/150\n",
      "Epoch 00145: val_loss did not improve\n",
      " - 1s - loss: 0.0593 - acc: 0.9901 - val_loss: 0.1462 - val_acc: 0.9814\n",
      "Epoch 146/150\n",
      "Epoch 00146: val_loss did not improve\n",
      " - 1s - loss: 0.0524 - acc: 0.9914 - val_loss: 0.1380 - val_acc: 0.9824\n",
      "Epoch 147/150\n",
      "Epoch 00147: val_loss did not improve\n",
      " - 1s - loss: 0.0581 - acc: 0.9904 - val_loss: 0.1280 - val_acc: 0.9825\n",
      "Epoch 148/150\n",
      "Epoch 00148: val_loss did not improve\n",
      " - 1s - loss: 0.0592 - acc: 0.9906 - val_loss: 0.1333 - val_acc: 0.9829\n",
      "Epoch 149/150\n",
      "Epoch 00149: val_loss did not improve\n",
      " - 1s - loss: 0.0568 - acc: 0.9907 - val_loss: 0.1203 - val_acc: 0.9854\n",
      "Epoch 150/150\n",
      "Epoch 00150: val_loss did not improve\n",
      " - 1s - loss: 0.0517 - acc: 0.9912 - val_loss: 0.1241 - val_acc: 0.9844\n"
     ]
    },
    {
     "data": {
      "text/plain": [
       "<keras.callbacks.History at 0x7f35cc1ef7b8>"
      ]
     },
     "execution_count": 21,
     "metadata": {},
     "output_type": "execute_result"
    }
   ],
   "source": [
    "epochs = 150\n",
    "batchsize = 500\n",
    "model_weights = f'vgg16_{model_name}.best_batch{batchsize}_epoch{epochs}.hdf5'\n",
    "\n",
    "checkpointer = ModelCheckpoint(filepath=model_weights, \n",
    "                               verbose=1, save_best_only=True)\n",
    "\n",
    "model.fit(features, targets, batch_size=batchsize, epochs=epochs,\n",
    "          validation_data=(features_valid, valid_targets),\n",
    "          callbacks=[checkpointer],\n",
    "          verbose=2, shuffle=True)          "
   ]
  },
  {
   "cell_type": "markdown",
   "metadata": {},
   "source": [
    "### Evaluating the model"
   ]
  },
  {
   "cell_type": "code",
   "execution_count": 22,
   "metadata": {},
   "outputs": [
    {
     "name": "stdout",
     "output_type": "stream",
     "text": [
      "Test accuracy: 63.2033%\n"
     ]
    }
   ],
   "source": [
    "# Load the weights that yielded the best validation accuracy\n",
    "model.load_weights(model_weights)\n",
    "\n",
    "# Evaluate test accuracy\n",
    "score = model.evaluate(features_test, test_targets, verbose=0)\n",
    "accuracy = 100*score[1]\n",
    "\n",
    "# Print test accuracy\n",
    "print('Test accuracy: %.4f%%' % accuracy)"
   ]
  }
 ],
 "metadata": {
  "kernelspec": {
   "display_name": "Python 3",
   "language": "python",
   "name": "python3"
  },
  "language_info": {
   "codemirror_mode": {
    "name": "ipython",
    "version": 3
   },
   "file_extension": ".py",
   "mimetype": "text/x-python",
   "name": "python",
   "nbconvert_exporter": "python",
   "pygments_lexer": "ipython3",
   "version": "3.6.3"
  }
 },
 "nbformat": 4,
 "nbformat_minor": 2
}
