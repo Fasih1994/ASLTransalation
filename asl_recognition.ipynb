{
 "cells": [
  {
   "cell_type": "markdown",
   "metadata": {},
   "source": [
    "# American Sign Language (ASL) Image Recognition"
   ]
  },
  {
   "cell_type": "markdown",
   "metadata": {},
   "source": [
    "## Introduction"
   ]
  },
  {
   "cell_type": "markdown",
   "metadata": {},
   "source": [
    "## Loading in dataset"
   ]
  },
  {
   "cell_type": "code",
   "execution_count": null,
   "metadata": {},
   "outputs": [],
   "source": [
    "import re\n",
    "import os\n",
    "import numpy as np\n",
    "import matplotlib.pyplot as plt\n",
    "from PIL import Image, ImageFile  \n",
    "from sklearn.datasets import load_files\n",
    "from keras.utils import np_utils\n",
    "from keras.preprocessing import image                  \n",
    "from tqdm import tqdm\n",
    "\n",
    "# For transfer learning\n",
    "import scipy\n",
    "import keras.applications.vgg16 as vgg16\n",
    "import keras.applications.vgg19 as vgg19\n",
    "\n",
    "models_dir = 'saved_models'\n",
    "data_dir = 'data'"
   ]
  },
  {
   "cell_type": "markdown",
   "metadata": {},
   "source": [
    "### Dividing data into training, validation, and testing sets\n",
    "\n",
    "Now that preprocessing the images is completed (see `data_preprocessing.ipynb` notebook), the full dataset will be split into training, validation, and testing sets. The testing set will be all the images from one subject to mirror the \"Spelling It Out\" paper's method so the benchmark model can be compared. The rest of the images will be randomly split; 80% of images for training, 20% of the images for validation."
   ]
  },
  {
   "cell_type": "code",
   "execution_count": 2,
   "metadata": {},
   "outputs": [],
   "source": [
    "def load_dataset(path, n_categories=24):\n",
    "    data = load_files(path)\n",
    "    image_files = np.array(data['filenames'])\n",
    "    # Hot encode categories to matrix\n",
    "    image_targets = np_utils.to_categorical(np.array(data['target']), n_categories)\n",
    "    return image_files, image_targets\n",
    "\n",
    "def move_data_by_category(container_dir, regex_file_format='.*png'):\n",
    "    '''Move data into a directory based on category'''\n",
    "    # Still check if files are images\n",
    "    file_list = [x for x in os.listdir(container_dir) if re.search(regex_file_format, x)]\n",
    "    # Get numerical string (note that 1 digits are represented w/ 2 digits) \n",
    "    letters = {x.split('_')[0] for x in file_list}\n",
    "    \n",
    "    for letter in letters:\n",
    "        # Only images that match letter\n",
    "        images_with_letter = [filename for filename in file_list if filename.split('_')[0] == letter]\n",
    "        # Add images to sub directory\n",
    "        new_categ_path = os.path.join(container_dir, letter)\n",
    "        if not os.path.exists(new_categ_path):\n",
    "            os.makedirs(new_categ_path)\n",
    "#         print('Created {new_categ_path} dir with {len(images_with_letter)} items')\n",
    "        for img_filename in images_with_letter:\n",
    "            path = os.path.join(container_dir, img_filename)\n",
    "            new_path = os.path.join(new_categ_path, img_filename)            \n",
    "            os.rename(path, new_path)\n",
    "    # TODO: Check if any files were skipped (improperly named?)\n",
    "        \n",
    "\n",
    "def get_testing_data(data_dir, subject_num='4'):\n",
    "    '''Get all data/images pertaining to one subject'''\n",
    "    # Only search in directory for images with that subject\n",
    "    file_list = [x for x in os.listdir(data_dir) if re.search('\\d+_{}_\\d*\\.png'.format(subject_num), x)]\n",
    "    \n",
    "    # Make a new testing data directory if doesn't exist\n",
    "    testing_dir = os.path.join(data_dir, 'test')\n",
    "    if not os.path.exists(testing_dir):\n",
    "        os.makedirs(testing_dir)\n",
    "        \n",
    "    # Move images of particular subject into testing directory\n",
    "    for image_filename in file_list:\n",
    "        # file is **_n_****.png where n is an integer representing a subject\n",
    "        _, subject, _ = image_filename.split('_')\n",
    "        # Move file into testing directory\n",
    "        path = os.path.join(data_dir, image_filename)\n",
    "        new_path = os.path.join(testing_dir, image_filename)\n",
    "        os.rename(path, new_path)\n",
    "        \n",
    "    # Move each image file's numerical str representing letters found in testing into own category directory\n",
    "    move_data_by_category(testing_dir)\n",
    "    \n",
    "    return load_dataset(testing_dir)\n",
    "\n",
    "\n",
    "def get_training_validation_data(data_dir, ratio=0.8):\n",
    "    '''Randomly split data into training and validation sets'''\n",
    "    # Only search in directory for images\n",
    "    file_list = [x for x in os.listdir(data_dir) if re.search('.*png', x)]\n",
    "    \n",
    "    # Make a new training & validation data directory if doesn't exist\n",
    "    train_dir = os.path.join(data_dir, 'train')\n",
    "    valid_dir = os.path.join(data_dir, 'valid')\n",
    "    if not os.path.exists(train_dir):\n",
    "        os.makedirs(train_dir)\n",
    "    if not os.path.exists(valid_dir):\n",
    "        os.makedirs(valid_dir)\n",
    "        \n",
    "    # Randomly split file list into training and vaidation sets\n",
    "    np.random.shuffle(file_list)\n",
    "    split_int = int(ratio * len(file_list))\n",
    "    train_list = file_list[:split_int]\n",
    "    valid_list = file_list[split_int:]\n",
    "    \n",
    "    # Move images of particular subject into testing directory\n",
    "    for filenames, new_dir in [(train_list, train_dir), (valid_list, valid_dir)]:\n",
    "        for image_filename in filenames:\n",
    "            # Move file into testing directory\n",
    "            path = os.path.join(data_dir, image_filename)\n",
    "            new_path = os.path.join(new_dir, image_filename)\n",
    "            os.rename(path, new_path)\n",
    "\n",
    "        # Move each image file's numerical str representing letters found in testing into own category directory\n",
    "        move_data_by_category(new_dir)\n",
    "    \n",
    "    return (load_dataset(train_dir), load_dataset(valid_dir))"
   ]
  },
  {
   "cell_type": "code",
   "execution_count": 3,
   "metadata": {},
   "outputs": [],
   "source": [
    "test_data, test_targets = get_testing_data(data_dir)\n",
    "train, valid = get_training_validation_data(data_dir)\n",
    "# Separated data and its targets\n",
    "train_data, train_targets = train\n",
    "valid_data, valid_targets = valid"
   ]
  },
  {
   "cell_type": "markdown",
   "metadata": {},
   "source": [
    "### Display some of the images"
   ]
  },
  {
   "cell_type": "code",
   "execution_count": null,
   "metadata": {},
   "outputs": [],
   "source": [
    "np.random.seed(8675309)\n",
    "%matplotlib inline\n",
    "\n",
    "# Display image previews below\n",
    "plt.figure(figsize=(20,55))\n",
    "columns = 8\n",
    "n = 1\n",
    "\n",
    "# Randomly choose images to display (with label)\n",
    "for image_path in np.random.choice(train_data, 24, replace=False):\n",
    "    img = Image.open(image_path)\n",
    "    plt.subplot(20, columns, n)\n",
    "    n+=1\n",
    "    plt.imshow(img)\n",
    "    letter = image_path.split('/')[-1][:2]\n",
    "    letter = chr(int(letter)+65)\n",
    "    plt.title(letter)"
   ]
  },
  {
   "cell_type": "markdown",
   "metadata": {},
   "source": [
    "### Preparing the model"
   ]
  },
  {
   "cell_type": "code",
   "execution_count": null,
   "metadata": {},
   "outputs": [],
   "source": [
    "# Preprocessing data fro Keras (TensorFlow backend)\n",
    "def path_to_tensor(img_path):\n",
    "    # Loads image as PIL.Image.Image type\n",
    "    img = image.load_img(img_path, target_size=(224, 224), grayscale=False)\n",
    "    # Convert PIL.Image.Image type to 3D tensor with shape (224, 224, 1)\n",
    "    x = image.img_to_array(img)\n",
    "    # convert 3D tensor to 4D tensor with shape (1, 224, 224, 1) and return 4D tensor\n",
    "    return np.expand_dims(x, axis=0)\n",
    "\n",
    "def paths_to_tensor(img_paths):\n",
    "    list_of_tensors = [path_to_tensor(img_path) for img_path in tqdm(img_paths)]\n",
    "    return np.vstack(list_of_tensors)"
   ]
  },
  {
   "cell_type": "code",
   "execution_count": null,
   "metadata": {},
   "outputs": [],
   "source": [
    "ImageFile.LOAD_TRUNCATED_IMAGES = True                 \n",
    "\n",
    "# pre-process the data for Keras\n",
    "valid_tensors = paths_to_tensor(valid_data).astype('float32')\n",
    "test_tensors = paths_to_tensor(test_data).astype('float32')"
   ]
  },
  {
   "cell_type": "code",
   "execution_count": null,
   "metadata": {
    "scrolled": true
   },
   "outputs": [],
   "source": [
    "# Prepare training data separately since this is usually large\n",
    "train_tensors = paths_to_tensor(train_data).astype('float32')"
   ]
  },
  {
   "cell_type": "markdown",
   "metadata": {},
   "source": [
    "## Basic CNN model from scratch"
   ]
  },
  {
   "cell_type": "markdown",
   "metadata": {},
   "source": [
    "### Building basic model"
   ]
  },
  {
   "cell_type": "code",
   "execution_count": null,
   "metadata": {},
   "outputs": [],
   "source": [
    "from keras.layers import Conv2D, MaxPooling2D, GlobalAveragePooling2D\n",
    "from keras.layers import Dropout, Flatten, Dense\n",
    "from keras.models import Sequential\n",
    "\n",
    "model = Sequential()\n",
    "#Convo 224, 224, 1\n",
    "model.add(Conv2D(filters=16, kernel_size=2, padding='same', activation='relu', \n",
    "                        input_shape=(224, 224, 1)))\n",
    "#\n",
    "model.add(MaxPooling2D(pool_size=2))\n",
    "#\n",
    "model.add(Conv2D(filters=32, kernel_size=2, padding='same', activation='relu'))\n",
    "#\n",
    "model.add(MaxPooling2D(pool_size=2))\n",
    "#\n",
    "model.add(Conv2D(filters=64, kernel_size=2, padding='same', activation='relu'))\n",
    "#\n",
    "model.add(MaxPooling2D(pool_size=2))\n",
    "#\n",
    "model.add(GlobalAveragePooling2D())\n",
    "#Dense; 24 for each handshape \n",
    "model.add(Dense(24, activation='softmax'))\n",
    "\n",
    "\n",
    "model.summary()"
   ]
  },
  {
   "cell_type": "code",
   "execution_count": null,
   "metadata": {},
   "outputs": [],
   "source": [
    "model.compile(optimizer='rmsprop', loss='categorical_crossentropy', metrics=['accuracy'])"
   ]
  },
  {
   "cell_type": "markdown",
   "metadata": {},
   "source": [
    "### Training basic model"
   ]
  },
  {
   "cell_type": "code",
   "execution_count": null,
   "metadata": {},
   "outputs": [],
   "source": [
    "from keras.callbacks import ModelCheckpoint  \n",
    "\n",
    "epochs = 16\n",
    "\n",
    "# Create a saved models directory\n",
    "if not os.path.exists(models_dir):\n",
    "    os.makedirs(models_dir)\n",
    "\n",
    "checkpointer = ModelCheckpoint(filepath=f'{models_dir}/weights.best.from_scratch.hdf5', \n",
    "                               verbose=1, save_best_only=True)\n",
    "\n",
    "model.fit(train_tensors, train_targets, \n",
    "          validation_data=(valid_tensors, valid_targets),\n",
    "          epochs=epochs, batch_size=20, callbacks=[checkpointer], verbose=1)"
   ]
  },
  {
   "cell_type": "markdown",
   "metadata": {},
   "source": [
    "### Evaluating basic model"
   ]
  },
  {
   "cell_type": "code",
   "execution_count": null,
   "metadata": {},
   "outputs": [],
   "source": [
    "handshape_predictions = [np.argmax(model.predict(np.expand_dims(tensor, axis=0))) for tensor in test_tensors]\n",
    "\n",
    "# report test accuracy\n",
    "test_accuracy = 100*np.sum(np.array(handshape_predictions)==np.argmax(test_targets, axis=1))/len(handshape_predictions)\n",
    "print('Test accuracy: %.4f%%' % test_accuracy)"
   ]
  },
  {
   "cell_type": "markdown",
   "metadata": {},
   "source": [
    "## Transfer Learning with VGG16"
   ]
  },
  {
   "cell_type": "markdown",
   "metadata": {},
   "source": [
    "### Preparing the model"
   ]
  },
  {
   "cell_type": "code",
   "execution_count": 4,
   "metadata": {},
   "outputs": [],
   "source": [
    "# Define image size to use for given model\n",
    "n_pixels = 160\n",
    "# Define a model name for recorcs\n",
    "model_name = 'model_{}px'.format(n_pixels)"
   ]
  },
  {
   "cell_type": "code",
   "execution_count": 5,
   "metadata": {},
   "outputs": [],
   "source": [
    "# Preprocessing data fro Keras (TensorFlow backend)\n",
    "def path_to_tensor(img_path):\n",
    "    # Loads image as PIL.Image.Image type\n",
    "    img = image.load_img(img_path, target_size=(n_pixels, n_pixels), grayscale=False)\n",
    "    # Convert PIL.Image.Image type to 3D tensor with shape (n, n, 3)\n",
    "    x = image.img_to_array(img)\n",
    "    # convert 3D tensor to 4D tensor with shape (1, n, n, 3) and return 4D tensor\n",
    "    return np.expand_dims(x, axis=0)\n",
    "\n",
    "def paths_to_tensor(img_paths):\n",
    "    list_of_tensors = [path_to_tensor(img_path) for img_path in tqdm(img_paths)]\n",
    "    return np.vstack(list_of_tensors)"
   ]
  },
  {
   "cell_type": "code",
   "execution_count": 8,
   "metadata": {},
   "outputs": [
    {
     "name": "stderr",
     "output_type": "stream",
     "text": [
      "  1%|▏         | 153/10376 [00:00<00:06, 1523.92it/s]"
     ]
    },
    {
     "name": "stdout",
     "output_type": "stream",
     "text": [
      "Preparing to create valid tensors\n"
     ]
    },
    {
     "name": "stderr",
     "output_type": "stream",
     "text": [
      "100%|██████████| 10376/10376 [00:06<00:00, 1495.28it/s]\n"
     ]
    },
    {
     "name": "stdout",
     "output_type": "stream",
     "text": [
      "valid tensors prepared\n"
     ]
    }
   ],
   "source": [
    "ImageFile.LOAD_TRUNCATED_IMAGES = True                 \n",
    "# Pre-process the data for Keras\n",
    "# Prepare training data separately since this is usually large\n",
    "\n",
    "print('Preparing to create valid tensors')\n",
    "valid_tensors = paths_to_tensor(valid_data).astype('float32')\n",
    "print('valid tensors prepared')"
   ]
  },
  {
   "cell_type": "code",
   "execution_count": 10,
   "metadata": {},
   "outputs": [
    {
     "name": "stderr",
     "output_type": "stream",
     "text": [
      "  1%|          | 150/13898 [00:00<00:09, 1492.29it/s]"
     ]
    },
    {
     "name": "stdout",
     "output_type": "stream",
     "text": [
      "Preparing to create test tensors\n"
     ]
    },
    {
     "name": "stderr",
     "output_type": "stream",
     "text": [
      "100%|██████████| 13898/13898 [00:09<00:00, 1441.13it/s]\n"
     ]
    },
    {
     "name": "stdout",
     "output_type": "stream",
     "text": [
      "test tensors prepared\n"
     ]
    }
   ],
   "source": [
    "print('Preparing to create test tensors')\n",
    "test_tensors = paths_to_tensor(test_data).astype('float32')\n",
    "print('test tensors prepared')"
   ]
  },
  {
   "cell_type": "code",
   "execution_count": 6,
   "metadata": {},
   "outputs": [
    {
     "name": "stderr",
     "output_type": "stream",
     "text": [
      "  0%|          | 128/41500 [00:00<00:32, 1279.29it/s]"
     ]
    },
    {
     "name": "stdout",
     "output_type": "stream",
     "text": [
      "Preparing to create train tensors\n"
     ]
    },
    {
     "name": "stderr",
     "output_type": "stream",
     "text": [
      "100%|██████████| 41500/41500 [00:32<00:00, 1287.87it/s]\n"
     ]
    },
    {
     "name": "stdout",
     "output_type": "stream",
     "text": [
      "train tensors prepared\n"
     ]
    }
   ],
   "source": [
    "print('Preparing to create train tensors')\n",
    "train_tensors = paths_to_tensor(train_data).astype('float32')\n",
    "print('train tensors prepared')"
   ]
  },
  {
   "cell_type": "markdown",
   "metadata": {},
   "source": [
    "### Extract Bottleneck Features for Training Set"
   ]
  },
  {
   "cell_type": "code",
   "execution_count": 7,
   "metadata": {},
   "outputs": [
    {
     "name": "stdout",
     "output_type": "stream",
     "text": [
      "data loaded\n",
      "model loaded\n",
      "bottleneck features file not detected (train)\n",
      "calculating now ...\n",
      "train data preprocessed\n",
      "bottleneck features saved (train)\n"
     ]
    }
   ],
   "source": [
    "# Load the data\n",
    "targets = np.squeeze(train_targets)\n",
    "print('data loaded')\n",
    "\n",
    "# Load vgg16 model + remove final classification layers\n",
    "model = vgg16.VGG16(weights='imagenet', include_top=False, input_shape=(n_pixels, n_pixels, 3), classes=24)\n",
    "print('model loaded')\n",
    "\n",
    "# Obtain bottleneck features (train)\n",
    "if os.path.exists('vgg16_features_train.npz'):\n",
    "    print('bottleneck features detected (train)')\n",
    "    features = np.load('vgg16_features_train.npz')['features']\n",
    "else:\n",
    "    print('bottleneck features file not detected (train)')\n",
    "    \n",
    "    print('calculating now ...')\n",
    "    # Pre-process the train data\n",
    "    big_x_train = np.array([scipy.misc.imresize(train_tensors[i], (n_pixels, n_pixels, 3)) \n",
    "                            for i in range(0, len(train_tensors))]).astype('float32')\n",
    "    vgg16_input_train = vgg16.preprocess_input(big_x_train)\n",
    "    print('train data preprocessed')\n",
    "    \n",
    "    # Extract, process, and save bottleneck features\n",
    "    features = model.predict(vgg16_input_train)\n",
    "    features = np.squeeze(features)\n",
    "    np.savez('vgg16_features_train', features=features)\n",
    "\n",
    "print('bottleneck features saved (train)')"
   ]
  },
  {
   "cell_type": "markdown",
   "metadata": {},
   "source": [
    "### Extract Bottleneck Features for Validation Set"
   ]
  },
  {
   "cell_type": "code",
   "execution_count": 9,
   "metadata": {
    "scrolled": true
   },
   "outputs": [
    {
     "name": "stdout",
     "output_type": "stream",
     "text": [
      "bottleneck features file not detected (valid)\n",
      "calculating now ...\n",
      "bottleneck features saved (valid)\n"
     ]
    }
   ],
   "source": [
    "# Obtain bottleneck features (valid)\n",
    "if os.path.exists('vgg16_features_valid.npz'):\n",
    "    print('bottleneck features detected (valid)')\n",
    "    features_valid = np.load('vgg16_features_valid.npz')['features_test']\n",
    "else:\n",
    "    # Calculating for validation set\n",
    "    print('bottleneck features file not detected (valid)')\n",
    "    print('calculating now ...')\n",
    "    # Pre-process the valid data\n",
    "    big_x_valid = np.array([scipy.misc.imresize(valid_tensors[i], (n_pixels, n_pixels, 3)) \n",
    "                       for i in range(0, len(valid_tensors))]).astype('float32')\n",
    "\n",
    "    vgg16_input_valid = vgg16.preprocess_input(big_x_valid)\n",
    "    # Extract, process, and save bottleneck features (valid)\n",
    "    features_valid = model.predict(vgg16_input_valid)\n",
    "    features_valid = np.squeeze(features_valid)\n",
    "    np.savez('vgg16_features_valid', features_test=features_valid)\n",
    "print('bottleneck features saved (valid)')"
   ]
  },
  {
   "cell_type": "markdown",
   "metadata": {},
   "source": [
    "### Extract Bottleneck Features for Test Set"
   ]
  },
  {
   "cell_type": "code",
   "execution_count": 11,
   "metadata": {
    "scrolled": true
   },
   "outputs": [
    {
     "name": "stdout",
     "output_type": "stream",
     "text": [
      "bottleneck features file not detected (test)\n",
      "calculating now ...\n",
      "bottleneck features saved (test)\n"
     ]
    }
   ],
   "source": [
    "# Obtain bottleneck features (test)\n",
    "if os.path.exists('vgg16_features_test.npz'):\n",
    "    print('bottleneck features detected (test)')\n",
    "    features_test = np.load('vgg16_features_test.npz')['features_test']\n",
    "else:\n",
    "    # Calculating for test set\n",
    "    print('bottleneck features file not detected (test)')\n",
    "    print('calculating now ...')\n",
    "    # pre-process the test data\n",
    "    big_x_test = np.array([scipy.misc.imresize(test_tensors[i], (n_pixels, n_pixels, 3)) \n",
    "                       for i in range(0, len(test_tensors))]).astype('float32')\n",
    "\n",
    "    vgg16_input_test = vgg16.preprocess_input(big_x_test)\n",
    "    # Extract, process, and save bottleneck features (test)\n",
    "    features_test = model.predict(vgg16_input_test)\n",
    "    features_test = np.squeeze(features_test)\n",
    "    np.savez('vgg16_features_test', features_test=features_test)\n",
    "print('bottleneck features saved (test)')"
   ]
  },
  {
   "cell_type": "markdown",
   "metadata": {},
   "source": [
    "### Building model"
   ]
  },
  {
   "cell_type": "code",
   "execution_count": 12,
   "metadata": {},
   "outputs": [
    {
     "name": "stdout",
     "output_type": "stream",
     "text": [
      "_________________________________________________________________\n",
      "Layer (type)                 Output Shape              Param #   \n",
      "=================================================================\n",
      "conv2d_1 (Conv2D)            (None, 4, 4, 100)         204900    \n",
      "_________________________________________________________________\n",
      "dropout_1 (Dropout)          (None, 4, 4, 100)         0         \n",
      "_________________________________________________________________\n",
      "global_average_pooling2d_1 ( (None, 100)               0         \n",
      "_________________________________________________________________\n",
      "dropout_2 (Dropout)          (None, 100)               0         \n",
      "_________________________________________________________________\n",
      "dense_1 (Dense)              (None, 24)                2424      \n",
      "=================================================================\n",
      "Total params: 207,324\n",
      "Trainable params: 207,324\n",
      "Non-trainable params: 0\n",
      "_________________________________________________________________\n"
     ]
    }
   ],
   "source": [
    "# Shallow NN\n",
    "from keras.callbacks import ModelCheckpoint   \n",
    "from keras.models import Sequential\n",
    "from keras.layers import Dense, Dropout, Conv2D, GlobalAveragePooling2D\n",
    "\n",
    "model = Sequential()\n",
    "model.add(Conv2D(filters=100, kernel_size=2, input_shape=features.shape[1:]))\n",
    "model.add(Dropout(0.4))\n",
    "model.add(GlobalAveragePooling2D())\n",
    "model.add(Dropout(0.3))\n",
    "model.add(Dense(24, activation='softmax'))\n",
    "model.summary()\n",
    "\n",
    "model.compile(loss='categorical_crossentropy', optimizer='rmsprop', metrics=['accuracy'])\n",
    "\n"
   ]
  },
  {
   "cell_type": "code",
   "execution_count": 13,
   "metadata": {},
   "outputs": [
    {
     "name": "stdout",
     "output_type": "stream",
     "text": [
      "Train on 41500 samples, validate on 10376 samples\n",
      "Epoch 1/150\n",
      "Epoch 00000: val_loss improved from inf to 3.91363, saving model to saved_models/vgg16_model_160px.best_batch750_epoch150.hdf5\n",
      "3s - loss: 9.0467 - acc: 0.3478 - val_loss: 3.9136 - val_acc: 0.6399\n",
      "Epoch 2/150\n",
      "Epoch 00001: val_loss improved from 3.91363 to 2.28658, saving model to saved_models/vgg16_model_160px.best_batch750_epoch150.hdf5\n",
      "2s - loss: 3.6814 - acc: 0.6509 - val_loss: 2.2866 - val_acc: 0.7746\n",
      "Epoch 3/150\n",
      "Epoch 00002: val_loss improved from 2.28658 to 1.89301, saving model to saved_models/vgg16_model_160px.best_batch750_epoch150.hdf5\n",
      "2s - loss: 2.3696 - acc: 0.7539 - val_loss: 1.8930 - val_acc: 0.7828\n",
      "Epoch 4/150\n",
      "Epoch 00003: val_loss improved from 1.89301 to 1.66476, saving model to saved_models/vgg16_model_160px.best_batch750_epoch150.hdf5\n",
      "2s - loss: 1.7020 - acc: 0.8092 - val_loss: 1.6648 - val_acc: 0.8128\n",
      "Epoch 5/150\n",
      "Epoch 00004: val_loss improved from 1.66476 to 1.08414, saving model to saved_models/vgg16_model_160px.best_batch750_epoch150.hdf5\n",
      "2s - loss: 1.3204 - acc: 0.8405 - val_loss: 1.0841 - val_acc: 0.8629\n",
      "Epoch 6/150\n",
      "Epoch 00005: val_loss improved from 1.08414 to 0.68247, saving model to saved_models/vgg16_model_160px.best_batch750_epoch150.hdf5\n",
      "2s - loss: 1.0882 - acc: 0.8614 - val_loss: 0.6825 - val_acc: 0.9027\n",
      "Epoch 7/150\n",
      "Epoch 00006: val_loss did not improve\n",
      "2s - loss: 0.8922 - acc: 0.8805 - val_loss: 0.8710 - val_acc: 0.8742\n",
      "Epoch 8/150\n",
      "Epoch 00007: val_loss did not improve\n",
      "3s - loss: 0.7963 - acc: 0.8914 - val_loss: 1.1710 - val_acc: 0.8519\n",
      "Epoch 9/150\n",
      "Epoch 00008: val_loss did not improve\n",
      "3s - loss: 0.6852 - acc: 0.9025 - val_loss: 1.0048 - val_acc: 0.8766\n",
      "Epoch 10/150\n",
      "Epoch 00009: val_loss improved from 0.68247 to 0.34831, saving model to saved_models/vgg16_model_160px.best_batch750_epoch150.hdf5\n",
      "3s - loss: 0.6180 - acc: 0.9073 - val_loss: 0.3483 - val_acc: 0.9348\n",
      "Epoch 11/150\n",
      "Epoch 00010: val_loss did not improve\n",
      "3s - loss: 0.5837 - acc: 0.9133 - val_loss: 0.4632 - val_acc: 0.9225\n",
      "Epoch 12/150\n",
      "Epoch 00011: val_loss did not improve\n",
      "3s - loss: 0.5291 - acc: 0.9166 - val_loss: 0.7537 - val_acc: 0.8898\n",
      "Epoch 13/150\n",
      "Epoch 00012: val_loss did not improve\n",
      "3s - loss: 0.4548 - acc: 0.9240 - val_loss: 0.5566 - val_acc: 0.9111\n",
      "Epoch 14/150\n",
      "Epoch 00013: val_loss improved from 0.34831 to 0.26363, saving model to saved_models/vgg16_model_160px.best_batch750_epoch150.hdf5\n",
      "3s - loss: 0.4515 - acc: 0.9253 - val_loss: 0.2636 - val_acc: 0.9496\n",
      "Epoch 15/150\n",
      "Epoch 00014: val_loss did not improve\n",
      "3s - loss: 0.3796 - acc: 0.9327 - val_loss: 0.3574 - val_acc: 0.9313\n",
      "Epoch 16/150\n",
      "Epoch 00015: val_loss improved from 0.26363 to 0.25938, saving model to saved_models/vgg16_model_160px.best_batch750_epoch150.hdf5\n",
      "3s - loss: 0.3891 - acc: 0.9315 - val_loss: 0.2594 - val_acc: 0.9504\n",
      "Epoch 17/150\n",
      "Epoch 00016: val_loss did not improve\n",
      "3s - loss: 0.3484 - acc: 0.9377 - val_loss: 0.2596 - val_acc: 0.9465\n",
      "Epoch 18/150\n",
      "Epoch 00017: val_loss did not improve\n",
      "3s - loss: 0.3515 - acc: 0.9374 - val_loss: 0.8374 - val_acc: 0.8812\n",
      "Epoch 19/150\n",
      "Epoch 00018: val_loss improved from 0.25938 to 0.21818, saving model to saved_models/vgg16_model_160px.best_batch750_epoch150.hdf5\n",
      "3s - loss: 0.3020 - acc: 0.9448 - val_loss: 0.2182 - val_acc: 0.9575\n",
      "Epoch 20/150\n",
      "Epoch 00019: val_loss did not improve\n",
      "3s - loss: 0.3069 - acc: 0.9446 - val_loss: 0.4036 - val_acc: 0.9227\n",
      "Epoch 21/150\n",
      "Epoch 00020: val_loss improved from 0.21818 to 0.20696, saving model to saved_models/vgg16_model_160px.best_batch750_epoch150.hdf5\n",
      "3s - loss: 0.3181 - acc: 0.9416 - val_loss: 0.2070 - val_acc: 0.9567\n",
      "Epoch 22/150\n",
      "Epoch 00021: val_loss did not improve\n",
      "3s - loss: 0.2880 - acc: 0.9454 - val_loss: 0.4796 - val_acc: 0.9309\n",
      "Epoch 23/150\n",
      "Epoch 00022: val_loss improved from 0.20696 to 0.18884, saving model to saved_models/vgg16_model_160px.best_batch750_epoch150.hdf5\n",
      "3s - loss: 0.2888 - acc: 0.9456 - val_loss: 0.1888 - val_acc: 0.9620\n",
      "Epoch 24/150\n",
      "Epoch 00023: val_loss did not improve\n",
      "3s - loss: 0.2561 - acc: 0.9502 - val_loss: 0.2660 - val_acc: 0.9505\n",
      "Epoch 25/150\n",
      "Epoch 00024: val_loss did not improve\n",
      "3s - loss: 0.2256 - acc: 0.9529 - val_loss: 0.4295 - val_acc: 0.9341\n",
      "Epoch 26/150\n",
      "Epoch 00025: val_loss did not improve\n",
      "3s - loss: 0.2407 - acc: 0.9526 - val_loss: 0.2446 - val_acc: 0.9531\n",
      "Epoch 27/150\n",
      "Epoch 00026: val_loss improved from 0.18884 to 0.12401, saving model to saved_models/vgg16_model_160px.best_batch750_epoch150.hdf5\n",
      "3s - loss: 0.2345 - acc: 0.9521 - val_loss: 0.1240 - val_acc: 0.9720\n",
      "Epoch 28/150\n",
      "Epoch 00027: val_loss did not improve\n",
      "3s - loss: 0.2665 - acc: 0.9506 - val_loss: 0.2534 - val_acc: 0.9509\n",
      "Epoch 29/150\n",
      "Epoch 00028: val_loss did not improve\n",
      "3s - loss: 0.2129 - acc: 0.9560 - val_loss: 0.2472 - val_acc: 0.9469\n",
      "Epoch 30/150\n",
      "Epoch 00029: val_loss did not improve\n",
      "3s - loss: 0.2054 - acc: 0.9570 - val_loss: 0.1869 - val_acc: 0.9618\n",
      "Epoch 31/150\n",
      "Epoch 00030: val_loss did not improve\n",
      "3s - loss: 0.1897 - acc: 0.9586 - val_loss: 0.2380 - val_acc: 0.9545\n",
      "Epoch 32/150\n",
      "Epoch 00031: val_loss did not improve\n",
      "3s - loss: 0.1969 - acc: 0.9570 - val_loss: 0.3104 - val_acc: 0.9387\n",
      "Epoch 33/150\n",
      "Epoch 00032: val_loss did not improve\n",
      "3s - loss: 0.1887 - acc: 0.9582 - val_loss: 0.1849 - val_acc: 0.9627\n",
      "Epoch 34/150\n",
      "Epoch 00033: val_loss did not improve\n",
      "3s - loss: 0.1675 - acc: 0.9619 - val_loss: 0.3033 - val_acc: 0.9437\n",
      "Epoch 35/150\n",
      "Epoch 00034: val_loss did not improve\n",
      "3s - loss: 0.1759 - acc: 0.9605 - val_loss: 0.1511 - val_acc: 0.9678\n",
      "Epoch 36/150\n",
      "Epoch 00035: val_loss did not improve\n",
      "3s - loss: 0.1728 - acc: 0.9614 - val_loss: 0.1341 - val_acc: 0.9721\n",
      "Epoch 37/150\n",
      "Epoch 00036: val_loss did not improve\n",
      "3s - loss: 0.1726 - acc: 0.9635 - val_loss: 0.2081 - val_acc: 0.9563\n",
      "Epoch 38/150\n",
      "Epoch 00037: val_loss did not improve\n",
      "3s - loss: 0.1531 - acc: 0.9643 - val_loss: 0.1684 - val_acc: 0.9649\n",
      "Epoch 39/150\n",
      "Epoch 00038: val_loss did not improve\n",
      "3s - loss: 0.1686 - acc: 0.9630 - val_loss: 0.1580 - val_acc: 0.9646\n",
      "Epoch 40/150\n",
      "Epoch 00039: val_loss did not improve\n",
      "3s - loss: 0.1683 - acc: 0.9630 - val_loss: 0.1294 - val_acc: 0.9696\n",
      "Epoch 41/150\n",
      "Epoch 00040: val_loss did not improve\n",
      "3s - loss: 0.1331 - acc: 0.9682 - val_loss: 0.4157 - val_acc: 0.9331\n",
      "Epoch 42/150\n",
      "Epoch 00041: val_loss did not improve\n",
      "3s - loss: 0.1739 - acc: 0.9654 - val_loss: 0.2926 - val_acc: 0.9452\n",
      "Epoch 43/150\n",
      "Epoch 00042: val_loss did not improve\n",
      "3s - loss: 0.1549 - acc: 0.9651 - val_loss: 0.2605 - val_acc: 0.9444\n",
      "Epoch 44/150\n",
      "Epoch 00043: val_loss did not improve\n",
      "3s - loss: 0.1591 - acc: 0.9639 - val_loss: 0.2172 - val_acc: 0.9567\n",
      "Epoch 45/150\n",
      "Epoch 00044: val_loss did not improve\n",
      "3s - loss: 0.1342 - acc: 0.9684 - val_loss: 0.1381 - val_acc: 0.9700\n",
      "Epoch 46/150\n",
      "Epoch 00045: val_loss did not improve\n",
      "3s - loss: 0.1363 - acc: 0.9685 - val_loss: 0.4447 - val_acc: 0.9227\n",
      "Epoch 47/150\n",
      "Epoch 00046: val_loss did not improve\n",
      "3s - loss: 0.1466 - acc: 0.9673 - val_loss: 0.1308 - val_acc: 0.9703\n",
      "Epoch 48/150\n",
      "Epoch 00047: val_loss improved from 0.12401 to 0.12006, saving model to saved_models/vgg16_model_160px.best_batch750_epoch150.hdf5\n",
      "3s - loss: 0.1447 - acc: 0.9667 - val_loss: 0.1201 - val_acc: 0.9737\n",
      "Epoch 49/150\n",
      "Epoch 00048: val_loss did not improve\n",
      "3s - loss: 0.1137 - acc: 0.9724 - val_loss: 0.2555 - val_acc: 0.9507\n",
      "Epoch 50/150\n",
      "Epoch 00049: val_loss did not improve\n",
      "3s - loss: 0.1358 - acc: 0.9680 - val_loss: 0.2065 - val_acc: 0.9588\n",
      "Epoch 51/150\n",
      "Epoch 00050: val_loss did not improve\n",
      "3s - loss: 0.1272 - acc: 0.9697 - val_loss: 0.1620 - val_acc: 0.9663\n",
      "Epoch 52/150\n",
      "Epoch 00051: val_loss did not improve\n",
      "3s - loss: 0.1282 - acc: 0.9711 - val_loss: 0.1945 - val_acc: 0.9597\n",
      "Epoch 53/150\n",
      "Epoch 00052: val_loss did not improve\n",
      "3s - loss: 0.1144 - acc: 0.9716 - val_loss: 0.2710 - val_acc: 0.9500\n",
      "Epoch 54/150\n",
      "Epoch 00053: val_loss improved from 0.12006 to 0.09214, saving model to saved_models/vgg16_model_160px.best_batch750_epoch150.hdf5\n",
      "3s - loss: 0.1248 - acc: 0.9718 - val_loss: 0.0921 - val_acc: 0.9786\n",
      "Epoch 55/150\n",
      "Epoch 00054: val_loss did not improve\n",
      "3s - loss: 0.1161 - acc: 0.9718 - val_loss: 0.1825 - val_acc: 0.9635\n",
      "Epoch 56/150\n",
      "Epoch 00055: val_loss did not improve\n",
      "3s - loss: 0.1115 - acc: 0.9719 - val_loss: 0.2532 - val_acc: 0.9496\n",
      "Epoch 57/150\n",
      "Epoch 00056: val_loss did not improve\n",
      "3s - loss: 0.1098 - acc: 0.9727 - val_loss: 0.4975 - val_acc: 0.9189\n",
      "Epoch 58/150\n"
     ]
    },
    {
     "name": "stdout",
     "output_type": "stream",
     "text": [
      "Epoch 00057: val_loss did not improve\n",
      "3s - loss: 0.1009 - acc: 0.9753 - val_loss: 0.4015 - val_acc: 0.9454\n",
      "Epoch 59/150\n",
      "Epoch 00058: val_loss did not improve\n",
      "3s - loss: 0.1481 - acc: 0.9697 - val_loss: 0.1392 - val_acc: 0.9673\n",
      "Epoch 60/150\n",
      "Epoch 00059: val_loss did not improve\n",
      "3s - loss: 0.1128 - acc: 0.9730 - val_loss: 0.1142 - val_acc: 0.9748\n",
      "Epoch 61/150\n",
      "Epoch 00060: val_loss did not improve\n",
      "3s - loss: 0.0939 - acc: 0.9749 - val_loss: 0.1193 - val_acc: 0.9729\n",
      "Epoch 62/150\n",
      "Epoch 00061: val_loss did not improve\n",
      "3s - loss: 0.1026 - acc: 0.9734 - val_loss: 0.1524 - val_acc: 0.9668\n",
      "Epoch 63/150\n",
      "Epoch 00062: val_loss did not improve\n",
      "3s - loss: 0.0977 - acc: 0.9747 - val_loss: 0.2466 - val_acc: 0.9501\n",
      "Epoch 64/150\n",
      "Epoch 00063: val_loss did not improve\n",
      "3s - loss: 0.1032 - acc: 0.9747 - val_loss: 0.3397 - val_acc: 0.9395\n",
      "Epoch 65/150\n",
      "Epoch 00064: val_loss did not improve\n",
      "3s - loss: 0.0955 - acc: 0.9753 - val_loss: 0.1126 - val_acc: 0.9742\n",
      "Epoch 66/150\n",
      "Epoch 00065: val_loss did not improve\n",
      "3s - loss: 0.0899 - acc: 0.9759 - val_loss: 0.1734 - val_acc: 0.9627\n",
      "Epoch 67/150\n",
      "Epoch 00066: val_loss did not improve\n",
      "3s - loss: 0.0921 - acc: 0.9768 - val_loss: 0.1171 - val_acc: 0.9725\n",
      "Epoch 68/150\n",
      "Epoch 00067: val_loss did not improve\n",
      "3s - loss: 0.0981 - acc: 0.9753 - val_loss: 0.0998 - val_acc: 0.9771\n",
      "Epoch 69/150\n",
      "Epoch 00068: val_loss did not improve\n",
      "3s - loss: 0.0883 - acc: 0.9774 - val_loss: 0.2410 - val_acc: 0.9548\n",
      "Epoch 70/150\n",
      "Epoch 00069: val_loss did not improve\n",
      "3s - loss: 0.0901 - acc: 0.9761 - val_loss: 0.2209 - val_acc: 0.9586\n",
      "Epoch 71/150\n",
      "Epoch 00070: val_loss did not improve\n",
      "3s - loss: 0.0921 - acc: 0.9762 - val_loss: 0.1305 - val_acc: 0.9694\n",
      "Epoch 72/150\n",
      "Epoch 00071: val_loss did not improve\n",
      "3s - loss: 0.0882 - acc: 0.9760 - val_loss: 0.1168 - val_acc: 0.9729\n",
      "Epoch 73/150\n",
      "Epoch 00072: val_loss did not improve\n",
      "3s - loss: 0.0957 - acc: 0.9762 - val_loss: 0.1753 - val_acc: 0.9664\n",
      "Epoch 74/150\n",
      "Epoch 00073: val_loss did not improve\n",
      "3s - loss: 0.0894 - acc: 0.9776 - val_loss: 0.1209 - val_acc: 0.9743\n",
      "Epoch 75/150\n",
      "Epoch 00074: val_loss did not improve\n",
      "3s - loss: 0.0804 - acc: 0.9785 - val_loss: 0.1494 - val_acc: 0.9688\n",
      "Epoch 76/150\n",
      "Epoch 00075: val_loss did not improve\n",
      "3s - loss: 0.0833 - acc: 0.9788 - val_loss: 0.0974 - val_acc: 0.9780\n",
      "Epoch 77/150\n",
      "Epoch 00076: val_loss did not improve\n",
      "3s - loss: 0.0885 - acc: 0.9761 - val_loss: 0.1377 - val_acc: 0.9710\n",
      "Epoch 78/150\n",
      "Epoch 00077: val_loss did not improve\n",
      "3s - loss: 0.0796 - acc: 0.9785 - val_loss: 0.1506 - val_acc: 0.9664\n",
      "Epoch 79/150\n",
      "Epoch 00078: val_loss did not improve\n",
      "3s - loss: 0.1045 - acc: 0.9765 - val_loss: 0.1599 - val_acc: 0.9655\n",
      "Epoch 80/150\n",
      "Epoch 00079: val_loss did not improve\n",
      "3s - loss: 0.0843 - acc: 0.9795 - val_loss: 0.1308 - val_acc: 0.9712\n",
      "Epoch 81/150\n",
      "Epoch 00080: val_loss did not improve\n",
      "3s - loss: 0.0829 - acc: 0.9793 - val_loss: 0.1612 - val_acc: 0.9670\n",
      "Epoch 82/150\n",
      "Epoch 00081: val_loss did not improve\n",
      "3s - loss: 0.0836 - acc: 0.9792 - val_loss: 0.1535 - val_acc: 0.9683\n",
      "Epoch 83/150\n",
      "Epoch 00082: val_loss did not improve\n",
      "3s - loss: 0.0705 - acc: 0.9818 - val_loss: 0.1886 - val_acc: 0.9614\n",
      "Epoch 84/150\n",
      "Epoch 00083: val_loss did not improve\n",
      "3s - loss: 0.0814 - acc: 0.9789 - val_loss: 0.1516 - val_acc: 0.9704\n",
      "Epoch 85/150\n",
      "Epoch 00084: val_loss did not improve\n",
      "3s - loss: 0.0865 - acc: 0.9790 - val_loss: 0.3635 - val_acc: 0.9428\n",
      "Epoch 86/150\n",
      "Epoch 00085: val_loss did not improve\n",
      "3s - loss: 0.0814 - acc: 0.9797 - val_loss: 0.1568 - val_acc: 0.9667\n",
      "Epoch 87/150\n",
      "Epoch 00086: val_loss did not improve\n",
      "3s - loss: 0.0737 - acc: 0.9806 - val_loss: 0.1615 - val_acc: 0.9687\n",
      "Epoch 88/150\n",
      "Epoch 00087: val_loss did not improve\n",
      "3s - loss: 0.0786 - acc: 0.9794 - val_loss: 0.1000 - val_acc: 0.9768\n",
      "Epoch 89/150\n",
      "Epoch 00088: val_loss did not improve\n",
      "3s - loss: 0.0755 - acc: 0.9798 - val_loss: 0.1122 - val_acc: 0.9757\n",
      "Epoch 90/150\n",
      "Epoch 00089: val_loss did not improve\n",
      "3s - loss: 0.0710 - acc: 0.9810 - val_loss: 0.2516 - val_acc: 0.9512\n",
      "Epoch 91/150\n",
      "Epoch 00090: val_loss did not improve\n",
      "3s - loss: 0.0676 - acc: 0.9824 - val_loss: 0.1931 - val_acc: 0.9639\n",
      "Epoch 92/150\n",
      "Epoch 00091: val_loss did not improve\n",
      "3s - loss: 0.0776 - acc: 0.9800 - val_loss: 0.1065 - val_acc: 0.9768\n",
      "Epoch 93/150\n",
      "Epoch 00092: val_loss did not improve\n",
      "3s - loss: 0.0731 - acc: 0.9806 - val_loss: 0.1799 - val_acc: 0.9619\n",
      "Epoch 94/150\n",
      "Epoch 00093: val_loss did not improve\n",
      "3s - loss: 0.0777 - acc: 0.9795 - val_loss: 0.1101 - val_acc: 0.9736\n",
      "Epoch 95/150\n",
      "Epoch 00094: val_loss did not improve\n",
      "3s - loss: 0.0686 - acc: 0.9808 - val_loss: 0.1281 - val_acc: 0.9729\n",
      "Epoch 96/150\n",
      "Epoch 00095: val_loss did not improve\n",
      "3s - loss: 0.0789 - acc: 0.9813 - val_loss: 0.1899 - val_acc: 0.9656\n",
      "Epoch 97/150\n",
      "Epoch 00096: val_loss did not improve\n",
      "3s - loss: 0.0678 - acc: 0.9821 - val_loss: 0.1562 - val_acc: 0.9685\n",
      "Epoch 98/150\n",
      "Epoch 00097: val_loss did not improve\n",
      "3s - loss: 0.0721 - acc: 0.9814 - val_loss: 0.2150 - val_acc: 0.9621\n",
      "Epoch 99/150\n",
      "Epoch 00098: val_loss did not improve\n",
      "3s - loss: 0.0676 - acc: 0.9822 - val_loss: 0.1222 - val_acc: 0.9743\n",
      "Epoch 100/150\n",
      "Epoch 00099: val_loss did not improve\n",
      "3s - loss: 0.0721 - acc: 0.9826 - val_loss: 0.3721 - val_acc: 0.9413\n",
      "Epoch 101/150\n",
      "Epoch 00100: val_loss did not improve\n",
      "3s - loss: 0.0768 - acc: 0.9813 - val_loss: 0.1124 - val_acc: 0.9769\n",
      "Epoch 102/150\n",
      "Epoch 00101: val_loss did not improve\n",
      "3s - loss: 0.0639 - acc: 0.9823 - val_loss: 0.1451 - val_acc: 0.9688\n",
      "Epoch 103/150\n",
      "Epoch 00102: val_loss did not improve\n",
      "3s - loss: 0.0793 - acc: 0.9810 - val_loss: 0.0954 - val_acc: 0.9776\n",
      "Epoch 104/150\n",
      "Epoch 00103: val_loss did not improve\n",
      "3s - loss: 0.0651 - acc: 0.9822 - val_loss: 0.3883 - val_acc: 0.9394\n",
      "Epoch 105/150\n",
      "Epoch 00104: val_loss did not improve\n",
      "3s - loss: 0.0698 - acc: 0.9825 - val_loss: 0.1637 - val_acc: 0.9677\n",
      "Epoch 106/150\n",
      "Epoch 00105: val_loss did not improve\n",
      "3s - loss: 0.0656 - acc: 0.9833 - val_loss: 0.1679 - val_acc: 0.9644\n",
      "Epoch 107/150\n",
      "Epoch 00106: val_loss did not improve\n",
      "3s - loss: 0.0633 - acc: 0.9831 - val_loss: 0.1225 - val_acc: 0.9727\n",
      "Epoch 108/150\n",
      "Epoch 00107: val_loss did not improve\n",
      "3s - loss: 0.0720 - acc: 0.9820 - val_loss: 0.1076 - val_acc: 0.9771\n",
      "Epoch 109/150\n",
      "Epoch 00108: val_loss did not improve\n",
      "3s - loss: 0.0649 - acc: 0.9831 - val_loss: 0.1661 - val_acc: 0.9693\n",
      "Epoch 110/150\n",
      "Epoch 00109: val_loss did not improve\n",
      "3s - loss: 0.0623 - acc: 0.9836 - val_loss: 0.1517 - val_acc: 0.9669\n",
      "Epoch 111/150\n",
      "Epoch 00110: val_loss did not improve\n",
      "3s - loss: 0.0628 - acc: 0.9832 - val_loss: 0.2768 - val_acc: 0.9512\n",
      "Epoch 112/150\n",
      "Epoch 00111: val_loss did not improve\n",
      "3s - loss: 0.0627 - acc: 0.9839 - val_loss: 0.1750 - val_acc: 0.9668\n",
      "Epoch 113/150\n",
      "Epoch 00112: val_loss did not improve\n",
      "3s - loss: 0.0695 - acc: 0.9830 - val_loss: 0.1188 - val_acc: 0.9760\n",
      "Epoch 114/150\n",
      "Epoch 00113: val_loss did not improve\n",
      "3s - loss: 0.0648 - acc: 0.9830 - val_loss: 0.1696 - val_acc: 0.9663\n",
      "Epoch 115/150\n",
      "Epoch 00114: val_loss did not improve\n",
      "3s - loss: 0.0611 - acc: 0.9839 - val_loss: 0.1246 - val_acc: 0.9737\n",
      "Epoch 116/150\n",
      "Epoch 00115: val_loss did not improve\n",
      "3s - loss: 0.0631 - acc: 0.9835 - val_loss: 0.2934 - val_acc: 0.9501\n",
      "Epoch 117/150\n",
      "Epoch 00116: val_loss did not improve\n",
      "3s - loss: 0.0661 - acc: 0.9836 - val_loss: 0.1133 - val_acc: 0.9770\n",
      "Epoch 118/150\n",
      "Epoch 00117: val_loss did not improve\n",
      "3s - loss: 0.0670 - acc: 0.9834 - val_loss: 0.1771 - val_acc: 0.9641\n",
      "Epoch 119/150\n",
      "Epoch 00118: val_loss did not improve\n",
      "3s - loss: 0.0561 - acc: 0.9850 - val_loss: 0.2552 - val_acc: 0.9534\n",
      "Epoch 120/150\n",
      "Epoch 00119: val_loss did not improve\n",
      "3s - loss: 0.0665 - acc: 0.9835 - val_loss: 0.3234 - val_acc: 0.9521\n",
      "Epoch 121/150\n",
      "Epoch 00120: val_loss did not improve\n",
      "3s - loss: 0.0626 - acc: 0.9840 - val_loss: 0.1879 - val_acc: 0.9645\n",
      "Epoch 122/150\n",
      "Epoch 00121: val_loss did not improve\n",
      "3s - loss: 0.0576 - acc: 0.9849 - val_loss: 0.1908 - val_acc: 0.9649\n",
      "Epoch 123/150\n",
      "Epoch 00122: val_loss did not improve\n",
      "3s - loss: 0.0695 - acc: 0.9830 - val_loss: 0.1914 - val_acc: 0.9657\n",
      "Epoch 124/150\n",
      "Epoch 00123: val_loss did not improve\n",
      "3s - loss: 0.0542 - acc: 0.9853 - val_loss: 0.1717 - val_acc: 0.9648\n",
      "Epoch 125/150\n",
      "Epoch 00124: val_loss did not improve\n",
      "3s - loss: 0.0573 - acc: 0.9850 - val_loss: 0.1549 - val_acc: 0.9701\n",
      "Epoch 126/150\n",
      "Epoch 00125: val_loss improved from 0.09214 to 0.08499, saving model to saved_models/vgg16_model_160px.best_batch750_epoch150.hdf5\n",
      "3s - loss: 0.0611 - acc: 0.9840 - val_loss: 0.0850 - val_acc: 0.9811\n",
      "Epoch 127/150\n"
     ]
    },
    {
     "name": "stdout",
     "output_type": "stream",
     "text": [
      "Epoch 00126: val_loss did not improve\n",
      "3s - loss: 0.0606 - acc: 0.9846 - val_loss: 0.1038 - val_acc: 0.9783\n",
      "Epoch 128/150\n",
      "Epoch 00127: val_loss did not improve\n",
      "3s - loss: 0.0578 - acc: 0.9841 - val_loss: 0.1004 - val_acc: 0.9794\n",
      "Epoch 129/150\n",
      "Epoch 00128: val_loss did not improve\n",
      "3s - loss: 0.0606 - acc: 0.9847 - val_loss: 0.1286 - val_acc: 0.9731\n",
      "Epoch 130/150\n",
      "Epoch 00129: val_loss did not improve\n",
      "3s - loss: 0.0583 - acc: 0.9846 - val_loss: 0.1152 - val_acc: 0.9761\n",
      "Epoch 131/150\n",
      "Epoch 00130: val_loss did not improve\n",
      "3s - loss: 0.0570 - acc: 0.9850 - val_loss: 0.1310 - val_acc: 0.9720\n",
      "Epoch 132/150\n",
      "Epoch 00131: val_loss did not improve\n",
      "3s - loss: 0.0536 - acc: 0.9857 - val_loss: 0.1882 - val_acc: 0.9646\n",
      "Epoch 133/150\n",
      "Epoch 00132: val_loss did not improve\n",
      "3s - loss: 0.0559 - acc: 0.9853 - val_loss: 0.1338 - val_acc: 0.9742\n",
      "Epoch 134/150\n",
      "Epoch 00133: val_loss did not improve\n",
      "3s - loss: 0.0525 - acc: 0.9859 - val_loss: 0.1316 - val_acc: 0.9726\n",
      "Epoch 135/150\n",
      "Epoch 00134: val_loss did not improve\n",
      "3s - loss: 0.0591 - acc: 0.9850 - val_loss: 0.1465 - val_acc: 0.9710\n",
      "Epoch 136/150\n",
      "Epoch 00135: val_loss did not improve\n",
      "3s - loss: 0.0602 - acc: 0.9852 - val_loss: 0.1096 - val_acc: 0.9775\n",
      "Epoch 137/150\n",
      "Epoch 00136: val_loss did not improve\n",
      "3s - loss: 0.0542 - acc: 0.9866 - val_loss: 0.1460 - val_acc: 0.9697\n",
      "Epoch 138/150\n",
      "Epoch 00137: val_loss did not improve\n",
      "3s - loss: 0.0619 - acc: 0.9845 - val_loss: 0.1417 - val_acc: 0.9712\n",
      "Epoch 139/150\n",
      "Epoch 00138: val_loss did not improve\n",
      "3s - loss: 0.0533 - acc: 0.9854 - val_loss: 0.2312 - val_acc: 0.9615\n",
      "Epoch 140/150\n",
      "Epoch 00139: val_loss did not improve\n",
      "3s - loss: 0.0541 - acc: 0.9857 - val_loss: 0.1537 - val_acc: 0.9671\n",
      "Epoch 141/150\n",
      "Epoch 00140: val_loss did not improve\n",
      "3s - loss: 0.0597 - acc: 0.9850 - val_loss: 0.0851 - val_acc: 0.9807\n",
      "Epoch 142/150\n",
      "Epoch 00141: val_loss did not improve\n",
      "3s - loss: 0.0493 - acc: 0.9866 - val_loss: 0.1359 - val_acc: 0.9709\n",
      "Epoch 143/150\n",
      "Epoch 00142: val_loss did not improve\n",
      "3s - loss: 0.0520 - acc: 0.9860 - val_loss: 0.2079 - val_acc: 0.9638\n",
      "Epoch 144/150\n",
      "Epoch 00143: val_loss did not improve\n",
      "3s - loss: 0.0555 - acc: 0.9853 - val_loss: 0.1926 - val_acc: 0.9641\n",
      "Epoch 145/150\n",
      "Epoch 00144: val_loss did not improve\n",
      "3s - loss: 0.0511 - acc: 0.9869 - val_loss: 0.1629 - val_acc: 0.9698\n",
      "Epoch 146/150\n",
      "Epoch 00145: val_loss did not improve\n",
      "3s - loss: 0.0571 - acc: 0.9854 - val_loss: 0.2265 - val_acc: 0.9600\n",
      "Epoch 147/150\n",
      "Epoch 00146: val_loss did not improve\n",
      "3s - loss: 0.0553 - acc: 0.9854 - val_loss: 0.1392 - val_acc: 0.9733\n",
      "Epoch 148/150\n",
      "Epoch 00147: val_loss did not improve\n",
      "3s - loss: 0.0471 - acc: 0.9877 - val_loss: 0.1896 - val_acc: 0.9636\n",
      "Epoch 149/150\n",
      "Epoch 00148: val_loss did not improve\n",
      "3s - loss: 0.0531 - acc: 0.9866 - val_loss: 0.1215 - val_acc: 0.9751\n",
      "Epoch 150/150\n",
      "Epoch 00149: val_loss did not improve\n",
      "3s - loss: 0.0496 - acc: 0.9868 - val_loss: 0.1298 - val_acc: 0.9745\n"
     ]
    },
    {
     "data": {
      "text/plain": [
       "<keras.callbacks.History at 0x7f9e09916160>"
      ]
     },
     "execution_count": 13,
     "metadata": {},
     "output_type": "execute_result"
    }
   ],
   "source": [
    "epochs = 150\n",
    "batchsize = 750\n",
    "model_weights_path = '{}/vgg16_{}.best_batch{}_epoch{}.hdf5'.format(models_dir,model_name,batchsize,epochs)\n",
    "\n",
    "checkpointer = ModelCheckpoint(filepath=model_weights_path, \n",
    "                               verbose=1, save_best_only=True)\n",
    "\n",
    "model.fit(features, targets, batch_size=batchsize, epochs=epochs,\n",
    "          validation_data=(features_valid, valid_targets),\n",
    "          callbacks=[checkpointer],\n",
    "          verbose=2, shuffle=True)          "
   ]
  },
  {
   "cell_type": "markdown",
   "metadata": {},
   "source": [
    "### Evaluating the model"
   ]
  },
  {
   "cell_type": "code",
   "execution_count": 14,
   "metadata": {},
   "outputs": [
    {
     "name": "stdout",
     "output_type": "stream",
     "text": [
      "Test accuracy: 62.5198%\n"
     ]
    }
   ],
   "source": [
    "# Load the weights that yielded the best validation accuracy\n",
    "model.load_weights(model_weights_path)\n",
    "\n",
    "# Evaluate test accuracy\n",
    "score = model.evaluate(features_test, test_targets, verbose=0)\n",
    "accuracy = 100*score[1]\n",
    "\n",
    "# Print test accuracy\n",
    "print('Test accuracy: %.4f%%' % accuracy)"
   ]
  },
  {
   "cell_type": "markdown",
   "metadata": {},
   "source": [
    "## Transfer Learning with VGG19"
   ]
  },
  {
   "cell_type": "markdown",
   "metadata": {},
   "source": [
    "### Preparing the model"
   ]
  },
  {
   "cell_type": "code",
   "execution_count": null,
   "metadata": {},
   "outputs": [],
   "source": [
    "# Define image size to use for given model\n",
    "n_pixels = 160\n",
    "# Define a model name for recorcs\n",
    "model_name = 'model_{}px'.format(n_pixels)"
   ]
  },
  {
   "cell_type": "code",
   "execution_count": null,
   "metadata": {},
   "outputs": [],
   "source": [
    "# Preprocessing data fro Keras (TensorFlow backend)\n",
    "def path_to_tensor(img_path):\n",
    "    # Loads image as PIL.Image.Image type\n",
    "    img = image.load_img(img_path, target_size=(n_pixels, n_pixels), grayscale=False)\n",
    "    # Convert PIL.Image.Image type to 3D tensor with shape (n, n, 3)\n",
    "    x = image.img_to_array(img)\n",
    "    # convert 3D tensor to 4D tensor with shape (1, n, n, 3) and return 4D tensor\n",
    "    return np.expand_dims(x, axis=0)\n",
    "\n",
    "def paths_to_tensor(img_paths):\n",
    "    list_of_tensors = [path_to_tensor(img_path) for img_path in tqdm(img_paths)]\n",
    "    return np.vstack(list_of_tensors)"
   ]
  },
  {
   "cell_type": "code",
   "execution_count": null,
   "metadata": {},
   "outputs": [],
   "source": [
    "ImageFile.LOAD_TRUNCATED_IMAGES = True                 \n",
    "# Pre-process the data for Keras\n",
    "# Prepare training data separately since this is usually large\n",
    "\n",
    "print('Preparing to create valid tensors')\n",
    "valid_tensors = paths_to_tensor(valid_data).astype('float32')\n",
    "print('valid tensors prepared')"
   ]
  },
  {
   "cell_type": "code",
   "execution_count": null,
   "metadata": {},
   "outputs": [],
   "source": [
    "print('Preparing to create test tensors')\n",
    "test_tensors = paths_to_tensor(test_data).astype('float32')\n",
    "print('test tensors prepared')"
   ]
  },
  {
   "cell_type": "code",
   "execution_count": null,
   "metadata": {},
   "outputs": [],
   "source": [
    "print('Preparing to create train tensors')\n",
    "train_tensors = paths_to_tensor(train_data).astype('float32')\n",
    "print('train tensors prepared')"
   ]
  },
  {
   "cell_type": "markdown",
   "metadata": {},
   "source": [
    "### Extract Bottleneck Features for Training Set"
   ]
  },
  {
   "cell_type": "code",
   "execution_count": null,
   "metadata": {},
   "outputs": [],
   "source": [
    "# Load the data\n",
    "targets = np.squeeze(train_targets)\n",
    "print('data loaded')\n",
    "\n",
    "# Load vgg19 model + remove final classification layers\n",
    "model = vgg19.VGG19(weights='imagenet', include_top=False, input_shape=(n_pixels, n_pixels, 3), classes=24)\n",
    "print('model loaded')\n",
    "\n",
    "# Obtain bottleneck features (train)\n",
    "if os.path.exists('vgg19_features_train.npz'):\n",
    "    print('bottleneck features detected (train)')\n",
    "    features = np.load('vgg19_features_train.npz')['features']\n",
    "else:\n",
    "    print('bottleneck features file not detected (train)')\n",
    "    \n",
    "    print('calculating now ...')\n",
    "    # Pre-process the train data\n",
    "    big_x_train = np.array([scipy.misc.imresize(train_tensors[i], (n_pixels, n_pixels, 3)) \n",
    "                            for i in range(0, len(train_tensors))]).astype('float32')\n",
    "    vgg19_input_train = vgg19.preprocess_input(big_x_train)\n",
    "    print('train data preprocessed')\n",
    "    \n",
    "    # Extract, process, and save bottleneck features\n",
    "    features = model.predict(vgg19_input_train)\n",
    "    features = np.squeeze(features)\n",
    "    np.savez('vgg19_features_train', features=features)\n",
    "\n",
    "print('bottleneck features saved (train)')"
   ]
  },
  {
   "cell_type": "markdown",
   "metadata": {},
   "source": [
    "### Extract Bottleneck Features for Validation Set"
   ]
  },
  {
   "cell_type": "code",
   "execution_count": null,
   "metadata": {
    "scrolled": true
   },
   "outputs": [],
   "source": [
    "# Obtain bottleneck features (valid)\n",
    "if os.path.exists('vgg19_features_valid.npz'):\n",
    "    print('bottleneck features detected (valid)')\n",
    "    features_valid = np.load('vgg19_features_valid.npz')['features_test']\n",
    "else:\n",
    "    # Calculating for validation set\n",
    "    print('bottleneck features file not detected (valid)')\n",
    "    print('calculating now ...')\n",
    "    # Pre-process the valid data\n",
    "    big_x_valid = np.array([scipy.misc.imresize(valid_tensors[i], (n_pixels, n_pixels, 3)) \n",
    "                       for i in range(0, len(valid_tensors))]).astype('float32')\n",
    "\n",
    "    vgg19_input_valid = vgg19.preprocess_input(big_x_valid)\n",
    "    # Extract, process, and save bottleneck features (valid)\n",
    "    features_valid = model.predict(vgg19_input_valid)\n",
    "    features_valid = np.squeeze(features_valid)\n",
    "    np.savez('vgg19_features_valid', features_test=features_valid)\n",
    "print('bottleneck features saved (valid)')"
   ]
  },
  {
   "cell_type": "markdown",
   "metadata": {},
   "source": [
    "### Extract Bottleneck Features for Test Set"
   ]
  },
  {
   "cell_type": "code",
   "execution_count": null,
   "metadata": {
    "scrolled": true
   },
   "outputs": [],
   "source": [
    "# Obtain bottleneck features (test)\n",
    "if os.path.exists('vgg19_features_test.npz'):\n",
    "    print('bottleneck features detected (test)')\n",
    "    features_test = np.load('vgg19_features_test.npz')['features_test']\n",
    "else:\n",
    "    # Calculating for test set\n",
    "    print('bottleneck features file not detected (test)')\n",
    "    print('calculating now ...')\n",
    "    # pre-process the test data\n",
    "    big_x_test = np.array([scipy.misc.imresize(test_tensors[i], (n_pixels, n_pixels, 3)) \n",
    "                       for i in range(0, len(test_tensors))]).astype('float32')\n",
    "\n",
    "    vgg19_input_test = vgg19.preprocess_input(big_x_test)\n",
    "    # Extract, process, and save bottleneck features (test)\n",
    "    features_test = model.predict(vgg19_input_test)\n",
    "    features_test = np.squeeze(features_test)\n",
    "    np.savez('vgg19_features_test', features_test=features_test)\n",
    "print('bottleneck features saved (test)')"
   ]
  },
  {
   "cell_type": "markdown",
   "metadata": {},
   "source": [
    "### Building model"
   ]
  },
  {
   "cell_type": "code",
   "execution_count": null,
   "metadata": {},
   "outputs": [],
   "source": [
    "# Shallow NN\n",
    "from keras.callbacks import ModelCheckpoint   \n",
    "from keras.models import Sequential\n",
    "from keras.layers import Dense, Dropout, Conv2D, GlobalAveragePooling2D\n",
    "\n",
    "model = Sequential()\n",
    "model.add(Conv2D(filters=256, kernel_size=2, input_shape=features.shape[1:]))\n",
    "model.add(Dropout(0.4))\n",
    "model.add(GlobalAveragePooling2D())\n",
    "model.add(Dropout(0.3))\n",
    "model.add(Dense(24, activation='softmax'))\n",
    "model.summary()\n",
    "\n",
    "model.compile(loss='categorical_crossentropy', optimizer='rmsprop', metrics=['accuracy'])\n",
    "\n"
   ]
  },
  {
   "cell_type": "code",
   "execution_count": null,
   "metadata": {},
   "outputs": [],
   "source": [
    "epochs = 256\n",
    "batchsize = 512\n",
    "model_weights_path = f'{models_dir}/vgg19_new_{model_name}.best_batch{batchsize}_epoch{epochs}.hdf5'\n",
    "\n",
    "checkpointer = ModelCheckpoint(filepath=model_weights_path, \n",
    "                               verbose=1, save_best_only=True)\n",
    "\n",
    "model.fit(features, targets, batch_size=batchsize, epochs=epochs,\n",
    "          validation_data=(features_valid, valid_targets),\n",
    "          callbacks=[checkpointer],\n",
    "          verbose=2, shuffle=True)          "
   ]
  },
  {
   "cell_type": "markdown",
   "metadata": {},
   "source": [
    "### Evaluating the model"
   ]
  },
  {
   "cell_type": "code",
   "execution_count": null,
   "metadata": {},
   "outputs": [],
   "source": [
    "# Load the weights that yielded the best validation accuracy\n",
    "model.load_weights(model_weights_path)\n",
    "\n",
    "# Evaluate test accuracy\n",
    "score = model.evaluate(features_test, test_targets, verbose=0)\n",
    "accuracy = 100*score[1]\n",
    "\n",
    "# Print test accuracy\n",
    "print('Test accuracy: %.4f%%' % accuracy)"
   ]
  }
 ],
 "metadata": {
  "kernelspec": {
   "display_name": "Python 3",
   "language": "python",
   "name": "python3"
  },
  "language_info": {
   "codemirror_mode": {
    "name": "ipython",
    "version": 3
   },
   "file_extension": ".py",
   "mimetype": "text/x-python",
   "name": "python",
   "nbconvert_exporter": "python",
   "pygments_lexer": "ipython3",
   "version": "3.6.5"
  }
 },
 "nbformat": 4,
 "nbformat_minor": 2
}
