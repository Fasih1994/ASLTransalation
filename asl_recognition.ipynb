{
 "cells": [
  {
   "cell_type": "markdown",
   "metadata": {},
   "source": [
    "# American Sign Language (ASL) Image Recognition"
   ]
  },
  {
   "cell_type": "markdown",
   "metadata": {},
   "source": [
    "## Introduction"
   ]
  },
  {
   "cell_type": "markdown",
   "metadata": {},
   "source": [
    "## Loading in dataset"
   ]
  },
  {
   "cell_type": "code",
   "execution_count": 1,
   "metadata": {},
   "outputs": [
    {
     "name": "stderr",
     "output_type": "stream",
     "text": [
      "Using TensorFlow backend.\n"
     ]
    }
   ],
   "source": [
    "import re\n",
    "import os\n",
    "import numpy as np\n",
    "import matplotlib.pyplot as plt\n",
    "from PIL import Image, ImageFile  \n",
    "from sklearn.datasets import load_files\n",
    "from keras.utils import np_utils\n",
    "from keras.preprocessing import image                  \n",
    "from tqdm import tqdm\n",
    "\n",
    "# For transfer learning\n",
    "import scipy\n",
    "import keras.applications.vgg16 as vgg16\n",
    "import keras.applications.vgg19 as vgg19\n",
    "\n",
    "models_dir = 'saved_models'\n",
    "data_dir = 'data'"
   ]
  },
  {
   "cell_type": "markdown",
   "metadata": {},
   "source": [
    "### Dividing data into training, validation, and testing sets\n",
    "\n",
    "Now that preprocessing the images is completed (see `data_preprocessing.ipynb` notebook), the full dataset will be split into training, validation, and testing sets. The testing set will be all the images from one subject to mirror the \"Spelling It Out\" paper's method so the benchmark model can be compared. The rest of the images will be randomly split; 80% of images for training, 20% of the images for validation."
   ]
  },
  {
   "cell_type": "code",
   "execution_count": 2,
   "metadata": {},
   "outputs": [],
   "source": [
    "def load_dataset(path, n_categories=24):\n",
    "    data = load_files(path)\n",
    "    image_files = np.array(data['filenames'])\n",
    "    # Hot encode categories to matrix\n",
    "    image_targets = np_utils.to_categorical(np.array(data['target']), n_categories)\n",
    "    return image_files, image_targets\n",
    "\n",
    "def move_data_by_category(container_dir, regex_file_format='.*png'):\n",
    "    '''Move data into a directory based on category'''\n",
    "    # Still check if files are images\n",
    "    file_list = [x for x in os.listdir(container_dir) if re.search(regex_file_format, x)]\n",
    "    # Get numerical string (note that 1 digits are represented w/ 2 digits) \n",
    "    letters = {x.split('_')[0] for x in file_list}\n",
    "    \n",
    "    for letter in letters:\n",
    "        # Only images that match letter\n",
    "        images_with_letter = [filename for filename in file_list if filename.split('_')[0] == letter]\n",
    "        # Add images to sub directory\n",
    "        new_categ_path = os.path.join(container_dir, letter)\n",
    "        if not os.path.exists(new_categ_path):\n",
    "            os.makedirs(new_categ_path)\n",
    "#         print('Created {new_categ_path} dir with {len(images_with_letter)} items')\n",
    "        for img_filename in images_with_letter:\n",
    "            path = os.path.join(container_dir, img_filename)\n",
    "            new_path = os.path.join(new_categ_path, img_filename)            \n",
    "            os.rename(path, new_path)\n",
    "    # TODO: Check if any files were skipped (improperly named?)\n",
    "        \n",
    "\n",
    "def get_testing_data(data_dir, subject_num='4'):\n",
    "    '''Get all data/images pertaining to one subject'''\n",
    "    # Only search in directory for images with that subject\n",
    "    file_list = [x for x in os.listdir(data_dir) if re.search('\\d+_{}_\\d*\\.png'.format(subject_num), x)]\n",
    "    \n",
    "    # Make a new testing data directory if doesn't exist\n",
    "    testing_dir = os.path.join(data_dir, 'test')\n",
    "    if not os.path.exists(testing_dir):\n",
    "        os.makedirs(testing_dir)\n",
    "        \n",
    "    # Move images of particular subject into testing directory\n",
    "    for image_filename in file_list:\n",
    "        # file is **_n_****.png where n is an integer representing a subject\n",
    "        _, subject, _ = image_filename.split('_')\n",
    "        # Move file into testing directory\n",
    "        path = os.path.join(data_dir, image_filename)\n",
    "        new_path = os.path.join(testing_dir, image_filename)\n",
    "        os.rename(path, new_path)\n",
    "        \n",
    "    # Move each image file's numerical str representing letters found in testing into own category directory\n",
    "    move_data_by_category(testing_dir)\n",
    "    \n",
    "    return load_dataset(testing_dir)\n",
    "\n",
    "\n",
    "def get_training_validation_data(data_dir, ratio=0.8):\n",
    "    '''Randomly split data into training and validation sets'''\n",
    "    # Only search in directory for images\n",
    "    file_list = [x for x in os.listdir(data_dir) if re.search('.*png', x)]\n",
    "    \n",
    "    # Make a new training & validation data directory if doesn't exist\n",
    "    train_dir = os.path.join(data_dir, 'train')\n",
    "    valid_dir = os.path.join(data_dir, 'valid')\n",
    "    if not os.path.exists(train_dir):\n",
    "        os.makedirs(train_dir)\n",
    "    if not os.path.exists(valid_dir):\n",
    "        os.makedirs(valid_dir)\n",
    "        \n",
    "    # Randomly split file list into training and vaidation sets\n",
    "    np.random.shuffle(file_list)\n",
    "    split_int = int(ratio * len(file_list))\n",
    "    train_list = file_list[:split_int]\n",
    "    valid_list = file_list[split_int:]\n",
    "    \n",
    "    # Move images of particular subject into testing directory\n",
    "    for filenames, new_dir in [(train_list, train_dir), (valid_list, valid_dir)]:\n",
    "        for image_filename in filenames:\n",
    "            # Move file into testing directory\n",
    "            path = os.path.join(data_dir, image_filename)\n",
    "            new_path = os.path.join(new_dir, image_filename)\n",
    "            os.rename(path, new_path)\n",
    "\n",
    "        # Move each image file's numerical str representing letters found in testing into own category directory\n",
    "        move_data_by_category(new_dir)\n",
    "    \n",
    "    return (load_dataset(train_dir), load_dataset(valid_dir))"
   ]
  },
  {
   "cell_type": "code",
   "execution_count": 3,
   "metadata": {},
   "outputs": [],
   "source": [
    "test_data, test_targets = get_testing_data(data_dir)\n",
    "train, valid = get_training_validation_data(data_dir)\n",
    "# Separated data and its targets\n",
    "train_data, train_targets = train\n",
    "valid_data, valid_targets = valid"
   ]
  },
  {
   "cell_type": "markdown",
   "metadata": {},
   "source": [
    "### Display some of the images"
   ]
  },
  {
   "cell_type": "code",
   "execution_count": null,
   "metadata": {},
   "outputs": [],
   "source": [
    "np.random.seed(8675309)\n",
    "%matplotlib inline\n",
    "\n",
    "# Display image previews below\n",
    "plt.figure(figsize=(20,55))\n",
    "columns = 8\n",
    "n = 1\n",
    "\n",
    "# Randomly choose images to display (with label)\n",
    "for image_path in np.random.choice(train_data, 24, replace=False):\n",
    "    img = Image.open(image_path)\n",
    "    plt.subplot(20, columns, n)\n",
    "    n+=1\n",
    "    plt.imshow(img)\n",
    "    letter = image_path.split('/')[-1][:2]\n",
    "    letter = chr(int(letter)+65)\n",
    "    plt.title(letter)"
   ]
  },
  {
   "cell_type": "markdown",
   "metadata": {},
   "source": [
    "### Preparing the model"
   ]
  },
  {
   "cell_type": "code",
   "execution_count": 35,
   "metadata": {},
   "outputs": [],
   "source": [
    "# Preprocessing data fro Keras (TensorFlow backend)\n",
    "def path_to_tensor(img_path):\n",
    "    # Loads image as PIL.Image.Image type\n",
    "    img = image.load_img(img_path, target_size=(224, 224), grayscale=False)\n",
    "    # Convert PIL.Image.Image type to 3D tensor with shape (224, 224, 1)\n",
    "    x = image.img_to_array(img)\n",
    "    # convert 3D tensor to 4D tensor with shape (1, 224, 224, 1) and return 4D tensor\n",
    "    return np.expand_dims(x, axis=0)\n",
    "\n",
    "def paths_to_tensor(img_paths):\n",
    "    list_of_tensors = [path_to_tensor(img_path) for img_path in tqdm(img_paths)]\n",
    "    return np.vstack(list_of_tensors)"
   ]
  },
  {
   "cell_type": "code",
   "execution_count": 36,
   "metadata": {},
   "outputs": [
    {
     "name": "stderr",
     "output_type": "stream",
     "text": [
      "100%|██████████| 10376/10376 [00:11<00:00, 922.19it/s]\n",
      "100%|██████████| 13898/13898 [00:13<00:00, 995.85it/s] \n"
     ]
    }
   ],
   "source": [
    "ImageFile.LOAD_TRUNCATED_IMAGES = True                 \n",
    "\n",
    "# pre-process the data for Keras\n",
    "valid_tensors = paths_to_tensor(valid_data).astype('float32')\n",
    "test_tensors = paths_to_tensor(test_data).astype('float32')"
   ]
  },
  {
   "cell_type": "code",
   "execution_count": 37,
   "metadata": {
    "scrolled": true
   },
   "outputs": [
    {
     "name": "stderr",
     "output_type": "stream",
     "text": [
      "100%|██████████| 41500/41500 [01:05<00:00, 637.43it/s]\n"
     ]
    }
   ],
   "source": [
    "# Prepare training data separately since this is usually large\n",
    "train_tensors = paths_to_tensor(train_data).astype('float32')"
   ]
  },
  {
   "cell_type": "markdown",
   "metadata": {},
   "source": [
    "## Basic CNN model from scratch"
   ]
  },
  {
   "cell_type": "markdown",
   "metadata": {},
   "source": [
    "### Building basic model"
   ]
  },
  {
   "cell_type": "code",
   "execution_count": 38,
   "metadata": {},
   "outputs": [
    {
     "name": "stdout",
     "output_type": "stream",
     "text": [
      "_________________________________________________________________\n",
      "Layer (type)                 Output Shape              Param #   \n",
      "=================================================================\n",
      "conv2d_7 (Conv2D)            (None, 160, 160, 16)      80        \n",
      "_________________________________________________________________\n",
      "max_pooling2d_7 (MaxPooling2 (None, 80, 80, 16)        0         \n",
      "_________________________________________________________________\n",
      "conv2d_8 (Conv2D)            (None, 80, 80, 32)        2080      \n",
      "_________________________________________________________________\n",
      "max_pooling2d_8 (MaxPooling2 (None, 40, 40, 32)        0         \n",
      "_________________________________________________________________\n",
      "conv2d_9 (Conv2D)            (None, 40, 40, 64)        8256      \n",
      "_________________________________________________________________\n",
      "max_pooling2d_9 (MaxPooling2 (None, 20, 20, 64)        0         \n",
      "_________________________________________________________________\n",
      "global_average_pooling2d_3 ( (None, 64)                0         \n",
      "_________________________________________________________________\n",
      "dense_3 (Dense)              (None, 24)                1560      \n",
      "=================================================================\n",
      "Total params: 11,976\n",
      "Trainable params: 11,976\n",
      "Non-trainable params: 0\n",
      "_________________________________________________________________\n"
     ]
    }
   ],
   "source": [
    "from keras.layers import Conv2D, MaxPooling2D, GlobalAveragePooling2D\n",
    "from keras.layers import Dropout, Flatten, Dense\n",
    "from keras.models import Sequential\n",
    "\n",
    "model = Sequential()\n",
    "#Convo 224, 224, 1\n",
    "model.add(Conv2D(filters=16, kernel_size=2, padding='same', activation='relu', \n",
    "                        input_shape=(224, 224, 1)))\n",
    "#\n",
    "model.add(MaxPooling2D(pool_size=2))\n",
    "#\n",
    "model.add(Conv2D(filters=32, kernel_size=2, padding='same', activation='relu'))\n",
    "#\n",
    "model.add(MaxPooling2D(pool_size=2))\n",
    "#\n",
    "model.add(Conv2D(filters=64, kernel_size=2, padding='same', activation='relu'))\n",
    "#\n",
    "model.add(MaxPooling2D(pool_size=2))\n",
    "#\n",
    "model.add(GlobalAveragePooling2D())\n",
    "#Dense; 24 for each handshape \n",
    "model.add(Dense(24, activation='softmax'))\n",
    "\n",
    "\n",
    "model.summary()"
   ]
  },
  {
   "cell_type": "code",
   "execution_count": 39,
   "metadata": {},
   "outputs": [],
   "source": [
    "model.compile(optimizer='rmsprop', loss='categorical_crossentropy', metrics=['accuracy'])"
   ]
  },
  {
   "cell_type": "markdown",
   "metadata": {},
   "source": [
    "### Training basic model"
   ]
  },
  {
   "cell_type": "code",
   "execution_count": 40,
   "metadata": {},
   "outputs": [
    {
     "name": "stdout",
     "output_type": "stream",
     "text": [
      "Train on 41500 samples, validate on 10376 samples\n",
      "Epoch 1/16\n",
      "41480/41500 [============================>.] - ETA: 0s - loss: 2.7345 - acc: 0.1880Epoch 00001: val_loss improved from inf to 2.30307, saving model to saved_models/weights.best.from_scratch.hdf5\n",
      "41500/41500 [==============================] - 72s 2ms/step - loss: 2.7341 - acc: 0.1881 - val_loss: 2.3031 - val_acc: 0.2963\n",
      "Epoch 2/16\n",
      "41460/41500 [============================>.] - ETA: 0s - loss: 2.1257 - acc: 0.3397Epoch 00002: val_loss improved from 2.30307 to 1.98483, saving model to saved_models/weights.best.from_scratch.hdf5\n",
      "41500/41500 [==============================] - 71s 2ms/step - loss: 2.1256 - acc: 0.3397 - val_loss: 1.9848 - val_acc: 0.3566\n",
      "Epoch 3/16\n",
      "41460/41500 [============================>.] - ETA: 0s - loss: 1.8236 - acc: 0.4251Epoch 00003: val_loss improved from 1.98483 to 1.90926, saving model to saved_models/weights.best.from_scratch.hdf5\n",
      "41500/41500 [==============================] - 71s 2ms/step - loss: 1.8238 - acc: 0.4251 - val_loss: 1.9093 - val_acc: 0.3714\n",
      "Epoch 4/16\n",
      "41460/41500 [============================>.] - ETA: 0s - loss: 1.5805 - acc: 0.4980Epoch 00004: val_loss improved from 1.90926 to 1.41748, saving model to saved_models/weights.best.from_scratch.hdf5\n",
      "41500/41500 [==============================] - 71s 2ms/step - loss: 1.5803 - acc: 0.4980 - val_loss: 1.4175 - val_acc: 0.5447\n",
      "Epoch 5/16\n",
      "41460/41500 [============================>.] - ETA: 0s - loss: 1.3729 - acc: 0.5605Epoch 00005: val_loss improved from 1.41748 to 1.19161, saving model to saved_models/weights.best.from_scratch.hdf5\n",
      "41500/41500 [==============================] - 71s 2ms/step - loss: 1.3728 - acc: 0.5605 - val_loss: 1.1916 - val_acc: 0.6340\n",
      "Epoch 6/16\n",
      "41460/41500 [============================>.] - ETA: 0s - loss: 1.2071 - acc: 0.6131Epoch 00006: val_loss improved from 1.19161 to 1.05981, saving model to saved_models/weights.best.from_scratch.hdf5\n",
      "41500/41500 [==============================] - 71s 2ms/step - loss: 1.2068 - acc: 0.6133 - val_loss: 1.0598 - val_acc: 0.6657\n",
      "Epoch 7/16\n",
      "41460/41500 [============================>.] - ETA: 0s - loss: 1.0755 - acc: 0.6519Epoch 00007: val_loss improved from 1.05981 to 1.01589, saving model to saved_models/weights.best.from_scratch.hdf5\n",
      "41500/41500 [==============================] - 71s 2ms/step - loss: 1.0752 - acc: 0.6520 - val_loss: 1.0159 - val_acc: 0.6814\n",
      "Epoch 8/16\n",
      "41460/41500 [============================>.] - ETA: 0s - loss: 0.9794 - acc: 0.6849Epoch 00008: val_loss improved from 1.01589 to 0.95951, saving model to saved_models/weights.best.from_scratch.hdf5\n",
      "41500/41500 [==============================] - 71s 2ms/step - loss: 0.9793 - acc: 0.6849 - val_loss: 0.9595 - val_acc: 0.6882\n",
      "Epoch 9/16\n",
      "41460/41500 [============================>.] - ETA: 0s - loss: 0.8979 - acc: 0.7080Epoch 00009: val_loss improved from 0.95951 to 0.88985, saving model to saved_models/weights.best.from_scratch.hdf5\n",
      "41500/41500 [==============================] - 71s 2ms/step - loss: 0.8981 - acc: 0.7079 - val_loss: 0.8899 - val_acc: 0.7046\n",
      "Epoch 10/16\n",
      "41460/41500 [============================>.] - ETA: 0s - loss: 0.8355 - acc: 0.7291Epoch 00010: val_loss improved from 0.88985 to 0.73171, saving model to saved_models/weights.best.from_scratch.hdf5\n",
      "41500/41500 [==============================] - 71s 2ms/step - loss: 0.8353 - acc: 0.7291 - val_loss: 0.7317 - val_acc: 0.7714\n",
      "Epoch 11/16\n",
      "41460/41500 [============================>.] - ETA: 0s - loss: 0.7872 - acc: 0.7438Epoch 00011: val_loss did not improve\n",
      "41500/41500 [==============================] - 71s 2ms/step - loss: 0.7873 - acc: 0.7438 - val_loss: 0.7982 - val_acc: 0.7442\n",
      "Epoch 12/16\n",
      "41460/41500 [============================>.] - ETA: 0s - loss: 0.7386 - acc: 0.7588Epoch 00012: val_loss did not improve\n",
      "41500/41500 [==============================] - 71s 2ms/step - loss: 0.7385 - acc: 0.7588 - val_loss: 0.7332 - val_acc: 0.7581\n",
      "Epoch 13/16\n",
      "41460/41500 [============================>.] - ETA: 0s - loss: 0.7035 - acc: 0.7706Epoch 00013: val_loss improved from 0.73171 to 0.70602, saving model to saved_models/weights.best.from_scratch.hdf5\n",
      "41500/41500 [==============================] - 71s 2ms/step - loss: 0.7034 - acc: 0.7706 - val_loss: 0.7060 - val_acc: 0.7738\n",
      "Epoch 14/16\n",
      "41460/41500 [============================>.] - ETA: 0s - loss: 0.6712 - acc: 0.7816Epoch 00014: val_loss improved from 0.70602 to 0.65615, saving model to saved_models/weights.best.from_scratch.hdf5\n",
      "41500/41500 [==============================] - 71s 2ms/step - loss: 0.6709 - acc: 0.7817 - val_loss: 0.6562 - val_acc: 0.7859\n",
      "Epoch 15/16\n",
      "41460/41500 [============================>.] - ETA: 0s - loss: 0.6445 - acc: 0.7899Epoch 00015: val_loss improved from 0.65615 to 0.59643, saving model to saved_models/weights.best.from_scratch.hdf5\n",
      "41500/41500 [==============================] - 71s 2ms/step - loss: 0.6444 - acc: 0.7899 - val_loss: 0.5964 - val_acc: 0.8112\n",
      "Epoch 16/16\n",
      "41460/41500 [============================>.] - ETA: 0s - loss: 0.6163 - acc: 0.8011Epoch 00016: val_loss did not improve\n",
      "41500/41500 [==============================] - 71s 2ms/step - loss: 0.6162 - acc: 0.8012 - val_loss: 0.6142 - val_acc: 0.8049\n"
     ]
    },
    {
     "data": {
      "text/plain": [
       "<keras.callbacks.History at 0x7feca9889a58>"
      ]
     },
     "execution_count": 40,
     "metadata": {},
     "output_type": "execute_result"
    }
   ],
   "source": [
    "from keras.callbacks import ModelCheckpoint  \n",
    "\n",
    "epochs = 16\n",
    "\n",
    "# Create a saved models directory\n",
    "if not os.path.exists(models_dir):\n",
    "    os.makedirs(models_dir)\n",
    "\n",
    "checkpointer = ModelCheckpoint(filepath=f'{models_dir}/weights.best.from_scratch.hdf5', \n",
    "                               verbose=1, save_best_only=True)\n",
    "\n",
    "model.fit(train_tensors, train_targets, \n",
    "          validation_data=(valid_tensors, valid_targets),\n",
    "          epochs=epochs, batch_size=20, callbacks=[checkpointer], verbose=1)"
   ]
  },
  {
   "cell_type": "markdown",
   "metadata": {},
   "source": [
    "### Evaluating basic model"
   ]
  },
  {
   "cell_type": "code",
   "execution_count": 41,
   "metadata": {},
   "outputs": [
    {
     "name": "stdout",
     "output_type": "stream",
     "text": [
      "Test accuracy: 43.3156%\n"
     ]
    }
   ],
   "source": [
    "handshape_predictions = [np.argmax(model.predict(np.expand_dims(tensor, axis=0))) for tensor in test_tensors]\n",
    "\n",
    "# report test accuracy\n",
    "test_accuracy = 100*np.sum(np.array(handshape_predictions)==np.argmax(test_targets, axis=1))/len(handshape_predictions)\n",
    "print('Test accuracy: %.4f%%' % test_accuracy)"
   ]
  },
  {
   "cell_type": "markdown",
   "metadata": {},
   "source": [
    "## Transfer Learning with VGG16"
   ]
  },
  {
   "cell_type": "markdown",
   "metadata": {},
   "source": [
    "### Preparing the model"
   ]
  },
  {
   "cell_type": "code",
   "execution_count": 13,
   "metadata": {},
   "outputs": [],
   "source": [
    "# Define image size to use for given model\n",
    "n_pixels = 120\n",
    "# Define a model name for recorcs\n",
    "model_name = 'model_{}px'.format(n_pixels)"
   ]
  },
  {
   "cell_type": "code",
   "execution_count": 14,
   "metadata": {},
   "outputs": [],
   "source": [
    "# Preprocessing data fro Keras (TensorFlow backend)\n",
    "def path_to_tensor(img_path):\n",
    "    # Loads image as PIL.Image.Image type\n",
    "    img = image.load_img(img_path, target_size=(n_pixels, n_pixels), grayscale=False)\n",
    "    # Convert PIL.Image.Image type to 3D tensor with shape (n, n, 3)\n",
    "    x = image.img_to_array(img)\n",
    "    # convert 3D tensor to 4D tensor with shape (1, n, n, 3) and return 4D tensor\n",
    "    return np.expand_dims(x, axis=0)\n",
    "\n",
    "def paths_to_tensor(img_paths):\n",
    "    list_of_tensors = [path_to_tensor(img_path) for img_path in tqdm(img_paths)]\n",
    "    return np.vstack(list_of_tensors)"
   ]
  },
  {
   "cell_type": "code",
   "execution_count": 15,
   "metadata": {},
   "outputs": [
    {
     "name": "stderr",
     "output_type": "stream",
     "text": [
      "  1%|          | 70/10376 [00:00<00:14, 695.61it/s]"
     ]
    },
    {
     "name": "stdout",
     "output_type": "stream",
     "text": [
      "Preparing to create valid tensors\n"
     ]
    },
    {
     "name": "stderr",
     "output_type": "stream",
     "text": [
      "100%|██████████| 10376/10376 [00:06<00:00, 1495.49it/s]\n"
     ]
    },
    {
     "name": "stdout",
     "output_type": "stream",
     "text": [
      "valid tensors prepared\n"
     ]
    }
   ],
   "source": [
    "ImageFile.LOAD_TRUNCATED_IMAGES = True                 \n",
    "# Pre-process the data for Keras\n",
    "# Prepare training data separately since this is usually large\n",
    "\n",
    "print('Preparing to create valid tensors')\n",
    "valid_tensors = paths_to_tensor(valid_data).astype('float32')\n",
    "print('valid tensors prepared')"
   ]
  },
  {
   "cell_type": "code",
   "execution_count": 16,
   "metadata": {},
   "outputs": [
    {
     "name": "stderr",
     "output_type": "stream",
     "text": [
      "  0%|          | 41/13898 [00:00<00:34, 407.02it/s]"
     ]
    },
    {
     "name": "stdout",
     "output_type": "stream",
     "text": [
      "Preparing to create test tensors\n"
     ]
    },
    {
     "name": "stderr",
     "output_type": "stream",
     "text": [
      "100%|██████████| 13898/13898 [00:19<00:00, 707.74it/s]\n"
     ]
    },
    {
     "name": "stdout",
     "output_type": "stream",
     "text": [
      "test tensors prepared\n"
     ]
    }
   ],
   "source": [
    "print('Preparing to create test tensors')\n",
    "test_tensors = paths_to_tensor(test_data).astype('float32')\n",
    "print('test tensors prepared')"
   ]
  },
  {
   "cell_type": "code",
   "execution_count": 17,
   "metadata": {},
   "outputs": [
    {
     "name": "stderr",
     "output_type": "stream",
     "text": [
      "  0%|          | 43/41500 [00:00<01:37, 424.55it/s]"
     ]
    },
    {
     "name": "stdout",
     "output_type": "stream",
     "text": [
      "Preparing to create train tensors\n"
     ]
    },
    {
     "name": "stderr",
     "output_type": "stream",
     "text": [
      "100%|██████████| 41500/41500 [00:31<00:00, 1320.43it/s]\n"
     ]
    },
    {
     "name": "stdout",
     "output_type": "stream",
     "text": [
      "train tensors prepared\n"
     ]
    }
   ],
   "source": [
    "print('Preparing to create train tensors')\n",
    "train_tensors = paths_to_tensor(train_data).astype('float32')\n",
    "print('train tensors prepared')"
   ]
  },
  {
   "cell_type": "markdown",
   "metadata": {},
   "source": [
    "### Extract Bottleneck Features for Training Set"
   ]
  },
  {
   "cell_type": "code",
   "execution_count": 18,
   "metadata": {},
   "outputs": [
    {
     "name": "stdout",
     "output_type": "stream",
     "text": [
      "data loaded\n",
      "Downloading data from https://github.com/fchollet/deep-learning-models/releases/download/v0.1/vgg16_weights_tf_dim_ordering_tf_kernels_notop.h5\n",
      "58777600/58889256 [============================>.] - ETA: 0smodel loaded\n",
      "bottleneck features file not detected (train)\n",
      "calculating now ...\n",
      "train data preprocessed\n",
      "bottleneck features saved (train)\n"
     ]
    }
   ],
   "source": [
    "# Load the data\n",
    "targets = np.squeeze(train_targets)\n",
    "print('data loaded')\n",
    "\n",
    "# Load vgg16 model + remove final classification layers\n",
    "model = vgg16.VGG16(weights='imagenet', include_top=False, input_shape=(n_pixels, n_pixels, 3), classes=24)\n",
    "print('model loaded')\n",
    "\n",
    "# Obtain bottleneck features (train)\n",
    "if os.path.exists('vgg16_features_train.npz'):\n",
    "    print('bottleneck features detected (train)')\n",
    "    features = np.load('vgg16_features_train.npz')['features']\n",
    "else:\n",
    "    print('bottleneck features file not detected (train)')\n",
    "    \n",
    "    print('calculating now ...')\n",
    "    # Pre-process the train data\n",
    "    big_x_train = np.array([scipy.misc.imresize(train_tensors[i], (n_pixels, n_pixels, 3)) \n",
    "                            for i in range(0, len(train_tensors))]).astype('float32')\n",
    "    vgg16_input_train = vgg16.preprocess_input(big_x_train)\n",
    "    print('train data preprocessed')\n",
    "    \n",
    "    # Extract, process, and save bottleneck features\n",
    "    features = model.predict(vgg16_input_train)\n",
    "    features = np.squeeze(features)\n",
    "    np.savez('vgg16_features_train', features=features)\n",
    "\n",
    "print('bottleneck features saved (train)')"
   ]
  },
  {
   "cell_type": "markdown",
   "metadata": {},
   "source": [
    "### Extract Bottleneck Features for Validation Set"
   ]
  },
  {
   "cell_type": "code",
   "execution_count": null,
   "metadata": {
    "scrolled": true
   },
   "outputs": [
    {
     "name": "stdout",
     "output_type": "stream",
     "text": [
      "bottleneck features file not detected (valid)\n",
      "calculating now ...\n",
      "bottleneck features saved (valid)\n"
     ]
    }
   ],
   "source": [
    "# Obtain bottleneck features (valid)\n",
    "if os.path.exists('vgg16_features_valid.npz'):\n",
    "    print('bottleneck features detected (valid)')\n",
    "    features_valid = np.load('vgg16_features_valid.npz')['features_test']\n",
    "else:\n",
    "    # Calculating for validation set\n",
    "    print('bottleneck features file not detected (valid)')\n",
    "    print('calculating now ...')\n",
    "    # Pre-process the valid data\n",
    "    big_x_valid = np.array([scipy.misc.imresize(valid_tensors[i], (n_pixels, n_pixels, 3)) \n",
    "                       for i in range(0, len(valid_tensors))]).astype('float32')\n",
    "\n",
    "    vgg16_input_valid = vgg16.preprocess_input(big_x_valid)\n",
    "    # Extract, process, and save bottleneck features (valid)\n",
    "    features_valid = model.predict(vgg16_input_valid)\n",
    "    features_valid = np.squeeze(features_valid)\n",
    "    np.savez('vgg16_features_valid', features_test=features_valid)\n",
    "print('bottleneck features saved (valid)')"
   ]
  },
  {
   "cell_type": "markdown",
   "metadata": {},
   "source": [
    "### Extract Bottleneck Features for Test Set"
   ]
  },
  {
   "cell_type": "code",
   "execution_count": null,
   "metadata": {
    "scrolled": true
   },
   "outputs": [
    {
     "name": "stdout",
     "output_type": "stream",
     "text": [
      "bottleneck features file not detected (test)\n",
      "calculating now ...\n"
     ]
    }
   ],
   "source": [
    "# Obtain bottleneck features (test)\n",
    "if os.path.exists('vgg16_features_test.npz'):\n",
    "    print('bottleneck features detected (test)')\n",
    "    features_test = np.load('vgg16_features_test.npz')['features_test']\n",
    "else:\n",
    "    # Calculating for test set\n",
    "    print('bottleneck features file not detected (test)')\n",
    "    print('calculating now ...')\n",
    "    # pre-process the test data\n",
    "    big_x_test = np.array([scipy.misc.imresize(test_tensors[i], (n_pixels, n_pixels, 3)) \n",
    "                       for i in range(0, len(test_tensors))]).astype('float32')\n",
    "\n",
    "    vgg16_input_test = vgg16.preprocess_input(big_x_test)\n",
    "    # Extract, process, and save bottleneck features (test)\n",
    "    features_test = model.predict(vgg16_input_test)\n",
    "    features_test = np.squeeze(features_test)\n",
    "    np.savez('vgg16_features_test', features_test=features_test)\n",
    "print('bottleneck features saved (test)')"
   ]
  },
  {
   "cell_type": "markdown",
   "metadata": {},
   "source": [
    "### Building model"
   ]
  },
  {
   "cell_type": "code",
   "execution_count": null,
   "metadata": {},
   "outputs": [],
   "source": [
    "# Shallow NN\n",
    "from keras.callbacks import ModelCheckpoint   \n",
    "from keras.models import Sequential\n",
    "from keras.layers import Dense, Dropout, Conv2D, GlobalAveragePooling2D\n",
    "\n",
    "model = Sequential()\n",
    "model.add(Conv2D(filters=100, kernel_size=2, input_shape=features.shape[1:]))\n",
    "model.add(Dropout(0.4))\n",
    "model.add(GlobalAveragePooling2D())\n",
    "model.add(Dropout(0.3))\n",
    "model.add(Dense(24, activation='softmax'))\n",
    "model.summary()\n",
    "\n",
    "model.compile(loss='categorical_crossentropy', optimizer='rmsprop', metrics=['accuracy'])\n",
    "\n"
   ]
  },
  {
   "cell_type": "code",
   "execution_count": null,
   "metadata": {},
   "outputs": [],
   "source": [
    "epochs = 150\n",
    "batchsize = 750\n",
    "model_weights_path = '{}/vgg16_{}.best_batch{}_epoch{}.hdf5'.format(models_dir,model_name,batchsize,epochs)\n",
    "\n",
    "checkpointer = ModelCheckpoint(filepath=model_weights_path, \n",
    "                               verbose=1, save_best_only=True)\n",
    "\n",
    "model.fit(features, targets, batch_size=batchsize, epochs=epochs,\n",
    "          validation_data=(features_valid, valid_targets),\n",
    "          callbacks=[checkpointer],\n",
    "          verbose=2, shuffle=True)          "
   ]
  },
  {
   "cell_type": "markdown",
   "metadata": {},
   "source": [
    "### Evaluating the model"
   ]
  },
  {
   "cell_type": "code",
   "execution_count": null,
   "metadata": {},
   "outputs": [],
   "source": [
    "# Load the weights that yielded the best validation accuracy\n",
    "model.load_weights(model_weights_path)\n",
    "\n",
    "# Evaluate test accuracy\n",
    "score = model.evaluate(features_test, test_targets, verbose=0)\n",
    "accuracy = 100*score[1]\n",
    "\n",
    "# Print test accuracy\n",
    "print('Test accuracy: %.4f%%' % accuracy)"
   ]
  },
  {
   "cell_type": "markdown",
   "metadata": {},
   "source": [
    "## Transfer Learning with VGG19"
   ]
  },
  {
   "cell_type": "markdown",
   "metadata": {},
   "source": [
    "### Preparing the model"
   ]
  },
  {
   "cell_type": "code",
   "execution_count": 8,
   "metadata": {},
   "outputs": [],
   "source": [
    "# Define image size to use for given model\n",
    "n_pixels = 120\n",
    "# Define a model name for recorcs\n",
    "model_name = 'model_{}px'.format(n_pixels)"
   ]
  },
  {
   "cell_type": "code",
   "execution_count": 9,
   "metadata": {},
   "outputs": [],
   "source": [
    "# Preprocessing data fro Keras (TensorFlow backend)\n",
    "def path_to_tensor(img_path):\n",
    "    # Loads image as PIL.Image.Image type\n",
    "    img = image.load_img(img_path, target_size=(n_pixels, n_pixels), grayscale=False)\n",
    "    # Convert PIL.Image.Image type to 3D tensor with shape (n, n, 3)\n",
    "    x = image.img_to_array(img)\n",
    "    # convert 3D tensor to 4D tensor with shape (1, n, n, 3) and return 4D tensor\n",
    "    return np.expand_dims(x, axis=0)\n",
    "\n",
    "def paths_to_tensor(img_paths):\n",
    "    list_of_tensors = [path_to_tensor(img_path) for img_path in tqdm(img_paths)]\n",
    "    return np.vstack(list_of_tensors)"
   ]
  },
  {
   "cell_type": "code",
   "execution_count": 11,
   "metadata": {},
   "outputs": [
    {
     "name": "stderr",
     "output_type": "stream",
     "text": [
      "  0%|          | 20/10376 [00:00<00:52, 195.47it/s]"
     ]
    },
    {
     "name": "stdout",
     "output_type": "stream",
     "text": [
      "Preparing to create valid tensors\n"
     ]
    },
    {
     "name": "stderr",
     "output_type": "stream",
     "text": [
      "100%|██████████| 10376/10376 [00:19<00:00, 522.44it/s]\n"
     ]
    },
    {
     "name": "stdout",
     "output_type": "stream",
     "text": [
      "valid tensors prepared\n"
     ]
    }
   ],
   "source": [
    "ImageFile.LOAD_TRUNCATED_IMAGES = True                 \n",
    "# Pre-process the data for Keras\n",
    "# Prepare training data separately since this is usually large\n",
    "\n",
    "print('Preparing to create valid tensors')\n",
    "valid_tensors = paths_to_tensor(valid_data).astype('float32')\n",
    "print('valid tensors prepared')"
   ]
  },
  {
   "cell_type": "code",
   "execution_count": 12,
   "metadata": {},
   "outputs": [
    {
     "name": "stderr",
     "output_type": "stream",
     "text": [
      "  0%|          | 14/13898 [00:00<01:40, 138.00it/s]"
     ]
    },
    {
     "name": "stdout",
     "output_type": "stream",
     "text": [
      "Preparing to create test tensors\n"
     ]
    },
    {
     "name": "stderr",
     "output_type": "stream",
     "text": [
      "100%|██████████| 13898/13898 [00:27<00:00, 507.79it/s]\n"
     ]
    },
    {
     "name": "stdout",
     "output_type": "stream",
     "text": [
      "test tensors prepared\n"
     ]
    }
   ],
   "source": [
    "print('Preparing to create test tensors')\n",
    "test_tensors = paths_to_tensor(test_data).astype('float32')\n",
    "print('test tensors prepared')"
   ]
  },
  {
   "cell_type": "code",
   "execution_count": 10,
   "metadata": {},
   "outputs": [
    {
     "name": "stderr",
     "output_type": "stream",
     "text": [
      "  0%|          | 11/41500 [00:00<06:18, 109.56it/s]"
     ]
    },
    {
     "name": "stdout",
     "output_type": "stream",
     "text": [
      "Preparing to create train tensors\n"
     ]
    },
    {
     "name": "stderr",
     "output_type": "stream",
     "text": [
      "100%|██████████| 41500/41500 [01:03<00:00, 650.43it/s]\n"
     ]
    },
    {
     "name": "stdout",
     "output_type": "stream",
     "text": [
      "train tensors prepared\n"
     ]
    }
   ],
   "source": [
    "print('Preparing to create train tensors')\n",
    "train_tensors = paths_to_tensor(train_data).astype('float32')\n",
    "print('train tensors prepared')"
   ]
  },
  {
   "cell_type": "markdown",
   "metadata": {},
   "source": [
    "### Extract Bottleneck Features for Training Set"
   ]
  },
  {
   "cell_type": "code",
   "execution_count": 13,
   "metadata": {},
   "outputs": [
    {
     "name": "stdout",
     "output_type": "stream",
     "text": [
      "data loaded\n",
      "Downloading data from https://github.com/fchollet/deep-learning-models/releases/download/v0.1/vgg19_weights_tf_dim_ordering_tf_kernels_notop.h5\n",
      "80142336/80134624 [==============================] - 3s 0us/step\n",
      "model loaded\n",
      "bottleneck features file not detected (train)\n",
      "calculating now ...\n",
      "train data preprocessed\n",
      "bottleneck features saved (train)\n"
     ]
    }
   ],
   "source": [
    "# Load the data\n",
    "targets = np.squeeze(train_targets)\n",
    "print('data loaded')\n",
    "\n",
    "# Load vgg19 model + remove final classification layers\n",
    "model = vgg19.VGG19(weights='imagenet', include_top=False, input_shape=(n_pixels, n_pixels, 3), classes=24)\n",
    "print('model loaded')\n",
    "\n",
    "# Obtain bottleneck features (train)\n",
    "if os.path.exists('vgg19_features_train.npz'):\n",
    "    print('bottleneck features detected (train)')\n",
    "    features = np.load('vgg19_features_train.npz')['features']\n",
    "else:\n",
    "    print('bottleneck features file not detected (train)')\n",
    "    \n",
    "    print('calculating now ...')\n",
    "    # Pre-process the train data\n",
    "    big_x_train = np.array([scipy.misc.imresize(train_tensors[i], (n_pixels, n_pixels, 3)) \n",
    "                            for i in range(0, len(train_tensors))]).astype('float32')\n",
    "    vgg19_input_train = vgg19.preprocess_input(big_x_train)\n",
    "    print('train data preprocessed')\n",
    "    \n",
    "    # Extract, process, and save bottleneck features\n",
    "    features = model.predict(vgg19_input_train)\n",
    "    features = np.squeeze(features)\n",
    "    np.savez('vgg19_features_train', features=features)\n",
    "\n",
    "print('bottleneck features saved (train)')"
   ]
  },
  {
   "cell_type": "markdown",
   "metadata": {},
   "source": [
    "### Extract Bottleneck Features for Validation Set"
   ]
  },
  {
   "cell_type": "code",
   "execution_count": 15,
   "metadata": {
    "scrolled": true
   },
   "outputs": [
    {
     "name": "stdout",
     "output_type": "stream",
     "text": [
      "bottleneck features file not detected (valid)\n",
      "calculating now ...\n",
      "bottleneck features saved (valid)\n"
     ]
    }
   ],
   "source": [
    "# Obtain bottleneck features (valid)\n",
    "if os.path.exists('vgg19_features_valid.npz'):\n",
    "    print('bottleneck features detected (valid)')\n",
    "    features_valid = np.load('vgg19_features_valid.npz')['features_test']\n",
    "else:\n",
    "    # Calculating for validation set\n",
    "    print('bottleneck features file not detected (valid)')\n",
    "    print('calculating now ...')\n",
    "    # Pre-process the valid data\n",
    "    big_x_valid = np.array([scipy.misc.imresize(valid_tensors[i], (n_pixels, n_pixels, 3)) \n",
    "                       for i in range(0, len(valid_tensors))]).astype('float32')\n",
    "\n",
    "    vgg19_input_valid = vgg19.preprocess_input(big_x_valid)\n",
    "    # Extract, process, and save bottleneck features (valid)\n",
    "    features_valid = model.predict(vgg19_input_valid)\n",
    "    features_valid = np.squeeze(features_valid)\n",
    "    np.savez('vgg19_features_valid', features_test=features_valid)\n",
    "print('bottleneck features saved (valid)')"
   ]
  },
  {
   "cell_type": "markdown",
   "metadata": {},
   "source": [
    "### Extract Bottleneck Features for Test Set"
   ]
  },
  {
   "cell_type": "code",
   "execution_count": 16,
   "metadata": {
    "scrolled": true
   },
   "outputs": [
    {
     "name": "stdout",
     "output_type": "stream",
     "text": [
      "bottleneck features file not detected (test)\n",
      "calculating now ...\n",
      "bottleneck features saved (test)\n"
     ]
    }
   ],
   "source": [
    "# Obtain bottleneck features (test)\n",
    "if os.path.exists('vgg19_features_test.npz'):\n",
    "    print('bottleneck features detected (test)')\n",
    "    features_test = np.load('vgg19_features_test.npz')['features_test']\n",
    "else:\n",
    "    # Calculating for test set\n",
    "    print('bottleneck features file not detected (test)')\n",
    "    print('calculating now ...')\n",
    "    # pre-process the test data\n",
    "    big_x_test = np.array([scipy.misc.imresize(test_tensors[i], (n_pixels, n_pixels, 3)) \n",
    "                       for i in range(0, len(test_tensors))]).astype('float32')\n",
    "\n",
    "    vgg19_input_test = vgg19.preprocess_input(big_x_test)\n",
    "    # Extract, process, and save bottleneck features (test)\n",
    "    features_test = model.predict(vgg19_input_test)\n",
    "    features_test = np.squeeze(features_test)\n",
    "    np.savez('vgg19_features_test', features_test=features_test)\n",
    "print('bottleneck features saved (test)')"
   ]
  },
  {
   "cell_type": "markdown",
   "metadata": {},
   "source": [
    "### Building model"
   ]
  },
  {
   "cell_type": "code",
   "execution_count": 20,
   "metadata": {},
   "outputs": [
    {
     "name": "stdout",
     "output_type": "stream",
     "text": [
      "_________________________________________________________________\n",
      "Layer (type)                 Output Shape              Param #   \n",
      "=================================================================\n",
      "conv2d_2 (Conv2D)            (None, 2, 2, 256)         524544    \n",
      "_________________________________________________________________\n",
      "dropout_3 (Dropout)          (None, 2, 2, 256)         0         \n",
      "_________________________________________________________________\n",
      "global_average_pooling2d_2 ( (None, 256)               0         \n",
      "_________________________________________________________________\n",
      "dropout_4 (Dropout)          (None, 256)               0         \n",
      "_________________________________________________________________\n",
      "dense_2 (Dense)              (None, 24)                6168      \n",
      "=================================================================\n",
      "Total params: 530,712\n",
      "Trainable params: 530,712\n",
      "Non-trainable params: 0\n",
      "_________________________________________________________________\n"
     ]
    }
   ],
   "source": [
    "# Shallow NN\n",
    "from keras.callbacks import ModelCheckpoint   \n",
    "from keras.models import Sequential\n",
    "from keras.layers import Dense, Dropout, Conv2D, GlobalAveragePooling2D\n",
    "\n",
    "model = Sequential()\n",
    "model.add(Conv2D(filters=256, kernel_size=2, input_shape=features.shape[1:]))\n",
    "model.add(Dropout(0.4))\n",
    "model.add(GlobalAveragePooling2D())\n",
    "model.add(Dropout(0.3))\n",
    "model.add(Dense(24, activation='softmax'))\n",
    "model.summary()\n",
    "\n",
    "model.compile(loss='categorical_crossentropy', optimizer='rmsprop', metrics=['accuracy'])\n",
    "\n"
   ]
  },
  {
   "cell_type": "code",
   "execution_count": 23,
   "metadata": {},
   "outputs": [
    {
     "name": "stdout",
     "output_type": "stream",
     "text": [
      "Train on 41500 samples, validate on 10376 samples\n",
      "Epoch 1/256\n",
      "Epoch 00001: val_loss improved from inf to 0.28171, saving model to saved_models/vgg19_new_model_120px.best_batch512_epoch256.hdf5\n",
      " - 2s - loss: 0.1221 - acc: 0.9879 - val_loss: 0.2817 - val_acc: 0.9762\n",
      "Epoch 2/256\n",
      "Epoch 00002: val_loss did not improve\n",
      " - 1s - loss: 0.1206 - acc: 0.9880 - val_loss: 0.2854 - val_acc: 0.9778\n",
      "Epoch 3/256\n",
      "Epoch 00003: val_loss improved from 0.28171 to 0.27367, saving model to saved_models/vgg19_new_model_120px.best_batch512_epoch256.hdf5\n",
      " - 1s - loss: 0.1296 - acc: 0.9875 - val_loss: 0.2737 - val_acc: 0.9772\n",
      "Epoch 4/256\n",
      "Epoch 00004: val_loss improved from 0.27367 to 0.25843, saving model to saved_models/vgg19_new_model_120px.best_batch512_epoch256.hdf5\n",
      " - 1s - loss: 0.1246 - acc: 0.9877 - val_loss: 0.2584 - val_acc: 0.9780\n",
      "Epoch 5/256\n",
      "Epoch 00005: val_loss improved from 0.25843 to 0.24722, saving model to saved_models/vgg19_new_model_120px.best_batch512_epoch256.hdf5\n",
      " - 1s - loss: 0.1195 - acc: 0.9884 - val_loss: 0.2472 - val_acc: 0.9803\n",
      "Epoch 6/256\n",
      "Epoch 00006: val_loss did not improve\n",
      " - 1s - loss: 0.1342 - acc: 0.9871 - val_loss: 0.2790 - val_acc: 0.9768\n",
      "Epoch 7/256\n",
      "Epoch 00007: val_loss did not improve\n",
      " - 1s - loss: 0.1146 - acc: 0.9889 - val_loss: 0.2532 - val_acc: 0.9794\n",
      "Epoch 8/256\n",
      "Epoch 00008: val_loss did not improve\n",
      " - 1s - loss: 0.1256 - acc: 0.9881 - val_loss: 0.2723 - val_acc: 0.9784\n",
      "Epoch 9/256\n",
      "Epoch 00009: val_loss did not improve\n",
      " - 1s - loss: 0.1362 - acc: 0.9870 - val_loss: 0.2713 - val_acc: 0.9773\n",
      "Epoch 10/256\n",
      "Epoch 00010: val_loss did not improve\n",
      " - 1s - loss: 0.1227 - acc: 0.9881 - val_loss: 0.3008 - val_acc: 0.9754\n",
      "Epoch 11/256\n",
      "Epoch 00011: val_loss did not improve\n",
      " - 1s - loss: 0.1244 - acc: 0.9883 - val_loss: 0.3271 - val_acc: 0.9740\n",
      "Epoch 12/256\n",
      "Epoch 00012: val_loss did not improve\n",
      " - 1s - loss: 0.1232 - acc: 0.9887 - val_loss: 0.2871 - val_acc: 0.9772\n",
      "Epoch 13/256\n",
      "Epoch 00013: val_loss did not improve\n",
      " - 1s - loss: 0.1150 - acc: 0.9892 - val_loss: 0.2697 - val_acc: 0.9774\n",
      "Epoch 14/256\n",
      "Epoch 00014: val_loss improved from 0.24722 to 0.23940, saving model to saved_models/vgg19_new_model_120px.best_batch512_epoch256.hdf5\n",
      " - 1s - loss: 0.1324 - acc: 0.9880 - val_loss: 0.2394 - val_acc: 0.9795\n",
      "Epoch 15/256\n",
      "Epoch 00015: val_loss did not improve\n",
      " - 1s - loss: 0.1087 - acc: 0.9894 - val_loss: 0.2700 - val_acc: 0.9777\n",
      "Epoch 16/256\n",
      "Epoch 00016: val_loss did not improve\n",
      " - 1s - loss: 0.1308 - acc: 0.9877 - val_loss: 0.2804 - val_acc: 0.9776\n",
      "Epoch 17/256\n",
      "Epoch 00017: val_loss did not improve\n",
      " - 1s - loss: 0.1240 - acc: 0.9885 - val_loss: 0.2527 - val_acc: 0.9799\n",
      "Epoch 18/256\n",
      "Epoch 00018: val_loss did not improve\n",
      " - 1s - loss: 0.1242 - acc: 0.9886 - val_loss: 0.3219 - val_acc: 0.9741\n",
      "Epoch 19/256\n",
      "Epoch 00019: val_loss did not improve\n",
      " - 1s - loss: 0.1194 - acc: 0.9891 - val_loss: 0.2672 - val_acc: 0.9789\n",
      "Epoch 20/256\n",
      "Epoch 00020: val_loss did not improve\n",
      " - 1s - loss: 0.1185 - acc: 0.9888 - val_loss: 0.2933 - val_acc: 0.9766\n",
      "Epoch 21/256\n",
      "Epoch 00021: val_loss did not improve\n",
      " - 1s - loss: 0.1177 - acc: 0.9889 - val_loss: 0.3058 - val_acc: 0.9750\n",
      "Epoch 22/256\n",
      "Epoch 00022: val_loss did not improve\n",
      " - 1s - loss: 0.1176 - acc: 0.9890 - val_loss: 0.2582 - val_acc: 0.9796\n",
      "Epoch 23/256\n",
      "Epoch 00023: val_loss did not improve\n",
      " - 1s - loss: 0.1197 - acc: 0.9896 - val_loss: 0.3209 - val_acc: 0.9735\n",
      "Epoch 24/256\n",
      "Epoch 00024: val_loss did not improve\n",
      " - 1s - loss: 0.1304 - acc: 0.9879 - val_loss: 0.3122 - val_acc: 0.9756\n",
      "Epoch 25/256\n",
      "Epoch 00025: val_loss did not improve\n",
      " - 1s - loss: 0.1277 - acc: 0.9881 - val_loss: 0.4066 - val_acc: 0.9680\n",
      "Epoch 26/256\n",
      "Epoch 00026: val_loss did not improve\n",
      " - 1s - loss: 0.1121 - acc: 0.9889 - val_loss: 0.2987 - val_acc: 0.9765\n",
      "Epoch 27/256\n",
      "Epoch 00027: val_loss did not improve\n",
      " - 1s - loss: 0.1199 - acc: 0.9891 - val_loss: 0.3582 - val_acc: 0.9706\n",
      "Epoch 28/256\n",
      "Epoch 00028: val_loss did not improve\n",
      " - 1s - loss: 0.1217 - acc: 0.9888 - val_loss: 0.2732 - val_acc: 0.9779\n",
      "Epoch 29/256\n",
      "Epoch 00029: val_loss did not improve\n",
      " - 1s - loss: 0.1221 - acc: 0.9887 - val_loss: 0.2690 - val_acc: 0.9779\n",
      "Epoch 30/256\n",
      "Epoch 00030: val_loss did not improve\n",
      " - 1s - loss: 0.1117 - acc: 0.9894 - val_loss: 0.2593 - val_acc: 0.9798\n",
      "Epoch 31/256\n",
      "Epoch 00031: val_loss did not improve\n",
      " - 1s - loss: 0.1110 - acc: 0.9899 - val_loss: 0.3160 - val_acc: 0.9742\n",
      "Epoch 32/256\n",
      "Epoch 00032: val_loss did not improve\n",
      " - 1s - loss: 0.1224 - acc: 0.9888 - val_loss: 0.2913 - val_acc: 0.9774\n",
      "Epoch 33/256\n",
      "Epoch 00033: val_loss did not improve\n",
      " - 1s - loss: 0.1266 - acc: 0.9886 - val_loss: 0.2784 - val_acc: 0.9770\n",
      "Epoch 34/256\n",
      "Epoch 00034: val_loss did not improve\n",
      " - 1s - loss: 0.1334 - acc: 0.9880 - val_loss: 0.3751 - val_acc: 0.9716\n",
      "Epoch 35/256\n",
      "Epoch 00035: val_loss did not improve\n",
      " - 1s - loss: 0.1203 - acc: 0.9894 - val_loss: 0.2916 - val_acc: 0.9775\n",
      "Epoch 36/256\n",
      "Epoch 00036: val_loss did not improve\n",
      " - 1s - loss: 0.1148 - acc: 0.9899 - val_loss: 0.3911 - val_acc: 0.9694\n",
      "Epoch 37/256\n",
      "Epoch 00037: val_loss did not improve\n",
      " - 1s - loss: 0.1280 - acc: 0.9884 - val_loss: 0.3035 - val_acc: 0.9757\n",
      "Epoch 38/256\n",
      "Epoch 00038: val_loss did not improve\n",
      " - 1s - loss: 0.1141 - acc: 0.9895 - val_loss: 0.3407 - val_acc: 0.9731\n",
      "Epoch 39/256\n",
      "Epoch 00039: val_loss did not improve\n",
      " - 1s - loss: 0.1272 - acc: 0.9890 - val_loss: 0.2997 - val_acc: 0.9754\n",
      "Epoch 40/256\n",
      "Epoch 00040: val_loss did not improve\n",
      " - 1s - loss: 0.1062 - acc: 0.9899 - val_loss: 0.2895 - val_acc: 0.9781\n",
      "Epoch 41/256\n",
      "Epoch 00041: val_loss did not improve\n",
      " - 1s - loss: 0.1332 - acc: 0.9885 - val_loss: 0.2942 - val_acc: 0.9775\n",
      "Epoch 42/256\n",
      "Epoch 00042: val_loss did not improve\n",
      " - 1s - loss: 0.1197 - acc: 0.9896 - val_loss: 0.2827 - val_acc: 0.9773\n",
      "Epoch 43/256\n",
      "Epoch 00043: val_loss did not improve\n",
      " - 1s - loss: 0.1193 - acc: 0.9895 - val_loss: 0.2785 - val_acc: 0.9786\n",
      "Epoch 44/256\n",
      "Epoch 00044: val_loss did not improve\n",
      " - 1s - loss: 0.1173 - acc: 0.9898 - val_loss: 0.3246 - val_acc: 0.9753\n",
      "Epoch 45/256\n",
      "Epoch 00045: val_loss did not improve\n",
      " - 1s - loss: 0.1198 - acc: 0.9896 - val_loss: 0.2941 - val_acc: 0.9783\n",
      "Epoch 46/256\n",
      "Epoch 00046: val_loss did not improve\n",
      " - 1s - loss: 0.1208 - acc: 0.9894 - val_loss: 0.2974 - val_acc: 0.9773\n",
      "Epoch 47/256\n",
      "Epoch 00047: val_loss did not improve\n",
      " - 1s - loss: 0.1239 - acc: 0.9896 - val_loss: 0.3090 - val_acc: 0.9770\n",
      "Epoch 48/256\n",
      "Epoch 00048: val_loss did not improve\n",
      " - 1s - loss: 0.1236 - acc: 0.9892 - val_loss: 0.2656 - val_acc: 0.9798\n",
      "Epoch 49/256\n",
      "Epoch 00049: val_loss did not improve\n",
      " - 1s - loss: 0.1168 - acc: 0.9898 - val_loss: 0.2986 - val_acc: 0.9771\n",
      "Epoch 50/256\n",
      "Epoch 00050: val_loss did not improve\n",
      " - 1s - loss: 0.1278 - acc: 0.9893 - val_loss: 0.2998 - val_acc: 0.9757\n",
      "Epoch 51/256\n",
      "Epoch 00051: val_loss did not improve\n",
      " - 1s - loss: 0.1059 - acc: 0.9907 - val_loss: 0.3214 - val_acc: 0.9760\n",
      "Epoch 52/256\n",
      "Epoch 00052: val_loss did not improve\n",
      " - 1s - loss: 0.1156 - acc: 0.9897 - val_loss: 0.3135 - val_acc: 0.9760\n",
      "Epoch 53/256\n",
      "Epoch 00053: val_loss did not improve\n",
      " - 1s - loss: 0.1186 - acc: 0.9897 - val_loss: 0.2992 - val_acc: 0.9763\n",
      "Epoch 54/256\n",
      "Epoch 00054: val_loss did not improve\n",
      " - 1s - loss: 0.1184 - acc: 0.9897 - val_loss: 0.3288 - val_acc: 0.9748\n",
      "Epoch 55/256\n",
      "Epoch 00055: val_loss did not improve\n",
      " - 1s - loss: 0.1248 - acc: 0.9898 - val_loss: 0.3706 - val_acc: 0.9725\n",
      "Epoch 56/256\n",
      "Epoch 00056: val_loss did not improve\n",
      " - 1s - loss: 0.1090 - acc: 0.9907 - val_loss: 0.3422 - val_acc: 0.9749\n",
      "Epoch 57/256\n",
      "Epoch 00057: val_loss did not improve\n",
      " - 1s - loss: 0.1121 - acc: 0.9900 - val_loss: 0.2959 - val_acc: 0.9779\n",
      "Epoch 58/256\n",
      "Epoch 00058: val_loss did not improve\n",
      " - 1s - loss: 0.1125 - acc: 0.9904 - val_loss: 0.2869 - val_acc: 0.9780\n",
      "Epoch 59/256\n",
      "Epoch 00059: val_loss did not improve\n",
      " - 1s - loss: 0.1137 - acc: 0.9903 - val_loss: 0.3075 - val_acc: 0.9774\n",
      "Epoch 60/256\n",
      "Epoch 00060: val_loss did not improve\n",
      " - 1s - loss: 0.1147 - acc: 0.9899 - val_loss: 0.2868 - val_acc: 0.9786\n",
      "Epoch 61/256\n",
      "Epoch 00061: val_loss did not improve\n",
      " - 1s - loss: 0.1206 - acc: 0.9898 - val_loss: 0.3436 - val_acc: 0.9737\n",
      "Epoch 62/256\n",
      "Epoch 00062: val_loss did not improve\n",
      " - 1s - loss: 0.1309 - acc: 0.9889 - val_loss: 0.2657 - val_acc: 0.9803\n",
      "Epoch 63/256\n",
      "Epoch 00063: val_loss did not improve\n",
      " - 1s - loss: 0.1230 - acc: 0.9895 - val_loss: 0.2699 - val_acc: 0.9795\n"
     ]
    },
    {
     "name": "stdout",
     "output_type": "stream",
     "text": [
      "Epoch 64/256\n",
      "Epoch 00064: val_loss did not improve\n",
      " - 1s - loss: 0.1203 - acc: 0.9897 - val_loss: 0.2914 - val_acc: 0.9774\n",
      "Epoch 65/256\n",
      "Epoch 00065: val_loss did not improve\n",
      " - 1s - loss: 0.1013 - acc: 0.9912 - val_loss: 0.2979 - val_acc: 0.9773\n",
      "Epoch 66/256\n",
      "Epoch 00066: val_loss did not improve\n",
      " - 1s - loss: 0.1141 - acc: 0.9903 - val_loss: 0.3061 - val_acc: 0.9774\n",
      "Epoch 67/256\n",
      "Epoch 00067: val_loss did not improve\n",
      " - 1s - loss: 0.1280 - acc: 0.9892 - val_loss: 0.2769 - val_acc: 0.9799\n",
      "Epoch 68/256\n",
      "Epoch 00068: val_loss did not improve\n",
      " - 1s - loss: 0.1221 - acc: 0.9897 - val_loss: 0.3054 - val_acc: 0.9774\n",
      "Epoch 69/256\n",
      "Epoch 00069: val_loss did not improve\n",
      " - 1s - loss: 0.1189 - acc: 0.9901 - val_loss: 0.3259 - val_acc: 0.9758\n",
      "Epoch 70/256\n",
      "Epoch 00070: val_loss did not improve\n",
      " - 1s - loss: 0.1157 - acc: 0.9901 - val_loss: 0.3825 - val_acc: 0.9721\n",
      "Epoch 71/256\n",
      "Epoch 00071: val_loss did not improve\n",
      " - 1s - loss: 0.1236 - acc: 0.9897 - val_loss: 0.2927 - val_acc: 0.9780\n",
      "Epoch 72/256\n",
      "Epoch 00072: val_loss did not improve\n",
      " - 1s - loss: 0.1027 - acc: 0.9912 - val_loss: 0.2865 - val_acc: 0.9788\n",
      "Epoch 73/256\n",
      "Epoch 00073: val_loss did not improve\n",
      " - 1s - loss: 0.1186 - acc: 0.9902 - val_loss: 0.3413 - val_acc: 0.9754\n",
      "Epoch 74/256\n",
      "Epoch 00074: val_loss did not improve\n",
      " - 1s - loss: 0.1242 - acc: 0.9897 - val_loss: 0.2742 - val_acc: 0.9795\n",
      "Epoch 75/256\n",
      "Epoch 00075: val_loss did not improve\n",
      " - 1s - loss: 0.1133 - acc: 0.9902 - val_loss: 0.3348 - val_acc: 0.9751\n",
      "Epoch 76/256\n",
      "Epoch 00076: val_loss did not improve\n",
      " - 1s - loss: 0.1147 - acc: 0.9901 - val_loss: 0.3203 - val_acc: 0.9763\n",
      "Epoch 77/256\n",
      "Epoch 00077: val_loss did not improve\n",
      " - 1s - loss: 0.1032 - acc: 0.9913 - val_loss: 0.3519 - val_acc: 0.9747\n",
      "Epoch 78/256\n",
      "Epoch 00078: val_loss did not improve\n",
      " - 1s - loss: 0.1125 - acc: 0.9903 - val_loss: 0.3004 - val_acc: 0.9776\n",
      "Epoch 79/256\n",
      "Epoch 00079: val_loss did not improve\n",
      " - 1s - loss: 0.1203 - acc: 0.9900 - val_loss: 0.2774 - val_acc: 0.9801\n",
      "Epoch 80/256\n",
      "Epoch 00080: val_loss did not improve\n",
      " - 1s - loss: 0.1006 - acc: 0.9913 - val_loss: 0.2972 - val_acc: 0.9783\n",
      "Epoch 81/256\n",
      "Epoch 00081: val_loss did not improve\n",
      " - 1s - loss: 0.1168 - acc: 0.9904 - val_loss: 0.2929 - val_acc: 0.9782\n",
      "Epoch 82/256\n",
      "Epoch 00082: val_loss did not improve\n",
      " - 1s - loss: 0.1087 - acc: 0.9910 - val_loss: 0.2978 - val_acc: 0.9780\n",
      "Epoch 83/256\n",
      "Epoch 00083: val_loss did not improve\n",
      " - 1s - loss: 0.1192 - acc: 0.9902 - val_loss: 0.2960 - val_acc: 0.9775\n",
      "Epoch 84/256\n",
      "Epoch 00084: val_loss did not improve\n",
      " - 1s - loss: 0.1198 - acc: 0.9902 - val_loss: 0.3696 - val_acc: 0.9732\n",
      "Epoch 85/256\n",
      "Epoch 00085: val_loss did not improve\n",
      " - 1s - loss: 0.1284 - acc: 0.9896 - val_loss: 0.3094 - val_acc: 0.9771\n",
      "Epoch 86/256\n",
      "Epoch 00086: val_loss did not improve\n",
      " - 1s - loss: 0.1207 - acc: 0.9900 - val_loss: 0.2905 - val_acc: 0.9785\n",
      "Epoch 87/256\n",
      "Epoch 00087: val_loss did not improve\n",
      " - 1s - loss: 0.1422 - acc: 0.9887 - val_loss: 0.2758 - val_acc: 0.9803\n",
      "Epoch 88/256\n",
      "Epoch 00088: val_loss did not improve\n",
      " - 1s - loss: 0.1041 - acc: 0.9913 - val_loss: 0.3014 - val_acc: 0.9775\n",
      "Epoch 89/256\n",
      "Epoch 00089: val_loss did not improve\n",
      " - 1s - loss: 0.1155 - acc: 0.9904 - val_loss: 0.3533 - val_acc: 0.9746\n",
      "Epoch 90/256\n",
      "Epoch 00090: val_loss did not improve\n",
      " - 1s - loss: 0.1129 - acc: 0.9906 - val_loss: 0.2928 - val_acc: 0.9791\n",
      "Epoch 91/256\n",
      "Epoch 00091: val_loss did not improve\n",
      " - 1s - loss: 0.1011 - acc: 0.9912 - val_loss: 0.3091 - val_acc: 0.9770\n",
      "Epoch 92/256\n",
      "Epoch 00092: val_loss did not improve\n",
      " - 1s - loss: 0.1232 - acc: 0.9897 - val_loss: 0.2942 - val_acc: 0.9785\n",
      "Epoch 93/256\n",
      "Epoch 00093: val_loss did not improve\n",
      " - 1s - loss: 0.1125 - acc: 0.9906 - val_loss: 0.3759 - val_acc: 0.9726\n",
      "Epoch 94/256\n",
      "Epoch 00094: val_loss did not improve\n",
      " - 1s - loss: 0.1199 - acc: 0.9901 - val_loss: 0.2727 - val_acc: 0.9801\n",
      "Epoch 95/256\n",
      "Epoch 00095: val_loss did not improve\n",
      " - 1s - loss: 0.1193 - acc: 0.9906 - val_loss: 0.3777 - val_acc: 0.9721\n",
      "Epoch 96/256\n",
      "Epoch 00096: val_loss did not improve\n",
      " - 1s - loss: 0.1093 - acc: 0.9910 - val_loss: 0.3251 - val_acc: 0.9763\n",
      "Epoch 97/256\n",
      "Epoch 00097: val_loss did not improve\n",
      " - 1s - loss: 0.1062 - acc: 0.9912 - val_loss: 0.2896 - val_acc: 0.9785\n",
      "Epoch 98/256\n",
      "Epoch 00098: val_loss did not improve\n",
      " - 1s - loss: 0.1191 - acc: 0.9903 - val_loss: 0.3075 - val_acc: 0.9771\n",
      "Epoch 99/256\n",
      "Epoch 00099: val_loss did not improve\n",
      " - 1s - loss: 0.1089 - acc: 0.9912 - val_loss: 0.2973 - val_acc: 0.9784\n",
      "Epoch 100/256\n",
      "Epoch 00100: val_loss did not improve\n",
      " - 1s - loss: 0.1136 - acc: 0.9906 - val_loss: 0.3290 - val_acc: 0.9758\n",
      "Epoch 101/256\n",
      "Epoch 00101: val_loss did not improve\n",
      " - 1s - loss: 0.1043 - acc: 0.9912 - val_loss: 0.3391 - val_acc: 0.9742\n",
      "Epoch 102/256\n",
      "Epoch 00102: val_loss did not improve\n",
      " - 1s - loss: 0.1177 - acc: 0.9905 - val_loss: 0.3378 - val_acc: 0.9756\n",
      "Epoch 103/256\n",
      "Epoch 00103: val_loss did not improve\n",
      " - 1s - loss: 0.1108 - acc: 0.9911 - val_loss: 0.2962 - val_acc: 0.9790\n",
      "Epoch 104/256\n",
      "Epoch 00104: val_loss did not improve\n",
      " - 1s - loss: 0.1208 - acc: 0.9904 - val_loss: 0.2924 - val_acc: 0.9793\n",
      "Epoch 105/256\n",
      "Epoch 00105: val_loss did not improve\n",
      " - 1s - loss: 0.1221 - acc: 0.9901 - val_loss: 0.2998 - val_acc: 0.9781\n",
      "Epoch 106/256\n",
      "Epoch 00106: val_loss did not improve\n",
      " - 1s - loss: 0.1174 - acc: 0.9906 - val_loss: 0.3200 - val_acc: 0.9776\n",
      "Epoch 107/256\n",
      "Epoch 00107: val_loss did not improve\n",
      " - 1s - loss: 0.1074 - acc: 0.9912 - val_loss: 0.3192 - val_acc: 0.9767\n",
      "Epoch 108/256\n",
      "Epoch 00108: val_loss did not improve\n",
      " - 1s - loss: 0.1199 - acc: 0.9904 - val_loss: 0.2995 - val_acc: 0.9777\n",
      "Epoch 109/256\n",
      "Epoch 00109: val_loss did not improve\n",
      " - 1s - loss: 0.1084 - acc: 0.9908 - val_loss: 0.2948 - val_acc: 0.9787\n",
      "Epoch 110/256\n",
      "Epoch 00110: val_loss did not improve\n",
      " - 1s - loss: 0.1089 - acc: 0.9911 - val_loss: 0.3098 - val_acc: 0.9774\n",
      "Epoch 111/256\n",
      "Epoch 00111: val_loss did not improve\n",
      " - 1s - loss: 0.1106 - acc: 0.9910 - val_loss: 0.2790 - val_acc: 0.9794\n",
      "Epoch 112/256\n",
      "Epoch 00112: val_loss did not improve\n",
      " - 1s - loss: 0.1161 - acc: 0.9906 - val_loss: 0.2787 - val_acc: 0.9791\n",
      "Epoch 113/256\n",
      "Epoch 00113: val_loss did not improve\n",
      " - 1s - loss: 0.1069 - acc: 0.9913 - val_loss: 0.3071 - val_acc: 0.9783\n",
      "Epoch 114/256\n",
      "Epoch 00114: val_loss did not improve\n",
      " - 1s - loss: 0.1011 - acc: 0.9920 - val_loss: 0.3501 - val_acc: 0.9744\n",
      "Epoch 115/256\n",
      "Epoch 00115: val_loss did not improve\n",
      " - 1s - loss: 0.1171 - acc: 0.9908 - val_loss: 0.3314 - val_acc: 0.9765\n",
      "Epoch 116/256\n",
      "Epoch 00116: val_loss did not improve\n",
      " - 1s - loss: 0.1169 - acc: 0.9906 - val_loss: 0.3142 - val_acc: 0.9765\n",
      "Epoch 117/256\n",
      "Epoch 00117: val_loss did not improve\n",
      " - 1s - loss: 0.1050 - acc: 0.9917 - val_loss: 0.3227 - val_acc: 0.9770\n",
      "Epoch 118/256\n",
      "Epoch 00118: val_loss did not improve\n",
      " - 1s - loss: 0.0990 - acc: 0.9919 - val_loss: 0.3136 - val_acc: 0.9766\n",
      "Epoch 119/256\n",
      "Epoch 00119: val_loss did not improve\n",
      " - 1s - loss: 0.1270 - acc: 0.9900 - val_loss: 0.3382 - val_acc: 0.9756\n",
      "Epoch 120/256\n",
      "Epoch 00120: val_loss did not improve\n",
      " - 1s - loss: 0.1193 - acc: 0.9906 - val_loss: 0.3102 - val_acc: 0.9782\n",
      "Epoch 121/256\n",
      "Epoch 00121: val_loss did not improve\n",
      " - 1s - loss: 0.1104 - acc: 0.9911 - val_loss: 0.3038 - val_acc: 0.9785\n",
      "Epoch 122/256\n",
      "Epoch 00122: val_loss did not improve\n",
      " - 1s - loss: 0.1210 - acc: 0.9903 - val_loss: 0.2991 - val_acc: 0.9785\n",
      "Epoch 123/256\n",
      "Epoch 00123: val_loss did not improve\n",
      " - 1s - loss: 0.1117 - acc: 0.9906 - val_loss: 0.2871 - val_acc: 0.9801\n",
      "Epoch 124/256\n",
      "Epoch 00124: val_loss did not improve\n",
      " - 1s - loss: 0.1156 - acc: 0.9909 - val_loss: 0.3039 - val_acc: 0.9784\n",
      "Epoch 125/256\n",
      "Epoch 00125: val_loss did not improve\n",
      " - 1s - loss: 0.1197 - acc: 0.9907 - val_loss: 0.4051 - val_acc: 0.9705\n",
      "Epoch 126/256\n",
      "Epoch 00126: val_loss did not improve\n",
      " - 1s - loss: 0.1148 - acc: 0.9908 - val_loss: 0.2969 - val_acc: 0.9790\n",
      "Epoch 127/256\n",
      "Epoch 00127: val_loss did not improve\n",
      " - 1s - loss: 0.1076 - acc: 0.9913 - val_loss: 0.2797 - val_acc: 0.9787\n",
      "Epoch 128/256\n",
      "Epoch 00128: val_loss did not improve\n",
      " - 1s - loss: 0.1147 - acc: 0.9911 - val_loss: 0.3788 - val_acc: 0.9716\n",
      "Epoch 129/256\n",
      "Epoch 00129: val_loss did not improve\n",
      " - 1s - loss: 0.1091 - acc: 0.9913 - val_loss: 0.3100 - val_acc: 0.9784\n",
      "Epoch 130/256\n",
      "Epoch 00130: val_loss did not improve\n",
      " - 1s - loss: 0.1092 - acc: 0.9915 - val_loss: 0.2901 - val_acc: 0.9791\n"
     ]
    },
    {
     "name": "stdout",
     "output_type": "stream",
     "text": [
      "Epoch 131/256\n",
      "Epoch 00131: val_loss did not improve\n",
      " - 1s - loss: 0.1129 - acc: 0.9910 - val_loss: 0.3118 - val_acc: 0.9783\n",
      "Epoch 132/256\n",
      "Epoch 00132: val_loss did not improve\n",
      " - 1s - loss: 0.1167 - acc: 0.9909 - val_loss: 0.3260 - val_acc: 0.9766\n",
      "Epoch 133/256\n",
      "Epoch 00133: val_loss did not improve\n",
      " - 1s - loss: 0.1064 - acc: 0.9916 - val_loss: 0.3008 - val_acc: 0.9784\n",
      "Epoch 134/256\n",
      "Epoch 00134: val_loss did not improve\n",
      " - 1s - loss: 0.1269 - acc: 0.9902 - val_loss: 0.3212 - val_acc: 0.9773\n",
      "Epoch 135/256\n",
      "Epoch 00135: val_loss did not improve\n",
      " - 1s - loss: 0.1198 - acc: 0.9905 - val_loss: 0.3367 - val_acc: 0.9764\n",
      "Epoch 136/256\n",
      "Epoch 00136: val_loss did not improve\n",
      " - 1s - loss: 0.1078 - acc: 0.9914 - val_loss: 0.3721 - val_acc: 0.9731\n",
      "Epoch 137/256\n",
      "Epoch 00137: val_loss did not improve\n",
      " - 1s - loss: 0.1180 - acc: 0.9907 - val_loss: 0.3292 - val_acc: 0.9772\n",
      "Epoch 138/256\n",
      "Epoch 00138: val_loss did not improve\n",
      " - 1s - loss: 0.0978 - acc: 0.9923 - val_loss: 0.3026 - val_acc: 0.9785\n",
      "Epoch 139/256\n",
      "Epoch 00139: val_loss did not improve\n",
      " - 1s - loss: 0.1002 - acc: 0.9921 - val_loss: 0.3190 - val_acc: 0.9776\n",
      "Epoch 140/256\n",
      "Epoch 00140: val_loss did not improve\n",
      " - 1s - loss: 0.1135 - acc: 0.9913 - val_loss: 0.3063 - val_acc: 0.9784\n",
      "Epoch 141/256\n",
      "Epoch 00141: val_loss did not improve\n",
      " - 1s - loss: 0.1184 - acc: 0.9908 - val_loss: 0.2877 - val_acc: 0.9787\n",
      "Epoch 142/256\n",
      "Epoch 00142: val_loss did not improve\n",
      " - 1s - loss: 0.1183 - acc: 0.9910 - val_loss: 0.3572 - val_acc: 0.9741\n",
      "Epoch 143/256\n",
      "Epoch 00143: val_loss did not improve\n",
      " - 1s - loss: 0.1138 - acc: 0.9912 - val_loss: 0.3239 - val_acc: 0.9768\n",
      "Epoch 144/256\n",
      "Epoch 00144: val_loss did not improve\n",
      " - 1s - loss: 0.1022 - acc: 0.9921 - val_loss: 0.3192 - val_acc: 0.9775\n",
      "Epoch 145/256\n",
      "Epoch 00145: val_loss did not improve\n",
      " - 1s - loss: 0.1098 - acc: 0.9916 - val_loss: 0.3317 - val_acc: 0.9770\n",
      "Epoch 146/256\n",
      "Epoch 00146: val_loss did not improve\n",
      " - 1s - loss: 0.0996 - acc: 0.9920 - val_loss: 0.3264 - val_acc: 0.9754\n",
      "Epoch 147/256\n",
      "Epoch 00147: val_loss did not improve\n",
      " - 1s - loss: 0.1146 - acc: 0.9911 - val_loss: 0.4888 - val_acc: 0.9660\n",
      "Epoch 148/256\n",
      "Epoch 00148: val_loss did not improve\n",
      " - 1s - loss: 0.1196 - acc: 0.9907 - val_loss: 0.3287 - val_acc: 0.9773\n",
      "Epoch 149/256\n",
      "Epoch 00149: val_loss did not improve\n",
      " - 1s - loss: 0.1018 - acc: 0.9921 - val_loss: 0.3154 - val_acc: 0.9777\n",
      "Epoch 150/256\n",
      "Epoch 00150: val_loss did not improve\n",
      " - 1s - loss: 0.1066 - acc: 0.9916 - val_loss: 0.3602 - val_acc: 0.9748\n",
      "Epoch 151/256\n",
      "Epoch 00151: val_loss did not improve\n",
      " - 1s - loss: 0.1183 - acc: 0.9907 - val_loss: 0.3696 - val_acc: 0.9739\n",
      "Epoch 152/256\n",
      "Epoch 00152: val_loss did not improve\n",
      " - 1s - loss: 0.1040 - acc: 0.9920 - val_loss: 0.3427 - val_acc: 0.9758\n",
      "Epoch 153/256\n",
      "Epoch 00153: val_loss did not improve\n",
      " - 1s - loss: 0.1098 - acc: 0.9915 - val_loss: 0.2908 - val_acc: 0.9798\n",
      "Epoch 154/256\n",
      "Epoch 00154: val_loss did not improve\n",
      " - 1s - loss: 0.1135 - acc: 0.9912 - val_loss: 0.3167 - val_acc: 0.9777\n",
      "Epoch 155/256\n",
      "Epoch 00155: val_loss did not improve\n",
      " - 1s - loss: 0.1249 - acc: 0.9907 - val_loss: 0.3066 - val_acc: 0.9784\n",
      "Epoch 156/256\n",
      "Epoch 00156: val_loss did not improve\n",
      " - 1s - loss: 0.0979 - acc: 0.9921 - val_loss: 0.3046 - val_acc: 0.9783\n",
      "Epoch 157/256\n",
      "Epoch 00157: val_loss did not improve\n",
      " - 1s - loss: 0.1190 - acc: 0.9911 - val_loss: 0.3772 - val_acc: 0.9737\n",
      "Epoch 158/256\n",
      "Epoch 00158: val_loss did not improve\n",
      " - 1s - loss: 0.1228 - acc: 0.9906 - val_loss: 0.3323 - val_acc: 0.9772\n",
      "Epoch 159/256\n",
      "Epoch 00159: val_loss did not improve\n",
      " - 1s - loss: 0.1213 - acc: 0.9906 - val_loss: 0.3301 - val_acc: 0.9761\n",
      "Epoch 160/256\n",
      "Epoch 00160: val_loss did not improve\n",
      " - 1s - loss: 0.1221 - acc: 0.9906 - val_loss: 0.3288 - val_acc: 0.9761\n",
      "Epoch 161/256\n",
      "Epoch 00161: val_loss did not improve\n",
      " - 1s - loss: 0.1057 - acc: 0.9918 - val_loss: 0.3095 - val_acc: 0.9778\n",
      "Epoch 162/256\n",
      "Epoch 00162: val_loss did not improve\n",
      " - 1s - loss: 0.1088 - acc: 0.9917 - val_loss: 0.3209 - val_acc: 0.9777\n",
      "Epoch 163/256\n",
      "Epoch 00163: val_loss did not improve\n",
      " - 1s - loss: 0.1070 - acc: 0.9913 - val_loss: 0.3016 - val_acc: 0.9788\n",
      "Epoch 164/256\n",
      "Epoch 00164: val_loss did not improve\n",
      " - 1s - loss: 0.1206 - acc: 0.9907 - val_loss: 0.3191 - val_acc: 0.9774\n",
      "Epoch 165/256\n",
      "Epoch 00165: val_loss did not improve\n",
      " - 1s - loss: 0.1071 - acc: 0.9918 - val_loss: 0.3123 - val_acc: 0.9782\n",
      "Epoch 166/256\n",
      "Epoch 00166: val_loss did not improve\n",
      " - 1s - loss: 0.1075 - acc: 0.9918 - val_loss: 0.3291 - val_acc: 0.9765\n",
      "Epoch 167/256\n",
      "Epoch 00167: val_loss did not improve\n",
      " - 1s - loss: 0.1107 - acc: 0.9917 - val_loss: 0.3336 - val_acc: 0.9768\n",
      "Epoch 168/256\n",
      "Epoch 00168: val_loss did not improve\n",
      " - 1s - loss: 0.1127 - acc: 0.9917 - val_loss: 0.3251 - val_acc: 0.9774\n",
      "Epoch 169/256\n",
      "Epoch 00169: val_loss did not improve\n",
      " - 1s - loss: 0.1212 - acc: 0.9910 - val_loss: 0.2808 - val_acc: 0.9804\n",
      "Epoch 170/256\n",
      "Epoch 00170: val_loss did not improve\n",
      " - 1s - loss: 0.1071 - acc: 0.9921 - val_loss: 0.3031 - val_acc: 0.9780\n",
      "Epoch 171/256\n",
      "Epoch 00171: val_loss did not improve\n",
      " - 1s - loss: 0.1104 - acc: 0.9915 - val_loss: 0.3138 - val_acc: 0.9782\n",
      "Epoch 172/256\n",
      "Epoch 00172: val_loss did not improve\n",
      " - 1s - loss: 0.1191 - acc: 0.9911 - val_loss: 0.3162 - val_acc: 0.9782\n",
      "Epoch 173/256\n",
      "Epoch 00173: val_loss did not improve\n",
      " - 1s - loss: 0.1236 - acc: 0.9906 - val_loss: 0.3943 - val_acc: 0.9727\n",
      "Epoch 174/256\n",
      "Epoch 00174: val_loss did not improve\n",
      " - 1s - loss: 0.1206 - acc: 0.9908 - val_loss: 0.3375 - val_acc: 0.9770\n",
      "Epoch 175/256\n",
      "Epoch 00175: val_loss did not improve\n",
      " - 1s - loss: 0.1116 - acc: 0.9913 - val_loss: 0.3927 - val_acc: 0.9723\n",
      "Epoch 176/256\n",
      "Epoch 00176: val_loss did not improve\n",
      " - 1s - loss: 0.1262 - acc: 0.9906 - val_loss: 0.3183 - val_acc: 0.9775\n",
      "Epoch 177/256\n",
      "Epoch 00177: val_loss did not improve\n",
      " - 1s - loss: 0.1158 - acc: 0.9912 - val_loss: 0.3417 - val_acc: 0.9762\n",
      "Epoch 178/256\n",
      "Epoch 00178: val_loss did not improve\n",
      " - 1s - loss: 0.1160 - acc: 0.9914 - val_loss: 0.3396 - val_acc: 0.9766\n",
      "Epoch 179/256\n",
      "Epoch 00179: val_loss did not improve\n",
      " - 1s - loss: 0.1215 - acc: 0.9907 - val_loss: 0.2928 - val_acc: 0.9792\n",
      "Epoch 180/256\n",
      "Epoch 00180: val_loss did not improve\n",
      " - 1s - loss: 0.1105 - acc: 0.9914 - val_loss: 0.3608 - val_acc: 0.9744\n",
      "Epoch 181/256\n",
      "Epoch 00181: val_loss did not improve\n",
      " - 1s - loss: 0.1225 - acc: 0.9907 - val_loss: 0.3503 - val_acc: 0.9755\n",
      "Epoch 182/256\n",
      "Epoch 00182: val_loss did not improve\n",
      " - 1s - loss: 0.1172 - acc: 0.9913 - val_loss: 0.2995 - val_acc: 0.9783\n",
      "Epoch 183/256\n",
      "Epoch 00183: val_loss did not improve\n",
      " - 1s - loss: 0.1188 - acc: 0.9909 - val_loss: 0.3622 - val_acc: 0.9748\n",
      "Epoch 184/256\n",
      "Epoch 00184: val_loss did not improve\n",
      " - 1s - loss: 0.1251 - acc: 0.9901 - val_loss: 0.2867 - val_acc: 0.9802\n",
      "Epoch 185/256\n",
      "Epoch 00185: val_loss did not improve\n",
      " - 1s - loss: 0.1069 - acc: 0.9915 - val_loss: 0.3268 - val_acc: 0.9775\n",
      "Epoch 186/256\n",
      "Epoch 00186: val_loss did not improve\n",
      " - 1s - loss: 0.1106 - acc: 0.9914 - val_loss: 0.3398 - val_acc: 0.9764\n",
      "Epoch 187/256\n",
      "Epoch 00187: val_loss did not improve\n",
      " - 1s - loss: 0.1132 - acc: 0.9915 - val_loss: 0.3028 - val_acc: 0.9786\n",
      "Epoch 188/256\n",
      "Epoch 00188: val_loss did not improve\n",
      " - 1s - loss: 0.1077 - acc: 0.9918 - val_loss: 0.3054 - val_acc: 0.9794\n",
      "Epoch 189/256\n",
      "Epoch 00189: val_loss did not improve\n",
      " - 1s - loss: 0.0921 - acc: 0.9928 - val_loss: 0.3150 - val_acc: 0.9783\n",
      "Epoch 190/256\n",
      "Epoch 00190: val_loss did not improve\n",
      " - 1s - loss: 0.1138 - acc: 0.9916 - val_loss: 0.3353 - val_acc: 0.9769\n",
      "Epoch 191/256\n",
      "Epoch 00191: val_loss did not improve\n",
      " - 1s - loss: 0.1179 - acc: 0.9910 - val_loss: 0.3390 - val_acc: 0.9760\n",
      "Epoch 192/256\n",
      "Epoch 00192: val_loss did not improve\n",
      " - 1s - loss: 0.1078 - acc: 0.9919 - val_loss: 0.3255 - val_acc: 0.9777\n",
      "Epoch 193/256\n",
      "Epoch 00193: val_loss did not improve\n",
      " - 1s - loss: 0.1206 - acc: 0.9910 - val_loss: 0.3495 - val_acc: 0.9749\n",
      "Epoch 194/256\n",
      "Epoch 00194: val_loss did not improve\n",
      " - 1s - loss: 0.1125 - acc: 0.9913 - val_loss: 0.3214 - val_acc: 0.9773\n",
      "Epoch 195/256\n",
      "Epoch 00195: val_loss did not improve\n",
      " - 1s - loss: 0.1056 - acc: 0.9920 - val_loss: 0.3274 - val_acc: 0.9775\n",
      "Epoch 196/256\n",
      "Epoch 00196: val_loss did not improve\n",
      " - 1s - loss: 0.1013 - acc: 0.9922 - val_loss: 0.2849 - val_acc: 0.9801\n",
      "Epoch 197/256\n"
     ]
    },
    {
     "name": "stdout",
     "output_type": "stream",
     "text": [
      "Epoch 00197: val_loss did not improve\n",
      " - 1s - loss: 0.1008 - acc: 0.9924 - val_loss: 0.3189 - val_acc: 0.9779\n",
      "Epoch 198/256\n",
      "Epoch 00198: val_loss did not improve\n",
      " - 1s - loss: 0.1194 - acc: 0.9912 - val_loss: 0.3104 - val_acc: 0.9784\n",
      "Epoch 199/256\n",
      "Epoch 00199: val_loss did not improve\n",
      " - 1s - loss: 0.1054 - acc: 0.9921 - val_loss: 0.3286 - val_acc: 0.9776\n",
      "Epoch 200/256\n",
      "Epoch 00200: val_loss did not improve\n",
      " - 1s - loss: 0.1111 - acc: 0.9916 - val_loss: 0.3421 - val_acc: 0.9754\n",
      "Epoch 201/256\n",
      "Epoch 00201: val_loss did not improve\n",
      " - 1s - loss: 0.1081 - acc: 0.9921 - val_loss: 0.3284 - val_acc: 0.9772\n",
      "Epoch 202/256\n",
      "Epoch 00202: val_loss did not improve\n",
      " - 1s - loss: 0.1135 - acc: 0.9916 - val_loss: 0.3151 - val_acc: 0.9781\n",
      "Epoch 203/256\n",
      "Epoch 00203: val_loss did not improve\n",
      " - 1s - loss: 0.1177 - acc: 0.9912 - val_loss: 0.3125 - val_acc: 0.9779\n",
      "Epoch 204/256\n",
      "Epoch 00204: val_loss did not improve\n",
      " - 1s - loss: 0.1155 - acc: 0.9912 - val_loss: 0.3047 - val_acc: 0.9788\n",
      "Epoch 205/256\n",
      "Epoch 00205: val_loss did not improve\n",
      " - 1s - loss: 0.1171 - acc: 0.9915 - val_loss: 0.3112 - val_acc: 0.9780\n",
      "Epoch 206/256\n",
      "Epoch 00206: val_loss did not improve\n",
      " - 1s - loss: 0.0987 - acc: 0.9925 - val_loss: 0.3283 - val_acc: 0.9776\n",
      "Epoch 207/256\n",
      "Epoch 00207: val_loss did not improve\n",
      " - 1s - loss: 0.1004 - acc: 0.9922 - val_loss: 0.3092 - val_acc: 0.9789\n",
      "Epoch 208/256\n",
      "Epoch 00208: val_loss did not improve\n",
      " - 1s - loss: 0.1126 - acc: 0.9916 - val_loss: 0.2986 - val_acc: 0.9797\n",
      "Epoch 209/256\n",
      "Epoch 00209: val_loss did not improve\n",
      " - 1s - loss: 0.1180 - acc: 0.9913 - val_loss: 0.3357 - val_acc: 0.9763\n",
      "Epoch 210/256\n",
      "Epoch 00210: val_loss did not improve\n",
      " - 1s - loss: 0.1086 - acc: 0.9918 - val_loss: 0.2978 - val_acc: 0.9798\n",
      "Epoch 211/256\n",
      "Epoch 00211: val_loss did not improve\n",
      " - 1s - loss: 0.0991 - acc: 0.9926 - val_loss: 0.3046 - val_acc: 0.9790\n",
      "Epoch 212/256\n",
      "Epoch 00212: val_loss did not improve\n",
      " - 1s - loss: 0.1131 - acc: 0.9915 - val_loss: 0.3114 - val_acc: 0.9793\n",
      "Epoch 213/256\n",
      "Epoch 00213: val_loss did not improve\n",
      " - 1s - loss: 0.0987 - acc: 0.9927 - val_loss: 0.3272 - val_acc: 0.9778\n",
      "Epoch 214/256\n",
      "Epoch 00214: val_loss did not improve\n",
      " - 1s - loss: 0.1025 - acc: 0.9921 - val_loss: 0.3212 - val_acc: 0.9766\n",
      "Epoch 215/256\n",
      "Epoch 00215: val_loss did not improve\n",
      " - 1s - loss: 0.1069 - acc: 0.9920 - val_loss: 0.3248 - val_acc: 0.9775\n",
      "Epoch 216/256\n",
      "Epoch 00216: val_loss did not improve\n",
      " - 1s - loss: 0.1122 - acc: 0.9915 - val_loss: 0.3280 - val_acc: 0.9776\n",
      "Epoch 217/256\n",
      "Epoch 00217: val_loss did not improve\n",
      " - 1s - loss: 0.1091 - acc: 0.9919 - val_loss: 0.3217 - val_acc: 0.9779\n",
      "Epoch 218/256\n",
      "Epoch 00218: val_loss did not improve\n",
      " - 1s - loss: 0.1023 - acc: 0.9922 - val_loss: 0.2881 - val_acc: 0.9801\n",
      "Epoch 219/256\n",
      "Epoch 00219: val_loss did not improve\n",
      " - 1s - loss: 0.1068 - acc: 0.9918 - val_loss: 0.3477 - val_acc: 0.9761\n",
      "Epoch 220/256\n",
      "Epoch 00220: val_loss did not improve\n",
      " - 1s - loss: 0.1120 - acc: 0.9915 - val_loss: 0.3144 - val_acc: 0.9788\n",
      "Epoch 221/256\n",
      "Epoch 00221: val_loss did not improve\n",
      " - 1s - loss: 0.1052 - acc: 0.9920 - val_loss: 0.3196 - val_acc: 0.9782\n",
      "Epoch 222/256\n",
      "Epoch 00222: val_loss did not improve\n",
      " - 1s - loss: 0.1096 - acc: 0.9917 - val_loss: 0.3219 - val_acc: 0.9786\n",
      "Epoch 223/256\n",
      "Epoch 00223: val_loss did not improve\n",
      " - 1s - loss: 0.1190 - acc: 0.9914 - val_loss: 0.3006 - val_acc: 0.9793\n",
      "Epoch 224/256\n",
      "Epoch 00224: val_loss did not improve\n",
      " - 1s - loss: 0.1131 - acc: 0.9917 - val_loss: 0.3381 - val_acc: 0.9767\n",
      "Epoch 225/256\n",
      "Epoch 00225: val_loss did not improve\n",
      " - 1s - loss: 0.1167 - acc: 0.9916 - val_loss: 0.3064 - val_acc: 0.9787\n",
      "Epoch 226/256\n",
      "Epoch 00226: val_loss did not improve\n",
      " - 1s - loss: 0.1004 - acc: 0.9927 - val_loss: 0.3072 - val_acc: 0.9789\n",
      "Epoch 227/256\n",
      "Epoch 00227: val_loss did not improve\n",
      " - 1s - loss: 0.1030 - acc: 0.9923 - val_loss: 0.3402 - val_acc: 0.9764\n",
      "Epoch 228/256\n",
      "Epoch 00228: val_loss did not improve\n",
      " - 1s - loss: 0.1100 - acc: 0.9917 - val_loss: 0.3240 - val_acc: 0.9777\n",
      "Epoch 229/256\n",
      "Epoch 00229: val_loss did not improve\n",
      " - 1s - loss: 0.1091 - acc: 0.9918 - val_loss: 0.3263 - val_acc: 0.9774\n",
      "Epoch 230/256\n",
      "Epoch 00230: val_loss did not improve\n",
      " - 1s - loss: 0.1163 - acc: 0.9917 - val_loss: 0.3384 - val_acc: 0.9771\n",
      "Epoch 231/256\n",
      "Epoch 00231: val_loss did not improve\n",
      " - 1s - loss: 0.1143 - acc: 0.9915 - val_loss: 0.3314 - val_acc: 0.9775\n",
      "Epoch 232/256\n",
      "Epoch 00232: val_loss did not improve\n",
      " - 1s - loss: 0.1043 - acc: 0.9922 - val_loss: 0.3012 - val_acc: 0.9791\n",
      "Epoch 233/256\n",
      "Epoch 00233: val_loss did not improve\n",
      " - 1s - loss: 0.1262 - acc: 0.9907 - val_loss: 0.3412 - val_acc: 0.9759\n",
      "Epoch 234/256\n",
      "Epoch 00234: val_loss did not improve\n",
      " - 1s - loss: 0.1141 - acc: 0.9914 - val_loss: 0.3040 - val_acc: 0.9788\n",
      "Epoch 235/256\n",
      "Epoch 00235: val_loss did not improve\n",
      " - 1s - loss: 0.1254 - acc: 0.9909 - val_loss: 0.3819 - val_acc: 0.9741\n",
      "Epoch 236/256\n",
      "Epoch 00236: val_loss did not improve\n",
      " - 1s - loss: 0.1165 - acc: 0.9913 - val_loss: 0.3363 - val_acc: 0.9768\n",
      "Epoch 237/256\n",
      "Epoch 00237: val_loss did not improve\n",
      " - 1s - loss: 0.1177 - acc: 0.9915 - val_loss: 0.3274 - val_acc: 0.9777\n",
      "Epoch 238/256\n",
      "Epoch 00238: val_loss did not improve\n",
      " - 1s - loss: 0.1045 - acc: 0.9922 - val_loss: 0.3532 - val_acc: 0.9755\n",
      "Epoch 239/256\n",
      "Epoch 00239: val_loss did not improve\n",
      " - 1s - loss: 0.0996 - acc: 0.9926 - val_loss: 0.3004 - val_acc: 0.9793\n",
      "Epoch 240/256\n",
      "Epoch 00240: val_loss did not improve\n",
      " - 1s - loss: 0.1071 - acc: 0.9922 - val_loss: 0.3349 - val_acc: 0.9768\n",
      "Epoch 241/256\n",
      "Epoch 00241: val_loss did not improve\n",
      " - 1s - loss: 0.1210 - acc: 0.9911 - val_loss: 0.2977 - val_acc: 0.9793\n",
      "Epoch 242/256\n",
      "Epoch 00242: val_loss did not improve\n",
      " - 1s - loss: 0.1164 - acc: 0.9913 - val_loss: 0.2763 - val_acc: 0.9804\n",
      "Epoch 243/256\n",
      "Epoch 00243: val_loss did not improve\n",
      " - 1s - loss: 0.1113 - acc: 0.9919 - val_loss: 0.3367 - val_acc: 0.9765\n",
      "Epoch 244/256\n",
      "Epoch 00244: val_loss did not improve\n",
      " - 1s - loss: 0.1158 - acc: 0.9916 - val_loss: 0.3445 - val_acc: 0.9763\n",
      "Epoch 245/256\n",
      "Epoch 00245: val_loss did not improve\n",
      " - 1s - loss: 0.1133 - acc: 0.9916 - val_loss: 0.3164 - val_acc: 0.9785\n",
      "Epoch 246/256\n",
      "Epoch 00246: val_loss did not improve\n",
      " - 1s - loss: 0.1109 - acc: 0.9920 - val_loss: 0.3242 - val_acc: 0.9772\n",
      "Epoch 247/256\n",
      "Epoch 00247: val_loss did not improve\n",
      " - 1s - loss: 0.1316 - acc: 0.9904 - val_loss: 0.3321 - val_acc: 0.9775\n",
      "Epoch 248/256\n",
      "Epoch 00248: val_loss did not improve\n",
      " - 1s - loss: 0.1253 - acc: 0.9908 - val_loss: 0.3128 - val_acc: 0.9779\n",
      "Epoch 249/256\n",
      "Epoch 00249: val_loss did not improve\n",
      " - 1s - loss: 0.1205 - acc: 0.9910 - val_loss: 0.3204 - val_acc: 0.9783\n",
      "Epoch 250/256\n",
      "Epoch 00250: val_loss did not improve\n",
      " - 1s - loss: 0.0980 - acc: 0.9926 - val_loss: 0.3146 - val_acc: 0.9784\n",
      "Epoch 251/256\n",
      "Epoch 00251: val_loss did not improve\n",
      " - 1s - loss: 0.1076 - acc: 0.9921 - val_loss: 0.3496 - val_acc: 0.9750\n",
      "Epoch 252/256\n",
      "Epoch 00252: val_loss did not improve\n",
      " - 1s - loss: 0.1114 - acc: 0.9918 - val_loss: 0.3001 - val_acc: 0.9796\n",
      "Epoch 253/256\n",
      "Epoch 00253: val_loss did not improve\n",
      " - 1s - loss: 0.1066 - acc: 0.9920 - val_loss: 0.3443 - val_acc: 0.9765\n",
      "Epoch 254/256\n",
      "Epoch 00254: val_loss did not improve\n",
      " - 1s - loss: 0.1162 - acc: 0.9913 - val_loss: 0.3091 - val_acc: 0.9793\n",
      "Epoch 255/256\n",
      "Epoch 00255: val_loss did not improve\n",
      " - 1s - loss: 0.1042 - acc: 0.9923 - val_loss: 0.3277 - val_acc: 0.9774\n",
      "Epoch 256/256\n",
      "Epoch 00256: val_loss did not improve\n",
      " - 1s - loss: 0.0982 - acc: 0.9929 - val_loss: 0.3163 - val_acc: 0.9785\n"
     ]
    },
    {
     "data": {
      "text/plain": [
       "<keras.callbacks.History at 0x7f495d5a5b38>"
      ]
     },
     "execution_count": 23,
     "metadata": {},
     "output_type": "execute_result"
    }
   ],
   "source": [
    "epochs = 256\n",
    "batchsize = 512\n",
    "model_weights_path = f'{models_dir}/vgg19_new_{model_name}.best_batch{batchsize}_epoch{epochs}.hdf5'\n",
    "\n",
    "checkpointer = ModelCheckpoint(filepath=model_weights_path, \n",
    "                               verbose=1, save_best_only=True)\n",
    "\n",
    "model.fit(features, targets, batch_size=batchsize, epochs=epochs,\n",
    "          validation_data=(features_valid, valid_targets),\n",
    "          callbacks=[checkpointer],\n",
    "          verbose=2, shuffle=True)          "
   ]
  },
  {
   "cell_type": "markdown",
   "metadata": {},
   "source": [
    "### Evaluating the model"
   ]
  },
  {
   "cell_type": "code",
   "execution_count": 22,
   "metadata": {},
   "outputs": [
    {
     "name": "stdout",
     "output_type": "stream",
     "text": [
      "Test accuracy: 60.7569%\n"
     ]
    }
   ],
   "source": [
    "# Load the weights that yielded the best validation accuracy\n",
    "model.load_weights(model_weights_path)\n",
    "\n",
    "# Evaluate test accuracy\n",
    "score = model.evaluate(features_test, test_targets, verbose=0)\n",
    "accuracy = 100*score[1]\n",
    "\n",
    "# Print test accuracy\n",
    "print('Test accuracy: %.4f%%' % accuracy)"
   ]
  }
 ],
 "metadata": {
  "kernelspec": {
   "display_name": "Python 3",
   "language": "python",
   "name": "python3"
  },
  "language_info": {
   "codemirror_mode": {
    "name": "ipython",
    "version": 3
   },
   "file_extension": ".py",
   "mimetype": "text/x-python",
   "name": "python",
   "nbconvert_exporter": "python",
   "pygments_lexer": "ipython3",
   "version": "3.5.2"
  }
 },
 "nbformat": 4,
 "nbformat_minor": 2
}
