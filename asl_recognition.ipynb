{
 "cells": [
  {
   "cell_type": "markdown",
   "metadata": {},
   "source": [
    "# American Sign Language (ASL) Image Recognition"
   ]
  },
  {
   "cell_type": "markdown",
   "metadata": {},
   "source": [
    "## Introduction"
   ]
  },
  {
   "cell_type": "markdown",
   "metadata": {},
   "source": [
    "## Loading in dataset"
   ]
  },
  {
   "cell_type": "code",
   "execution_count": null,
   "metadata": {},
   "outputs": [],
   "source": [
    "import re\n",
    "import os\n",
    "import numpy as np\n",
    "import matplotlib.pyplot as plt\n",
    "from PIL import Image, ImageFile  \n",
    "from sklearn.datasets import load_files\n",
    "from keras.utils import np_utils\n",
    "from keras.preprocessing import image                  \n",
    "from tqdm import tqdm\n",
    "\n",
    "# For transfer learning\n",
    "import scipy\n",
    "import keras.applications.vgg16 as vgg16\n",
    "import keras.applications.vgg19 as vgg19\n",
    "\n",
    "models_dir = 'saved_models'\n",
    "data_dir = 'data'"
   ]
  },
  {
   "cell_type": "markdown",
   "metadata": {},
   "source": [
    "### Dividing data into training, validation, and testing sets\n",
    "\n",
    "Now that preprocessing the images is completed (see `data_preprocessing.ipynb` notebook), the full dataset will be split into training, validation, and testing sets. The testing set will be all the images from one subject to mirror the \"Spelling It Out\" paper's method so the benchmark model can be compared. The rest of the images will be randomly split; 80% of images for training, 20% of the images for validation."
   ]
  },
  {
   "cell_type": "code",
   "execution_count": 2,
   "metadata": {},
   "outputs": [],
   "source": [
    "def load_dataset(path, n_categories=24):\n",
    "    data = load_files(path)\n",
    "    image_files = np.array(data['filenames'])\n",
    "    # Hot encode categories to matrix\n",
    "    image_targets = np_utils.to_categorical(np.array(data['target']), n_categories)\n",
    "    return image_files, image_targets\n",
    "\n",
    "def move_data_by_category(container_dir, regex_file_format='.*png'):\n",
    "    '''Move data into a directory based on category'''\n",
    "    # Still check if files are images\n",
    "    file_list = [x for x in os.listdir(container_dir) if re.search(regex_file_format, x)]\n",
    "    # Get numerical string (note that 1 digits are represented w/ 2 digits) \n",
    "    letters = {x.split('_')[0] for x in file_list}\n",
    "    \n",
    "    for letter in letters:\n",
    "        # Only images that match letter\n",
    "        images_with_letter = [filename for filename in file_list if filename.split('_')[0] == letter]\n",
    "        # Add images to sub directory\n",
    "        new_categ_path = os.path.join(container_dir, letter)\n",
    "        if not os.path.exists(new_categ_path):\n",
    "            os.makedirs(new_categ_path)\n",
    "#         print('Created {new_categ_path} dir with {len(images_with_letter)} items')\n",
    "        for img_filename in images_with_letter:\n",
    "            path = os.path.join(container_dir, img_filename)\n",
    "            new_path = os.path.join(new_categ_path, img_filename)            \n",
    "            os.rename(path, new_path)\n",
    "    # TODO: Check if any files were skipped (improperly named?)\n",
    "        \n",
    "\n",
    "def get_testing_data(data_dir, subject_num='4'):\n",
    "    '''Get all data/images pertaining to one subject'''\n",
    "    # Only search in directory for images with that subject\n",
    "    file_list = [x for x in os.listdir(data_dir) if re.search('\\d+_{}_\\d*\\.png'.format(subject_num), x)]\n",
    "    \n",
    "    # Make a new testing data directory if doesn't exist\n",
    "    testing_dir = os.path.join(data_dir, 'test')\n",
    "    if not os.path.exists(testing_dir):\n",
    "        os.makedirs(testing_dir)\n",
    "        \n",
    "    # Move images of particular subject into testing directory\n",
    "    for image_filename in file_list:\n",
    "        # file is **_n_****.png where n is an integer representing a subject\n",
    "        _, subject, _ = image_filename.split('_')\n",
    "        # Move file into testing directory\n",
    "        path = os.path.join(data_dir, image_filename)\n",
    "        new_path = os.path.join(testing_dir, image_filename)\n",
    "        os.rename(path, new_path)\n",
    "        \n",
    "    # Move each image file's numerical str representing letters found in testing into own category directory\n",
    "    move_data_by_category(testing_dir)\n",
    "    \n",
    "    return load_dataset(testing_dir)\n",
    "\n",
    "\n",
    "def get_training_validation_data(data_dir, ratio=0.8):\n",
    "    '''Randomly split data into training and validation sets'''\n",
    "    # Only search in directory for images\n",
    "    file_list = [x for x in os.listdir(data_dir) if re.search('.*png', x)]\n",
    "    \n",
    "    # Make a new training & validation data directory if doesn't exist\n",
    "    train_dir = os.path.join(data_dir, 'train')\n",
    "    valid_dir = os.path.join(data_dir, 'valid')\n",
    "    if not os.path.exists(train_dir):\n",
    "        os.makedirs(train_dir)\n",
    "    if not os.path.exists(valid_dir):\n",
    "        os.makedirs(valid_dir)\n",
    "        \n",
    "    # Randomly split file list into training and vaidation sets\n",
    "    np.random.shuffle(file_list)\n",
    "    split_int = int(ratio * len(file_list))\n",
    "    train_list = file_list[:split_int]\n",
    "    valid_list = file_list[split_int:]\n",
    "    \n",
    "    # Move images of particular subject into testing directory\n",
    "    for filenames, new_dir in [(train_list, train_dir), (valid_list, valid_dir)]:\n",
    "        for image_filename in filenames:\n",
    "            # Move file into testing directory\n",
    "            path = os.path.join(data_dir, image_filename)\n",
    "            new_path = os.path.join(new_dir, image_filename)\n",
    "            os.rename(path, new_path)\n",
    "\n",
    "        # Move each image file's numerical str representing letters found in testing into own category directory\n",
    "        move_data_by_category(new_dir)\n",
    "    \n",
    "    return (load_dataset(train_dir), load_dataset(valid_dir))"
   ]
  },
  {
   "cell_type": "code",
   "execution_count": 3,
   "metadata": {},
   "outputs": [],
   "source": [
    "test_data, test_targets = get_testing_data(data_dir)\n",
    "train, valid = get_training_validation_data(data_dir)\n",
    "# Separated data and its targets\n",
    "train_data, train_targets = train\n",
    "valid_data, valid_targets = valid"
   ]
  },
  {
   "cell_type": "markdown",
   "metadata": {},
   "source": [
    "### Display some of the images"
   ]
  },
  {
   "cell_type": "code",
   "execution_count": null,
   "metadata": {},
   "outputs": [],
   "source": [
    "np.random.seed(8675309)\n",
    "%matplotlib inline\n",
    "\n",
    "# Display image previews below\n",
    "plt.figure(figsize=(20,55))\n",
    "columns = 8\n",
    "n = 1\n",
    "\n",
    "# Randomly choose images to display (with label)\n",
    "for image_path in np.random.choice(train_data, 24, replace=False):\n",
    "    img = Image.open(image_path)\n",
    "    plt.subplot(20, columns, n)\n",
    "    n+=1\n",
    "    plt.imshow(img)\n",
    "    letter = image_path.split('/')[-1][:2]\n",
    "    letter = chr(int(letter)+65)\n",
    "    plt.title(letter)"
   ]
  },
  {
   "cell_type": "markdown",
   "metadata": {},
   "source": [
    "### Preparing the model"
   ]
  },
  {
   "cell_type": "code",
   "execution_count": null,
   "metadata": {},
   "outputs": [],
   "source": [
    "# Preprocessing data fro Keras (TensorFlow backend)\n",
    "def path_to_tensor(img_path):\n",
    "    # Loads image as PIL.Image.Image type\n",
    "    img = image.load_img(img_path, target_size=(224, 224), grayscale=False)\n",
    "    # Convert PIL.Image.Image type to 3D tensor with shape (224, 224, 1)\n",
    "    x = image.img_to_array(img)\n",
    "    # convert 3D tensor to 4D tensor with shape (1, 224, 224, 1) and return 4D tensor\n",
    "    return np.expand_dims(x, axis=0)\n",
    "\n",
    "def paths_to_tensor(img_paths):\n",
    "    list_of_tensors = [path_to_tensor(img_path) for img_path in tqdm(img_paths)]\n",
    "    return np.vstack(list_of_tensors)"
   ]
  },
  {
   "cell_type": "code",
   "execution_count": null,
   "metadata": {},
   "outputs": [],
   "source": [
    "ImageFile.LOAD_TRUNCATED_IMAGES = True                 \n",
    "\n",
    "# pre-process the data for Keras\n",
    "valid_tensors = paths_to_tensor(valid_data).astype('float32')\n",
    "test_tensors = paths_to_tensor(test_data).astype('float32')"
   ]
  },
  {
   "cell_type": "code",
   "execution_count": null,
   "metadata": {
    "scrolled": true
   },
   "outputs": [],
   "source": [
    "# Prepare training data separately since this is usually large\n",
    "train_tensors = paths_to_tensor(train_data).astype('float32')"
   ]
  },
  {
   "cell_type": "markdown",
   "metadata": {},
   "source": [
    "## Basic CNN model from scratch"
   ]
  },
  {
   "cell_type": "markdown",
   "metadata": {},
   "source": [
    "### Building basic model"
   ]
  },
  {
   "cell_type": "code",
   "execution_count": null,
   "metadata": {},
   "outputs": [],
   "source": [
    "from keras.layers import Conv2D, MaxPooling2D, GlobalAveragePooling2D\n",
    "from keras.layers import Dropout, Flatten, Dense\n",
    "from keras.models import Sequential\n",
    "\n",
    "model = Sequential()\n",
    "#Convo 224, 224, 1\n",
    "model.add(Conv2D(filters=16, kernel_size=2, padding='same', activation='relu', \n",
    "                        input_shape=(224, 224, 1)))\n",
    "#\n",
    "model.add(MaxPooling2D(pool_size=2))\n",
    "#\n",
    "model.add(Conv2D(filters=32, kernel_size=2, padding='same', activation='relu'))\n",
    "#\n",
    "model.add(MaxPooling2D(pool_size=2))\n",
    "#\n",
    "model.add(Conv2D(filters=64, kernel_size=2, padding='same', activation='relu'))\n",
    "#\n",
    "model.add(MaxPooling2D(pool_size=2))\n",
    "#\n",
    "model.add(GlobalAveragePooling2D())\n",
    "#Dense; 24 for each handshape \n",
    "model.add(Dense(24, activation='softmax'))\n",
    "\n",
    "\n",
    "model.summary()"
   ]
  },
  {
   "cell_type": "code",
   "execution_count": null,
   "metadata": {},
   "outputs": [],
   "source": [
    "model.compile(optimizer='rmsprop', loss='categorical_crossentropy', metrics=['accuracy'])"
   ]
  },
  {
   "cell_type": "markdown",
   "metadata": {},
   "source": [
    "### Training basic model"
   ]
  },
  {
   "cell_type": "code",
   "execution_count": null,
   "metadata": {},
   "outputs": [],
   "source": [
    "from keras.callbacks import ModelCheckpoint  \n",
    "\n",
    "epochs = 16\n",
    "\n",
    "# Create a saved models directory\n",
    "if not os.path.exists(models_dir):\n",
    "    os.makedirs(models_dir)\n",
    "\n",
    "checkpointer = ModelCheckpoint(filepath=f'{models_dir}/weights.best.from_scratch.hdf5', \n",
    "                               verbose=1, save_best_only=True)\n",
    "\n",
    "model.fit(train_tensors, train_targets, \n",
    "          validation_data=(valid_tensors, valid_targets),\n",
    "          epochs=epochs, batch_size=20, callbacks=[checkpointer], verbose=1)"
   ]
  },
  {
   "cell_type": "markdown",
   "metadata": {},
   "source": [
    "### Evaluating basic model"
   ]
  },
  {
   "cell_type": "code",
   "execution_count": null,
   "metadata": {},
   "outputs": [],
   "source": [
    "handshape_predictions = [np.argmax(model.predict(np.expand_dims(tensor, axis=0))) for tensor in test_tensors]\n",
    "\n",
    "# report test accuracy\n",
    "test_accuracy = 100*np.sum(np.array(handshape_predictions)==np.argmax(test_targets, axis=1))/len(handshape_predictions)\n",
    "print('Test accuracy: %.4f%%' % test_accuracy)"
   ]
  },
  {
   "cell_type": "markdown",
   "metadata": {},
   "source": [
    "## Transfer Learning with VGG16"
   ]
  },
  {
   "cell_type": "markdown",
   "metadata": {},
   "source": [
    "### Preparing the model"
   ]
  },
  {
   "cell_type": "code",
   "execution_count": 4,
   "metadata": {},
   "outputs": [],
   "source": [
    "# Define image size to use for given model\n",
    "n_pixels = 160\n",
    "# Define a model name for recorcs\n",
    "model_name = 'model_{}px'.format(n_pixels)"
   ]
  },
  {
   "cell_type": "code",
   "execution_count": 5,
   "metadata": {},
   "outputs": [],
   "source": [
    "# Preprocessing data fro Keras (TensorFlow backend)\n",
    "def path_to_tensor(img_path):\n",
    "    # Loads image as PIL.Image.Image type\n",
    "    img = image.load_img(img_path, target_size=(n_pixels, n_pixels), grayscale=False)\n",
    "    # Convert PIL.Image.Image type to 3D tensor with shape (n, n, 3)\n",
    "    x = image.img_to_array(img)\n",
    "    # convert 3D tensor to 4D tensor with shape (1, n, n, 3) and return 4D tensor\n",
    "    return np.expand_dims(x, axis=0)\n",
    "\n",
    "def paths_to_tensor(img_paths):\n",
    "    list_of_tensors = [path_to_tensor(img_path) for img_path in tqdm(img_paths)]\n",
    "    return np.vstack(list_of_tensors)"
   ]
  },
  {
   "cell_type": "code",
   "execution_count": 8,
   "metadata": {},
   "outputs": [
    {
     "name": "stderr",
     "output_type": "stream",
     "text": [
      "  1%|▏         | 153/10376 [00:00<00:06, 1523.92it/s]"
     ]
    },
    {
     "name": "stdout",
     "output_type": "stream",
     "text": [
      "Preparing to create valid tensors\n"
     ]
    },
    {
     "name": "stderr",
     "output_type": "stream",
     "text": [
      "100%|██████████| 10376/10376 [00:06<00:00, 1495.28it/s]\n"
     ]
    },
    {
     "name": "stdout",
     "output_type": "stream",
     "text": [
      "valid tensors prepared\n"
     ]
    }
   ],
   "source": [
    "ImageFile.LOAD_TRUNCATED_IMAGES = True                 \n",
    "# Pre-process the data for Keras\n",
    "# Prepare training data separately since this is usually large\n",
    "\n",
    "print('Preparing to create valid tensors')\n",
    "valid_tensors = paths_to_tensor(valid_data).astype('float32')\n",
    "print('valid tensors prepared')"
   ]
  },
  {
   "cell_type": "code",
   "execution_count": 10,
   "metadata": {},
   "outputs": [
    {
     "name": "stderr",
     "output_type": "stream",
     "text": [
      "  1%|          | 150/13898 [00:00<00:09, 1492.29it/s]"
     ]
    },
    {
     "name": "stdout",
     "output_type": "stream",
     "text": [
      "Preparing to create test tensors\n"
     ]
    },
    {
     "name": "stderr",
     "output_type": "stream",
     "text": [
      "100%|██████████| 13898/13898 [00:09<00:00, 1441.13it/s]\n"
     ]
    },
    {
     "name": "stdout",
     "output_type": "stream",
     "text": [
      "test tensors prepared\n"
     ]
    }
   ],
   "source": [
    "print('Preparing to create test tensors')\n",
    "test_tensors = paths_to_tensor(test_data).astype('float32')\n",
    "print('test tensors prepared')"
   ]
  },
  {
   "cell_type": "code",
   "execution_count": 6,
   "metadata": {},
   "outputs": [
    {
     "name": "stderr",
     "output_type": "stream",
     "text": [
      "  0%|          | 128/41500 [00:00<00:32, 1279.29it/s]"
     ]
    },
    {
     "name": "stdout",
     "output_type": "stream",
     "text": [
      "Preparing to create train tensors\n"
     ]
    },
    {
     "name": "stderr",
     "output_type": "stream",
     "text": [
      "100%|██████████| 41500/41500 [00:32<00:00, 1287.87it/s]\n"
     ]
    },
    {
     "name": "stdout",
     "output_type": "stream",
     "text": [
      "train tensors prepared\n"
     ]
    }
   ],
   "source": [
    "print('Preparing to create train tensors')\n",
    "train_tensors = paths_to_tensor(train_data).astype('float32')\n",
    "print('train tensors prepared')"
   ]
  },
  {
   "cell_type": "markdown",
   "metadata": {},
   "source": [
    "### Extract Bottleneck Features for Training Set"
   ]
  },
  {
   "cell_type": "code",
   "execution_count": 7,
   "metadata": {},
   "outputs": [
    {
     "name": "stdout",
     "output_type": "stream",
     "text": [
      "data loaded\n",
      "model loaded\n",
      "bottleneck features file not detected (train)\n",
      "calculating now ...\n",
      "train data preprocessed\n",
      "bottleneck features saved (train)\n"
     ]
    }
   ],
   "source": [
    "# Load the data\n",
    "targets = np.squeeze(train_targets)\n",
    "print('data loaded')\n",
    "\n",
    "# Load vgg16 model + remove final classification layers\n",
    "model = vgg16.VGG16(weights='imagenet', include_top=False, input_shape=(n_pixels, n_pixels, 3), classes=24)\n",
    "print('model loaded')\n",
    "\n",
    "# Obtain bottleneck features (train)\n",
    "if os.path.exists('vgg16_features_train.npz'):\n",
    "    print('bottleneck features detected (train)')\n",
    "    features = np.load('vgg16_features_train.npz')['features']\n",
    "else:\n",
    "    print('bottleneck features file not detected (train)')\n",
    "    \n",
    "    print('calculating now ...')\n",
    "    # Pre-process the train data\n",
    "    big_x_train = np.array([scipy.misc.imresize(train_tensors[i], (n_pixels, n_pixels, 3)) \n",
    "                            for i in range(0, len(train_tensors))]).astype('float32')\n",
    "    vgg16_input_train = vgg16.preprocess_input(big_x_train)\n",
    "    print('train data preprocessed')\n",
    "    \n",
    "    # Extract, process, and save bottleneck features\n",
    "    features = model.predict(vgg16_input_train)\n",
    "    features = np.squeeze(features)\n",
    "    np.savez('vgg16_features_train', features=features)\n",
    "\n",
    "print('bottleneck features saved (train)')"
   ]
  },
  {
   "cell_type": "markdown",
   "metadata": {},
   "source": [
    "### Extract Bottleneck Features for Validation Set"
   ]
  },
  {
   "cell_type": "code",
   "execution_count": 9,
   "metadata": {
    "scrolled": true
   },
   "outputs": [
    {
     "name": "stdout",
     "output_type": "stream",
     "text": [
      "bottleneck features file not detected (valid)\n",
      "calculating now ...\n",
      "bottleneck features saved (valid)\n"
     ]
    }
   ],
   "source": [
    "# Obtain bottleneck features (valid)\n",
    "if os.path.exists('vgg16_features_valid.npz'):\n",
    "    print('bottleneck features detected (valid)')\n",
    "    features_valid = np.load('vgg16_features_valid.npz')['features_test']\n",
    "else:\n",
    "    # Calculating for validation set\n",
    "    print('bottleneck features file not detected (valid)')\n",
    "    print('calculating now ...')\n",
    "    # Pre-process the valid data\n",
    "    big_x_valid = np.array([scipy.misc.imresize(valid_tensors[i], (n_pixels, n_pixels, 3)) \n",
    "                       for i in range(0, len(valid_tensors))]).astype('float32')\n",
    "\n",
    "    vgg16_input_valid = vgg16.preprocess_input(big_x_valid)\n",
    "    # Extract, process, and save bottleneck features (valid)\n",
    "    features_valid = model.predict(vgg16_input_valid)\n",
    "    features_valid = np.squeeze(features_valid)\n",
    "    np.savez('vgg16_features_valid', features_test=features_valid)\n",
    "print('bottleneck features saved (valid)')"
   ]
  },
  {
   "cell_type": "markdown",
   "metadata": {},
   "source": [
    "### Extract Bottleneck Features for Test Set"
   ]
  },
  {
   "cell_type": "code",
   "execution_count": 11,
   "metadata": {
    "scrolled": true
   },
   "outputs": [
    {
     "name": "stdout",
     "output_type": "stream",
     "text": [
      "bottleneck features file not detected (test)\n",
      "calculating now ...\n",
      "bottleneck features saved (test)\n"
     ]
    }
   ],
   "source": [
    "# Obtain bottleneck features (test)\n",
    "if os.path.exists('vgg16_features_test.npz'):\n",
    "    print('bottleneck features detected (test)')\n",
    "    features_test = np.load('vgg16_features_test.npz')['features_test']\n",
    "else:\n",
    "    # Calculating for test set\n",
    "    print('bottleneck features file not detected (test)')\n",
    "    print('calculating now ...')\n",
    "    # pre-process the test data\n",
    "    big_x_test = np.array([scipy.misc.imresize(test_tensors[i], (n_pixels, n_pixels, 3)) \n",
    "                       for i in range(0, len(test_tensors))]).astype('float32')\n",
    "\n",
    "    vgg16_input_test = vgg16.preprocess_input(big_x_test)\n",
    "    # Extract, process, and save bottleneck features (test)\n",
    "    features_test = model.predict(vgg16_input_test)\n",
    "    features_test = np.squeeze(features_test)\n",
    "    np.savez('vgg16_features_test', features_test=features_test)\n",
    "print('bottleneck features saved (test)')"
   ]
  },
  {
   "cell_type": "markdown",
   "metadata": {},
   "source": [
    "### Building model"
   ]
  },
  {
   "cell_type": "code",
   "execution_count": 12,
   "metadata": {},
   "outputs": [
    {
     "name": "stdout",
     "output_type": "stream",
     "text": [
      "_________________________________________________________________\n",
      "Layer (type)                 Output Shape              Param #   \n",
      "=================================================================\n",
      "conv2d_1 (Conv2D)            (None, 4, 4, 100)         204900    \n",
      "_________________________________________________________________\n",
      "dropout_1 (Dropout)          (None, 4, 4, 100)         0         \n",
      "_________________________________________________________________\n",
      "global_average_pooling2d_1 ( (None, 100)               0         \n",
      "_________________________________________________________________\n",
      "dropout_2 (Dropout)          (None, 100)               0         \n",
      "_________________________________________________________________\n",
      "dense_1 (Dense)              (None, 24)                2424      \n",
      "=================================================================\n",
      "Total params: 207,324\n",
      "Trainable params: 207,324\n",
      "Non-trainable params: 0\n",
      "_________________________________________________________________\n"
     ]
    }
   ],
   "source": [
    "# Shallow NN\n",
    "from keras.callbacks import ModelCheckpoint   \n",
    "from keras.models import Sequential\n",
    "from keras.layers import Dense, Dropout, Conv2D, GlobalAveragePooling2D\n",
    "\n",
    "model = Sequential()\n",
    "model.add(Conv2D(filters=100, kernel_size=2, input_shape=features.shape[1:]))\n",
    "model.add(Dropout(0.4))\n",
    "model.add(GlobalAveragePooling2D())\n",
    "model.add(Dropout(0.3))\n",
    "model.add(Dense(24, activation='softmax'))\n",
    "model.summary()\n",
    "\n",
    "model.compile(loss='categorical_crossentropy', optimizer='rmsprop', metrics=['accuracy'])\n",
    "\n"
   ]
  },
  {
   "cell_type": "code",
   "execution_count": 15,
   "metadata": {},
   "outputs": [
    {
     "name": "stdout",
     "output_type": "stream",
     "text": [
      "Train on 41500 samples, validate on 10376 samples\n",
      "Epoch 1/150\n",
      "Epoch 00000: val_loss improved from inf to 0.11174, saving model to saved_models/vgg16_model_160px.best_batch500_epoch150.hdf5\n",
      "3s - loss: 0.0698 - acc: 0.9828 - val_loss: 0.1117 - val_acc: 0.9763\n",
      "Epoch 2/150\n",
      "Epoch 00001: val_loss did not improve\n",
      "3s - loss: 0.0722 - acc: 0.9814 - val_loss: 0.1156 - val_acc: 0.9764\n",
      "Epoch 3/150\n",
      "Epoch 00002: val_loss improved from 0.11174 to 0.10464, saving model to saved_models/vgg16_model_160px.best_batch500_epoch150.hdf5\n",
      "3s - loss: 0.0686 - acc: 0.9829 - val_loss: 0.1046 - val_acc: 0.9784\n",
      "Epoch 4/150\n",
      "Epoch 00003: val_loss did not improve\n",
      "3s - loss: 0.0701 - acc: 0.9821 - val_loss: 0.1145 - val_acc: 0.9745\n",
      "Epoch 5/150\n",
      "Epoch 00004: val_loss did not improve\n",
      "3s - loss: 0.0640 - acc: 0.9840 - val_loss: 0.1733 - val_acc: 0.9650\n",
      "Epoch 6/150\n",
      "Epoch 00005: val_loss did not improve\n",
      "3s - loss: 0.0657 - acc: 0.9844 - val_loss: 0.1325 - val_acc: 0.9727\n",
      "Epoch 7/150\n",
      "Epoch 00006: val_loss did not improve\n",
      "3s - loss: 0.0712 - acc: 0.9834 - val_loss: 0.1190 - val_acc: 0.9752\n",
      "Epoch 8/150\n",
      "Epoch 00007: val_loss did not improve\n",
      "3s - loss: 0.0605 - acc: 0.9849 - val_loss: 0.1158 - val_acc: 0.9760\n",
      "Epoch 9/150\n",
      "Epoch 00008: val_loss did not improve\n",
      "3s - loss: 0.0701 - acc: 0.9826 - val_loss: 0.1144 - val_acc: 0.9758\n",
      "Epoch 10/150\n",
      "Epoch 00009: val_loss improved from 0.10464 to 0.10386, saving model to saved_models/vgg16_model_160px.best_batch500_epoch150.hdf5\n",
      "3s - loss: 0.0663 - acc: 0.9841 - val_loss: 0.1039 - val_acc: 0.9783\n",
      "Epoch 11/150\n",
      "Epoch 00010: val_loss did not improve\n",
      "3s - loss: 0.0655 - acc: 0.9839 - val_loss: 0.2009 - val_acc: 0.9635\n",
      "Epoch 12/150\n",
      "Epoch 00011: val_loss did not improve\n",
      "3s - loss: 0.0674 - acc: 0.9836 - val_loss: 0.1166 - val_acc: 0.9768\n",
      "Epoch 13/150\n",
      "Epoch 00012: val_loss did not improve\n",
      "3s - loss: 0.0667 - acc: 0.9838 - val_loss: 0.1237 - val_acc: 0.9750\n",
      "Epoch 14/150\n",
      "Epoch 00013: val_loss did not improve\n",
      "3s - loss: 0.0649 - acc: 0.9843 - val_loss: 0.1415 - val_acc: 0.9718\n",
      "Epoch 15/150\n",
      "Epoch 00014: val_loss did not improve\n",
      "3s - loss: 0.0706 - acc: 0.9831 - val_loss: 0.1250 - val_acc: 0.9759\n",
      "Epoch 16/150\n",
      "Epoch 00015: val_loss did not improve\n",
      "3s - loss: 0.0655 - acc: 0.9838 - val_loss: 0.1108 - val_acc: 0.9781\n",
      "Epoch 17/150\n",
      "Epoch 00016: val_loss did not improve\n",
      "3s - loss: 0.0644 - acc: 0.9836 - val_loss: 0.1452 - val_acc: 0.9736\n",
      "Epoch 18/150\n",
      "Epoch 00017: val_loss did not improve\n",
      "3s - loss: 0.0683 - acc: 0.9834 - val_loss: 0.1245 - val_acc: 0.9751\n",
      "Epoch 19/150\n",
      "Epoch 00018: val_loss did not improve\n",
      "3s - loss: 0.0617 - acc: 0.9846 - val_loss: 0.1105 - val_acc: 0.9778\n",
      "Epoch 20/150\n",
      "Epoch 00019: val_loss did not improve\n",
      "3s - loss: 0.0656 - acc: 0.9841 - val_loss: 0.1510 - val_acc: 0.9728\n",
      "Epoch 21/150\n",
      "Epoch 00020: val_loss did not improve\n",
      "3s - loss: 0.0623 - acc: 0.9843 - val_loss: 0.1122 - val_acc: 0.9771\n",
      "Epoch 22/150\n",
      "Epoch 00021: val_loss improved from 0.10386 to 0.09385, saving model to saved_models/vgg16_model_160px.best_batch500_epoch150.hdf5\n",
      "3s - loss: 0.0615 - acc: 0.9841 - val_loss: 0.0939 - val_acc: 0.9803\n",
      "Epoch 23/150\n",
      "Epoch 00022: val_loss did not improve\n",
      "3s - loss: 0.0630 - acc: 0.9848 - val_loss: 0.1549 - val_acc: 0.9716\n",
      "Epoch 24/150\n",
      "Epoch 00023: val_loss did not improve\n",
      "3s - loss: 0.0640 - acc: 0.9847 - val_loss: 0.1410 - val_acc: 0.9752\n",
      "Epoch 25/150\n",
      "Epoch 00024: val_loss did not improve\n",
      "3s - loss: 0.0581 - acc: 0.9857 - val_loss: 0.1059 - val_acc: 0.9789\n",
      "Epoch 26/150\n",
      "Epoch 00025: val_loss did not improve\n",
      "3s - loss: 0.0606 - acc: 0.9851 - val_loss: 0.1282 - val_acc: 0.9748\n",
      "Epoch 27/150\n",
      "Epoch 00026: val_loss did not improve\n",
      "3s - loss: 0.0603 - acc: 0.9840 - val_loss: 0.1187 - val_acc: 0.9776\n",
      "Epoch 28/150\n",
      "Epoch 00027: val_loss did not improve\n",
      "3s - loss: 0.0628 - acc: 0.9846 - val_loss: 0.1340 - val_acc: 0.9740\n",
      "Epoch 29/150\n",
      "Epoch 00028: val_loss did not improve\n",
      "3s - loss: 0.0660 - acc: 0.9848 - val_loss: 0.1128 - val_acc: 0.9782\n",
      "Epoch 30/150\n",
      "Epoch 00029: val_loss did not improve\n",
      "3s - loss: 0.0651 - acc: 0.9845 - val_loss: 0.1231 - val_acc: 0.9780\n",
      "Epoch 31/150\n",
      "Epoch 00030: val_loss did not improve\n",
      "3s - loss: 0.0552 - acc: 0.9860 - val_loss: 0.1040 - val_acc: 0.9795\n",
      "Epoch 32/150\n",
      "Epoch 00031: val_loss did not improve\n",
      "3s - loss: 0.0665 - acc: 0.9850 - val_loss: 0.1091 - val_acc: 0.9785\n",
      "Epoch 33/150\n",
      "Epoch 00032: val_loss improved from 0.09385 to 0.09375, saving model to saved_models/vgg16_model_160px.best_batch500_epoch150.hdf5\n",
      "3s - loss: 0.0685 - acc: 0.9843 - val_loss: 0.0937 - val_acc: 0.9812\n",
      "Epoch 34/150\n",
      "Epoch 00033: val_loss did not improve\n",
      "3s - loss: 0.0591 - acc: 0.9854 - val_loss: 0.1202 - val_acc: 0.9788\n",
      "Epoch 35/150\n",
      "Epoch 00034: val_loss did not improve\n",
      "3s - loss: 0.0600 - acc: 0.9852 - val_loss: 0.1078 - val_acc: 0.9783\n",
      "Epoch 36/150\n",
      "Epoch 00035: val_loss did not improve\n",
      "3s - loss: 0.0612 - acc: 0.9854 - val_loss: 0.1180 - val_acc: 0.9781\n",
      "Epoch 37/150\n",
      "Epoch 00036: val_loss did not improve\n",
      "3s - loss: 0.0614 - acc: 0.9852 - val_loss: 0.1411 - val_acc: 0.9733\n",
      "Epoch 38/150\n",
      "Epoch 00037: val_loss did not improve\n",
      "3s - loss: 0.0570 - acc: 0.9857 - val_loss: 0.1310 - val_acc: 0.9757\n",
      "Epoch 39/150\n",
      "Epoch 00038: val_loss did not improve\n",
      "3s - loss: 0.0578 - acc: 0.9859 - val_loss: 0.1155 - val_acc: 0.9772\n",
      "Epoch 40/150\n",
      "Epoch 00039: val_loss did not improve\n",
      "3s - loss: 0.0626 - acc: 0.9855 - val_loss: 0.1501 - val_acc: 0.9722\n",
      "Epoch 41/150\n",
      "Epoch 00040: val_loss did not improve\n",
      "3s - loss: 0.0590 - acc: 0.9857 - val_loss: 0.1106 - val_acc: 0.9789\n",
      "Epoch 42/150\n",
      "Epoch 00041: val_loss did not improve\n",
      "3s - loss: 0.0588 - acc: 0.9855 - val_loss: 0.1499 - val_acc: 0.9716\n",
      "Epoch 43/150\n",
      "Epoch 00042: val_loss did not improve\n",
      "3s - loss: 0.0568 - acc: 0.9863 - val_loss: 0.1077 - val_acc: 0.9787\n",
      "Epoch 44/150\n",
      "Epoch 00043: val_loss did not improve\n",
      "3s - loss: 0.0585 - acc: 0.9860 - val_loss: 0.1349 - val_acc: 0.9756\n",
      "Epoch 45/150\n",
      "Epoch 00044: val_loss did not improve\n",
      "3s - loss: 0.0589 - acc: 0.9854 - val_loss: 0.1097 - val_acc: 0.9784\n",
      "Epoch 46/150\n",
      "Epoch 00045: val_loss did not improve\n",
      "3s - loss: 0.0594 - acc: 0.9864 - val_loss: 0.1140 - val_acc: 0.9784\n",
      "Epoch 47/150\n",
      "Epoch 00046: val_loss did not improve\n",
      "3s - loss: 0.0549 - acc: 0.9864 - val_loss: 0.1221 - val_acc: 0.9765\n",
      "Epoch 48/150\n",
      "Epoch 00047: val_loss did not improve\n",
      "3s - loss: 0.0614 - acc: 0.9856 - val_loss: 0.1197 - val_acc: 0.9780\n",
      "Epoch 49/150\n",
      "Epoch 00048: val_loss did not improve\n",
      "3s - loss: 0.0568 - acc: 0.9863 - val_loss: 0.1360 - val_acc: 0.9765\n",
      "Epoch 50/150\n",
      "Epoch 00049: val_loss did not improve\n",
      "3s - loss: 0.0578 - acc: 0.9858 - val_loss: 0.1249 - val_acc: 0.9774\n",
      "Epoch 51/150\n",
      "Epoch 00050: val_loss did not improve\n",
      "3s - loss: 0.0595 - acc: 0.9864 - val_loss: 0.1339 - val_acc: 0.9766\n",
      "Epoch 52/150\n",
      "Epoch 00051: val_loss did not improve\n",
      "3s - loss: 0.0618 - acc: 0.9865 - val_loss: 0.1150 - val_acc: 0.9796\n",
      "Epoch 53/150\n",
      "Epoch 00052: val_loss did not improve\n",
      "3s - loss: 0.0548 - acc: 0.9868 - val_loss: 0.1319 - val_acc: 0.9772\n",
      "Epoch 54/150\n",
      "Epoch 00053: val_loss did not improve\n",
      "3s - loss: 0.0577 - acc: 0.9860 - val_loss: 0.1009 - val_acc: 0.9815\n",
      "Epoch 55/150\n",
      "Epoch 00054: val_loss did not improve\n",
      "3s - loss: 0.0555 - acc: 0.9869 - val_loss: 0.1055 - val_acc: 0.9808\n",
      "Epoch 56/150\n",
      "Epoch 00055: val_loss did not improve\n",
      "3s - loss: 0.0590 - acc: 0.9855 - val_loss: 0.1222 - val_acc: 0.9794\n",
      "Epoch 57/150\n",
      "Epoch 00056: val_loss did not improve\n",
      "3s - loss: 0.0603 - acc: 0.9855 - val_loss: 0.1015 - val_acc: 0.9810\n",
      "Epoch 58/150\n",
      "Epoch 00057: val_loss did not improve\n",
      "3s - loss: 0.0576 - acc: 0.9864 - val_loss: 0.1029 - val_acc: 0.9803\n",
      "Epoch 59/150\n",
      "Epoch 00058: val_loss did not improve\n",
      "3s - loss: 0.0558 - acc: 0.9870 - val_loss: 0.1083 - val_acc: 0.9785\n",
      "Epoch 60/150\n",
      "Epoch 00059: val_loss did not improve\n",
      "3s - loss: 0.0633 - acc: 0.9855 - val_loss: 0.1213 - val_acc: 0.9779\n",
      "Epoch 61/150\n",
      "Epoch 00060: val_loss did not improve\n",
      "3s - loss: 0.0553 - acc: 0.9870 - val_loss: 0.1060 - val_acc: 0.9803\n",
      "Epoch 62/150\n",
      "Epoch 00061: val_loss did not improve\n",
      "3s - loss: 0.0564 - acc: 0.9870 - val_loss: 0.1177 - val_acc: 0.9785\n",
      "Epoch 63/150\n",
      "Epoch 00062: val_loss did not improve\n",
      "3s - loss: 0.0545 - acc: 0.9879 - val_loss: 0.1496 - val_acc: 0.9748\n",
      "Epoch 64/150\n",
      "Epoch 00063: val_loss did not improve\n",
      "3s - loss: 0.0536 - acc: 0.9872 - val_loss: 0.1527 - val_acc: 0.9746\n",
      "Epoch 65/150\n"
     ]
    },
    {
     "name": "stdout",
     "output_type": "stream",
     "text": [
      "Epoch 00064: val_loss did not improve\n",
      "3s - loss: 0.0549 - acc: 0.9873 - val_loss: 0.1295 - val_acc: 0.9781\n",
      "Epoch 66/150\n",
      "Epoch 00065: val_loss did not improve\n",
      "3s - loss: 0.0527 - acc: 0.9873 - val_loss: 0.1403 - val_acc: 0.9763\n",
      "Epoch 67/150\n",
      "Epoch 00066: val_loss did not improve\n",
      "3s - loss: 0.0570 - acc: 0.9865 - val_loss: 0.1295 - val_acc: 0.9772\n",
      "Epoch 68/150\n",
      "Epoch 00067: val_loss did not improve\n",
      "3s - loss: 0.0569 - acc: 0.9869 - val_loss: 0.1206 - val_acc: 0.9783\n",
      "Epoch 69/150\n",
      "Epoch 00068: val_loss did not improve\n",
      "3s - loss: 0.0543 - acc: 0.9874 - val_loss: 0.1488 - val_acc: 0.9736\n",
      "Epoch 70/150\n",
      "Epoch 00069: val_loss did not improve\n",
      "3s - loss: 0.0527 - acc: 0.9876 - val_loss: 0.1290 - val_acc: 0.9768\n",
      "Epoch 71/150\n",
      "Epoch 00070: val_loss did not improve\n",
      "3s - loss: 0.0511 - acc: 0.9878 - val_loss: 0.1059 - val_acc: 0.9802\n",
      "Epoch 72/150\n",
      "Epoch 00071: val_loss did not improve\n",
      "3s - loss: 0.0562 - acc: 0.9873 - val_loss: 0.1074 - val_acc: 0.9813\n",
      "Epoch 73/150\n",
      "Epoch 00072: val_loss did not improve\n",
      "3s - loss: 0.0508 - acc: 0.9879 - val_loss: 0.2346 - val_acc: 0.9656\n",
      "Epoch 74/150\n",
      "Epoch 00073: val_loss did not improve\n",
      "3s - loss: 0.0622 - acc: 0.9872 - val_loss: 0.1311 - val_acc: 0.9778\n",
      "Epoch 75/150\n",
      "Epoch 00074: val_loss did not improve\n",
      "3s - loss: 0.0563 - acc: 0.9870 - val_loss: 0.1107 - val_acc: 0.9803\n",
      "Epoch 76/150\n",
      "Epoch 00075: val_loss did not improve\n",
      "3s - loss: 0.0530 - acc: 0.9875 - val_loss: 0.1507 - val_acc: 0.9745\n",
      "Epoch 77/150\n",
      "Epoch 00076: val_loss did not improve\n",
      "3s - loss: 0.0571 - acc: 0.9875 - val_loss: 0.1131 - val_acc: 0.9807\n",
      "Epoch 78/150\n",
      "Epoch 00077: val_loss did not improve\n",
      "3s - loss: 0.0573 - acc: 0.9873 - val_loss: 0.1106 - val_acc: 0.9818\n",
      "Epoch 79/150\n",
      "Epoch 00078: val_loss did not improve\n",
      "3s - loss: 0.0603 - acc: 0.9871 - val_loss: 0.1238 - val_acc: 0.9790\n",
      "Epoch 80/150\n",
      "Epoch 00079: val_loss did not improve\n",
      "3s - loss: 0.0562 - acc: 0.9874 - val_loss: 0.1469 - val_acc: 0.9756\n",
      "Epoch 81/150\n",
      "Epoch 00080: val_loss did not improve\n",
      "3s - loss: 0.0569 - acc: 0.9873 - val_loss: 0.1255 - val_acc: 0.9783\n",
      "Epoch 82/150\n",
      "Epoch 00081: val_loss did not improve\n",
      "3s - loss: 0.0586 - acc: 0.9871 - val_loss: 0.1047 - val_acc: 0.9817\n",
      "Epoch 83/150\n",
      "Epoch 00082: val_loss did not improve\n",
      "3s - loss: 0.0564 - acc: 0.9876 - val_loss: 0.1127 - val_acc: 0.9810\n",
      "Epoch 84/150\n",
      "Epoch 00083: val_loss did not improve\n",
      "3s - loss: 0.0517 - acc: 0.9886 - val_loss: 0.1667 - val_acc: 0.9720\n",
      "Epoch 85/150\n",
      "Epoch 00084: val_loss did not improve\n",
      "3s - loss: 0.0536 - acc: 0.9881 - val_loss: 0.1246 - val_acc: 0.9777\n",
      "Epoch 86/150\n",
      "Epoch 00085: val_loss did not improve\n",
      "3s - loss: 0.0545 - acc: 0.9883 - val_loss: 0.1239 - val_acc: 0.9773\n",
      "Epoch 87/150\n",
      "Epoch 00086: val_loss did not improve\n",
      "3s - loss: 0.0596 - acc: 0.9874 - val_loss: 0.1131 - val_acc: 0.9786\n",
      "Epoch 88/150\n",
      "Epoch 00087: val_loss did not improve\n",
      "3s - loss: 0.0539 - acc: 0.9879 - val_loss: 0.1304 - val_acc: 0.9782\n",
      "Epoch 89/150\n",
      "Epoch 00088: val_loss did not improve\n",
      "3s - loss: 0.0538 - acc: 0.9878 - val_loss: 0.1174 - val_acc: 0.9821\n",
      "Epoch 90/150\n",
      "Epoch 00089: val_loss did not improve\n",
      "3s - loss: 0.0528 - acc: 0.9885 - val_loss: 0.1164 - val_acc: 0.9801\n",
      "Epoch 91/150\n",
      "Epoch 00090: val_loss did not improve\n",
      "3s - loss: 0.0515 - acc: 0.9890 - val_loss: 0.1635 - val_acc: 0.9740\n",
      "Epoch 92/150\n",
      "Epoch 00091: val_loss did not improve\n",
      "3s - loss: 0.0585 - acc: 0.9872 - val_loss: 0.1468 - val_acc: 0.9764\n",
      "Epoch 93/150\n",
      "Epoch 00092: val_loss did not improve\n",
      "3s - loss: 0.0536 - acc: 0.9883 - val_loss: 0.1272 - val_acc: 0.9791\n",
      "Epoch 94/150\n",
      "Epoch 00093: val_loss did not improve\n",
      "3s - loss: 0.0542 - acc: 0.9879 - val_loss: 0.1124 - val_acc: 0.9807\n",
      "Epoch 95/150\n",
      "Epoch 00094: val_loss did not improve\n",
      "3s - loss: 0.0576 - acc: 0.9879 - val_loss: 0.1479 - val_acc: 0.9757\n",
      "Epoch 96/150\n",
      "Epoch 00095: val_loss did not improve\n",
      "3s - loss: 0.0532 - acc: 0.9882 - val_loss: 0.1062 - val_acc: 0.9833\n",
      "Epoch 97/150\n",
      "Epoch 00096: val_loss did not improve\n",
      "3s - loss: 0.0495 - acc: 0.9884 - val_loss: 0.1587 - val_acc: 0.9752\n",
      "Epoch 98/150\n",
      "Epoch 00097: val_loss did not improve\n",
      "3s - loss: 0.0521 - acc: 0.9882 - val_loss: 0.1159 - val_acc: 0.9800\n",
      "Epoch 99/150\n",
      "Epoch 00098: val_loss did not improve\n",
      "3s - loss: 0.0540 - acc: 0.9876 - val_loss: 0.1437 - val_acc: 0.9752\n",
      "Epoch 100/150\n",
      "Epoch 00099: val_loss did not improve\n",
      "3s - loss: 0.0504 - acc: 0.9882 - val_loss: 0.1336 - val_acc: 0.9779\n",
      "Epoch 101/150\n",
      "Epoch 00100: val_loss did not improve\n",
      "3s - loss: 0.0569 - acc: 0.9876 - val_loss: 0.1072 - val_acc: 0.9812\n",
      "Epoch 102/150\n",
      "Epoch 00101: val_loss did not improve\n",
      "3s - loss: 0.0535 - acc: 0.9887 - val_loss: 0.1114 - val_acc: 0.9801\n",
      "Epoch 103/150\n",
      "Epoch 00102: val_loss did not improve\n",
      "3s - loss: 0.0526 - acc: 0.9879 - val_loss: 0.1276 - val_acc: 0.9792\n",
      "Epoch 104/150\n",
      "Epoch 00103: val_loss did not improve\n",
      "3s - loss: 0.0580 - acc: 0.9880 - val_loss: 0.1145 - val_acc: 0.9813\n",
      "Epoch 105/150\n",
      "Epoch 00104: val_loss did not improve\n",
      "3s - loss: 0.0534 - acc: 0.9882 - val_loss: 0.1174 - val_acc: 0.9800\n",
      "Epoch 106/150\n",
      "Epoch 00105: val_loss did not improve\n",
      "3s - loss: 0.0545 - acc: 0.9881 - val_loss: 0.1177 - val_acc: 0.9803\n",
      "Epoch 107/150\n",
      "Epoch 00106: val_loss did not improve\n",
      "3s - loss: 0.0497 - acc: 0.9897 - val_loss: 0.1217 - val_acc: 0.9811\n",
      "Epoch 108/150\n",
      "Epoch 00107: val_loss did not improve\n",
      "3s - loss: 0.0542 - acc: 0.9882 - val_loss: 0.1104 - val_acc: 0.9814\n",
      "Epoch 109/150\n",
      "Epoch 00108: val_loss did not improve\n",
      "3s - loss: 0.0567 - acc: 0.9880 - val_loss: 0.1124 - val_acc: 0.9806\n",
      "Epoch 110/150\n",
      "Epoch 00109: val_loss did not improve\n",
      "3s - loss: 0.0512 - acc: 0.9892 - val_loss: 0.1152 - val_acc: 0.9804\n",
      "Epoch 111/150\n",
      "Epoch 00110: val_loss did not improve\n",
      "3s - loss: 0.0519 - acc: 0.9887 - val_loss: 0.1393 - val_acc: 0.9756\n",
      "Epoch 112/150\n",
      "Epoch 00111: val_loss did not improve\n",
      "3s - loss: 0.0537 - acc: 0.9887 - val_loss: 0.1261 - val_acc: 0.9796\n",
      "Epoch 113/150\n",
      "Epoch 00112: val_loss did not improve\n",
      "3s - loss: 0.0496 - acc: 0.9890 - val_loss: 0.1176 - val_acc: 0.9796\n",
      "Epoch 114/150\n",
      "Epoch 00113: val_loss did not improve\n",
      "3s - loss: 0.0511 - acc: 0.9890 - val_loss: 0.1209 - val_acc: 0.9809\n",
      "Epoch 115/150\n",
      "Epoch 00114: val_loss did not improve\n",
      "3s - loss: 0.0511 - acc: 0.9883 - val_loss: 0.1270 - val_acc: 0.9793\n",
      "Epoch 116/150\n",
      "Epoch 00115: val_loss did not improve\n",
      "3s - loss: 0.0571 - acc: 0.9883 - val_loss: 0.1459 - val_acc: 0.9787\n",
      "Epoch 117/150\n",
      "Epoch 00116: val_loss did not improve\n",
      "3s - loss: 0.0533 - acc: 0.9888 - val_loss: 0.1462 - val_acc: 0.9771\n",
      "Epoch 118/150\n",
      "Epoch 00117: val_loss did not improve\n",
      "3s - loss: 0.0544 - acc: 0.9885 - val_loss: 0.1629 - val_acc: 0.9763\n",
      "Epoch 119/150\n",
      "Epoch 00118: val_loss did not improve\n",
      "3s - loss: 0.0577 - acc: 0.9884 - val_loss: 0.1268 - val_acc: 0.9789\n",
      "Epoch 120/150\n",
      "Epoch 00119: val_loss did not improve\n",
      "3s - loss: 0.0510 - acc: 0.9895 - val_loss: 0.1390 - val_acc: 0.9787\n",
      "Epoch 121/150\n",
      "Epoch 00120: val_loss did not improve\n",
      "3s - loss: 0.0492 - acc: 0.9890 - val_loss: 0.1674 - val_acc: 0.9732\n",
      "Epoch 122/150\n",
      "Epoch 00121: val_loss did not improve\n",
      "3s - loss: 0.0489 - acc: 0.9893 - val_loss: 0.1355 - val_acc: 0.9775\n",
      "Epoch 123/150\n",
      "Epoch 00122: val_loss did not improve\n",
      "3s - loss: 0.0595 - acc: 0.9872 - val_loss: 0.1300 - val_acc: 0.9794\n",
      "Epoch 124/150\n",
      "Epoch 00123: val_loss did not improve\n",
      "3s - loss: 0.0529 - acc: 0.9884 - val_loss: 0.1251 - val_acc: 0.9790\n",
      "Epoch 125/150\n",
      "Epoch 00124: val_loss did not improve\n",
      "3s - loss: 0.0497 - acc: 0.9888 - val_loss: 0.1094 - val_acc: 0.9813\n",
      "Epoch 126/150\n",
      "Epoch 00125: val_loss did not improve\n",
      "3s - loss: 0.0535 - acc: 0.9883 - val_loss: 0.1562 - val_acc: 0.9762\n",
      "Epoch 127/150\n",
      "Epoch 00126: val_loss did not improve\n",
      "3s - loss: 0.0493 - acc: 0.9895 - val_loss: 0.1119 - val_acc: 0.9820\n",
      "Epoch 128/150\n",
      "Epoch 00127: val_loss did not improve\n",
      "3s - loss: 0.0512 - acc: 0.9889 - val_loss: 0.1278 - val_acc: 0.9804\n",
      "Epoch 129/150\n",
      "Epoch 00128: val_loss did not improve\n",
      "3s - loss: 0.0465 - acc: 0.9902 - val_loss: 0.1127 - val_acc: 0.9825\n",
      "Epoch 130/150\n",
      "Epoch 00129: val_loss did not improve\n",
      "3s - loss: 0.0549 - acc: 0.9887 - val_loss: 0.1326 - val_acc: 0.9792\n",
      "Epoch 131/150\n",
      "Epoch 00130: val_loss did not improve\n",
      "3s - loss: 0.0508 - acc: 0.9891 - val_loss: 0.1380 - val_acc: 0.9785\n",
      "Epoch 132/150\n",
      "Epoch 00131: val_loss did not improve\n",
      "3s - loss: 0.0557 - acc: 0.9889 - val_loss: 0.1332 - val_acc: 0.9790\n",
      "Epoch 133/150\n"
     ]
    },
    {
     "name": "stdout",
     "output_type": "stream",
     "text": [
      "Epoch 00132: val_loss did not improve\n",
      "3s - loss: 0.0502 - acc: 0.9899 - val_loss: 0.1445 - val_acc: 0.9789\n",
      "Epoch 134/150\n",
      "Epoch 00133: val_loss did not improve\n",
      "3s - loss: 0.0556 - acc: 0.9879 - val_loss: 0.1301 - val_acc: 0.9800\n",
      "Epoch 135/150\n",
      "Epoch 00134: val_loss did not improve\n",
      "3s - loss: 0.0455 - acc: 0.9900 - val_loss: 0.1196 - val_acc: 0.9805\n",
      "Epoch 136/150\n",
      "Epoch 00135: val_loss did not improve\n",
      "3s - loss: 0.0517 - acc: 0.9889 - val_loss: 0.1337 - val_acc: 0.9800\n",
      "Epoch 137/150\n",
      "Epoch 00136: val_loss did not improve\n",
      "3s - loss: 0.0528 - acc: 0.9892 - val_loss: 0.1261 - val_acc: 0.9808\n",
      "Epoch 138/150\n",
      "Epoch 00137: val_loss did not improve\n",
      "3s - loss: 0.0451 - acc: 0.9898 - val_loss: 0.1258 - val_acc: 0.9798\n",
      "Epoch 139/150\n",
      "Epoch 00138: val_loss did not improve\n",
      "3s - loss: 0.0535 - acc: 0.9888 - val_loss: 0.1364 - val_acc: 0.9789\n",
      "Epoch 140/150\n",
      "Epoch 00139: val_loss did not improve\n",
      "3s - loss: 0.0557 - acc: 0.9887 - val_loss: 0.1262 - val_acc: 0.9801\n",
      "Epoch 141/150\n",
      "Epoch 00140: val_loss did not improve\n",
      "3s - loss: 0.0491 - acc: 0.9895 - val_loss: 0.1461 - val_acc: 0.9783\n",
      "Epoch 142/150\n",
      "Epoch 00141: val_loss did not improve\n",
      "3s - loss: 0.0486 - acc: 0.9900 - val_loss: 0.1295 - val_acc: 0.9811\n",
      "Epoch 143/150\n",
      "Epoch 00142: val_loss did not improve\n",
      "3s - loss: 0.0534 - acc: 0.9888 - val_loss: 0.1331 - val_acc: 0.9789\n",
      "Epoch 144/150\n",
      "Epoch 00143: val_loss did not improve\n",
      "3s - loss: 0.0494 - acc: 0.9892 - val_loss: 0.1270 - val_acc: 0.9802\n",
      "Epoch 145/150\n",
      "Epoch 00144: val_loss did not improve\n",
      "3s - loss: 0.0547 - acc: 0.9890 - val_loss: 0.1414 - val_acc: 0.9781\n",
      "Epoch 146/150\n",
      "Epoch 00145: val_loss did not improve\n",
      "3s - loss: 0.0537 - acc: 0.9893 - val_loss: 0.1861 - val_acc: 0.9733\n",
      "Epoch 147/150\n",
      "Epoch 00146: val_loss did not improve\n",
      "3s - loss: 0.0569 - acc: 0.9886 - val_loss: 0.1383 - val_acc: 0.9791\n",
      "Epoch 148/150\n",
      "Epoch 00147: val_loss did not improve\n",
      "3s - loss: 0.0475 - acc: 0.9903 - val_loss: 0.1365 - val_acc: 0.9775\n",
      "Epoch 149/150\n",
      "Epoch 00148: val_loss did not improve\n",
      "3s - loss: 0.0518 - acc: 0.9893 - val_loss: 0.1274 - val_acc: 0.9801\n",
      "Epoch 150/150\n",
      "Epoch 00149: val_loss did not improve\n",
      "3s - loss: 0.0558 - acc: 0.9894 - val_loss: 0.1559 - val_acc: 0.9770\n"
     ]
    },
    {
     "data": {
      "text/plain": [
       "<keras.callbacks.History at 0x7f9e09900ac8>"
      ]
     },
     "execution_count": 15,
     "metadata": {},
     "output_type": "execute_result"
    }
   ],
   "source": [
    "epochs = 150\n",
    "batchsize = 500\n",
    "model_weights_path = '{}/vgg16_{}.best_batch{}_epoch{}.hdf5'.format(models_dir,model_name,batchsize,epochs)\n",
    "\n",
    "checkpointer = ModelCheckpoint(filepath=model_weights_path, \n",
    "                               verbose=1, save_best_only=True)\n",
    "\n",
    "model.fit(features, targets, batch_size=batchsize, epochs=epochs,\n",
    "          validation_data=(features_valid, valid_targets),\n",
    "          callbacks=[checkpointer],\n",
    "          verbose=2, shuffle=True)          "
   ]
  },
  {
   "cell_type": "markdown",
   "metadata": {},
   "source": [
    "### Evaluating the model"
   ]
  },
  {
   "cell_type": "code",
   "execution_count": 16,
   "metadata": {},
   "outputs": [
    {
     "name": "stdout",
     "output_type": "stream",
     "text": [
      "Test accuracy: 63.0450%\n"
     ]
    }
   ],
   "source": [
    "# Load the weights that yielded the best validation accuracy\n",
    "model.load_weights(model_weights_path)\n",
    "\n",
    "# Evaluate test accuracy\n",
    "score = model.evaluate(features_test, test_targets, verbose=0)\n",
    "accuracy = 100*score[1]\n",
    "\n",
    "# Print test accuracy\n",
    "print('Test accuracy: %.4f%%' % accuracy)"
   ]
  },
  {
   "cell_type": "markdown",
   "metadata": {},
   "source": [
    "## Transfer Learning with VGG19"
   ]
  },
  {
   "cell_type": "markdown",
   "metadata": {},
   "source": [
    "### Preparing the model"
   ]
  },
  {
   "cell_type": "code",
   "execution_count": null,
   "metadata": {},
   "outputs": [],
   "source": [
    "# Define image size to use for given model\n",
    "n_pixels = 160\n",
    "# Define a model name for recorcs\n",
    "model_name = 'model_{}px'.format(n_pixels)"
   ]
  },
  {
   "cell_type": "code",
   "execution_count": null,
   "metadata": {},
   "outputs": [],
   "source": [
    "# Preprocessing data fro Keras (TensorFlow backend)\n",
    "def path_to_tensor(img_path):\n",
    "    # Loads image as PIL.Image.Image type\n",
    "    img = image.load_img(img_path, target_size=(n_pixels, n_pixels), grayscale=False)\n",
    "    # Convert PIL.Image.Image type to 3D tensor with shape (n, n, 3)\n",
    "    x = image.img_to_array(img)\n",
    "    # convert 3D tensor to 4D tensor with shape (1, n, n, 3) and return 4D tensor\n",
    "    return np.expand_dims(x, axis=0)\n",
    "\n",
    "def paths_to_tensor(img_paths):\n",
    "    list_of_tensors = [path_to_tensor(img_path) for img_path in tqdm(img_paths)]\n",
    "    return np.vstack(list_of_tensors)"
   ]
  },
  {
   "cell_type": "code",
   "execution_count": null,
   "metadata": {},
   "outputs": [],
   "source": [
    "ImageFile.LOAD_TRUNCATED_IMAGES = True                 \n",
    "# Pre-process the data for Keras\n",
    "# Prepare training data separately since this is usually large\n",
    "\n",
    "print('Preparing to create valid tensors')\n",
    "valid_tensors = paths_to_tensor(valid_data).astype('float32')\n",
    "print('valid tensors prepared')"
   ]
  },
  {
   "cell_type": "code",
   "execution_count": null,
   "metadata": {},
   "outputs": [],
   "source": [
    "print('Preparing to create test tensors')\n",
    "test_tensors = paths_to_tensor(test_data).astype('float32')\n",
    "print('test tensors prepared')"
   ]
  },
  {
   "cell_type": "code",
   "execution_count": null,
   "metadata": {},
   "outputs": [],
   "source": [
    "print('Preparing to create train tensors')\n",
    "train_tensors = paths_to_tensor(train_data).astype('float32')\n",
    "print('train tensors prepared')"
   ]
  },
  {
   "cell_type": "markdown",
   "metadata": {},
   "source": [
    "### Extract Bottleneck Features for Training Set"
   ]
  },
  {
   "cell_type": "code",
   "execution_count": null,
   "metadata": {},
   "outputs": [],
   "source": [
    "# Load the data\n",
    "targets = np.squeeze(train_targets)\n",
    "print('data loaded')\n",
    "\n",
    "# Load vgg19 model + remove final classification layers\n",
    "model = vgg19.VGG19(weights='imagenet', include_top=False, input_shape=(n_pixels, n_pixels, 3), classes=24)\n",
    "print('model loaded')\n",
    "\n",
    "# Obtain bottleneck features (train)\n",
    "if os.path.exists('vgg19_features_train.npz'):\n",
    "    print('bottleneck features detected (train)')\n",
    "    features = np.load('vgg19_features_train.npz')['features']\n",
    "else:\n",
    "    print('bottleneck features file not detected (train)')\n",
    "    \n",
    "    print('calculating now ...')\n",
    "    # Pre-process the train data\n",
    "    big_x_train = np.array([scipy.misc.imresize(train_tensors[i], (n_pixels, n_pixels, 3)) \n",
    "                            for i in range(0, len(train_tensors))]).astype('float32')\n",
    "    vgg19_input_train = vgg19.preprocess_input(big_x_train)\n",
    "    print('train data preprocessed')\n",
    "    \n",
    "    # Extract, process, and save bottleneck features\n",
    "    features = model.predict(vgg19_input_train)\n",
    "    features = np.squeeze(features)\n",
    "    np.savez('vgg19_features_train', features=features)\n",
    "\n",
    "print('bottleneck features saved (train)')"
   ]
  },
  {
   "cell_type": "markdown",
   "metadata": {},
   "source": [
    "### Extract Bottleneck Features for Validation Set"
   ]
  },
  {
   "cell_type": "code",
   "execution_count": null,
   "metadata": {
    "scrolled": true
   },
   "outputs": [],
   "source": [
    "# Obtain bottleneck features (valid)\n",
    "if os.path.exists('vgg19_features_valid.npz'):\n",
    "    print('bottleneck features detected (valid)')\n",
    "    features_valid = np.load('vgg19_features_valid.npz')['features_test']\n",
    "else:\n",
    "    # Calculating for validation set\n",
    "    print('bottleneck features file not detected (valid)')\n",
    "    print('calculating now ...')\n",
    "    # Pre-process the valid data\n",
    "    big_x_valid = np.array([scipy.misc.imresize(valid_tensors[i], (n_pixels, n_pixels, 3)) \n",
    "                       for i in range(0, len(valid_tensors))]).astype('float32')\n",
    "\n",
    "    vgg19_input_valid = vgg19.preprocess_input(big_x_valid)\n",
    "    # Extract, process, and save bottleneck features (valid)\n",
    "    features_valid = model.predict(vgg19_input_valid)\n",
    "    features_valid = np.squeeze(features_valid)\n",
    "    np.savez('vgg19_features_valid', features_test=features_valid)\n",
    "print('bottleneck features saved (valid)')"
   ]
  },
  {
   "cell_type": "markdown",
   "metadata": {},
   "source": [
    "### Extract Bottleneck Features for Test Set"
   ]
  },
  {
   "cell_type": "code",
   "execution_count": null,
   "metadata": {
    "scrolled": true
   },
   "outputs": [],
   "source": [
    "# Obtain bottleneck features (test)\n",
    "if os.path.exists('vgg19_features_test.npz'):\n",
    "    print('bottleneck features detected (test)')\n",
    "    features_test = np.load('vgg19_features_test.npz')['features_test']\n",
    "else:\n",
    "    # Calculating for test set\n",
    "    print('bottleneck features file not detected (test)')\n",
    "    print('calculating now ...')\n",
    "    # pre-process the test data\n",
    "    big_x_test = np.array([scipy.misc.imresize(test_tensors[i], (n_pixels, n_pixels, 3)) \n",
    "                       for i in range(0, len(test_tensors))]).astype('float32')\n",
    "\n",
    "    vgg19_input_test = vgg19.preprocess_input(big_x_test)\n",
    "    # Extract, process, and save bottleneck features (test)\n",
    "    features_test = model.predict(vgg19_input_test)\n",
    "    features_test = np.squeeze(features_test)\n",
    "    np.savez('vgg19_features_test', features_test=features_test)\n",
    "print('bottleneck features saved (test)')"
   ]
  },
  {
   "cell_type": "markdown",
   "metadata": {},
   "source": [
    "### Building model"
   ]
  },
  {
   "cell_type": "code",
   "execution_count": null,
   "metadata": {},
   "outputs": [],
   "source": [
    "# Shallow NN\n",
    "from keras.callbacks import ModelCheckpoint   \n",
    "from keras.models import Sequential\n",
    "from keras.layers import Dense, Dropout, Conv2D, GlobalAveragePooling2D\n",
    "\n",
    "model = Sequential()\n",
    "model.add(Conv2D(filters=256, kernel_size=2, input_shape=features.shape[1:]))\n",
    "model.add(Dropout(0.4))\n",
    "model.add(GlobalAveragePooling2D())\n",
    "model.add(Dropout(0.3))\n",
    "model.add(Dense(24, activation='softmax'))\n",
    "model.summary()\n",
    "\n",
    "model.compile(loss='categorical_crossentropy', optimizer='rmsprop', metrics=['accuracy'])\n",
    "\n"
   ]
  },
  {
   "cell_type": "code",
   "execution_count": null,
   "metadata": {},
   "outputs": [],
   "source": [
    "epochs = 256\n",
    "batchsize = 512\n",
    "model_weights_path = f'{models_dir}/vgg19_new_{model_name}.best_batch{batchsize}_epoch{epochs}.hdf5'\n",
    "\n",
    "checkpointer = ModelCheckpoint(filepath=model_weights_path, \n",
    "                               verbose=1, save_best_only=True)\n",
    "\n",
    "model.fit(features, targets, batch_size=batchsize, epochs=epochs,\n",
    "          validation_data=(features_valid, valid_targets),\n",
    "          callbacks=[checkpointer],\n",
    "          verbose=2, shuffle=True)          "
   ]
  },
  {
   "cell_type": "markdown",
   "metadata": {},
   "source": [
    "### Evaluating the model"
   ]
  },
  {
   "cell_type": "code",
   "execution_count": null,
   "metadata": {},
   "outputs": [],
   "source": [
    "# Load the weights that yielded the best validation accuracy\n",
    "model.load_weights(model_weights_path)\n",
    "\n",
    "# Evaluate test accuracy\n",
    "score = model.evaluate(features_test, test_targets, verbose=0)\n",
    "accuracy = 100*score[1]\n",
    "\n",
    "# Print test accuracy\n",
    "print('Test accuracy: %.4f%%' % accuracy)"
   ]
  }
 ],
 "metadata": {
  "kernelspec": {
   "display_name": "Python 3",
   "language": "python",
   "name": "python3"
  },
  "language_info": {
   "codemirror_mode": {
    "name": "ipython",
    "version": 3
   },
   "file_extension": ".py",
   "mimetype": "text/x-python",
   "name": "python",
   "nbconvert_exporter": "python",
   "pygments_lexer": "ipython3",
   "version": "3.5.2"
  }
 },
 "nbformat": 4,
 "nbformat_minor": 2
}
