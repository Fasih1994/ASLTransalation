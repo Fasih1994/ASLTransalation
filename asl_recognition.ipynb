{
 "cells": [
  {
   "cell_type": "markdown",
   "metadata": {},
   "source": [
    "# American Sign Language (ASL) Image Recognition"
   ]
  },
  {
   "cell_type": "markdown",
   "metadata": {},
   "source": [
    "## Introduction"
   ]
  },
  {
   "cell_type": "markdown",
   "metadata": {},
   "source": [
    "## Loading in dataset"
   ]
  },
  {
   "cell_type": "code",
   "execution_count": 4,
   "metadata": {},
   "outputs": [],
   "source": [
    "import re\n",
    "import os\n",
    "import numpy as np\n",
    "import matplotlib.pyplot as plt\n",
    "from PIL import Image, ImageFile  \n",
    "from sklearn.datasets import load_files\n",
    "from keras.utils import np_utils\n",
    "from keras.preprocessing import image                  \n",
    "from tqdm import tqdm\n",
    "\n",
    "# For transfer learning\n",
    "import scipy\n",
    "import keras.applications.vgg16 as vgg16\n",
    "import keras.applications.vgg19 as vgg19\n",
    "\n",
    "models_dir = 'saved_models'\n",
    "data_dir = 'data'"
   ]
  },
  {
   "cell_type": "markdown",
   "metadata": {},
   "source": [
    "### Dividing data into training, validation, and testing sets\n",
    "\n",
    "Now that preprocessing the images is completed (see `data_preprocessing.ipynb` notebook), the full dataset will be split into training, validation, and testing sets. The testing set will be all the images from one subject to mirror the \"Spelling It Out\" paper's method so the benchmark model can be compared. The rest of the images will be randomly split; 80% of images for training, 20% of the images for validation."
   ]
  },
  {
   "cell_type": "code",
   "execution_count": 5,
   "metadata": {},
   "outputs": [],
   "source": [
    "def load_dataset(path, n_categories=24):\n",
    "    data = load_files(path)\n",
    "    image_files = np.array(data['filenames'])\n",
    "    # Hot encode categories to matrix\n",
    "    image_targets = np_utils.to_categorical(np.array(data['target']), n_categories)\n",
    "    return image_files, image_targets\n",
    "\n",
    "def move_data_by_category(container_dir, regex_file_format='.*png'):\n",
    "    '''Move data into a directory based on category'''\n",
    "    # Still check if files are images\n",
    "    file_list = [x for x in os.listdir(container_dir) if re.search(regex_file_format, x)]\n",
    "    # Get numerical string (note that 1 digits are represented w/ 2 digits) \n",
    "    letters = {x.split('_')[0] for x in file_list}\n",
    "    \n",
    "    for letter in letters:\n",
    "        # Only images that match letter\n",
    "        images_with_letter = [filename for filename in file_list if filename.split('_')[0] == letter]\n",
    "        # Add images to sub directory\n",
    "        new_categ_path = os.path.join(container_dir, letter)\n",
    "        if not os.path.exists(new_categ_path):\n",
    "            os.makedirs(new_categ_path)\n",
    "        print(f'Created {new_categ_path} dir with {len(images_with_letter)} items')\n",
    "        for img_filename in images_with_letter:\n",
    "            path = os.path.join(container_dir, img_filename)\n",
    "            new_path = os.path.join(new_categ_path, img_filename)            \n",
    "            os.rename(path, new_path)\n",
    "    # TODO: Check if any files were skipped (improperly named?)\n",
    "        \n",
    "\n",
    "def get_testing_data(data_dir, subject_num='4'):\n",
    "    '''Get all data/images pertaining to one subject'''\n",
    "    # Only search in directory for images with that subject\n",
    "    file_list = [x for x in os.listdir(data_dir) if re.search(f'\\d+_{subject_num}_\\d*\\.png', x)]\n",
    "    \n",
    "    # Make a new testing data directory if doesn't exist\n",
    "    testing_dir = os.path.join(data_dir, 'test')\n",
    "    if not os.path.exists(testing_dir):\n",
    "        os.makedirs(testing_dir)\n",
    "        \n",
    "    # Move images of particular subject into testing directory\n",
    "    for image_filename in file_list:\n",
    "        # file is **_n_****.png where n is an integer representing a subject\n",
    "        _, subject, _ = image_filename.split('_')\n",
    "        # Move file into testing directory\n",
    "        path = os.path.join(data_dir, image_filename)\n",
    "        new_path = os.path.join(testing_dir, image_filename)\n",
    "        os.rename(path, new_path)\n",
    "        \n",
    "    # Move each image file's numerical str representing letters found in testing into own category directory\n",
    "    move_data_by_category(testing_dir)\n",
    "    \n",
    "    return load_dataset(testing_dir)\n",
    "\n",
    "\n",
    "def get_training_validation_data(data_dir, ratio=0.8):\n",
    "    '''Randomly split data into training and validation sets'''\n",
    "    # Only search in directory for images\n",
    "    file_list = [x for x in os.listdir(data_dir) if re.search('.*png', x)]\n",
    "    \n",
    "    # Make a new training & validation data directory if doesn't exist\n",
    "    train_dir = os.path.join(data_dir, 'train')\n",
    "    valid_dir = os.path.join(data_dir, 'valid')\n",
    "    if not os.path.exists(train_dir):\n",
    "        os.makedirs(train_dir)\n",
    "    if not os.path.exists(valid_dir):\n",
    "        os.makedirs(valid_dir)\n",
    "        \n",
    "    # Randomly split file list into training and vaidation sets\n",
    "    np.random.shuffle(file_list)\n",
    "    split_int = int(ratio * len(file_list))\n",
    "    train_list = file_list[:split_int]\n",
    "    valid_list = file_list[split_int:]\n",
    "    \n",
    "    # Move images of particular subject into testing directory\n",
    "    for filenames, new_dir in [(train_list, train_dir), (valid_list, valid_dir)]:\n",
    "        for image_filename in filenames:\n",
    "            # Move file into testing directory\n",
    "            path = os.path.join(data_dir, image_filename)\n",
    "            new_path = os.path.join(new_dir, image_filename)\n",
    "            os.rename(path, new_path)\n",
    "\n",
    "        # Move each image file's numerical str representing letters found in testing into own category directory\n",
    "        move_data_by_category(new_dir)\n",
    "    \n",
    "    return (load_dataset(train_dir), load_dataset(valid_dir))"
   ]
  },
  {
   "cell_type": "code",
   "execution_count": 6,
   "metadata": {},
   "outputs": [],
   "source": [
    "test_data, test_targets = get_testing_data(data_dir)\n",
    "train, valid = get_training_validation_data(data_dir)\n",
    "# Separated data and its targets\n",
    "train_data, train_targets = train\n",
    "valid_data, valid_targets = valid"
   ]
  },
  {
   "cell_type": "markdown",
   "metadata": {},
   "source": [
    "### Display some of the images"
   ]
  },
  {
   "cell_type": "code",
   "execution_count": null,
   "metadata": {},
   "outputs": [],
   "source": [
    "np.random.seed(8675309)\n",
    "%matplotlib inline\n",
    "\n",
    "# Display image previews below\n",
    "plt.figure(figsize=(20,55))\n",
    "columns = 8\n",
    "n = 1\n",
    "\n",
    "# Randomly choose images to display (with label)\n",
    "for image_path in np.random.choice(train_data, 24, replace=False):\n",
    "    img = Image.open(image_path)\n",
    "    plt.subplot(20, columns, n)\n",
    "    n+=1\n",
    "    plt.imshow(img)\n",
    "    letter = image_path.split('/')[-1][:2]\n",
    "    letter = chr(int(letter)+65)\n",
    "    plt.title(letter)"
   ]
  },
  {
   "cell_type": "markdown",
   "metadata": {},
   "source": [
    "### Preparing the model"
   ]
  },
  {
   "cell_type": "code",
   "execution_count": 35,
   "metadata": {},
   "outputs": [],
   "source": [
    "# Preprocessing data fro Keras (TensorFlow backend)\n",
    "def path_to_tensor(img_path):\n",
    "    # Loads image as PIL.Image.Image type\n",
    "    img = image.load_img(img_path, target_size=(224, 224), grayscale=False)\n",
    "    # Convert PIL.Image.Image type to 3D tensor with shape (224, 224, 1)\n",
    "    x = image.img_to_array(img)\n",
    "    # convert 3D tensor to 4D tensor with shape (1, 224, 224, 1) and return 4D tensor\n",
    "    return np.expand_dims(x, axis=0)\n",
    "\n",
    "def paths_to_tensor(img_paths):\n",
    "    list_of_tensors = [path_to_tensor(img_path) for img_path in tqdm(img_paths)]\n",
    "    return np.vstack(list_of_tensors)"
   ]
  },
  {
   "cell_type": "code",
   "execution_count": 36,
   "metadata": {},
   "outputs": [
    {
     "name": "stderr",
     "output_type": "stream",
     "text": [
      "100%|██████████| 10376/10376 [00:11<00:00, 922.19it/s]\n",
      "100%|██████████| 13898/13898 [00:13<00:00, 995.85it/s] \n"
     ]
    }
   ],
   "source": [
    "ImageFile.LOAD_TRUNCATED_IMAGES = True                 \n",
    "\n",
    "# pre-process the data for Keras\n",
    "valid_tensors = paths_to_tensor(valid_data).astype('float32')\n",
    "test_tensors = paths_to_tensor(test_data).astype('float32')"
   ]
  },
  {
   "cell_type": "code",
   "execution_count": 37,
   "metadata": {
    "scrolled": true
   },
   "outputs": [
    {
     "name": "stderr",
     "output_type": "stream",
     "text": [
      "100%|██████████| 41500/41500 [01:05<00:00, 637.43it/s]\n"
     ]
    }
   ],
   "source": [
    "# Prepare training data separately since this is usually large\n",
    "train_tensors = paths_to_tensor(train_data).astype('float32')"
   ]
  },
  {
   "cell_type": "markdown",
   "metadata": {},
   "source": [
    "## Basic CNN model from scratch"
   ]
  },
  {
   "cell_type": "markdown",
   "metadata": {},
   "source": [
    "### Building basic model"
   ]
  },
  {
   "cell_type": "code",
   "execution_count": 38,
   "metadata": {},
   "outputs": [
    {
     "name": "stdout",
     "output_type": "stream",
     "text": [
      "_________________________________________________________________\n",
      "Layer (type)                 Output Shape              Param #   \n",
      "=================================================================\n",
      "conv2d_7 (Conv2D)            (None, 160, 160, 16)      80        \n",
      "_________________________________________________________________\n",
      "max_pooling2d_7 (MaxPooling2 (None, 80, 80, 16)        0         \n",
      "_________________________________________________________________\n",
      "conv2d_8 (Conv2D)            (None, 80, 80, 32)        2080      \n",
      "_________________________________________________________________\n",
      "max_pooling2d_8 (MaxPooling2 (None, 40, 40, 32)        0         \n",
      "_________________________________________________________________\n",
      "conv2d_9 (Conv2D)            (None, 40, 40, 64)        8256      \n",
      "_________________________________________________________________\n",
      "max_pooling2d_9 (MaxPooling2 (None, 20, 20, 64)        0         \n",
      "_________________________________________________________________\n",
      "global_average_pooling2d_3 ( (None, 64)                0         \n",
      "_________________________________________________________________\n",
      "dense_3 (Dense)              (None, 24)                1560      \n",
      "=================================================================\n",
      "Total params: 11,976\n",
      "Trainable params: 11,976\n",
      "Non-trainable params: 0\n",
      "_________________________________________________________________\n"
     ]
    }
   ],
   "source": [
    "from keras.layers import Conv2D, MaxPooling2D, GlobalAveragePooling2D\n",
    "from keras.layers import Dropout, Flatten, Dense\n",
    "from keras.models import Sequential\n",
    "\n",
    "model = Sequential()\n",
    "#Convo 224, 224, 1\n",
    "model.add(Conv2D(filters=16, kernel_size=2, padding='same', activation='relu', \n",
    "                        input_shape=(224, 224, 1)))\n",
    "#\n",
    "model.add(MaxPooling2D(pool_size=2))\n",
    "#\n",
    "model.add(Conv2D(filters=32, kernel_size=2, padding='same', activation='relu'))\n",
    "#\n",
    "model.add(MaxPooling2D(pool_size=2))\n",
    "#\n",
    "model.add(Conv2D(filters=64, kernel_size=2, padding='same', activation='relu'))\n",
    "#\n",
    "model.add(MaxPooling2D(pool_size=2))\n",
    "#\n",
    "model.add(GlobalAveragePooling2D())\n",
    "#Dense; 24 for each handshape \n",
    "model.add(Dense(24, activation='softmax'))\n",
    "\n",
    "\n",
    "model.summary()"
   ]
  },
  {
   "cell_type": "code",
   "execution_count": 39,
   "metadata": {},
   "outputs": [],
   "source": [
    "model.compile(optimizer='rmsprop', loss='categorical_crossentropy', metrics=['accuracy'])"
   ]
  },
  {
   "cell_type": "markdown",
   "metadata": {},
   "source": [
    "### Training basic model"
   ]
  },
  {
   "cell_type": "code",
   "execution_count": 40,
   "metadata": {},
   "outputs": [
    {
     "name": "stdout",
     "output_type": "stream",
     "text": [
      "Train on 41500 samples, validate on 10376 samples\n",
      "Epoch 1/16\n",
      "41480/41500 [============================>.] - ETA: 0s - loss: 2.7345 - acc: 0.1880Epoch 00001: val_loss improved from inf to 2.30307, saving model to saved_models/weights.best.from_scratch.hdf5\n",
      "41500/41500 [==============================] - 72s 2ms/step - loss: 2.7341 - acc: 0.1881 - val_loss: 2.3031 - val_acc: 0.2963\n",
      "Epoch 2/16\n",
      "41460/41500 [============================>.] - ETA: 0s - loss: 2.1257 - acc: 0.3397Epoch 00002: val_loss improved from 2.30307 to 1.98483, saving model to saved_models/weights.best.from_scratch.hdf5\n",
      "41500/41500 [==============================] - 71s 2ms/step - loss: 2.1256 - acc: 0.3397 - val_loss: 1.9848 - val_acc: 0.3566\n",
      "Epoch 3/16\n",
      "41460/41500 [============================>.] - ETA: 0s - loss: 1.8236 - acc: 0.4251Epoch 00003: val_loss improved from 1.98483 to 1.90926, saving model to saved_models/weights.best.from_scratch.hdf5\n",
      "41500/41500 [==============================] - 71s 2ms/step - loss: 1.8238 - acc: 0.4251 - val_loss: 1.9093 - val_acc: 0.3714\n",
      "Epoch 4/16\n",
      "41460/41500 [============================>.] - ETA: 0s - loss: 1.5805 - acc: 0.4980Epoch 00004: val_loss improved from 1.90926 to 1.41748, saving model to saved_models/weights.best.from_scratch.hdf5\n",
      "41500/41500 [==============================] - 71s 2ms/step - loss: 1.5803 - acc: 0.4980 - val_loss: 1.4175 - val_acc: 0.5447\n",
      "Epoch 5/16\n",
      "41460/41500 [============================>.] - ETA: 0s - loss: 1.3729 - acc: 0.5605Epoch 00005: val_loss improved from 1.41748 to 1.19161, saving model to saved_models/weights.best.from_scratch.hdf5\n",
      "41500/41500 [==============================] - 71s 2ms/step - loss: 1.3728 - acc: 0.5605 - val_loss: 1.1916 - val_acc: 0.6340\n",
      "Epoch 6/16\n",
      "41460/41500 [============================>.] - ETA: 0s - loss: 1.2071 - acc: 0.6131Epoch 00006: val_loss improved from 1.19161 to 1.05981, saving model to saved_models/weights.best.from_scratch.hdf5\n",
      "41500/41500 [==============================] - 71s 2ms/step - loss: 1.2068 - acc: 0.6133 - val_loss: 1.0598 - val_acc: 0.6657\n",
      "Epoch 7/16\n",
      "41460/41500 [============================>.] - ETA: 0s - loss: 1.0755 - acc: 0.6519Epoch 00007: val_loss improved from 1.05981 to 1.01589, saving model to saved_models/weights.best.from_scratch.hdf5\n",
      "41500/41500 [==============================] - 71s 2ms/step - loss: 1.0752 - acc: 0.6520 - val_loss: 1.0159 - val_acc: 0.6814\n",
      "Epoch 8/16\n",
      "41460/41500 [============================>.] - ETA: 0s - loss: 0.9794 - acc: 0.6849Epoch 00008: val_loss improved from 1.01589 to 0.95951, saving model to saved_models/weights.best.from_scratch.hdf5\n",
      "41500/41500 [==============================] - 71s 2ms/step - loss: 0.9793 - acc: 0.6849 - val_loss: 0.9595 - val_acc: 0.6882\n",
      "Epoch 9/16\n",
      "41460/41500 [============================>.] - ETA: 0s - loss: 0.8979 - acc: 0.7080Epoch 00009: val_loss improved from 0.95951 to 0.88985, saving model to saved_models/weights.best.from_scratch.hdf5\n",
      "41500/41500 [==============================] - 71s 2ms/step - loss: 0.8981 - acc: 0.7079 - val_loss: 0.8899 - val_acc: 0.7046\n",
      "Epoch 10/16\n",
      "41460/41500 [============================>.] - ETA: 0s - loss: 0.8355 - acc: 0.7291Epoch 00010: val_loss improved from 0.88985 to 0.73171, saving model to saved_models/weights.best.from_scratch.hdf5\n",
      "41500/41500 [==============================] - 71s 2ms/step - loss: 0.8353 - acc: 0.7291 - val_loss: 0.7317 - val_acc: 0.7714\n",
      "Epoch 11/16\n",
      "41460/41500 [============================>.] - ETA: 0s - loss: 0.7872 - acc: 0.7438Epoch 00011: val_loss did not improve\n",
      "41500/41500 [==============================] - 71s 2ms/step - loss: 0.7873 - acc: 0.7438 - val_loss: 0.7982 - val_acc: 0.7442\n",
      "Epoch 12/16\n",
      "41460/41500 [============================>.] - ETA: 0s - loss: 0.7386 - acc: 0.7588Epoch 00012: val_loss did not improve\n",
      "41500/41500 [==============================] - 71s 2ms/step - loss: 0.7385 - acc: 0.7588 - val_loss: 0.7332 - val_acc: 0.7581\n",
      "Epoch 13/16\n",
      "41460/41500 [============================>.] - ETA: 0s - loss: 0.7035 - acc: 0.7706Epoch 00013: val_loss improved from 0.73171 to 0.70602, saving model to saved_models/weights.best.from_scratch.hdf5\n",
      "41500/41500 [==============================] - 71s 2ms/step - loss: 0.7034 - acc: 0.7706 - val_loss: 0.7060 - val_acc: 0.7738\n",
      "Epoch 14/16\n",
      "41460/41500 [============================>.] - ETA: 0s - loss: 0.6712 - acc: 0.7816Epoch 00014: val_loss improved from 0.70602 to 0.65615, saving model to saved_models/weights.best.from_scratch.hdf5\n",
      "41500/41500 [==============================] - 71s 2ms/step - loss: 0.6709 - acc: 0.7817 - val_loss: 0.6562 - val_acc: 0.7859\n",
      "Epoch 15/16\n",
      "41460/41500 [============================>.] - ETA: 0s - loss: 0.6445 - acc: 0.7899Epoch 00015: val_loss improved from 0.65615 to 0.59643, saving model to saved_models/weights.best.from_scratch.hdf5\n",
      "41500/41500 [==============================] - 71s 2ms/step - loss: 0.6444 - acc: 0.7899 - val_loss: 0.5964 - val_acc: 0.8112\n",
      "Epoch 16/16\n",
      "41460/41500 [============================>.] - ETA: 0s - loss: 0.6163 - acc: 0.8011Epoch 00016: val_loss did not improve\n",
      "41500/41500 [==============================] - 71s 2ms/step - loss: 0.6162 - acc: 0.8012 - val_loss: 0.6142 - val_acc: 0.8049\n"
     ]
    },
    {
     "data": {
      "text/plain": [
       "<keras.callbacks.History at 0x7feca9889a58>"
      ]
     },
     "execution_count": 40,
     "metadata": {},
     "output_type": "execute_result"
    }
   ],
   "source": [
    "from keras.callbacks import ModelCheckpoint  \n",
    "\n",
    "epochs = 16\n",
    "\n",
    "# Create a saved models directory\n",
    "if not os.path.exists(models_dir):\n",
    "    os.makedirs(models_dir)\n",
    "\n",
    "checkpointer = ModelCheckpoint(filepath=f'{models_dir}/weights.best.from_scratch.hdf5', \n",
    "                               verbose=1, save_best_only=True)\n",
    "\n",
    "model.fit(train_tensors, train_targets, \n",
    "          validation_data=(valid_tensors, valid_targets),\n",
    "          epochs=epochs, batch_size=20, callbacks=[checkpointer], verbose=1)"
   ]
  },
  {
   "cell_type": "markdown",
   "metadata": {},
   "source": [
    "### Evaluating basic model"
   ]
  },
  {
   "cell_type": "code",
   "execution_count": 41,
   "metadata": {},
   "outputs": [
    {
     "name": "stdout",
     "output_type": "stream",
     "text": [
      "Test accuracy: 43.3156%\n"
     ]
    }
   ],
   "source": [
    "handshape_predictions = [np.argmax(model.predict(np.expand_dims(tensor, axis=0))) for tensor in test_tensors]\n",
    "\n",
    "# report test accuracy\n",
    "test_accuracy = 100*np.sum(np.array(handshape_predictions)==np.argmax(test_targets, axis=1))/len(handshape_predictions)\n",
    "print('Test accuracy: %.4f%%' % test_accuracy)"
   ]
  },
  {
   "cell_type": "markdown",
   "metadata": {},
   "source": [
    "## Transfer Learning with VGG16"
   ]
  },
  {
   "cell_type": "markdown",
   "metadata": {},
   "source": [
    "### Preparing the model"
   ]
  },
  {
   "cell_type": "code",
   "execution_count": 7,
   "metadata": {},
   "outputs": [],
   "source": [
    "# Define image size to use for given model\n",
    "n_pixels = 120\n",
    "# Define a model name for recorcs\n",
    "model_name = f'model_{n_pixels}px'"
   ]
  },
  {
   "cell_type": "code",
   "execution_count": 12,
   "metadata": {},
   "outputs": [],
   "source": [
    "# Preprocessing data fro Keras (TensorFlow backend)\n",
    "def path_to_tensor(img_path):\n",
    "    # Loads image as PIL.Image.Image type\n",
    "    img = image.load_img(img_path, target_size=(n_pixels, n_pixels), grayscale=False)\n",
    "    # Convert PIL.Image.Image type to 3D tensor with shape (n, n, 3)\n",
    "    x = image.img_to_array(img)\n",
    "    # convert 3D tensor to 4D tensor with shape (1, n, n, 3) and return 4D tensor\n",
    "    return np.expand_dims(x, axis=0)\n",
    "\n",
    "def paths_to_tensor(img_paths):\n",
    "    list_of_tensors = [path_to_tensor(img_path) for img_path in tqdm(img_paths)]\n",
    "    return np.vstack(list_of_tensors)"
   ]
  },
  {
   "cell_type": "code",
   "execution_count": 9,
   "metadata": {},
   "outputs": [
    {
     "name": "stderr",
     "output_type": "stream",
     "text": [
      "  0%|          | 11/10376 [00:00<01:34, 109.72it/s]"
     ]
    },
    {
     "name": "stdout",
     "output_type": "stream",
     "text": [
      "Preparing to create valid tensors\n"
     ]
    },
    {
     "name": "stderr",
     "output_type": "stream",
     "text": [
      "100%|██████████| 10376/10376 [00:15<00:00, 650.71it/s]\n"
     ]
    },
    {
     "name": "stdout",
     "output_type": "stream",
     "text": [
      "valid tensors prepared\n"
     ]
    }
   ],
   "source": [
    "ImageFile.LOAD_TRUNCATED_IMAGES = True                 \n",
    "# Pre-process the data for Keras\n",
    "# Prepare training data separately since this is usually large\n",
    "\n",
    "print('Preparing to create valid tensors')\n",
    "valid_tensors = paths_to_tensor(valid_data).astype('float32')\n",
    "print('valid tensors prepared')"
   ]
  },
  {
   "cell_type": "code",
   "execution_count": 10,
   "metadata": {},
   "outputs": [
    {
     "name": "stderr",
     "output_type": "stream",
     "text": [
      "  0%|          | 68/13898 [00:00<00:20, 679.88it/s]"
     ]
    },
    {
     "name": "stdout",
     "output_type": "stream",
     "text": [
      "Preparing to create test tensors\n"
     ]
    },
    {
     "name": "stderr",
     "output_type": "stream",
     "text": [
      "100%|██████████| 13898/13898 [00:20<00:00, 681.42it/s]\n"
     ]
    },
    {
     "name": "stdout",
     "output_type": "stream",
     "text": [
      "test tensors prepared\n"
     ]
    }
   ],
   "source": [
    "print('Preparing to create test tensors')\n",
    "test_tensors = paths_to_tensor(test_data).astype('float32')\n",
    "print('test tensors prepared')"
   ]
  },
  {
   "cell_type": "code",
   "execution_count": 11,
   "metadata": {},
   "outputs": [
    {
     "name": "stderr",
     "output_type": "stream",
     "text": [
      "  0%|          | 73/41500 [00:00<00:56, 727.51it/s]"
     ]
    },
    {
     "name": "stdout",
     "output_type": "stream",
     "text": [
      "Preparing to create train tensors\n"
     ]
    },
    {
     "name": "stderr",
     "output_type": "stream",
     "text": [
      "100%|██████████| 41500/41500 [01:01<00:00, 675.17it/s]\n"
     ]
    },
    {
     "name": "stdout",
     "output_type": "stream",
     "text": [
      "train tensors prepared\n"
     ]
    }
   ],
   "source": [
    "print('Preparing to create train tensors')\n",
    "train_tensors = paths_to_tensor(train_data).astype('float32')\n",
    "print('train tensors prepared')"
   ]
  },
  {
   "cell_type": "markdown",
   "metadata": {},
   "source": [
    "### Extract Bottleneck Features for Training Set"
   ]
  },
  {
   "cell_type": "code",
   "execution_count": 16,
   "metadata": {},
   "outputs": [
    {
     "name": "stdout",
     "output_type": "stream",
     "text": [
      "data loaded\n",
      "model loaded\n",
      "bottleneck features file not detected (train)\n",
      "calculating now ...\n",
      "train data preprocessed\n",
      "bottleneck features saved (train)\n"
     ]
    }
   ],
   "source": [
    "# Load the data\n",
    "targets = np.squeeze(train_targets)\n",
    "print('data loaded')\n",
    "\n",
    "# Load vgg16 model + remove final classification layers\n",
    "model = vgg16.VGG16(weights='imagenet', include_top=False, input_shape=(n_pixels, n_pixels, 3), classes=24)\n",
    "print('model loaded')\n",
    "\n",
    "# Obtain bottleneck features (train)\n",
    "if os.path.exists('vgg16_features_train.npz'):\n",
    "    print('bottleneck features detected (train)')\n",
    "    features = np.load('vgg16_features_train.npz')['features']\n",
    "else:\n",
    "    print('bottleneck features file not detected (train)')\n",
    "    \n",
    "    print('calculating now ...')\n",
    "    # Pre-process the train data\n",
    "    big_x_train = np.array([scipy.misc.imresize(train_tensors[i], (n_pixels, n_pixels, 3)) \n",
    "                            for i in range(0, len(train_tensors))]).astype('float32')\n",
    "    vgg16_input_train = vgg16.preprocess_input(big_x_train)\n",
    "    print('train data preprocessed')\n",
    "    \n",
    "    # Extract, process, and save bottleneck features\n",
    "    features = model.predict(vgg16_input_train)\n",
    "    features = np.squeeze(features)\n",
    "    np.savez('vgg16_features_train', features=features)\n",
    "\n",
    "print('bottleneck features saved (train)')"
   ]
  },
  {
   "cell_type": "markdown",
   "metadata": {},
   "source": [
    "### Extract Bottleneck Features for Validation Set"
   ]
  },
  {
   "cell_type": "code",
   "execution_count": 18,
   "metadata": {
    "scrolled": true
   },
   "outputs": [
    {
     "name": "stdout",
     "output_type": "stream",
     "text": [
      "bottleneck features file not detected (valid)\n",
      "calculating now ...\n",
      "bottleneck features saved (valid)\n"
     ]
    }
   ],
   "source": [
    "# Obtain bottleneck features (valid)\n",
    "if os.path.exists('vgg16_features_valid.npz'):\n",
    "    print('bottleneck features detected (valid)')\n",
    "    features_valid = np.load('vgg16_features_valid.npz')['features_test']\n",
    "else:\n",
    "    # Calculating for validation set\n",
    "    print('bottleneck features file not detected (valid)')\n",
    "    print('calculating now ...')\n",
    "    # Pre-process the valid data\n",
    "    big_x_valid = np.array([scipy.misc.imresize(valid_tensors[i], (n_pixels, n_pixels, 3)) \n",
    "                       for i in range(0, len(valid_tensors))]).astype('float32')\n",
    "\n",
    "    vgg16_input_valid = vgg16.preprocess_input(big_x_valid)\n",
    "    # Extract, process, and save bottleneck features (valid)\n",
    "    features_valid = model.predict(vgg16_input_valid)\n",
    "    features_valid = np.squeeze(features_valid)\n",
    "    np.savez('vgg16_features_valid', features_test=features_valid)\n",
    "print('bottleneck features saved (valid)')"
   ]
  },
  {
   "cell_type": "markdown",
   "metadata": {},
   "source": [
    "### Extract Bottleneck Features for Test Set"
   ]
  },
  {
   "cell_type": "code",
   "execution_count": 19,
   "metadata": {
    "scrolled": true
   },
   "outputs": [
    {
     "name": "stdout",
     "output_type": "stream",
     "text": [
      "bottleneck features file not detected (test)\n",
      "calculating now ...\n",
      "bottleneck features saved (test)\n"
     ]
    }
   ],
   "source": [
    "# Obtain bottleneck features (test)\n",
    "if os.path.exists('vgg16_features_test.npz'):\n",
    "    print('bottleneck features detected (test)')\n",
    "    features_test = np.load('vgg16_features_test.npz')['features_test']\n",
    "else:\n",
    "    # Calculating for test set\n",
    "    print('bottleneck features file not detected (test)')\n",
    "    print('calculating now ...')\n",
    "    # pre-process the test data\n",
    "    big_x_test = np.array([scipy.misc.imresize(test_tensors[i], (n_pixels, n_pixels, 3)) \n",
    "                       for i in range(0, len(test_tensors))]).astype('float32')\n",
    "\n",
    "    vgg16_input_test = vgg16.preprocess_input(big_x_test)\n",
    "    # Extract, process, and save bottleneck features (test)\n",
    "    features_test = model.predict(vgg16_input_test)\n",
    "    features_test = np.squeeze(features_test)\n",
    "    np.savez('vgg16_features_test', features_test=features_test)\n",
    "print('bottleneck features saved (test)')"
   ]
  },
  {
   "cell_type": "markdown",
   "metadata": {},
   "source": [
    "### Building model"
   ]
  },
  {
   "cell_type": "code",
   "execution_count": 20,
   "metadata": {},
   "outputs": [
    {
     "name": "stdout",
     "output_type": "stream",
     "text": [
      "_________________________________________________________________\n",
      "Layer (type)                 Output Shape              Param #   \n",
      "=================================================================\n",
      "conv2d_1 (Conv2D)            (None, 2, 2, 100)         204900    \n",
      "_________________________________________________________________\n",
      "dropout_1 (Dropout)          (None, 2, 2, 100)         0         \n",
      "_________________________________________________________________\n",
      "global_average_pooling2d_1 ( (None, 100)               0         \n",
      "_________________________________________________________________\n",
      "dropout_2 (Dropout)          (None, 100)               0         \n",
      "_________________________________________________________________\n",
      "dense_1 (Dense)              (None, 24)                2424      \n",
      "=================================================================\n",
      "Total params: 207,324\n",
      "Trainable params: 207,324\n",
      "Non-trainable params: 0\n",
      "_________________________________________________________________\n"
     ]
    }
   ],
   "source": [
    "# Shallow NN\n",
    "from keras.callbacks import ModelCheckpoint   \n",
    "from keras.models import Sequential\n",
    "from keras.layers import Dense, Dropout, Conv2D, GlobalAveragePooling2D\n",
    "\n",
    "model = Sequential()\n",
    "model.add(Conv2D(filters=100, kernel_size=2, input_shape=features.shape[1:]))\n",
    "model.add(Dropout(0.4))\n",
    "model.add(GlobalAveragePooling2D())\n",
    "model.add(Dropout(0.3))\n",
    "model.add(Dense(24, activation='softmax'))\n",
    "model.summary()\n",
    "\n",
    "model.compile(loss='categorical_crossentropy', optimizer='rmsprop', metrics=['accuracy'])\n",
    "\n"
   ]
  },
  {
   "cell_type": "code",
   "execution_count": 29,
   "metadata": {},
   "outputs": [
    {
     "name": "stdout",
     "output_type": "stream",
     "text": [
      "Train on 41500 samples, validate on 10376 samples\n",
      "Epoch 1/150\n",
      "Epoch 00001: val_loss improved from inf to 0.13725, saving model to saved_models/vgg16_model_120px.best_batch750_epoch150.hdf5\n",
      " - 2s - loss: 0.0623 - acc: 0.9882 - val_loss: 0.1372 - val_acc: 0.9798\n",
      "Epoch 2/150\n",
      "Epoch 00002: val_loss improved from 0.13725 to 0.12950, saving model to saved_models/vgg16_model_120px.best_batch750_epoch150.hdf5\n",
      " - 1s - loss: 0.0536 - acc: 0.9892 - val_loss: 0.1295 - val_acc: 0.9818\n",
      "Epoch 3/150\n",
      "Epoch 00003: val_loss improved from 0.12950 to 0.11271, saving model to saved_models/vgg16_model_120px.best_batch750_epoch150.hdf5\n",
      " - 1s - loss: 0.0571 - acc: 0.9893 - val_loss: 0.1127 - val_acc: 0.9821\n",
      "Epoch 4/150\n",
      "Epoch 00004: val_loss did not improve\n",
      " - 1s - loss: 0.0545 - acc: 0.9895 - val_loss: 0.1217 - val_acc: 0.9814\n",
      "Epoch 5/150\n",
      "Epoch 00005: val_loss improved from 0.11271 to 0.11038, saving model to saved_models/vgg16_model_120px.best_batch750_epoch150.hdf5\n",
      " - 1s - loss: 0.0441 - acc: 0.9908 - val_loss: 0.1104 - val_acc: 0.9834\n",
      "Epoch 6/150\n",
      "Epoch 00006: val_loss improved from 0.11038 to 0.10000, saving model to saved_models/vgg16_model_120px.best_batch750_epoch150.hdf5\n",
      " - 1s - loss: 0.0469 - acc: 0.9898 - val_loss: 0.1000 - val_acc: 0.9847\n",
      "Epoch 7/150\n",
      "Epoch 00007: val_loss did not improve\n",
      " - 1s - loss: 0.0495 - acc: 0.9905 - val_loss: 0.1109 - val_acc: 0.9830\n",
      "Epoch 8/150\n",
      "Epoch 00008: val_loss did not improve\n",
      " - 1s - loss: 0.0469 - acc: 0.9903 - val_loss: 0.1158 - val_acc: 0.9848\n",
      "Epoch 9/150\n",
      "Epoch 00009: val_loss did not improve\n",
      " - 1s - loss: 0.0436 - acc: 0.9909 - val_loss: 0.1494 - val_acc: 0.9784\n",
      "Epoch 10/150\n",
      "Epoch 00010: val_loss did not improve\n",
      " - 1s - loss: 0.0429 - acc: 0.9915 - val_loss: 0.1098 - val_acc: 0.9831\n",
      "Epoch 11/150\n",
      "Epoch 00011: val_loss did not improve\n",
      " - 1s - loss: 0.0466 - acc: 0.9907 - val_loss: 0.1212 - val_acc: 0.9822\n",
      "Epoch 12/150\n",
      "Epoch 00012: val_loss did not improve\n",
      " - 1s - loss: 0.0401 - acc: 0.9915 - val_loss: 0.1111 - val_acc: 0.9836\n",
      "Epoch 13/150\n",
      "Epoch 00013: val_loss did not improve\n",
      " - 1s - loss: 0.0511 - acc: 0.9904 - val_loss: 0.1224 - val_acc: 0.9823\n",
      "Epoch 14/150\n",
      "Epoch 00014: val_loss did not improve\n",
      " - 1s - loss: 0.0472 - acc: 0.9911 - val_loss: 0.1302 - val_acc: 0.9823\n",
      "Epoch 15/150\n",
      "Epoch 00015: val_loss did not improve\n",
      " - 1s - loss: 0.0453 - acc: 0.9913 - val_loss: 0.1259 - val_acc: 0.9814\n",
      "Epoch 16/150\n",
      "Epoch 00016: val_loss did not improve\n",
      " - 1s - loss: 0.0447 - acc: 0.9907 - val_loss: 0.1209 - val_acc: 0.9818\n",
      "Epoch 17/150\n",
      "Epoch 00017: val_loss did not improve\n",
      " - 1s - loss: 0.0440 - acc: 0.9913 - val_loss: 0.1135 - val_acc: 0.9828\n",
      "Epoch 18/150\n",
      "Epoch 00018: val_loss did not improve\n",
      " - 1s - loss: 0.0458 - acc: 0.9913 - val_loss: 0.1147 - val_acc: 0.9840\n",
      "Epoch 19/150\n",
      "Epoch 00019: val_loss did not improve\n",
      " - 1s - loss: 0.0470 - acc: 0.9908 - val_loss: 0.1114 - val_acc: 0.9842\n",
      "Epoch 20/150\n",
      "Epoch 00020: val_loss did not improve\n",
      " - 1s - loss: 0.0406 - acc: 0.9917 - val_loss: 0.1095 - val_acc: 0.9837\n",
      "Epoch 21/150\n",
      "Epoch 00021: val_loss did not improve\n",
      " - 1s - loss: 0.0406 - acc: 0.9918 - val_loss: 0.1197 - val_acc: 0.9831\n",
      "Epoch 22/150\n",
      "Epoch 00022: val_loss did not improve\n",
      " - 1s - loss: 0.0429 - acc: 0.9919 - val_loss: 0.1110 - val_acc: 0.9842\n",
      "Epoch 23/150\n",
      "Epoch 00023: val_loss did not improve\n",
      " - 1s - loss: 0.0439 - acc: 0.9913 - val_loss: 0.1124 - val_acc: 0.9830\n",
      "Epoch 24/150\n",
      "Epoch 00024: val_loss did not improve\n",
      " - 1s - loss: 0.0375 - acc: 0.9926 - val_loss: 0.1142 - val_acc: 0.9839\n",
      "Epoch 25/150\n",
      "Epoch 00025: val_loss did not improve\n",
      " - 1s - loss: 0.0412 - acc: 0.9918 - val_loss: 0.1140 - val_acc: 0.9838\n",
      "Epoch 26/150\n",
      "Epoch 00026: val_loss did not improve\n",
      " - 1s - loss: 0.0418 - acc: 0.9914 - val_loss: 0.1150 - val_acc: 0.9843\n",
      "Epoch 27/150\n",
      "Epoch 00027: val_loss did not improve\n",
      " - 1s - loss: 0.0440 - acc: 0.9920 - val_loss: 0.1197 - val_acc: 0.9834\n",
      "Epoch 28/150\n",
      "Epoch 00028: val_loss did not improve\n",
      " - 1s - loss: 0.0391 - acc: 0.9920 - val_loss: 0.1478 - val_acc: 0.9800\n",
      "Epoch 29/150\n",
      "Epoch 00029: val_loss did not improve\n",
      " - 1s - loss: 0.0422 - acc: 0.9912 - val_loss: 0.1056 - val_acc: 0.9840\n",
      "Epoch 30/150\n",
      "Epoch 00030: val_loss did not improve\n",
      " - 1s - loss: 0.0401 - acc: 0.9920 - val_loss: 0.1163 - val_acc: 0.9838\n",
      "Epoch 31/150\n",
      "Epoch 00031: val_loss did not improve\n",
      " - 1s - loss: 0.0404 - acc: 0.9923 - val_loss: 0.1049 - val_acc: 0.9848\n",
      "Epoch 32/150\n",
      "Epoch 00032: val_loss did not improve\n",
      " - 1s - loss: 0.0429 - acc: 0.9917 - val_loss: 0.1225 - val_acc: 0.9826\n",
      "Epoch 33/150\n",
      "Epoch 00033: val_loss did not improve\n",
      " - 1s - loss: 0.0436 - acc: 0.9915 - val_loss: 0.1298 - val_acc: 0.9835\n",
      "Epoch 34/150\n",
      "Epoch 00034: val_loss did not improve\n",
      " - 1s - loss: 0.0447 - acc: 0.9919 - val_loss: 0.1089 - val_acc: 0.9858\n",
      "Epoch 35/150\n",
      "Epoch 00035: val_loss did not improve\n",
      " - 1s - loss: 0.0418 - acc: 0.9916 - val_loss: 0.1436 - val_acc: 0.9819\n",
      "Epoch 36/150\n",
      "Epoch 00036: val_loss did not improve\n",
      " - 1s - loss: 0.0410 - acc: 0.9926 - val_loss: 0.1084 - val_acc: 0.9844\n",
      "Epoch 37/150\n",
      "Epoch 00037: val_loss did not improve\n",
      " - 1s - loss: 0.0453 - acc: 0.9917 - val_loss: 0.1176 - val_acc: 0.9836\n",
      "Epoch 38/150\n",
      "Epoch 00038: val_loss did not improve\n",
      " - 1s - loss: 0.0385 - acc: 0.9925 - val_loss: 0.1359 - val_acc: 0.9824\n",
      "Epoch 39/150\n",
      "Epoch 00039: val_loss did not improve\n",
      " - 1s - loss: 0.0462 - acc: 0.9917 - val_loss: 0.1185 - val_acc: 0.9837\n",
      "Epoch 40/150\n",
      "Epoch 00040: val_loss did not improve\n",
      " - 1s - loss: 0.0363 - acc: 0.9927 - val_loss: 0.1385 - val_acc: 0.9814\n",
      "Epoch 41/150\n",
      "Epoch 00041: val_loss did not improve\n",
      " - 1s - loss: 0.0398 - acc: 0.9922 - val_loss: 0.1016 - val_acc: 0.9854\n",
      "Epoch 42/150\n",
      "Epoch 00042: val_loss did not improve\n",
      " - 1s - loss: 0.0429 - acc: 0.9921 - val_loss: 0.1277 - val_acc: 0.9822\n",
      "Epoch 43/150\n",
      "Epoch 00043: val_loss did not improve\n",
      " - 1s - loss: 0.0446 - acc: 0.9919 - val_loss: 0.1162 - val_acc: 0.9841\n",
      "Epoch 44/150\n",
      "Epoch 00044: val_loss did not improve\n",
      " - 1s - loss: 0.0399 - acc: 0.9921 - val_loss: 0.1115 - val_acc: 0.9833\n",
      "Epoch 45/150\n",
      "Epoch 00045: val_loss did not improve\n",
      " - 1s - loss: 0.0395 - acc: 0.9924 - val_loss: 0.1112 - val_acc: 0.9852\n",
      "Epoch 46/150\n",
      "Epoch 00046: val_loss did not improve\n",
      " - 1s - loss: 0.0384 - acc: 0.9926 - val_loss: 0.1189 - val_acc: 0.9837\n",
      "Epoch 47/150\n",
      "Epoch 00047: val_loss did not improve\n",
      " - 1s - loss: 0.0423 - acc: 0.9916 - val_loss: 0.1105 - val_acc: 0.9851\n",
      "Epoch 48/150\n",
      "Epoch 00048: val_loss did not improve\n",
      " - 1s - loss: 0.0409 - acc: 0.9921 - val_loss: 0.1252 - val_acc: 0.9820\n",
      "Epoch 49/150\n",
      "Epoch 00049: val_loss did not improve\n",
      " - 1s - loss: 0.0394 - acc: 0.9922 - val_loss: 0.1251 - val_acc: 0.9835\n",
      "Epoch 50/150\n",
      "Epoch 00050: val_loss did not improve\n",
      " - 1s - loss: 0.0404 - acc: 0.9922 - val_loss: 0.1370 - val_acc: 0.9811\n",
      "Epoch 51/150\n",
      "Epoch 00051: val_loss did not improve\n",
      " - 1s - loss: 0.0411 - acc: 0.9920 - val_loss: 0.1260 - val_acc: 0.9826\n",
      "Epoch 52/150\n",
      "Epoch 00052: val_loss did not improve\n",
      " - 1s - loss: 0.0373 - acc: 0.9926 - val_loss: 0.1361 - val_acc: 0.9812\n",
      "Epoch 53/150\n",
      "Epoch 00053: val_loss did not improve\n",
      " - 1s - loss: 0.0407 - acc: 0.9923 - val_loss: 0.1186 - val_acc: 0.9833\n",
      "Epoch 54/150\n",
      "Epoch 00054: val_loss did not improve\n",
      " - 1s - loss: 0.0386 - acc: 0.9927 - val_loss: 0.1176 - val_acc: 0.9842\n",
      "Epoch 55/150\n",
      "Epoch 00055: val_loss did not improve\n",
      " - 1s - loss: 0.0357 - acc: 0.9928 - val_loss: 0.1623 - val_acc: 0.9803\n",
      "Epoch 56/150\n",
      "Epoch 00056: val_loss did not improve\n",
      " - 1s - loss: 0.0428 - acc: 0.9921 - val_loss: 0.1367 - val_acc: 0.9821\n",
      "Epoch 57/150\n",
      "Epoch 00057: val_loss did not improve\n",
      " - 1s - loss: 0.0373 - acc: 0.9931 - val_loss: 0.1280 - val_acc: 0.9831\n",
      "Epoch 58/150\n",
      "Epoch 00058: val_loss did not improve\n",
      " - 1s - loss: 0.0402 - acc: 0.9920 - val_loss: 0.1438 - val_acc: 0.9813\n",
      "Epoch 59/150\n",
      "Epoch 00059: val_loss did not improve\n",
      " - 1s - loss: 0.0401 - acc: 0.9927 - val_loss: 0.1337 - val_acc: 0.9821\n",
      "Epoch 60/150\n",
      "Epoch 00060: val_loss did not improve\n",
      " - 1s - loss: 0.0413 - acc: 0.9929 - val_loss: 0.1074 - val_acc: 0.9858\n",
      "Epoch 61/150\n",
      "Epoch 00061: val_loss did not improve\n",
      " - 1s - loss: 0.0415 - acc: 0.9923 - val_loss: 0.1367 - val_acc: 0.9825\n",
      "Epoch 62/150\n",
      "Epoch 00062: val_loss did not improve\n",
      " - 1s - loss: 0.0402 - acc: 0.9930 - val_loss: 0.1276 - val_acc: 0.9841\n",
      "Epoch 63/150\n",
      "Epoch 00063: val_loss did not improve\n",
      " - 1s - loss: 0.0405 - acc: 0.9927 - val_loss: 0.1180 - val_acc: 0.9835\n"
     ]
    },
    {
     "name": "stdout",
     "output_type": "stream",
     "text": [
      "Epoch 64/150\n",
      "Epoch 00064: val_loss did not improve\n",
      " - 1s - loss: 0.0367 - acc: 0.9925 - val_loss: 0.1068 - val_acc: 0.9852\n",
      "Epoch 65/150\n",
      "Epoch 00065: val_loss did not improve\n",
      " - 1s - loss: 0.0471 - acc: 0.9920 - val_loss: 0.1328 - val_acc: 0.9827\n",
      "Epoch 66/150\n",
      "Epoch 00066: val_loss did not improve\n",
      " - 1s - loss: 0.0384 - acc: 0.9927 - val_loss: 0.1358 - val_acc: 0.9827\n",
      "Epoch 67/150\n",
      "Epoch 00067: val_loss did not improve\n",
      " - 1s - loss: 0.0387 - acc: 0.9927 - val_loss: 0.1200 - val_acc: 0.9841\n",
      "Epoch 68/150\n",
      "Epoch 00068: val_loss did not improve\n",
      " - 1s - loss: 0.0352 - acc: 0.9931 - val_loss: 0.1156 - val_acc: 0.9838\n",
      "Epoch 69/150\n",
      "Epoch 00069: val_loss did not improve\n",
      " - 1s - loss: 0.0368 - acc: 0.9931 - val_loss: 0.1471 - val_acc: 0.9811\n",
      "Epoch 70/150\n",
      "Epoch 00070: val_loss did not improve\n",
      " - 1s - loss: 0.0412 - acc: 0.9926 - val_loss: 0.1357 - val_acc: 0.9829\n",
      "Epoch 71/150\n",
      "Epoch 00071: val_loss did not improve\n",
      " - 1s - loss: 0.0400 - acc: 0.9926 - val_loss: 0.1203 - val_acc: 0.9843\n",
      "Epoch 72/150\n",
      "Epoch 00072: val_loss did not improve\n",
      " - 1s - loss: 0.0393 - acc: 0.9925 - val_loss: 0.1322 - val_acc: 0.9834\n",
      "Epoch 73/150\n",
      "Epoch 00073: val_loss did not improve\n",
      " - 1s - loss: 0.0420 - acc: 0.9925 - val_loss: 0.1199 - val_acc: 0.9836\n",
      "Epoch 74/150\n",
      "Epoch 00074: val_loss did not improve\n",
      " - 1s - loss: 0.0413 - acc: 0.9926 - val_loss: 0.1217 - val_acc: 0.9842\n",
      "Epoch 75/150\n",
      "Epoch 00075: val_loss did not improve\n",
      " - 1s - loss: 0.0388 - acc: 0.9926 - val_loss: 0.1433 - val_acc: 0.9802\n",
      "Epoch 76/150\n",
      "Epoch 00076: val_loss did not improve\n",
      " - 1s - loss: 0.0371 - acc: 0.9930 - val_loss: 0.1279 - val_acc: 0.9840\n",
      "Epoch 77/150\n",
      "Epoch 00077: val_loss did not improve\n",
      " - 1s - loss: 0.0400 - acc: 0.9930 - val_loss: 0.1252 - val_acc: 0.9850\n",
      "Epoch 78/150\n",
      "Epoch 00078: val_loss did not improve\n",
      " - 1s - loss: 0.0374 - acc: 0.9932 - val_loss: 0.1247 - val_acc: 0.9840\n",
      "Epoch 79/150\n",
      "Epoch 00079: val_loss did not improve\n",
      " - 1s - loss: 0.0396 - acc: 0.9932 - val_loss: 0.1543 - val_acc: 0.9805\n",
      "Epoch 80/150\n",
      "Epoch 00080: val_loss did not improve\n",
      " - 1s - loss: 0.0393 - acc: 0.9931 - val_loss: 0.1296 - val_acc: 0.9832\n",
      "Epoch 81/150\n",
      "Epoch 00081: val_loss did not improve\n",
      " - 1s - loss: 0.0381 - acc: 0.9932 - val_loss: 0.1312 - val_acc: 0.9841\n",
      "Epoch 82/150\n",
      "Epoch 00082: val_loss did not improve\n",
      " - 1s - loss: 0.0331 - acc: 0.9938 - val_loss: 0.1445 - val_acc: 0.9817\n",
      "Epoch 83/150\n",
      "Epoch 00083: val_loss did not improve\n",
      " - 1s - loss: 0.0396 - acc: 0.9928 - val_loss: 0.1310 - val_acc: 0.9842\n",
      "Epoch 84/150\n",
      "Epoch 00084: val_loss did not improve\n",
      " - 1s - loss: 0.0392 - acc: 0.9929 - val_loss: 0.1307 - val_acc: 0.9840\n",
      "Epoch 85/150\n",
      "Epoch 00085: val_loss did not improve\n",
      " - 1s - loss: 0.0389 - acc: 0.9932 - val_loss: 0.1371 - val_acc: 0.9824\n",
      "Epoch 86/150\n",
      "Epoch 00086: val_loss did not improve\n",
      " - 1s - loss: 0.0386 - acc: 0.9921 - val_loss: 0.1862 - val_acc: 0.9752\n",
      "Epoch 87/150\n",
      "Epoch 00087: val_loss did not improve\n",
      " - 1s - loss: 0.0393 - acc: 0.9932 - val_loss: 0.1424 - val_acc: 0.9833\n",
      "Epoch 88/150\n",
      "Epoch 00088: val_loss did not improve\n",
      " - 1s - loss: 0.0392 - acc: 0.9928 - val_loss: 0.1268 - val_acc: 0.9838\n",
      "Epoch 89/150\n",
      "Epoch 00089: val_loss did not improve\n",
      " - 1s - loss: 0.0396 - acc: 0.9934 - val_loss: 0.1104 - val_acc: 0.9854\n",
      "Epoch 90/150\n",
      "Epoch 00090: val_loss did not improve\n",
      " - 1s - loss: 0.0383 - acc: 0.9935 - val_loss: 0.1367 - val_acc: 0.9829\n",
      "Epoch 91/150\n",
      "Epoch 00091: val_loss did not improve\n",
      " - 1s - loss: 0.0404 - acc: 0.9928 - val_loss: 0.1393 - val_acc: 0.9830\n",
      "Epoch 92/150\n",
      "Epoch 00092: val_loss did not improve\n",
      " - 1s - loss: 0.0360 - acc: 0.9936 - val_loss: 0.1387 - val_acc: 0.9827\n",
      "Epoch 93/150\n",
      "Epoch 00093: val_loss did not improve\n",
      " - 1s - loss: 0.0366 - acc: 0.9936 - val_loss: 0.1260 - val_acc: 0.9836\n",
      "Epoch 94/150\n",
      "Epoch 00094: val_loss did not improve\n",
      " - 1s - loss: 0.0294 - acc: 0.9944 - val_loss: 0.1592 - val_acc: 0.9808\n",
      "Epoch 95/150\n",
      "Epoch 00095: val_loss did not improve\n",
      " - 1s - loss: 0.0420 - acc: 0.9926 - val_loss: 0.1192 - val_acc: 0.9844\n",
      "Epoch 96/150\n",
      "Epoch 00096: val_loss did not improve\n",
      " - 1s - loss: 0.0367 - acc: 0.9934 - val_loss: 0.1257 - val_acc: 0.9840\n",
      "Epoch 97/150\n",
      "Epoch 00097: val_loss did not improve\n",
      " - 1s - loss: 0.0391 - acc: 0.9927 - val_loss: 0.1752 - val_acc: 0.9783\n",
      "Epoch 98/150\n",
      "Epoch 00098: val_loss did not improve\n",
      " - 1s - loss: 0.0324 - acc: 0.9938 - val_loss: 0.1440 - val_acc: 0.9822\n",
      "Epoch 99/150\n",
      "Epoch 00099: val_loss did not improve\n",
      " - 1s - loss: 0.0427 - acc: 0.9928 - val_loss: 0.1409 - val_acc: 0.9827\n",
      "Epoch 100/150\n",
      "Epoch 00100: val_loss did not improve\n",
      " - 1s - loss: 0.0350 - acc: 0.9939 - val_loss: 0.1308 - val_acc: 0.9830\n",
      "Epoch 101/150\n",
      "Epoch 00101: val_loss did not improve\n",
      " - 1s - loss: 0.0399 - acc: 0.9931 - val_loss: 0.1177 - val_acc: 0.9864\n",
      "Epoch 102/150\n",
      "Epoch 00102: val_loss did not improve\n",
      " - 1s - loss: 0.0341 - acc: 0.9935 - val_loss: 0.1355 - val_acc: 0.9836\n",
      "Epoch 103/150\n",
      "Epoch 00103: val_loss did not improve\n",
      " - 1s - loss: 0.0374 - acc: 0.9930 - val_loss: 0.1204 - val_acc: 0.9854\n",
      "Epoch 104/150\n",
      "Epoch 00104: val_loss did not improve\n",
      " - 1s - loss: 0.0347 - acc: 0.9940 - val_loss: 0.1341 - val_acc: 0.9841\n",
      "Epoch 105/150\n",
      "Epoch 00105: val_loss did not improve\n",
      " - 1s - loss: 0.0360 - acc: 0.9941 - val_loss: 0.1481 - val_acc: 0.9825\n",
      "Epoch 106/150\n",
      "Epoch 00106: val_loss did not improve\n",
      " - 1s - loss: 0.0399 - acc: 0.9931 - val_loss: 0.1268 - val_acc: 0.9849\n",
      "Epoch 107/150\n",
      "Epoch 00107: val_loss did not improve\n",
      " - 1s - loss: 0.0347 - acc: 0.9938 - val_loss: 0.1328 - val_acc: 0.9841\n",
      "Epoch 108/150\n",
      "Epoch 00108: val_loss did not improve\n",
      " - 1s - loss: 0.0385 - acc: 0.9938 - val_loss: 0.1278 - val_acc: 0.9844\n",
      "Epoch 109/150\n",
      "Epoch 00109: val_loss did not improve\n",
      " - 1s - loss: 0.0346 - acc: 0.9935 - val_loss: 0.1312 - val_acc: 0.9836\n",
      "Epoch 110/150\n",
      "Epoch 00110: val_loss did not improve\n",
      " - 1s - loss: 0.0411 - acc: 0.9933 - val_loss: 0.1318 - val_acc: 0.9839\n",
      "Epoch 111/150\n",
      "Epoch 00111: val_loss did not improve\n",
      " - 1s - loss: 0.0297 - acc: 0.9946 - val_loss: 0.1662 - val_acc: 0.9798\n",
      "Epoch 112/150\n",
      "Epoch 00112: val_loss did not improve\n",
      " - 1s - loss: 0.0411 - acc: 0.9930 - val_loss: 0.1354 - val_acc: 0.9841\n",
      "Epoch 113/150\n",
      "Epoch 00113: val_loss did not improve\n",
      " - 1s - loss: 0.0381 - acc: 0.9933 - val_loss: 0.1426 - val_acc: 0.9835\n",
      "Epoch 114/150\n",
      "Epoch 00114: val_loss did not improve\n",
      " - 1s - loss: 0.0297 - acc: 0.9942 - val_loss: 0.1322 - val_acc: 0.9848\n",
      "Epoch 115/150\n",
      "Epoch 00115: val_loss did not improve\n",
      " - 1s - loss: 0.0417 - acc: 0.9931 - val_loss: 0.1477 - val_acc: 0.9827\n",
      "Epoch 116/150\n",
      "Epoch 00116: val_loss did not improve\n",
      " - 1s - loss: 0.0368 - acc: 0.9938 - val_loss: 0.1391 - val_acc: 0.9842\n",
      "Epoch 117/150\n",
      "Epoch 00117: val_loss did not improve\n",
      " - 1s - loss: 0.0308 - acc: 0.9940 - val_loss: 0.1447 - val_acc: 0.9836\n",
      "Epoch 118/150\n",
      "Epoch 00118: val_loss did not improve\n",
      " - 1s - loss: 0.0347 - acc: 0.9937 - val_loss: 0.1257 - val_acc: 0.9848\n",
      "Epoch 119/150\n",
      "Epoch 00119: val_loss did not improve\n",
      " - 1s - loss: 0.0396 - acc: 0.9936 - val_loss: 0.1379 - val_acc: 0.9828\n",
      "Epoch 120/150\n",
      "Epoch 00120: val_loss did not improve\n",
      " - 1s - loss: 0.0336 - acc: 0.9939 - val_loss: 0.1296 - val_acc: 0.9858\n",
      "Epoch 121/150\n",
      "Epoch 00121: val_loss did not improve\n",
      " - 1s - loss: 0.0439 - acc: 0.9929 - val_loss: 0.1311 - val_acc: 0.9848\n",
      "Epoch 122/150\n",
      "Epoch 00122: val_loss did not improve\n",
      " - 1s - loss: 0.0354 - acc: 0.9938 - val_loss: 0.1490 - val_acc: 0.9827\n",
      "Epoch 123/150\n",
      "Epoch 00123: val_loss did not improve\n",
      " - 1s - loss: 0.0380 - acc: 0.9938 - val_loss: 0.1520 - val_acc: 0.9827\n",
      "Epoch 124/150\n",
      "Epoch 00124: val_loss did not improve\n",
      " - 1s - loss: 0.0395 - acc: 0.9931 - val_loss: 0.1361 - val_acc: 0.9836\n",
      "Epoch 125/150\n",
      "Epoch 00125: val_loss did not improve\n",
      " - 1s - loss: 0.0369 - acc: 0.9936 - val_loss: 0.1434 - val_acc: 0.9823\n",
      "Epoch 126/150\n",
      "Epoch 00126: val_loss did not improve\n",
      " - 1s - loss: 0.0359 - acc: 0.9933 - val_loss: 0.1245 - val_acc: 0.9850\n",
      "Epoch 127/150\n",
      "Epoch 00127: val_loss did not improve\n",
      " - 1s - loss: 0.0376 - acc: 0.9936 - val_loss: 0.1378 - val_acc: 0.9840\n",
      "Epoch 128/150\n",
      "Epoch 00128: val_loss did not improve\n",
      " - 1s - loss: 0.0398 - acc: 0.9935 - val_loss: 0.1366 - val_acc: 0.9850\n",
      "Epoch 129/150\n",
      "Epoch 00129: val_loss did not improve\n",
      " - 1s - loss: 0.0313 - acc: 0.9947 - val_loss: 0.1271 - val_acc: 0.9855\n",
      "Epoch 130/150\n",
      "Epoch 00130: val_loss did not improve\n",
      " - 1s - loss: 0.0389 - acc: 0.9934 - val_loss: 0.1374 - val_acc: 0.9829\n"
     ]
    },
    {
     "name": "stdout",
     "output_type": "stream",
     "text": [
      "Epoch 131/150\n",
      "Epoch 00131: val_loss did not improve\n",
      " - 1s - loss: 0.0418 - acc: 0.9934 - val_loss: 0.1446 - val_acc: 0.9835\n",
      "Epoch 132/150\n",
      "Epoch 00132: val_loss did not improve\n",
      " - 1s - loss: 0.0349 - acc: 0.9940 - val_loss: 0.1370 - val_acc: 0.9827\n",
      "Epoch 133/150\n",
      "Epoch 00133: val_loss did not improve\n",
      " - 1s - loss: 0.0360 - acc: 0.9936 - val_loss: 0.1848 - val_acc: 0.9785\n",
      "Epoch 134/150\n",
      "Epoch 00134: val_loss did not improve\n",
      " - 1s - loss: 0.0352 - acc: 0.9941 - val_loss: 0.1497 - val_acc: 0.9829\n",
      "Epoch 135/150\n",
      "Epoch 00135: val_loss did not improve\n",
      " - 1s - loss: 0.0405 - acc: 0.9936 - val_loss: 0.1391 - val_acc: 0.9836\n",
      "Epoch 136/150\n",
      "Epoch 00136: val_loss did not improve\n",
      " - 1s - loss: 0.0355 - acc: 0.9938 - val_loss: 0.1360 - val_acc: 0.9840\n",
      "Epoch 137/150\n",
      "Epoch 00137: val_loss did not improve\n",
      " - 1s - loss: 0.0355 - acc: 0.9942 - val_loss: 0.1332 - val_acc: 0.9844\n",
      "Epoch 138/150\n",
      "Epoch 00138: val_loss did not improve\n",
      " - 1s - loss: 0.0409 - acc: 0.9930 - val_loss: 0.1190 - val_acc: 0.9863\n",
      "Epoch 139/150\n",
      "Epoch 00139: val_loss did not improve\n",
      " - 1s - loss: 0.0352 - acc: 0.9938 - val_loss: 0.1509 - val_acc: 0.9826\n",
      "Epoch 140/150\n",
      "Epoch 00140: val_loss did not improve\n",
      " - 1s - loss: 0.0353 - acc: 0.9939 - val_loss: 0.1438 - val_acc: 0.9831\n",
      "Epoch 141/150\n",
      "Epoch 00141: val_loss did not improve\n",
      " - 1s - loss: 0.0394 - acc: 0.9936 - val_loss: 0.1282 - val_acc: 0.9847\n",
      "Epoch 142/150\n",
      "Epoch 00142: val_loss did not improve\n",
      " - 1s - loss: 0.0373 - acc: 0.9935 - val_loss: 0.1476 - val_acc: 0.9824\n",
      "Epoch 143/150\n",
      "Epoch 00143: val_loss did not improve\n",
      " - 1s - loss: 0.0360 - acc: 0.9937 - val_loss: 0.1252 - val_acc: 0.9857\n",
      "Epoch 144/150\n",
      "Epoch 00144: val_loss did not improve\n",
      " - 1s - loss: 0.0390 - acc: 0.9939 - val_loss: 0.1698 - val_acc: 0.9816\n",
      "Epoch 145/150\n",
      "Epoch 00145: val_loss did not improve\n",
      " - 1s - loss: 0.0373 - acc: 0.9937 - val_loss: 0.1410 - val_acc: 0.9837\n",
      "Epoch 146/150\n",
      "Epoch 00146: val_loss did not improve\n",
      " - 1s - loss: 0.0375 - acc: 0.9935 - val_loss: 0.1414 - val_acc: 0.9837\n",
      "Epoch 147/150\n",
      "Epoch 00147: val_loss did not improve\n",
      " - 1s - loss: 0.0382 - acc: 0.9939 - val_loss: 0.1296 - val_acc: 0.9840\n",
      "Epoch 148/150\n",
      "Epoch 00148: val_loss did not improve\n",
      " - 1s - loss: 0.0364 - acc: 0.9942 - val_loss: 0.1483 - val_acc: 0.9833\n",
      "Epoch 149/150\n",
      "Epoch 00149: val_loss did not improve\n",
      " - 1s - loss: 0.0307 - acc: 0.9948 - val_loss: 0.1210 - val_acc: 0.9844\n",
      "Epoch 150/150\n",
      "Epoch 00150: val_loss did not improve\n",
      " - 1s - loss: 0.0431 - acc: 0.9930 - val_loss: 0.1357 - val_acc: 0.9852\n"
     ]
    },
    {
     "data": {
      "text/plain": [
       "<keras.callbacks.History at 0x7f35cf721dd8>"
      ]
     },
     "execution_count": 29,
     "metadata": {},
     "output_type": "execute_result"
    }
   ],
   "source": [
    "epochs = 150\n",
    "batchsize = 750\n",
    "model_weights_path = f'{models_dir}/vgg16_{model_name}.best_batch{batchsize}_epoch{epochs}.hdf5'\n",
    "\n",
    "checkpointer = ModelCheckpoint(filepath=model_weights_path, \n",
    "                               verbose=1, save_best_only=True)\n",
    "\n",
    "model.fit(features, targets, batch_size=batchsize, epochs=epochs,\n",
    "          validation_data=(features_valid, valid_targets),\n",
    "          callbacks=[checkpointer],\n",
    "          verbose=2, shuffle=True)          "
   ]
  },
  {
   "cell_type": "markdown",
   "metadata": {},
   "source": [
    "### Evaluating the model"
   ]
  },
  {
   "cell_type": "code",
   "execution_count": 2,
   "metadata": {},
   "outputs": [
    {
     "ename": "NameError",
     "evalue": "name 'model' is not defined",
     "output_type": "error",
     "traceback": [
      "\u001b[0;31m---------------------------------------------------------------------------\u001b[0m",
      "\u001b[0;31mNameError\u001b[0m                                 Traceback (most recent call last)",
      "\u001b[0;32m<ipython-input-2-62542d220515>\u001b[0m in \u001b[0;36m<module>\u001b[0;34m()\u001b[0m\n\u001b[1;32m      1\u001b[0m \u001b[0;31m# Load the weights that yielded the best validation accuracy\u001b[0m\u001b[0;34m\u001b[0m\u001b[0;34m\u001b[0m\u001b[0m\n\u001b[0;32m----> 2\u001b[0;31m \u001b[0mmodel\u001b[0m\u001b[0;34m.\u001b[0m\u001b[0mload_weights\u001b[0m\u001b[0;34m(\u001b[0m\u001b[0mmodel_weights_path\u001b[0m\u001b[0;34m)\u001b[0m\u001b[0;34m\u001b[0m\u001b[0m\n\u001b[0m\u001b[1;32m      3\u001b[0m \u001b[0;34m\u001b[0m\u001b[0m\n\u001b[1;32m      4\u001b[0m \u001b[0;31m# Evaluate test accuracy\u001b[0m\u001b[0;34m\u001b[0m\u001b[0;34m\u001b[0m\u001b[0m\n\u001b[1;32m      5\u001b[0m \u001b[0mscore\u001b[0m \u001b[0;34m=\u001b[0m \u001b[0mmodel\u001b[0m\u001b[0;34m.\u001b[0m\u001b[0mevaluate\u001b[0m\u001b[0;34m(\u001b[0m\u001b[0mfeatures_test\u001b[0m\u001b[0;34m,\u001b[0m \u001b[0mtest_targets\u001b[0m\u001b[0;34m,\u001b[0m \u001b[0mverbose\u001b[0m\u001b[0;34m=\u001b[0m\u001b[0;36m0\u001b[0m\u001b[0;34m)\u001b[0m\u001b[0;34m\u001b[0m\u001b[0m\n",
      "\u001b[0;31mNameError\u001b[0m: name 'model' is not defined"
     ]
    }
   ],
   "source": [
    "# Load the weights that yielded the best validation accuracy\n",
    "model.load_weights(model_weights_path)\n",
    "\n",
    "# Evaluate test accuracy\n",
    "score = model.evaluate(features_test, test_targets, verbose=0)\n",
    "accuracy = 100*score[1]\n",
    "\n",
    "# Print test accuracy\n",
    "print('Test accuracy: %.4f%%' % accuracy)"
   ]
  },
  {
   "cell_type": "markdown",
   "metadata": {},
   "source": [
    "## Transfer Learning with VGG19"
   ]
  },
  {
   "cell_type": "markdown",
   "metadata": {},
   "source": [
    "### Preparing the model"
   ]
  },
  {
   "cell_type": "code",
   "execution_count": 8,
   "metadata": {},
   "outputs": [],
   "source": [
    "# Define image size to use for given model\n",
    "n_pixels = 120\n",
    "# Define a model name for recorcs\n",
    "model_name = f'model_{n_pixels}px'"
   ]
  },
  {
   "cell_type": "code",
   "execution_count": 9,
   "metadata": {},
   "outputs": [],
   "source": [
    "# Preprocessing data fro Keras (TensorFlow backend)\n",
    "def path_to_tensor(img_path):\n",
    "    # Loads image as PIL.Image.Image type\n",
    "    img = image.load_img(img_path, target_size=(n_pixels, n_pixels), grayscale=False)\n",
    "    # Convert PIL.Image.Image type to 3D tensor with shape (n, n, 3)\n",
    "    x = image.img_to_array(img)\n",
    "    # convert 3D tensor to 4D tensor with shape (1, n, n, 3) and return 4D tensor\n",
    "    return np.expand_dims(x, axis=0)\n",
    "\n",
    "def paths_to_tensor(img_paths):\n",
    "    list_of_tensors = [path_to_tensor(img_path) for img_path in tqdm(img_paths)]\n",
    "    return np.vstack(list_of_tensors)"
   ]
  },
  {
   "cell_type": "code",
   "execution_count": 11,
   "metadata": {},
   "outputs": [
    {
     "name": "stderr",
     "output_type": "stream",
     "text": [
      "  0%|          | 20/10376 [00:00<00:52, 195.47it/s]"
     ]
    },
    {
     "name": "stdout",
     "output_type": "stream",
     "text": [
      "Preparing to create valid tensors\n"
     ]
    },
    {
     "name": "stderr",
     "output_type": "stream",
     "text": [
      "100%|██████████| 10376/10376 [00:19<00:00, 522.44it/s]\n"
     ]
    },
    {
     "name": "stdout",
     "output_type": "stream",
     "text": [
      "valid tensors prepared\n"
     ]
    }
   ],
   "source": [
    "ImageFile.LOAD_TRUNCATED_IMAGES = True                 \n",
    "# Pre-process the data for Keras\n",
    "# Prepare training data separately since this is usually large\n",
    "\n",
    "print('Preparing to create valid tensors')\n",
    "valid_tensors = paths_to_tensor(valid_data).astype('float32')\n",
    "print('valid tensors prepared')"
   ]
  },
  {
   "cell_type": "code",
   "execution_count": 12,
   "metadata": {},
   "outputs": [
    {
     "name": "stderr",
     "output_type": "stream",
     "text": [
      "  0%|          | 14/13898 [00:00<01:40, 138.00it/s]"
     ]
    },
    {
     "name": "stdout",
     "output_type": "stream",
     "text": [
      "Preparing to create test tensors\n"
     ]
    },
    {
     "name": "stderr",
     "output_type": "stream",
     "text": [
      "100%|██████████| 13898/13898 [00:27<00:00, 507.79it/s]\n"
     ]
    },
    {
     "name": "stdout",
     "output_type": "stream",
     "text": [
      "test tensors prepared\n"
     ]
    }
   ],
   "source": [
    "print('Preparing to create test tensors')\n",
    "test_tensors = paths_to_tensor(test_data).astype('float32')\n",
    "print('test tensors prepared')"
   ]
  },
  {
   "cell_type": "code",
   "execution_count": 10,
   "metadata": {},
   "outputs": [
    {
     "name": "stderr",
     "output_type": "stream",
     "text": [
      "  0%|          | 11/41500 [00:00<06:18, 109.56it/s]"
     ]
    },
    {
     "name": "stdout",
     "output_type": "stream",
     "text": [
      "Preparing to create train tensors\n"
     ]
    },
    {
     "name": "stderr",
     "output_type": "stream",
     "text": [
      "100%|██████████| 41500/41500 [01:03<00:00, 650.43it/s]\n"
     ]
    },
    {
     "name": "stdout",
     "output_type": "stream",
     "text": [
      "train tensors prepared\n"
     ]
    }
   ],
   "source": [
    "print('Preparing to create train tensors')\n",
    "train_tensors = paths_to_tensor(train_data).astype('float32')\n",
    "print('train tensors prepared')"
   ]
  },
  {
   "cell_type": "markdown",
   "metadata": {},
   "source": [
    "### Extract Bottleneck Features for Training Set"
   ]
  },
  {
   "cell_type": "code",
   "execution_count": 13,
   "metadata": {},
   "outputs": [
    {
     "name": "stdout",
     "output_type": "stream",
     "text": [
      "data loaded\n",
      "Downloading data from https://github.com/fchollet/deep-learning-models/releases/download/v0.1/vgg19_weights_tf_dim_ordering_tf_kernels_notop.h5\n",
      "80142336/80134624 [==============================] - 3s 0us/step\n",
      "model loaded\n",
      "bottleneck features file not detected (train)\n",
      "calculating now ...\n",
      "train data preprocessed\n",
      "bottleneck features saved (train)\n"
     ]
    }
   ],
   "source": [
    "# Load the data\n",
    "targets = np.squeeze(train_targets)\n",
    "print('data loaded')\n",
    "\n",
    "# Load vgg19 model + remove final classification layers\n",
    "model = vgg19.VGG19(weights='imagenet', include_top=False, input_shape=(n_pixels, n_pixels, 3), classes=24)\n",
    "print('model loaded')\n",
    "\n",
    "# Obtain bottleneck features (train)\n",
    "if os.path.exists('vgg19_features_train.npz'):\n",
    "    print('bottleneck features detected (train)')\n",
    "    features = np.load('vgg19_features_train.npz')['features']\n",
    "else:\n",
    "    print('bottleneck features file not detected (train)')\n",
    "    \n",
    "    print('calculating now ...')\n",
    "    # Pre-process the train data\n",
    "    big_x_train = np.array([scipy.misc.imresize(train_tensors[i], (n_pixels, n_pixels, 3)) \n",
    "                            for i in range(0, len(train_tensors))]).astype('float32')\n",
    "    vgg19_input_train = vgg19.preprocess_input(big_x_train)\n",
    "    print('train data preprocessed')\n",
    "    \n",
    "    # Extract, process, and save bottleneck features\n",
    "    features = model.predict(vgg19_input_train)\n",
    "    features = np.squeeze(features)\n",
    "    np.savez('vgg19_features_train', features=features)\n",
    "\n",
    "print('bottleneck features saved (train)')"
   ]
  },
  {
   "cell_type": "markdown",
   "metadata": {},
   "source": [
    "### Extract Bottleneck Features for Validation Set"
   ]
  },
  {
   "cell_type": "code",
   "execution_count": 15,
   "metadata": {
    "scrolled": true
   },
   "outputs": [
    {
     "name": "stdout",
     "output_type": "stream",
     "text": [
      "bottleneck features file not detected (valid)\n",
      "calculating now ...\n",
      "bottleneck features saved (valid)\n"
     ]
    }
   ],
   "source": [
    "# Obtain bottleneck features (valid)\n",
    "if os.path.exists('vgg19_features_valid.npz'):\n",
    "    print('bottleneck features detected (valid)')\n",
    "    features_valid = np.load('vgg19_features_valid.npz')['features_test']\n",
    "else:\n",
    "    # Calculating for validation set\n",
    "    print('bottleneck features file not detected (valid)')\n",
    "    print('calculating now ...')\n",
    "    # Pre-process the valid data\n",
    "    big_x_valid = np.array([scipy.misc.imresize(valid_tensors[i], (n_pixels, n_pixels, 3)) \n",
    "                       for i in range(0, len(valid_tensors))]).astype('float32')\n",
    "\n",
    "    vgg19_input_valid = vgg19.preprocess_input(big_x_valid)\n",
    "    # Extract, process, and save bottleneck features (valid)\n",
    "    features_valid = model.predict(vgg19_input_valid)\n",
    "    features_valid = np.squeeze(features_valid)\n",
    "    np.savez('vgg19_features_valid', features_test=features_valid)\n",
    "print('bottleneck features saved (valid)')"
   ]
  },
  {
   "cell_type": "markdown",
   "metadata": {},
   "source": [
    "### Extract Bottleneck Features for Test Set"
   ]
  },
  {
   "cell_type": "code",
   "execution_count": 16,
   "metadata": {
    "scrolled": true
   },
   "outputs": [
    {
     "name": "stdout",
     "output_type": "stream",
     "text": [
      "bottleneck features file not detected (test)\n",
      "calculating now ...\n",
      "bottleneck features saved (test)\n"
     ]
    }
   ],
   "source": [
    "# Obtain bottleneck features (test)\n",
    "if os.path.exists('vgg19_features_test.npz'):\n",
    "    print('bottleneck features detected (test)')\n",
    "    features_test = np.load('vgg19_features_test.npz')['features_test']\n",
    "else:\n",
    "    # Calculating for test set\n",
    "    print('bottleneck features file not detected (test)')\n",
    "    print('calculating now ...')\n",
    "    # pre-process the test data\n",
    "    big_x_test = np.array([scipy.misc.imresize(test_tensors[i], (n_pixels, n_pixels, 3)) \n",
    "                       for i in range(0, len(test_tensors))]).astype('float32')\n",
    "\n",
    "    vgg19_input_test = vgg19.preprocess_input(big_x_test)\n",
    "    # Extract, process, and save bottleneck features (test)\n",
    "    features_test = model.predict(vgg19_input_test)\n",
    "    features_test = np.squeeze(features_test)\n",
    "    np.savez('vgg19_features_test', features_test=features_test)\n",
    "print('bottleneck features saved (test)')"
   ]
  },
  {
   "cell_type": "markdown",
   "metadata": {},
   "source": [
    "### Building model"
   ]
  },
  {
   "cell_type": "code",
   "execution_count": 17,
   "metadata": {},
   "outputs": [
    {
     "name": "stdout",
     "output_type": "stream",
     "text": [
      "_________________________________________________________________\n",
      "Layer (type)                 Output Shape              Param #   \n",
      "=================================================================\n",
      "conv2d_1 (Conv2D)            (None, 2, 2, 100)         204900    \n",
      "_________________________________________________________________\n",
      "dropout_1 (Dropout)          (None, 2, 2, 100)         0         \n",
      "_________________________________________________________________\n",
      "global_average_pooling2d_1 ( (None, 100)               0         \n",
      "_________________________________________________________________\n",
      "dropout_2 (Dropout)          (None, 100)               0         \n",
      "_________________________________________________________________\n",
      "dense_1 (Dense)              (None, 24)                2424      \n",
      "=================================================================\n",
      "Total params: 207,324\n",
      "Trainable params: 207,324\n",
      "Non-trainable params: 0\n",
      "_________________________________________________________________\n"
     ]
    }
   ],
   "source": [
    "# Shallow NN\n",
    "from keras.callbacks import ModelCheckpoint   \n",
    "from keras.models import Sequential\n",
    "from keras.layers import Dense, Dropout, Conv2D, GlobalAveragePooling2D\n",
    "\n",
    "model = Sequential()\n",
    "model.add(Conv2D(filters=100, kernel_size=2, input_shape=features.shape[1:]))\n",
    "model.add(Dropout(0.4))\n",
    "model.add(GlobalAveragePooling2D())\n",
    "model.add(Dropout(0.3))\n",
    "model.add(Dense(24, activation='softmax'))\n",
    "model.summary()\n",
    "\n",
    "model.compile(loss='categorical_crossentropy', optimizer='rmsprop', metrics=['accuracy'])\n",
    "\n"
   ]
  },
  {
   "cell_type": "code",
   "execution_count": 18,
   "metadata": {},
   "outputs": [
    {
     "name": "stdout",
     "output_type": "stream",
     "text": [
      "Train on 41500 samples, validate on 10376 samples\n",
      "Epoch 1/150\n",
      "Epoch 00001: val_loss improved from inf to 1.61557, saving model to saved_models/vgg19_model_120px.best_batch500_epoch150.hdf5\n",
      " - 6s - loss: 5.1359 - acc: 0.5549 - val_loss: 1.6156 - val_acc: 0.8103\n",
      "Epoch 2/150\n",
      "Epoch 00002: val_loss improved from 1.61557 to 0.77384, saving model to saved_models/vgg19_model_120px.best_batch500_epoch150.hdf5\n",
      " - 1s - loss: 1.8100 - acc: 0.7928 - val_loss: 0.7738 - val_acc: 0.8936\n",
      "Epoch 3/150\n",
      "Epoch 00003: val_loss improved from 0.77384 to 0.60808, saving model to saved_models/vgg19_model_120px.best_batch500_epoch150.hdf5\n",
      " - 1s - loss: 1.1639 - acc: 0.8527 - val_loss: 0.6081 - val_acc: 0.9140\n",
      "Epoch 4/150\n",
      "Epoch 00004: val_loss improved from 0.60808 to 0.49961, saving model to saved_models/vgg19_model_120px.best_batch500_epoch150.hdf5\n",
      " - 2s - loss: 0.8643 - acc: 0.8827 - val_loss: 0.4996 - val_acc: 0.9270\n",
      "Epoch 5/150\n",
      "Epoch 00005: val_loss improved from 0.49961 to 0.38010, saving model to saved_models/vgg19_model_120px.best_batch500_epoch150.hdf5\n",
      " - 1s - loss: 0.7040 - acc: 0.9009 - val_loss: 0.3801 - val_acc: 0.9427\n",
      "Epoch 6/150\n",
      "Epoch 00006: val_loss improved from 0.38010 to 0.34400, saving model to saved_models/vgg19_model_120px.best_batch500_epoch150.hdf5\n",
      " - 1s - loss: 0.5685 - acc: 0.9162 - val_loss: 0.3440 - val_acc: 0.9453\n",
      "Epoch 7/150\n",
      "Epoch 00007: val_loss did not improve\n",
      " - 1s - loss: 0.4912 - acc: 0.9251 - val_loss: 0.3506 - val_acc: 0.9438\n",
      "Epoch 8/150\n",
      "Epoch 00008: val_loss improved from 0.34400 to 0.22979, saving model to saved_models/vgg19_model_120px.best_batch500_epoch150.hdf5\n",
      " - 1s - loss: 0.4238 - acc: 0.9318 - val_loss: 0.2298 - val_acc: 0.9596\n",
      "Epoch 9/150\n",
      "Epoch 00009: val_loss did not improve\n",
      " - 1s - loss: 0.3657 - acc: 0.9396 - val_loss: 0.2570 - val_acc: 0.9576\n",
      "Epoch 10/150\n",
      "Epoch 00010: val_loss did not improve\n",
      " - 1s - loss: 0.3455 - acc: 0.9415 - val_loss: 0.3121 - val_acc: 0.9483\n",
      "Epoch 11/150\n",
      "Epoch 00011: val_loss did not improve\n",
      " - 1s - loss: 0.3159 - acc: 0.9443 - val_loss: 0.2382 - val_acc: 0.9561\n",
      "Epoch 12/150\n",
      "Epoch 00012: val_loss improved from 0.22979 to 0.22801, saving model to saved_models/vgg19_model_120px.best_batch500_epoch150.hdf5\n",
      " - 1s - loss: 0.2769 - acc: 0.9496 - val_loss: 0.2280 - val_acc: 0.9614\n",
      "Epoch 13/150\n",
      "Epoch 00013: val_loss improved from 0.22801 to 0.17281, saving model to saved_models/vgg19_model_120px.best_batch500_epoch150.hdf5\n",
      " - 1s - loss: 0.2510 - acc: 0.9516 - val_loss: 0.1728 - val_acc: 0.9687\n",
      "Epoch 14/150\n",
      "Epoch 00014: val_loss did not improve\n",
      " - 1s - loss: 0.2329 - acc: 0.9550 - val_loss: 0.1745 - val_acc: 0.9692\n",
      "Epoch 15/150\n",
      "Epoch 00015: val_loss improved from 0.17281 to 0.14428, saving model to saved_models/vgg19_model_120px.best_batch500_epoch150.hdf5\n",
      " - 1s - loss: 0.2124 - acc: 0.9590 - val_loss: 0.1443 - val_acc: 0.9727\n",
      "Epoch 16/150\n",
      "Epoch 00016: val_loss did not improve\n",
      " - 1s - loss: 0.1985 - acc: 0.9592 - val_loss: 0.1909 - val_acc: 0.9647\n",
      "Epoch 17/150\n",
      "Epoch 00017: val_loss did not improve\n",
      " - 1s - loss: 0.1905 - acc: 0.9604 - val_loss: 0.1477 - val_acc: 0.9723\n",
      "Epoch 18/150\n",
      "Epoch 00018: val_loss improved from 0.14428 to 0.14195, saving model to saved_models/vgg19_model_120px.best_batch500_epoch150.hdf5\n",
      " - 1s - loss: 0.1764 - acc: 0.9630 - val_loss: 0.1420 - val_acc: 0.9722\n",
      "Epoch 19/150\n",
      "Epoch 00019: val_loss did not improve\n",
      " - 1s - loss: 0.1855 - acc: 0.9620 - val_loss: 0.1427 - val_acc: 0.9720\n",
      "Epoch 20/150\n",
      "Epoch 00020: val_loss improved from 0.14195 to 0.13917, saving model to saved_models/vgg19_model_120px.best_batch500_epoch150.hdf5\n",
      " - 1s - loss: 0.1666 - acc: 0.9646 - val_loss: 0.1392 - val_acc: 0.9718\n",
      "Epoch 21/150\n",
      "Epoch 00021: val_loss did not improve\n",
      " - 1s - loss: 0.1567 - acc: 0.9661 - val_loss: 0.1698 - val_acc: 0.9694\n",
      "Epoch 22/150\n",
      "Epoch 00022: val_loss improved from 0.13917 to 0.12454, saving model to saved_models/vgg19_model_120px.best_batch500_epoch150.hdf5\n",
      " - 1s - loss: 0.1509 - acc: 0.9673 - val_loss: 0.1245 - val_acc: 0.9767\n",
      "Epoch 23/150\n",
      "Epoch 00023: val_loss did not improve\n",
      " - 1s - loss: 0.1475 - acc: 0.9677 - val_loss: 0.1428 - val_acc: 0.9703\n",
      "Epoch 24/150\n",
      "Epoch 00024: val_loss improved from 0.12454 to 0.11080, saving model to saved_models/vgg19_model_120px.best_batch500_epoch150.hdf5\n",
      " - 1s - loss: 0.1445 - acc: 0.9686 - val_loss: 0.1108 - val_acc: 0.9786\n",
      "Epoch 25/150\n",
      "Epoch 00025: val_loss did not improve\n",
      " - 1s - loss: 0.1337 - acc: 0.9709 - val_loss: 0.1468 - val_acc: 0.9714\n",
      "Epoch 26/150\n",
      "Epoch 00026: val_loss did not improve\n",
      " - 1s - loss: 0.1318 - acc: 0.9716 - val_loss: 0.1210 - val_acc: 0.9756\n",
      "Epoch 27/150\n",
      "Epoch 00027: val_loss did not improve\n",
      " - 1s - loss: 0.1332 - acc: 0.9711 - val_loss: 0.1240 - val_acc: 0.9753\n",
      "Epoch 28/150\n",
      "Epoch 00028: val_loss did not improve\n",
      " - 1s - loss: 0.1228 - acc: 0.9718 - val_loss: 0.1491 - val_acc: 0.9734\n",
      "Epoch 29/150\n",
      "Epoch 00029: val_loss did not improve\n",
      " - 1s - loss: 0.1244 - acc: 0.9720 - val_loss: 0.1231 - val_acc: 0.9766\n",
      "Epoch 30/150\n",
      "Epoch 00030: val_loss did not improve\n",
      " - 1s - loss: 0.1181 - acc: 0.9742 - val_loss: 0.1182 - val_acc: 0.9776\n",
      "Epoch 31/150\n",
      "Epoch 00031: val_loss did not improve\n",
      " - 1s - loss: 0.1121 - acc: 0.9751 - val_loss: 0.1161 - val_acc: 0.9786\n",
      "Epoch 32/150\n",
      "Epoch 00032: val_loss did not improve\n",
      " - 1s - loss: 0.1145 - acc: 0.9746 - val_loss: 0.1399 - val_acc: 0.9742\n",
      "Epoch 33/150\n",
      "Epoch 00033: val_loss did not improve\n",
      " - 1s - loss: 0.1079 - acc: 0.9760 - val_loss: 0.1185 - val_acc: 0.9771\n",
      "Epoch 34/150\n",
      "Epoch 00034: val_loss did not improve\n",
      " - 1s - loss: 0.1084 - acc: 0.9750 - val_loss: 0.1221 - val_acc: 0.9780\n",
      "Epoch 35/150\n",
      "Epoch 00035: val_loss improved from 0.11080 to 0.10828, saving model to saved_models/vgg19_model_120px.best_batch500_epoch150.hdf5\n",
      " - 1s - loss: 0.1023 - acc: 0.9769 - val_loss: 0.1083 - val_acc: 0.9802\n",
      "Epoch 36/150\n",
      "Epoch 00036: val_loss did not improve\n",
      " - 1s - loss: 0.1080 - acc: 0.9756 - val_loss: 0.1211 - val_acc: 0.9760\n",
      "Epoch 37/150\n",
      "Epoch 00037: val_loss did not improve\n",
      " - 1s - loss: 0.0994 - acc: 0.9774 - val_loss: 0.1162 - val_acc: 0.9770\n",
      "Epoch 38/150\n",
      "Epoch 00038: val_loss did not improve\n",
      " - 1s - loss: 0.0991 - acc: 0.9772 - val_loss: 0.1401 - val_acc: 0.9748\n",
      "Epoch 39/150\n",
      "Epoch 00039: val_loss did not improve\n",
      " - 1s - loss: 0.0950 - acc: 0.9779 - val_loss: 0.1103 - val_acc: 0.9784\n",
      "Epoch 40/150\n",
      "Epoch 00040: val_loss did not improve\n",
      " - 1s - loss: 0.0974 - acc: 0.9772 - val_loss: 0.1126 - val_acc: 0.9789\n",
      "Epoch 41/150\n",
      "Epoch 00041: val_loss improved from 0.10828 to 0.10455, saving model to saved_models/vgg19_model_120px.best_batch500_epoch150.hdf5\n",
      " - 1s - loss: 0.0918 - acc: 0.9787 - val_loss: 0.1045 - val_acc: 0.9805\n",
      "Epoch 42/150\n",
      "Epoch 00042: val_loss did not improve\n",
      " - 1s - loss: 0.0882 - acc: 0.9793 - val_loss: 0.1384 - val_acc: 0.9759\n",
      "Epoch 43/150\n",
      "Epoch 00043: val_loss did not improve\n",
      " - 1s - loss: 0.0990 - acc: 0.9788 - val_loss: 0.1309 - val_acc: 0.9764\n",
      "Epoch 44/150\n",
      "Epoch 00044: val_loss did not improve\n",
      " - 1s - loss: 0.0943 - acc: 0.9784 - val_loss: 0.1216 - val_acc: 0.9774\n",
      "Epoch 45/150\n",
      "Epoch 00045: val_loss did not improve\n",
      " - 1s - loss: 0.0956 - acc: 0.9788 - val_loss: 0.1256 - val_acc: 0.9765\n",
      "Epoch 46/150\n",
      "Epoch 00046: val_loss did not improve\n",
      " - 1s - loss: 0.0869 - acc: 0.9797 - val_loss: 0.1312 - val_acc: 0.9764\n",
      "Epoch 47/150\n",
      "Epoch 00047: val_loss did not improve\n",
      " - 1s - loss: 0.0925 - acc: 0.9796 - val_loss: 0.1144 - val_acc: 0.9790\n",
      "Epoch 48/150\n",
      "Epoch 00048: val_loss did not improve\n",
      " - 1s - loss: 0.0829 - acc: 0.9808 - val_loss: 0.1295 - val_acc: 0.9775\n",
      "Epoch 49/150\n",
      "Epoch 00049: val_loss did not improve\n",
      " - 1s - loss: 0.0870 - acc: 0.9808 - val_loss: 0.1348 - val_acc: 0.9764\n",
      "Epoch 50/150\n",
      "Epoch 00050: val_loss improved from 0.10455 to 0.09873, saving model to saved_models/vgg19_model_120px.best_batch500_epoch150.hdf5\n",
      " - 1s - loss: 0.0802 - acc: 0.9815 - val_loss: 0.0987 - val_acc: 0.9811\n",
      "Epoch 51/150\n",
      "Epoch 00051: val_loss did not improve\n",
      " - 1s - loss: 0.0768 - acc: 0.9818 - val_loss: 0.1237 - val_acc: 0.9766\n",
      "Epoch 52/150\n",
      "Epoch 00052: val_loss did not improve\n",
      " - 1s - loss: 0.0893 - acc: 0.9805 - val_loss: 0.1319 - val_acc: 0.9763\n",
      "Epoch 53/150\n",
      "Epoch 00053: val_loss did not improve\n",
      " - 1s - loss: 0.0880 - acc: 0.9811 - val_loss: 0.1127 - val_acc: 0.9801\n",
      "Epoch 54/150\n",
      "Epoch 00054: val_loss did not improve\n",
      " - 1s - loss: 0.0799 - acc: 0.9818 - val_loss: 0.1204 - val_acc: 0.9776\n"
     ]
    },
    {
     "name": "stdout",
     "output_type": "stream",
     "text": [
      "Epoch 55/150\n",
      "Epoch 00055: val_loss did not improve\n",
      " - 1s - loss: 0.0827 - acc: 0.9814 - val_loss: 0.1105 - val_acc: 0.9795\n",
      "Epoch 56/150\n",
      "Epoch 00056: val_loss did not improve\n",
      " - 1s - loss: 0.0779 - acc: 0.9830 - val_loss: 0.1222 - val_acc: 0.9792\n",
      "Epoch 57/150\n",
      "Epoch 00057: val_loss did not improve\n",
      " - 1s - loss: 0.0872 - acc: 0.9825 - val_loss: 0.1071 - val_acc: 0.9810\n",
      "Epoch 58/150\n",
      "Epoch 00058: val_loss did not improve\n",
      " - 1s - loss: 0.0754 - acc: 0.9830 - val_loss: 0.1141 - val_acc: 0.9806\n",
      "Epoch 59/150\n",
      "Epoch 00059: val_loss did not improve\n",
      " - 1s - loss: 0.0730 - acc: 0.9829 - val_loss: 0.1167 - val_acc: 0.9811\n",
      "Epoch 60/150\n",
      "Epoch 00060: val_loss did not improve\n",
      " - 1s - loss: 0.0729 - acc: 0.9830 - val_loss: 0.1211 - val_acc: 0.9801\n",
      "Epoch 61/150\n",
      "Epoch 00061: val_loss did not improve\n",
      " - 1s - loss: 0.0741 - acc: 0.9846 - val_loss: 0.1146 - val_acc: 0.9794\n",
      "Epoch 62/150\n",
      "Epoch 00062: val_loss did not improve\n",
      " - 1s - loss: 0.0710 - acc: 0.9849 - val_loss: 0.1382 - val_acc: 0.9773\n",
      "Epoch 63/150\n",
      "Epoch 00063: val_loss did not improve\n",
      " - 1s - loss: 0.0732 - acc: 0.9837 - val_loss: 0.1314 - val_acc: 0.9792\n",
      "Epoch 64/150\n",
      "Epoch 00064: val_loss did not improve\n",
      " - 1s - loss: 0.0751 - acc: 0.9831 - val_loss: 0.1130 - val_acc: 0.9814\n",
      "Epoch 65/150\n",
      "Epoch 00065: val_loss did not improve\n",
      " - 1s - loss: 0.0684 - acc: 0.9848 - val_loss: 0.0989 - val_acc: 0.9824\n",
      "Epoch 66/150\n",
      "Epoch 00066: val_loss did not improve\n",
      " - 1s - loss: 0.0628 - acc: 0.9858 - val_loss: 0.1232 - val_acc: 0.9796\n",
      "Epoch 67/150\n",
      "Epoch 00067: val_loss did not improve\n",
      " - 1s - loss: 0.0720 - acc: 0.9837 - val_loss: 0.1185 - val_acc: 0.9801\n",
      "Epoch 68/150\n",
      "Epoch 00068: val_loss did not improve\n",
      " - 1s - loss: 0.0703 - acc: 0.9841 - val_loss: 0.1179 - val_acc: 0.9807\n",
      "Epoch 69/150\n",
      "Epoch 00069: val_loss did not improve\n",
      " - 1s - loss: 0.0680 - acc: 0.9852 - val_loss: 0.1109 - val_acc: 0.9819\n",
      "Epoch 70/150\n",
      "Epoch 00070: val_loss did not improve\n",
      " - 1s - loss: 0.0640 - acc: 0.9852 - val_loss: 0.1150 - val_acc: 0.9820\n",
      "Epoch 71/150\n",
      "Epoch 00071: val_loss did not improve\n",
      " - 1s - loss: 0.0674 - acc: 0.9853 - val_loss: 0.1140 - val_acc: 0.9813\n",
      "Epoch 72/150\n",
      "Epoch 00072: val_loss did not improve\n",
      " - 1s - loss: 0.0687 - acc: 0.9849 - val_loss: 0.1175 - val_acc: 0.9811\n",
      "Epoch 73/150\n",
      "Epoch 00073: val_loss did not improve\n",
      " - 1s - loss: 0.0724 - acc: 0.9851 - val_loss: 0.1470 - val_acc: 0.9775\n",
      "Epoch 74/150\n",
      "Epoch 00074: val_loss did not improve\n",
      " - 1s - loss: 0.0627 - acc: 0.9858 - val_loss: 0.1017 - val_acc: 0.9829\n",
      "Epoch 75/150\n",
      "Epoch 00075: val_loss did not improve\n",
      " - 1s - loss: 0.0685 - acc: 0.9851 - val_loss: 0.1129 - val_acc: 0.9813\n",
      "Epoch 76/150\n",
      "Epoch 00076: val_loss did not improve\n",
      " - 1s - loss: 0.0736 - acc: 0.9847 - val_loss: 0.1062 - val_acc: 0.9812\n",
      "Epoch 77/150\n",
      "Epoch 00077: val_loss did not improve\n",
      " - 1s - loss: 0.0746 - acc: 0.9840 - val_loss: 0.1142 - val_acc: 0.9802\n",
      "Epoch 78/150\n",
      "Epoch 00078: val_loss improved from 0.09873 to 0.09674, saving model to saved_models/vgg19_model_120px.best_batch500_epoch150.hdf5\n",
      " - 1s - loss: 0.0635 - acc: 0.9867 - val_loss: 0.0967 - val_acc: 0.9839\n",
      "Epoch 79/150\n",
      "Epoch 00079: val_loss did not improve\n",
      " - 1s - loss: 0.0677 - acc: 0.9852 - val_loss: 0.1150 - val_acc: 0.9814\n",
      "Epoch 80/150\n",
      "Epoch 00080: val_loss did not improve\n",
      " - 1s - loss: 0.0641 - acc: 0.9859 - val_loss: 0.1303 - val_acc: 0.9790\n",
      "Epoch 81/150\n",
      "Epoch 00081: val_loss did not improve\n",
      " - 1s - loss: 0.0627 - acc: 0.9859 - val_loss: 0.1058 - val_acc: 0.9830\n",
      "Epoch 82/150\n",
      "Epoch 00082: val_loss did not improve\n",
      " - 1s - loss: 0.0668 - acc: 0.9860 - val_loss: 0.1147 - val_acc: 0.9817\n",
      "Epoch 83/150\n",
      "Epoch 00083: val_loss did not improve\n",
      " - 1s - loss: 0.0665 - acc: 0.9859 - val_loss: 0.1236 - val_acc: 0.9786\n",
      "Epoch 84/150\n",
      "Epoch 00084: val_loss did not improve\n",
      " - 1s - loss: 0.0637 - acc: 0.9859 - val_loss: 0.1002 - val_acc: 0.9833\n",
      "Epoch 85/150\n",
      "Epoch 00085: val_loss did not improve\n",
      " - 1s - loss: 0.0616 - acc: 0.9864 - val_loss: 0.1108 - val_acc: 0.9812\n",
      "Epoch 86/150\n",
      "Epoch 00086: val_loss did not improve\n",
      " - 1s - loss: 0.0618 - acc: 0.9867 - val_loss: 0.1160 - val_acc: 0.9808\n",
      "Epoch 87/150\n",
      "Epoch 00087: val_loss did not improve\n",
      " - 1s - loss: 0.0612 - acc: 0.9866 - val_loss: 0.1158 - val_acc: 0.9819\n",
      "Epoch 88/150\n",
      "Epoch 00088: val_loss did not improve\n",
      " - 1s - loss: 0.0588 - acc: 0.9868 - val_loss: 0.1032 - val_acc: 0.9834\n",
      "Epoch 89/150\n",
      "Epoch 00089: val_loss did not improve\n",
      " - 1s - loss: 0.0625 - acc: 0.9859 - val_loss: 0.1173 - val_acc: 0.9811\n",
      "Epoch 90/150\n",
      "Epoch 00090: val_loss did not improve\n",
      " - 1s - loss: 0.0637 - acc: 0.9862 - val_loss: 0.1313 - val_acc: 0.9802\n",
      "Epoch 91/150\n",
      "Epoch 00091: val_loss did not improve\n",
      " - 1s - loss: 0.0579 - acc: 0.9876 - val_loss: 0.1089 - val_acc: 0.9817\n",
      "Epoch 92/150\n",
      "Epoch 00092: val_loss did not improve\n",
      " - 1s - loss: 0.0583 - acc: 0.9871 - val_loss: 0.1264 - val_acc: 0.9818\n",
      "Epoch 93/150\n",
      "Epoch 00093: val_loss did not improve\n",
      " - 1s - loss: 0.0636 - acc: 0.9864 - val_loss: 0.1323 - val_acc: 0.9803\n",
      "Epoch 94/150\n",
      "Epoch 00094: val_loss did not improve\n",
      " - 1s - loss: 0.0557 - acc: 0.9879 - val_loss: 0.1203 - val_acc: 0.9821\n",
      "Epoch 95/150\n",
      "Epoch 00095: val_loss did not improve\n",
      " - 1s - loss: 0.0581 - acc: 0.9874 - val_loss: 0.1213 - val_acc: 0.9810\n",
      "Epoch 96/150\n",
      "Epoch 00096: val_loss did not improve\n",
      " - 1s - loss: 0.0606 - acc: 0.9880 - val_loss: 0.1233 - val_acc: 0.9810\n",
      "Epoch 97/150\n",
      "Epoch 00097: val_loss did not improve\n",
      " - 1s - loss: 0.0594 - acc: 0.9871 - val_loss: 0.1106 - val_acc: 0.9827\n",
      "Epoch 98/150\n",
      "Epoch 00098: val_loss did not improve\n",
      " - 1s - loss: 0.0563 - acc: 0.9881 - val_loss: 0.1123 - val_acc: 0.9818\n",
      "Epoch 99/150\n",
      "Epoch 00099: val_loss did not improve\n",
      " - 1s - loss: 0.0675 - acc: 0.9869 - val_loss: 0.1189 - val_acc: 0.9820\n",
      "Epoch 100/150\n",
      "Epoch 00100: val_loss did not improve\n",
      " - 1s - loss: 0.0574 - acc: 0.9875 - val_loss: 0.1214 - val_acc: 0.9818\n",
      "Epoch 101/150\n",
      "Epoch 00101: val_loss did not improve\n",
      " - 1s - loss: 0.0575 - acc: 0.9874 - val_loss: 0.1515 - val_acc: 0.9775\n",
      "Epoch 102/150\n",
      "Epoch 00102: val_loss did not improve\n",
      " - 1s - loss: 0.0632 - acc: 0.9868 - val_loss: 0.1284 - val_acc: 0.9798\n",
      "Epoch 103/150\n",
      "Epoch 00103: val_loss did not improve\n",
      " - 1s - loss: 0.0607 - acc: 0.9873 - val_loss: 0.1125 - val_acc: 0.9830\n",
      "Epoch 104/150\n",
      "Epoch 00104: val_loss did not improve\n",
      " - 1s - loss: 0.0594 - acc: 0.9872 - val_loss: 0.1197 - val_acc: 0.9821\n",
      "Epoch 105/150\n",
      "Epoch 00105: val_loss did not improve\n",
      " - 1s - loss: 0.0604 - acc: 0.9879 - val_loss: 0.1017 - val_acc: 0.9842\n",
      "Epoch 106/150\n",
      "Epoch 00106: val_loss did not improve\n",
      " - 1s - loss: 0.0502 - acc: 0.9889 - val_loss: 0.1087 - val_acc: 0.9834\n",
      "Epoch 107/150\n",
      "Epoch 00107: val_loss did not improve\n",
      " - 1s - loss: 0.0578 - acc: 0.9876 - val_loss: 0.1245 - val_acc: 0.9820\n",
      "Epoch 108/150\n",
      "Epoch 00108: val_loss did not improve\n",
      " - 1s - loss: 0.0592 - acc: 0.9876 - val_loss: 0.1192 - val_acc: 0.9823\n",
      "Epoch 109/150\n",
      "Epoch 00109: val_loss did not improve\n",
      " - 1s - loss: 0.0591 - acc: 0.9878 - val_loss: 0.1097 - val_acc: 0.9840\n",
      "Epoch 110/150\n",
      "Epoch 00110: val_loss did not improve\n",
      " - 1s - loss: 0.0573 - acc: 0.9883 - val_loss: 0.1438 - val_acc: 0.9778\n",
      "Epoch 111/150\n",
      "Epoch 00111: val_loss did not improve\n",
      " - 1s - loss: 0.0523 - acc: 0.9886 - val_loss: 0.1154 - val_acc: 0.9819\n",
      "Epoch 112/150\n",
      "Epoch 00112: val_loss did not improve\n",
      " - 1s - loss: 0.0563 - acc: 0.9882 - val_loss: 0.1209 - val_acc: 0.9811\n",
      "Epoch 113/150\n",
      "Epoch 00113: val_loss did not improve\n",
      " - 1s - loss: 0.0649 - acc: 0.9875 - val_loss: 0.1091 - val_acc: 0.9834\n",
      "Epoch 114/150\n",
      "Epoch 00114: val_loss did not improve\n",
      " - 1s - loss: 0.0508 - acc: 0.9894 - val_loss: 0.1661 - val_acc: 0.9758\n",
      "Epoch 115/150\n",
      "Epoch 00115: val_loss did not improve\n",
      " - 1s - loss: 0.0574 - acc: 0.9884 - val_loss: 0.1283 - val_acc: 0.9830\n",
      "Epoch 116/150\n",
      "Epoch 00116: val_loss did not improve\n",
      " - 1s - loss: 0.0570 - acc: 0.9884 - val_loss: 0.1196 - val_acc: 0.9822\n",
      "Epoch 117/150\n",
      "Epoch 00117: val_loss did not improve\n",
      " - 1s - loss: 0.0578 - acc: 0.9882 - val_loss: 0.1089 - val_acc: 0.9836\n",
      "Epoch 118/150\n",
      "Epoch 00118: val_loss did not improve\n",
      " - 1s - loss: 0.0548 - acc: 0.9887 - val_loss: 0.1187 - val_acc: 0.9822\n",
      "Epoch 119/150\n",
      "Epoch 00119: val_loss did not improve\n",
      " - 1s - loss: 0.0532 - acc: 0.9889 - val_loss: 0.1313 - val_acc: 0.9817\n",
      "Epoch 120/150\n",
      "Epoch 00120: val_loss did not improve\n",
      " - 1s - loss: 0.0569 - acc: 0.9891 - val_loss: 0.1145 - val_acc: 0.9827\n"
     ]
    },
    {
     "name": "stdout",
     "output_type": "stream",
     "text": [
      "Epoch 121/150\n",
      "Epoch 00121: val_loss did not improve\n",
      " - 1s - loss: 0.0507 - acc: 0.9893 - val_loss: 0.1456 - val_acc: 0.9794\n",
      "Epoch 122/150\n",
      "Epoch 00122: val_loss did not improve\n",
      " - 1s - loss: 0.0606 - acc: 0.9882 - val_loss: 0.1180 - val_acc: 0.9815\n",
      "Epoch 123/150\n",
      "Epoch 00123: val_loss did not improve\n",
      " - 1s - loss: 0.0547 - acc: 0.9885 - val_loss: 0.1194 - val_acc: 0.9819\n",
      "Epoch 124/150\n",
      "Epoch 00124: val_loss did not improve\n",
      " - 1s - loss: 0.0541 - acc: 0.9885 - val_loss: 0.1154 - val_acc: 0.9818\n",
      "Epoch 125/150\n",
      "Epoch 00125: val_loss did not improve\n",
      " - 1s - loss: 0.0500 - acc: 0.9887 - val_loss: 0.1113 - val_acc: 0.9824\n",
      "Epoch 126/150\n",
      "Epoch 00126: val_loss did not improve\n",
      " - 1s - loss: 0.0557 - acc: 0.9884 - val_loss: 0.1024 - val_acc: 0.9837\n",
      "Epoch 127/150\n",
      "Epoch 00127: val_loss did not improve\n",
      " - 1s - loss: 0.0532 - acc: 0.9884 - val_loss: 0.1227 - val_acc: 0.9820\n",
      "Epoch 128/150\n",
      "Epoch 00128: val_loss did not improve\n",
      " - 1s - loss: 0.0556 - acc: 0.9883 - val_loss: 0.1138 - val_acc: 0.9836\n",
      "Epoch 129/150\n",
      "Epoch 00129: val_loss did not improve\n",
      " - 1s - loss: 0.0554 - acc: 0.9889 - val_loss: 0.1079 - val_acc: 0.9845\n",
      "Epoch 130/150\n",
      "Epoch 00130: val_loss did not improve\n",
      " - 1s - loss: 0.0550 - acc: 0.9887 - val_loss: 0.1281 - val_acc: 0.9826\n",
      "Epoch 131/150\n",
      "Epoch 00131: val_loss did not improve\n",
      " - 1s - loss: 0.0515 - acc: 0.9891 - val_loss: 0.1238 - val_acc: 0.9827\n",
      "Epoch 132/150\n",
      "Epoch 00132: val_loss did not improve\n",
      " - 1s - loss: 0.0496 - acc: 0.9896 - val_loss: 0.1174 - val_acc: 0.9827\n",
      "Epoch 133/150\n",
      "Epoch 00133: val_loss did not improve\n",
      " - 1s - loss: 0.0528 - acc: 0.9896 - val_loss: 0.1278 - val_acc: 0.9814\n",
      "Epoch 134/150\n",
      "Epoch 00134: val_loss did not improve\n",
      " - 1s - loss: 0.0602 - acc: 0.9882 - val_loss: 0.1200 - val_acc: 0.9824\n",
      "Epoch 135/150\n",
      "Epoch 00135: val_loss did not improve\n",
      " - 1s - loss: 0.0521 - acc: 0.9895 - val_loss: 0.1354 - val_acc: 0.9814\n",
      "Epoch 136/150\n",
      "Epoch 00136: val_loss did not improve\n",
      " - 1s - loss: 0.0517 - acc: 0.9897 - val_loss: 0.1365 - val_acc: 0.9814\n",
      "Epoch 137/150\n",
      "Epoch 00137: val_loss did not improve\n",
      " - 1s - loss: 0.0499 - acc: 0.9898 - val_loss: 0.1456 - val_acc: 0.9808\n",
      "Epoch 138/150\n",
      "Epoch 00138: val_loss did not improve\n",
      " - 1s - loss: 0.0468 - acc: 0.9900 - val_loss: 0.1262 - val_acc: 0.9820\n",
      "Epoch 139/150\n",
      "Epoch 00139: val_loss did not improve\n",
      " - 1s - loss: 0.0542 - acc: 0.9890 - val_loss: 0.1292 - val_acc: 0.9820\n",
      "Epoch 140/150\n",
      "Epoch 00140: val_loss did not improve\n",
      " - 1s - loss: 0.0561 - acc: 0.9888 - val_loss: 0.1342 - val_acc: 0.9820\n",
      "Epoch 141/150\n",
      "Epoch 00141: val_loss did not improve\n",
      " - 1s - loss: 0.0535 - acc: 0.9888 - val_loss: 0.1253 - val_acc: 0.9827\n",
      "Epoch 142/150\n",
      "Epoch 00142: val_loss did not improve\n",
      " - 1s - loss: 0.0530 - acc: 0.9893 - val_loss: 0.1424 - val_acc: 0.9820\n",
      "Epoch 143/150\n",
      "Epoch 00143: val_loss did not improve\n",
      " - 1s - loss: 0.0558 - acc: 0.9887 - val_loss: 0.1281 - val_acc: 0.9831\n",
      "Epoch 144/150\n",
      "Epoch 00144: val_loss did not improve\n",
      " - 1s - loss: 0.0511 - acc: 0.9897 - val_loss: 0.1238 - val_acc: 0.9841\n",
      "Epoch 145/150\n",
      "Epoch 00145: val_loss did not improve\n",
      " - 1s - loss: 0.0484 - acc: 0.9897 - val_loss: 0.1335 - val_acc: 0.9818\n",
      "Epoch 146/150\n",
      "Epoch 00146: val_loss did not improve\n",
      " - 1s - loss: 0.0563 - acc: 0.9894 - val_loss: 0.1182 - val_acc: 0.9831\n",
      "Epoch 147/150\n",
      "Epoch 00147: val_loss did not improve\n",
      " - 1s - loss: 0.0528 - acc: 0.9896 - val_loss: 0.1371 - val_acc: 0.9820\n",
      "Epoch 148/150\n",
      "Epoch 00148: val_loss did not improve\n",
      " - 1s - loss: 0.0546 - acc: 0.9896 - val_loss: 0.1386 - val_acc: 0.9807\n",
      "Epoch 149/150\n",
      "Epoch 00149: val_loss did not improve\n",
      " - 1s - loss: 0.0475 - acc: 0.9905 - val_loss: 0.1369 - val_acc: 0.9820\n",
      "Epoch 150/150\n",
      "Epoch 00150: val_loss did not improve\n",
      " - 1s - loss: 0.0502 - acc: 0.9900 - val_loss: 0.1395 - val_acc: 0.9816\n"
     ]
    },
    {
     "data": {
      "text/plain": [
       "<keras.callbacks.History at 0x7f495d4b5780>"
      ]
     },
     "execution_count": 18,
     "metadata": {},
     "output_type": "execute_result"
    }
   ],
   "source": [
    "epochs = 150\n",
    "batchsize = 500\n",
    "model_weights_path = f'{models_dir}/vgg19_{model_name}.best_batch{batchsize}_epoch{epochs}.hdf5'\n",
    "\n",
    "checkpointer = ModelCheckpoint(filepath=model_weights_path, \n",
    "                               verbose=1, save_best_only=True)\n",
    "\n",
    "model.fit(features, targets, batch_size=batchsize, epochs=epochs,\n",
    "          validation_data=(features_valid, valid_targets),\n",
    "          callbacks=[checkpointer],\n",
    "          verbose=2, shuffle=True)          "
   ]
  },
  {
   "cell_type": "markdown",
   "metadata": {},
   "source": [
    "### Evaluating the model"
   ]
  },
  {
   "cell_type": "code",
   "execution_count": 19,
   "metadata": {},
   "outputs": [
    {
     "name": "stdout",
     "output_type": "stream",
     "text": [
      "Test accuracy: 61.3685%\n"
     ]
    }
   ],
   "source": [
    "# Load the weights that yielded the best validation accuracy\n",
    "model.load_weights(model_weights_path)\n",
    "\n",
    "# Evaluate test accuracy\n",
    "score = model.evaluate(features_test, test_targets, verbose=0)\n",
    "accuracy = 100*score[1]\n",
    "\n",
    "# Print test accuracy\n",
    "print('Test accuracy: %.4f%%' % accuracy)"
   ]
  }
 ],
 "metadata": {
  "kernelspec": {
   "display_name": "Python 3",
   "language": "python",
   "name": "python3"
  },
  "language_info": {
   "codemirror_mode": {
    "name": "ipython",
    "version": 3
   },
   "file_extension": ".py",
   "mimetype": "text/x-python",
   "name": "python",
   "nbconvert_exporter": "python",
   "pygments_lexer": "ipython3",
   "version": "3.6.3"
  }
 },
 "nbformat": 4,
 "nbformat_minor": 2
}
