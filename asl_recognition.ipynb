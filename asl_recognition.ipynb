{
 "cells": [
  {
   "cell_type": "markdown",
   "metadata": {},
   "source": [
    "# American Sign Language (ASL) Image Recognition"
   ]
  },
  {
   "cell_type": "markdown",
   "metadata": {},
   "source": [
    "## Introduction"
   ]
  },
  {
   "cell_type": "markdown",
   "metadata": {},
   "source": [
    "## Loading in dataset"
   ]
  },
  {
   "cell_type": "code",
   "execution_count": 1,
   "metadata": {},
   "outputs": [
    {
     "name": "stderr",
     "output_type": "stream",
     "text": [
      "Using TensorFlow backend.\n"
     ]
    }
   ],
   "source": [
    "import re\n",
    "import os\n",
    "import numpy as np\n",
    "import matplotlib.pyplot as plt\n",
    "from PIL import Image, ImageFile  \n",
    "from sklearn.datasets import load_files\n",
    "from keras.utils import np_utils\n",
    "from keras.preprocessing import image                  \n",
    "from tqdm import tqdm\n",
    "\n",
    "\n",
    "models_dir = 'saved_models'\n",
    "data_dir = 'data'"
   ]
  },
  {
   "cell_type": "markdown",
   "metadata": {},
   "source": [
    "### Dividing data into training, validation, and testing sets\n",
    "\n",
    "Now that preprocessing the images is completed (see `data_preprocessing.ipynb` notebook), the full dataset will be split into training, validation, and testing sets. The testing set will be all the images from one subject to mirror the \"Spelling It Out\" paper's method so the benchmark model can be compared. The rest of the images will be randomly split; 80% of images for training, 20% of the images for validation."
   ]
  },
  {
   "cell_type": "code",
   "execution_count": 2,
   "metadata": {},
   "outputs": [],
   "source": [
    "def load_dataset(path, n_categories=24):\n",
    "    data = load_files(path)\n",
    "    image_files = np.array(data['filenames'])\n",
    "    # Hot encode categories to matrix\n",
    "    image_targets = np_utils.to_categorical(np.array(data['target']), n_categories)\n",
    "    return image_files, image_targets\n",
    "\n",
    "def move_data_by_category(container_dir, regex_file_format='.*png'):\n",
    "    '''Move data into a directory based on category'''\n",
    "    # Still check if files are images\n",
    "    file_list = [x for x in os.listdir(container_dir) if re.search(regex_file_format, x)]\n",
    "    # Get numerical string (note that 1 digits are represented w/ 2 digits) \n",
    "    letters = {x.split('_')[0] for x in file_list}\n",
    "    \n",
    "    for letter in letters:\n",
    "        # Only images that match letter\n",
    "        images_with_letter = [filename for filename in file_list if filename.split('_')[0] == letter]\n",
    "        # Add images to sub directory\n",
    "        new_categ_path = os.path.join(container_dir, letter)\n",
    "        if not os.path.exists(new_categ_path):\n",
    "            os.makedirs(new_categ_path)\n",
    "        print(f'Created {new_categ_path} dir with {len(images_with_letter)} items')\n",
    "        for img_filename in images_with_letter:\n",
    "            path = os.path.join(container_dir, img_filename)\n",
    "            new_path = os.path.join(new_categ_path, img_filename)            \n",
    "            os.rename(path, new_path)\n",
    "    # TODO: Check if any files were skipped (improperly named?)\n",
    "        \n",
    "\n",
    "def get_testing_data(data_dir, subject_num='4'):\n",
    "    '''Get all data/images pertaining to one subject'''\n",
    "    # Only search in directory for images with that subject\n",
    "    file_list = [x for x in os.listdir(data_dir) if re.search(f'\\d+_{subject_num}_\\d*\\.png', x)]\n",
    "    \n",
    "    # Make a new testing data directory if doesn't exist\n",
    "    testing_dir = os.path.join(data_dir, 'test')\n",
    "    if not os.path.exists(testing_dir):\n",
    "        os.makedirs(testing_dir)\n",
    "        \n",
    "    # Move images of particular subject into testing directory\n",
    "    for image_filename in file_list:\n",
    "        # file is **_n_****.png where n is an integer representing a subject\n",
    "        _, subject, _ = image_filename.split('_')\n",
    "        # Move file into testing directory\n",
    "        path = os.path.join(data_dir, image_filename)\n",
    "        new_path = os.path.join(testing_dir, image_filename)\n",
    "        os.rename(path, new_path)\n",
    "        \n",
    "    # Move each image file's numerical str representing letters found in testing into own category directory\n",
    "    move_data_by_category(testing_dir)\n",
    "    \n",
    "    return load_dataset(testing_dir)\n",
    "\n",
    "\n",
    "def get_training_validation_data(data_dir, ratio=0.8):\n",
    "    '''Randomly split data into training and validation sets'''\n",
    "    # Only search in directory for images\n",
    "    file_list = [x for x in os.listdir(data_dir) if re.search('.*png', x)]\n",
    "    \n",
    "    # Make a new training & validation data directory if doesn't exist\n",
    "    train_dir = os.path.join(data_dir, 'train')\n",
    "    valid_dir = os.path.join(data_dir, 'valid')\n",
    "    if not os.path.exists(train_dir):\n",
    "        os.makedirs(train_dir)\n",
    "    if not os.path.exists(valid_dir):\n",
    "        os.makedirs(valid_dir)\n",
    "        \n",
    "    # Randomly split file list into training and vaidation sets\n",
    "    np.random.shuffle(file_list)\n",
    "    split_int = int(ratio * len(file_list))\n",
    "    train_list = file_list[:split_int]\n",
    "    valid_list = file_list[split_int:]\n",
    "    \n",
    "    # Move images of particular subject into testing directory\n",
    "    for filenames, new_dir in [(train_list, train_dir), (valid_list, valid_dir)]:\n",
    "        for image_filename in filenames:\n",
    "            # Move file into testing directory\n",
    "            path = os.path.join(data_dir, image_filename)\n",
    "            new_path = os.path.join(new_dir, image_filename)\n",
    "            os.rename(path, new_path)\n",
    "\n",
    "        # Move each image file's numerical str representing letters found in testing into own category directory\n",
    "        move_data_by_category(new_dir)\n",
    "    \n",
    "    return (load_dataset(train_dir), load_dataset(valid_dir))"
   ]
  },
  {
   "cell_type": "code",
   "execution_count": 3,
   "metadata": {},
   "outputs": [],
   "source": [
    "test_data, test_targets = get_testing_data(data_dir)\n",
    "train, valid = get_training_validation_data(data_dir)\n",
    "# Separated data and its targets\n",
    "train_data, train_targets = train\n",
    "valid_data, valid_targets = valid"
   ]
  },
  {
   "cell_type": "markdown",
   "metadata": {},
   "source": [
    "### Display some of the images"
   ]
  },
  {
   "cell_type": "code",
   "execution_count": null,
   "metadata": {},
   "outputs": [],
   "source": [
    "np.random.seed(8675309)\n",
    "%matplotlib inline\n",
    "\n",
    "# Display image previews below\n",
    "plt.figure(figsize=(20,55))\n",
    "columns = 8\n",
    "n = 1\n",
    "\n",
    "# Randomly choose images to display (with label)\n",
    "for image_path in np.random.choice(train_data, 24, replace=False):\n",
    "    img = Image.open(image_path)\n",
    "    plt.subplot(20, columns, n)\n",
    "    n+=1\n",
    "    plt.imshow(img)\n",
    "    letter = image_path.split('/')[-1][:2]\n",
    "    letter = chr(int(letter)+65)\n",
    "    plt.title(letter)"
   ]
  },
  {
   "cell_type": "markdown",
   "metadata": {},
   "source": [
    "### Preparing the model"
   ]
  },
  {
   "cell_type": "code",
   "execution_count": 35,
   "metadata": {},
   "outputs": [],
   "source": [
    "# Preprocessing data fro Keras (TensorFlow backend)\n",
    "def path_to_tensor(img_path):\n",
    "    # Loads image as PIL.Image.Image type\n",
    "    img = image.load_img(img_path, target_size=(224, 224), grayscale=False)\n",
    "    # Convert PIL.Image.Image type to 3D tensor with shape (224, 224, 1)\n",
    "    x = image.img_to_array(img)\n",
    "    # convert 3D tensor to 4D tensor with shape (1, 224, 224, 1) and return 4D tensor\n",
    "    return np.expand_dims(x, axis=0)\n",
    "\n",
    "def paths_to_tensor(img_paths):\n",
    "    list_of_tensors = [path_to_tensor(img_path) for img_path in tqdm(img_paths)]\n",
    "    return np.vstack(list_of_tensors)"
   ]
  },
  {
   "cell_type": "code",
   "execution_count": 36,
   "metadata": {},
   "outputs": [
    {
     "name": "stderr",
     "output_type": "stream",
     "text": [
      "100%|██████████| 10376/10376 [00:11<00:00, 922.19it/s]\n",
      "100%|██████████| 13898/13898 [00:13<00:00, 995.85it/s] \n"
     ]
    }
   ],
   "source": [
    "ImageFile.LOAD_TRUNCATED_IMAGES = True                 \n",
    "\n",
    "# pre-process the data for Keras\n",
    "valid_tensors = paths_to_tensor(valid_data).astype('float32')\n",
    "test_tensors = paths_to_tensor(test_data).astype('float32')"
   ]
  },
  {
   "cell_type": "code",
   "execution_count": 37,
   "metadata": {
    "scrolled": true
   },
   "outputs": [
    {
     "name": "stderr",
     "output_type": "stream",
     "text": [
      "100%|██████████| 41500/41500 [01:05<00:00, 637.43it/s]\n"
     ]
    }
   ],
   "source": [
    "# Prepare training data separately since this is usually large\n",
    "train_tensors = paths_to_tensor(train_data).astype('float32')"
   ]
  },
  {
   "cell_type": "markdown",
   "metadata": {},
   "source": [
    "## Basic CNN model from scratch"
   ]
  },
  {
   "cell_type": "markdown",
   "metadata": {},
   "source": [
    "### Building basic model"
   ]
  },
  {
   "cell_type": "code",
   "execution_count": 38,
   "metadata": {},
   "outputs": [
    {
     "name": "stdout",
     "output_type": "stream",
     "text": [
      "_________________________________________________________________\n",
      "Layer (type)                 Output Shape              Param #   \n",
      "=================================================================\n",
      "conv2d_7 (Conv2D)            (None, 160, 160, 16)      80        \n",
      "_________________________________________________________________\n",
      "max_pooling2d_7 (MaxPooling2 (None, 80, 80, 16)        0         \n",
      "_________________________________________________________________\n",
      "conv2d_8 (Conv2D)            (None, 80, 80, 32)        2080      \n",
      "_________________________________________________________________\n",
      "max_pooling2d_8 (MaxPooling2 (None, 40, 40, 32)        0         \n",
      "_________________________________________________________________\n",
      "conv2d_9 (Conv2D)            (None, 40, 40, 64)        8256      \n",
      "_________________________________________________________________\n",
      "max_pooling2d_9 (MaxPooling2 (None, 20, 20, 64)        0         \n",
      "_________________________________________________________________\n",
      "global_average_pooling2d_3 ( (None, 64)                0         \n",
      "_________________________________________________________________\n",
      "dense_3 (Dense)              (None, 24)                1560      \n",
      "=================================================================\n",
      "Total params: 11,976\n",
      "Trainable params: 11,976\n",
      "Non-trainable params: 0\n",
      "_________________________________________________________________\n"
     ]
    }
   ],
   "source": [
    "from keras.layers import Conv2D, MaxPooling2D, GlobalAveragePooling2D\n",
    "from keras.layers import Dropout, Flatten, Dense\n",
    "from keras.models import Sequential\n",
    "\n",
    "model = Sequential()\n",
    "#Convo 224, 224, 1\n",
    "model.add(Conv2D(filters=16, kernel_size=2, padding='same', activation='relu', \n",
    "                        input_shape=(224, 224, 1)))\n",
    "#\n",
    "model.add(MaxPooling2D(pool_size=2))\n",
    "#\n",
    "model.add(Conv2D(filters=32, kernel_size=2, padding='same', activation='relu'))\n",
    "#\n",
    "model.add(MaxPooling2D(pool_size=2))\n",
    "#\n",
    "model.add(Conv2D(filters=64, kernel_size=2, padding='same', activation='relu'))\n",
    "#\n",
    "model.add(MaxPooling2D(pool_size=2))\n",
    "#\n",
    "model.add(GlobalAveragePooling2D())\n",
    "#Dense; 24 for each handshape \n",
    "model.add(Dense(24, activation='softmax'))\n",
    "\n",
    "\n",
    "model.summary()"
   ]
  },
  {
   "cell_type": "code",
   "execution_count": 39,
   "metadata": {},
   "outputs": [],
   "source": [
    "model.compile(optimizer='rmsprop', loss='categorical_crossentropy', metrics=['accuracy'])"
   ]
  },
  {
   "cell_type": "markdown",
   "metadata": {},
   "source": [
    "### Training basic model"
   ]
  },
  {
   "cell_type": "code",
   "execution_count": 40,
   "metadata": {},
   "outputs": [
    {
     "name": "stdout",
     "output_type": "stream",
     "text": [
      "Train on 41500 samples, validate on 10376 samples\n",
      "Epoch 1/16\n",
      "41480/41500 [============================>.] - ETA: 0s - loss: 2.7345 - acc: 0.1880Epoch 00001: val_loss improved from inf to 2.30307, saving model to saved_models/weights.best.from_scratch.hdf5\n",
      "41500/41500 [==============================] - 72s 2ms/step - loss: 2.7341 - acc: 0.1881 - val_loss: 2.3031 - val_acc: 0.2963\n",
      "Epoch 2/16\n",
      "41460/41500 [============================>.] - ETA: 0s - loss: 2.1257 - acc: 0.3397Epoch 00002: val_loss improved from 2.30307 to 1.98483, saving model to saved_models/weights.best.from_scratch.hdf5\n",
      "41500/41500 [==============================] - 71s 2ms/step - loss: 2.1256 - acc: 0.3397 - val_loss: 1.9848 - val_acc: 0.3566\n",
      "Epoch 3/16\n",
      "41460/41500 [============================>.] - ETA: 0s - loss: 1.8236 - acc: 0.4251Epoch 00003: val_loss improved from 1.98483 to 1.90926, saving model to saved_models/weights.best.from_scratch.hdf5\n",
      "41500/41500 [==============================] - 71s 2ms/step - loss: 1.8238 - acc: 0.4251 - val_loss: 1.9093 - val_acc: 0.3714\n",
      "Epoch 4/16\n",
      "41460/41500 [============================>.] - ETA: 0s - loss: 1.5805 - acc: 0.4980Epoch 00004: val_loss improved from 1.90926 to 1.41748, saving model to saved_models/weights.best.from_scratch.hdf5\n",
      "41500/41500 [==============================] - 71s 2ms/step - loss: 1.5803 - acc: 0.4980 - val_loss: 1.4175 - val_acc: 0.5447\n",
      "Epoch 5/16\n",
      "41460/41500 [============================>.] - ETA: 0s - loss: 1.3729 - acc: 0.5605Epoch 00005: val_loss improved from 1.41748 to 1.19161, saving model to saved_models/weights.best.from_scratch.hdf5\n",
      "41500/41500 [==============================] - 71s 2ms/step - loss: 1.3728 - acc: 0.5605 - val_loss: 1.1916 - val_acc: 0.6340\n",
      "Epoch 6/16\n",
      "41460/41500 [============================>.] - ETA: 0s - loss: 1.2071 - acc: 0.6131Epoch 00006: val_loss improved from 1.19161 to 1.05981, saving model to saved_models/weights.best.from_scratch.hdf5\n",
      "41500/41500 [==============================] - 71s 2ms/step - loss: 1.2068 - acc: 0.6133 - val_loss: 1.0598 - val_acc: 0.6657\n",
      "Epoch 7/16\n",
      "41460/41500 [============================>.] - ETA: 0s - loss: 1.0755 - acc: 0.6519Epoch 00007: val_loss improved from 1.05981 to 1.01589, saving model to saved_models/weights.best.from_scratch.hdf5\n",
      "41500/41500 [==============================] - 71s 2ms/step - loss: 1.0752 - acc: 0.6520 - val_loss: 1.0159 - val_acc: 0.6814\n",
      "Epoch 8/16\n",
      "41460/41500 [============================>.] - ETA: 0s - loss: 0.9794 - acc: 0.6849Epoch 00008: val_loss improved from 1.01589 to 0.95951, saving model to saved_models/weights.best.from_scratch.hdf5\n",
      "41500/41500 [==============================] - 71s 2ms/step - loss: 0.9793 - acc: 0.6849 - val_loss: 0.9595 - val_acc: 0.6882\n",
      "Epoch 9/16\n",
      "41460/41500 [============================>.] - ETA: 0s - loss: 0.8979 - acc: 0.7080Epoch 00009: val_loss improved from 0.95951 to 0.88985, saving model to saved_models/weights.best.from_scratch.hdf5\n",
      "41500/41500 [==============================] - 71s 2ms/step - loss: 0.8981 - acc: 0.7079 - val_loss: 0.8899 - val_acc: 0.7046\n",
      "Epoch 10/16\n",
      "41460/41500 [============================>.] - ETA: 0s - loss: 0.8355 - acc: 0.7291Epoch 00010: val_loss improved from 0.88985 to 0.73171, saving model to saved_models/weights.best.from_scratch.hdf5\n",
      "41500/41500 [==============================] - 71s 2ms/step - loss: 0.8353 - acc: 0.7291 - val_loss: 0.7317 - val_acc: 0.7714\n",
      "Epoch 11/16\n",
      "41460/41500 [============================>.] - ETA: 0s - loss: 0.7872 - acc: 0.7438Epoch 00011: val_loss did not improve\n",
      "41500/41500 [==============================] - 71s 2ms/step - loss: 0.7873 - acc: 0.7438 - val_loss: 0.7982 - val_acc: 0.7442\n",
      "Epoch 12/16\n",
      "41460/41500 [============================>.] - ETA: 0s - loss: 0.7386 - acc: 0.7588Epoch 00012: val_loss did not improve\n",
      "41500/41500 [==============================] - 71s 2ms/step - loss: 0.7385 - acc: 0.7588 - val_loss: 0.7332 - val_acc: 0.7581\n",
      "Epoch 13/16\n",
      "41460/41500 [============================>.] - ETA: 0s - loss: 0.7035 - acc: 0.7706Epoch 00013: val_loss improved from 0.73171 to 0.70602, saving model to saved_models/weights.best.from_scratch.hdf5\n",
      "41500/41500 [==============================] - 71s 2ms/step - loss: 0.7034 - acc: 0.7706 - val_loss: 0.7060 - val_acc: 0.7738\n",
      "Epoch 14/16\n",
      "41460/41500 [============================>.] - ETA: 0s - loss: 0.6712 - acc: 0.7816Epoch 00014: val_loss improved from 0.70602 to 0.65615, saving model to saved_models/weights.best.from_scratch.hdf5\n",
      "41500/41500 [==============================] - 71s 2ms/step - loss: 0.6709 - acc: 0.7817 - val_loss: 0.6562 - val_acc: 0.7859\n",
      "Epoch 15/16\n",
      "41460/41500 [============================>.] - ETA: 0s - loss: 0.6445 - acc: 0.7899Epoch 00015: val_loss improved from 0.65615 to 0.59643, saving model to saved_models/weights.best.from_scratch.hdf5\n",
      "41500/41500 [==============================] - 71s 2ms/step - loss: 0.6444 - acc: 0.7899 - val_loss: 0.5964 - val_acc: 0.8112\n",
      "Epoch 16/16\n",
      "41460/41500 [============================>.] - ETA: 0s - loss: 0.6163 - acc: 0.8011Epoch 00016: val_loss did not improve\n",
      "41500/41500 [==============================] - 71s 2ms/step - loss: 0.6162 - acc: 0.8012 - val_loss: 0.6142 - val_acc: 0.8049\n"
     ]
    },
    {
     "data": {
      "text/plain": [
       "<keras.callbacks.History at 0x7feca9889a58>"
      ]
     },
     "execution_count": 40,
     "metadata": {},
     "output_type": "execute_result"
    }
   ],
   "source": [
    "from keras.callbacks import ModelCheckpoint  \n",
    "\n",
    "epochs = 16\n",
    "\n",
    "# Create a saved models directory\n",
    "if not os.path.exists(models_dir):\n",
    "    os.makedirs(models_dir)\n",
    "\n",
    "checkpointer = ModelCheckpoint(filepath=f'{models_dir}/weights.best.from_scratch.hdf5', \n",
    "                               verbose=1, save_best_only=True)\n",
    "\n",
    "model.fit(train_tensors, train_targets, \n",
    "          validation_data=(valid_tensors, valid_targets),\n",
    "          epochs=epochs, batch_size=20, callbacks=[checkpointer], verbose=1)"
   ]
  },
  {
   "cell_type": "markdown",
   "metadata": {},
   "source": [
    "### Evaluating basic model"
   ]
  },
  {
   "cell_type": "code",
   "execution_count": 41,
   "metadata": {},
   "outputs": [
    {
     "name": "stdout",
     "output_type": "stream",
     "text": [
      "Test accuracy: 43.3156%\n"
     ]
    }
   ],
   "source": [
    "handshape_predictions = [np.argmax(model.predict(np.expand_dims(tensor, axis=0))) for tensor in test_tensors]\n",
    "\n",
    "# report test accuracy\n",
    "test_accuracy = 100*np.sum(np.array(handshape_predictions)==np.argmax(test_targets, axis=1))/len(handshape_predictions)\n",
    "print('Test accuracy: %.4f%%' % test_accuracy)"
   ]
  },
  {
   "cell_type": "markdown",
   "metadata": {},
   "source": [
    "## Transfer Learning with VGG16"
   ]
  },
  {
   "cell_type": "markdown",
   "metadata": {},
   "source": [
    "### Preparing the model"
   ]
  },
  {
   "cell_type": "code",
   "execution_count": null,
   "metadata": {},
   "outputs": [],
   "source": [
    "# Preprocessing data fro Keras (TensorFlow backend)\n",
    "def path_to_tensor(img_path):\n",
    "    # Loads image as PIL.Image.Image type\n",
    "    img = image.load_img(img_path, target_size=(80, 80), grayscale=False)\n",
    "    # Convert PIL.Image.Image type to 3D tensor with shape (80, 80, 3)\n",
    "    x = image.img_to_array(img)\n",
    "    # convert 3D tensor to 4D tensor with shape (1, 80, 80, 3) and return 4D tensor\n",
    "    return np.expand_dims(x, axis=0)\n",
    "\n",
    "def paths_to_tensor(img_paths):\n",
    "    list_of_tensors = [path_to_tensor(img_path) for img_path in tqdm(img_paths)]\n",
    "    return np.vstack(list_of_tensors)"
   ]
  },
  {
   "cell_type": "code",
   "execution_count": null,
   "metadata": {},
   "outputs": [],
   "source": [
    "ImageFile.LOAD_TRUNCATED_IMAGES = True                 \n",
    "# Pre-process the data for Keras\n",
    "# Prepare training data separately since this is usually large\n",
    "\n",
    "print('Preparing to create valid tensors')\n",
    "valid_tensors = paths_to_tensor(valid_data).astype('float32')\n",
    "print('valid tensors prepared')"
   ]
  },
  {
   "cell_type": "code",
   "execution_count": null,
   "metadata": {},
   "outputs": [],
   "source": [
    "print('Preparing to create test tensors')\n",
    "test_tensors = paths_to_tensor(test_data).astype('float32')\n",
    "print('test tensors prepared')"
   ]
  },
  {
   "cell_type": "code",
   "execution_count": null,
   "metadata": {},
   "outputs": [],
   "source": [
    "print('Preparing to create train tensors')\n",
    "train_tensors = paths_to_tensor(train_data).astype('float32')\n",
    "print('train tensors prepared')"
   ]
  },
  {
   "cell_type": "markdown",
   "metadata": {},
   "source": [
    "### Extract Bottleneck Features for Training Set"
   ]
  },
  {
   "cell_type": "code",
   "execution_count": 29,
   "metadata": {},
   "outputs": [
    {
     "name": "stdout",
     "output_type": "stream",
     "text": [
      "data loaded\n",
      "model loaded\n",
      "bottleneck features file not detected (train)\n",
      "calculating now ...\n",
      "train data preprocessed\n",
      "bottleneck features saved (train)\n"
     ]
    }
   ],
   "source": [
    "# Load the data\n",
    "targets = np.squeeze(train_targets)\n",
    "print('data loaded')\n",
    "\n",
    "# Load vgg16 model + remove final classification layers\n",
    "model = vgg16.VGG16(weights='imagenet', include_top=False, input_shape=(80, 80, 3), classes=24)\n",
    "print('model loaded')\n",
    "\n",
    "# Obtain bottleneck features (train)\n",
    "if os.path.exists('vgg16_features_train.npz'):\n",
    "    print('bottleneck features detected (train)')\n",
    "    features = np.load('vgg16_features_train.npz')['features']\n",
    "else:\n",
    "    print('bottleneck features file not detected (train)')\n",
    "    \n",
    "    print('calculating now ...')\n",
    "    # Pre-process the train data\n",
    "    big_x_train = np.array([scipy.misc.imresize(train_tensors[i], (80, 80, 3)) \n",
    "                            for i in range(0, len(train_tensors))]).astype('float32')\n",
    "    vgg16_input_train = vgg16.preprocess_input(big_x_train)\n",
    "    print('train data preprocessed')\n",
    "    \n",
    "    # Extract, process, and save bottleneck features\n",
    "    features = model.predict(vgg16_input_train)\n",
    "    features = np.squeeze(features)\n",
    "    np.savez('vgg16_features_train', features=features)\n",
    "\n",
    "print('bottleneck features saved (train)')"
   ]
  },
  {
   "cell_type": "markdown",
   "metadata": {},
   "source": [
    "### Extract Bottleneck Features for Training Set"
   ]
  },
  {
   "cell_type": "code",
   "execution_count": 30,
   "metadata": {
    "scrolled": true
   },
   "outputs": [
    {
     "name": "stdout",
     "output_type": "stream",
     "text": [
      "bottleneck features file not detected (valid)\n",
      "calculating now ...\n",
      "bottleneck features saved (valid)\n"
     ]
    }
   ],
   "source": [
    "# Obtain bottleneck features (test)\n",
    "if os.path.exists('inception_features_test.npz'):\n",
    "    print('bottleneck features detected (test)')\n",
    "    features_test = np.load('inception_features_test.npz')['features_test']\n",
    "else:\n",
    "    # Calculating for validation set\n",
    "    print('bottleneck features file not detected (valid)')\n",
    "    print('calculating now ...')\n",
    "    # pre-process the test data\n",
    "    big_x_valid = np.array([scipy.misc.imresize(valid_tensors[i], (80, 80, 3)) \n",
    "                       for i in range(0, len(valid_tensors))]).astype('float32')\n",
    "    # big_x_valid = valid_tensors\n",
    "\n",
    "    inception_input_valid = preprocess_input(big_x_valid)\n",
    "    # extract, process, and save bottleneck features (valid)\n",
    "    features_valid = model.predict(inception_input_valid)\n",
    "    features_valid = np.squeeze(features_valid)\n",
    "    np.savez('inception_features_valid', features_test=features_valid)\n",
    "print('bottleneck features saved (valid)')"
   ]
  },
  {
   "cell_type": "markdown",
   "metadata": {},
   "source": [
    "### Building model"
   ]
  },
  {
   "cell_type": "code",
   "execution_count": 32,
   "metadata": {},
   "outputs": [
    {
     "name": "stdout",
     "output_type": "stream",
     "text": [
      "_________________________________________________________________\n",
      "Layer (type)                 Output Shape              Param #   \n",
      "=================================================================\n",
      "conv2d_5 (Conv2D)            (None, 1, 1, 100)         204900    \n",
      "_________________________________________________________________\n",
      "dropout_9 (Dropout)          (None, 1, 1, 100)         0         \n",
      "_________________________________________________________________\n",
      "global_average_pooling2d_5 ( (None, 100)               0         \n",
      "_________________________________________________________________\n",
      "dropout_10 (Dropout)         (None, 100)               0         \n",
      "_________________________________________________________________\n",
      "dense_5 (Dense)              (None, 24)                2424      \n",
      "=================================================================\n",
      "Total params: 207,324\n",
      "Trainable params: 207,324\n",
      "Non-trainable params: 0\n",
      "_________________________________________________________________\n"
     ]
    }
   ],
   "source": [
    "# Shallow NN\n",
    "from keras.callbacks import ModelCheckpoint   \n",
    "from keras.models import Sequential\n",
    "from keras.layers import Dense, Dropout, Conv2D, GlobalAveragePooling2D\n",
    "\n",
    "model = Sequential()\n",
    "model.add(Conv2D(filters=100, kernel_size=2, input_shape=features.shape[1:]))\n",
    "model.add(Dropout(0.4))\n",
    "model.add(GlobalAveragePooling2D())\n",
    "model.add(Dropout(0.3))\n",
    "model.add(Dense(24, activation='softmax'))\n",
    "model.summary()\n",
    "\n",
    "model.compile(loss='categorical_crossentropy', optimizer='rmsprop', metrics=['accuracy'])\n",
    "\n"
   ]
  },
  {
   "cell_type": "code",
   "execution_count": 50,
   "metadata": {},
   "outputs": [
    {
     "name": "stdout",
     "output_type": "stream",
     "text": [
      "Train on 41500 samples, validate on 10376 samples\n",
      "Epoch 1/50\n",
      "Epoch 00001: val_loss improved from inf to 6.38529, saving model to model.best.hdf5\n",
      " - 7s - loss: 9.4970 - acc: 0.3727 - val_loss: 6.3853 - val_acc: 0.5689\n",
      "Epoch 2/50\n",
      "Epoch 00002: val_loss improved from 6.38529 to 4.62084, saving model to model.best.hdf5\n",
      " - 4s - loss: 5.9356 - acc: 0.5931 - val_loss: 4.6208 - val_acc: 0.6820\n",
      "Epoch 3/50\n",
      "Epoch 00003: val_loss improved from 4.62084 to 2.97257, saving model to model.best.hdf5\n",
      " - 4s - loss: 4.5062 - acc: 0.6834 - val_loss: 2.9726 - val_acc: 0.7846\n",
      "Epoch 4/50\n",
      "Epoch 00004: val_loss improved from 2.97257 to 2.75360, saving model to model.best.hdf5\n",
      " - 4s - loss: 3.5916 - acc: 0.7419 - val_loss: 2.7536 - val_acc: 0.7985\n",
      "Epoch 5/50\n",
      "Epoch 00005: val_loss improved from 2.75360 to 2.66869, saving model to model.best.hdf5\n",
      " - 4s - loss: 3.1658 - acc: 0.7720 - val_loss: 2.6687 - val_acc: 0.8078\n",
      "Epoch 6/50\n",
      "Epoch 00006: val_loss improved from 2.66869 to 2.37854, saving model to model.best.hdf5\n",
      " - 4s - loss: 2.8461 - acc: 0.7940 - val_loss: 2.3785 - val_acc: 0.8269\n",
      "Epoch 7/50\n",
      "Epoch 00007: val_loss did not improve\n",
      " - 4s - loss: 2.6780 - acc: 0.8067 - val_loss: 2.6487 - val_acc: 0.8096\n",
      "Epoch 8/50\n",
      "Epoch 00008: val_loss improved from 2.37854 to 2.27214, saving model to model.best.hdf5\n",
      " - 4s - loss: 2.5075 - acc: 0.8183 - val_loss: 2.2721 - val_acc: 0.8388\n",
      "Epoch 9/50\n",
      "Epoch 00009: val_loss improved from 2.27214 to 2.25358, saving model to model.best.hdf5\n",
      " - 4s - loss: 2.3902 - acc: 0.8269 - val_loss: 2.2536 - val_acc: 0.8370\n",
      "Epoch 10/50\n",
      "Epoch 00010: val_loss improved from 2.25358 to 2.20910, saving model to model.best.hdf5\n",
      " - 4s - loss: 2.2881 - acc: 0.8337 - val_loss: 2.2091 - val_acc: 0.8438\n",
      "Epoch 11/50\n",
      "Epoch 00011: val_loss improved from 2.20910 to 2.14131, saving model to model.best.hdf5\n",
      " - 4s - loss: 2.1904 - acc: 0.8414 - val_loss: 2.1413 - val_acc: 0.8462\n",
      "Epoch 12/50\n",
      "Epoch 00012: val_loss did not improve\n",
      " - 4s - loss: 2.1312 - acc: 0.8463 - val_loss: 2.2188 - val_acc: 0.8403\n",
      "Epoch 13/50\n",
      "Epoch 00013: val_loss improved from 2.14131 to 1.82741, saving model to model.best.hdf5\n",
      " - 4s - loss: 2.1055 - acc: 0.8488 - val_loss: 1.8274 - val_acc: 0.8684\n",
      "Epoch 14/50\n",
      "Epoch 00014: val_loss did not improve\n",
      " - 4s - loss: 1.9978 - acc: 0.8572 - val_loss: 2.4614 - val_acc: 0.8276\n",
      "Epoch 15/50\n",
      "Epoch 00015: val_loss did not improve\n",
      " - 4s - loss: 1.9609 - acc: 0.8590 - val_loss: 2.0951 - val_acc: 0.8486\n",
      "Epoch 16/50\n",
      "Epoch 00016: val_loss did not improve\n",
      " - 4s - loss: 1.9058 - acc: 0.8638 - val_loss: 1.9651 - val_acc: 0.8583\n",
      "Epoch 17/50\n",
      "Epoch 00017: val_loss did not improve\n",
      " - 4s - loss: 1.8854 - acc: 0.8644 - val_loss: 1.8784 - val_acc: 0.8657\n",
      "Epoch 18/50\n",
      "Epoch 00018: val_loss did not improve\n",
      " - 4s - loss: 1.8788 - acc: 0.8658 - val_loss: 2.0704 - val_acc: 0.8541\n",
      "Epoch 19/50\n",
      "Epoch 00019: val_loss improved from 1.82741 to 1.79210, saving model to model.best.hdf5\n",
      " - 4s - loss: 1.8340 - acc: 0.8689 - val_loss: 1.7921 - val_acc: 0.8723\n",
      "Epoch 20/50\n",
      "Epoch 00020: val_loss improved from 1.79210 to 1.78899, saving model to model.best.hdf5\n",
      " - 4s - loss: 1.8163 - acc: 0.8693 - val_loss: 1.7890 - val_acc: 0.8753\n",
      "Epoch 21/50\n",
      "Epoch 00021: val_loss did not improve\n",
      " - 4s - loss: 1.7482 - acc: 0.8737 - val_loss: 1.9422 - val_acc: 0.8638\n",
      "Epoch 22/50\n",
      "Epoch 00022: val_loss did not improve\n",
      " - 4s - loss: 1.7270 - acc: 0.8764 - val_loss: 2.0155 - val_acc: 0.8591\n",
      "Epoch 23/50\n",
      "Epoch 00023: val_loss did not improve\n",
      " - 4s - loss: 1.7437 - acc: 0.8763 - val_loss: 2.0080 - val_acc: 0.8611\n",
      "Epoch 24/50\n",
      "Epoch 00024: val_loss did not improve\n",
      " - 4s - loss: 1.6888 - acc: 0.8793 - val_loss: 1.9712 - val_acc: 0.8626\n",
      "Epoch 25/50\n",
      "Epoch 00025: val_loss did not improve\n",
      " - 4s - loss: 1.6541 - acc: 0.8813 - val_loss: 2.3538 - val_acc: 0.8382\n",
      "Epoch 26/50\n",
      "Epoch 00026: val_loss did not improve\n",
      " - 4s - loss: 1.6427 - acc: 0.8830 - val_loss: 1.8804 - val_acc: 0.8676\n",
      "Epoch 27/50\n",
      "Epoch 00027: val_loss did not improve\n",
      " - 4s - loss: 1.6032 - acc: 0.8849 - val_loss: 1.8024 - val_acc: 0.8726\n",
      "Epoch 28/50\n",
      "Epoch 00028: val_loss did not improve\n",
      " - 4s - loss: 1.5693 - acc: 0.8880 - val_loss: 1.8317 - val_acc: 0.8726\n",
      "Epoch 29/50\n",
      "Epoch 00029: val_loss did not improve\n",
      " - 4s - loss: 1.6110 - acc: 0.8863 - val_loss: 1.8668 - val_acc: 0.8707\n",
      "Epoch 30/50\n",
      "Epoch 00030: val_loss did not improve\n",
      " - 4s - loss: 1.5872 - acc: 0.8879 - val_loss: 1.8369 - val_acc: 0.8730\n",
      "Epoch 31/50\n",
      "Epoch 00031: val_loss improved from 1.78899 to 1.69020, saving model to model.best.hdf5\n",
      " - 4s - loss: 1.5740 - acc: 0.8883 - val_loss: 1.6902 - val_acc: 0.8830\n",
      "Epoch 32/50\n",
      "Epoch 00032: val_loss did not improve\n",
      " - 4s - loss: 1.5926 - acc: 0.8876 - val_loss: 1.8669 - val_acc: 0.8692\n",
      "Epoch 33/50\n",
      "Epoch 00033: val_loss did not improve\n",
      " - 4s - loss: 1.5505 - acc: 0.8898 - val_loss: 2.1106 - val_acc: 0.8563\n",
      "Epoch 34/50\n",
      "Epoch 00034: val_loss did not improve\n",
      " - 4s - loss: 1.5614 - acc: 0.8905 - val_loss: 2.0153 - val_acc: 0.8607\n",
      "Epoch 35/50\n",
      "Epoch 00035: val_loss did not improve\n",
      " - 4s - loss: 1.5131 - acc: 0.8924 - val_loss: 1.7747 - val_acc: 0.8765\n",
      "Epoch 36/50\n",
      "Epoch 00036: val_loss did not improve\n",
      " - 4s - loss: 1.4847 - acc: 0.8957 - val_loss: 1.8121 - val_acc: 0.8752\n",
      "Epoch 37/50\n",
      "Epoch 00037: val_loss did not improve\n",
      " - 4s - loss: 1.5142 - acc: 0.8941 - val_loss: 1.8790 - val_acc: 0.8715\n",
      "Epoch 38/50\n",
      "Epoch 00038: val_loss did not improve\n",
      " - 4s - loss: 1.5069 - acc: 0.8943 - val_loss: 1.8373 - val_acc: 0.8729\n",
      "Epoch 39/50\n",
      "Epoch 00039: val_loss did not improve\n",
      " - 4s - loss: 1.5190 - acc: 0.8937 - val_loss: 1.7291 - val_acc: 0.8802\n",
      "Epoch 40/50\n",
      "Epoch 00040: val_loss did not improve\n",
      " - 4s - loss: 1.5019 - acc: 0.8952 - val_loss: 1.9733 - val_acc: 0.8640\n",
      "Epoch 41/50\n",
      "Epoch 00041: val_loss did not improve\n",
      " - 4s - loss: 1.5122 - acc: 0.8943 - val_loss: 1.8877 - val_acc: 0.8690\n",
      "Epoch 42/50\n",
      "Epoch 00042: val_loss did not improve\n",
      " - 4s - loss: 1.4863 - acc: 0.8960 - val_loss: 1.8777 - val_acc: 0.8708\n",
      "Epoch 43/50\n",
      "Epoch 00043: val_loss improved from 1.69020 to 1.64599, saving model to model.best.hdf5\n",
      " - 4s - loss: 1.4622 - acc: 0.8981 - val_loss: 1.6460 - val_acc: 0.8853\n",
      "Epoch 44/50\n",
      "Epoch 00044: val_loss did not improve\n",
      " - 4s - loss: 1.4540 - acc: 0.8985 - val_loss: 1.6554 - val_acc: 0.8863\n",
      "Epoch 45/50\n",
      "Epoch 00045: val_loss did not improve\n",
      " - 4s - loss: 1.4146 - acc: 0.9017 - val_loss: 1.7788 - val_acc: 0.8775\n",
      "Epoch 46/50\n",
      "Epoch 00046: val_loss did not improve\n",
      " - 4s - loss: 1.4621 - acc: 0.8981 - val_loss: 1.7417 - val_acc: 0.8804\n",
      "Epoch 47/50\n",
      "Epoch 00047: val_loss improved from 1.64599 to 1.64027, saving model to model.best.hdf5\n",
      " - 4s - loss: 1.4436 - acc: 0.8991 - val_loss: 1.6403 - val_acc: 0.8860\n",
      "Epoch 48/50\n",
      "Epoch 00048: val_loss improved from 1.64027 to 1.60330, saving model to model.best.hdf5\n",
      " - 4s - loss: 1.4167 - acc: 0.9011 - val_loss: 1.6033 - val_acc: 0.8899\n",
      "Epoch 49/50\n",
      "Epoch 00049: val_loss did not improve\n",
      " - 4s - loss: 1.4401 - acc: 0.9000 - val_loss: 1.8386 - val_acc: 0.8751\n",
      "Epoch 50/50\n",
      "Epoch 00050: val_loss did not improve\n",
      " - 4s - loss: 1.4448 - acc: 0.8994 - val_loss: 1.6907 - val_acc: 0.8836\n"
     ]
    },
    {
     "data": {
      "text/plain": [
       "<keras.callbacks.History at 0x7f4f015ae128>"
      ]
     },
     "execution_count": 50,
     "metadata": {},
     "output_type": "execute_result"
    }
   ],
   "source": [
    "checkpointer = ModelCheckpoint(filepath='model.best.hdf5', \n",
    "                               verbose=1, save_best_only=True)\n",
    "          \n",
    "model.fit(features, np.squeeze(train_targets), batch_size=50, epochs=50,\n",
    "          validation_data=(features_valid, valid_targets),\n",
    "          callbacks=[checkpointer],\n",
    "          verbose=2, shuffle=True)          "
   ]
  },
  {
   "cell_type": "markdown",
   "metadata": {},
   "source": [
    "### Evaluating the model"
   ]
  },
  {
   "cell_type": "code",
   "execution_count": null,
   "metadata": {},
   "outputs": [],
   "source": [
    "# Load the weights that yielded the best validation accuracy\n",
    "model.load_weights('model.best_batch50_epoch50.hdf5')\n",
    "\n",
    "# Evaluate test accuracy\n",
    "score = model.evaluate(features_test, test_targets, verbose=0)\n",
    "accuracy = 100*score[1]\n",
    "\n",
    "# Print test accuracy\n",
    "print('Test accuracy: %.4f%%' % accuracy)"
   ]
  }
 ],
 "metadata": {
  "kernelspec": {
   "display_name": "Python 3",
   "language": "python",
   "name": "python3"
  },
  "language_info": {
   "codemirror_mode": {
    "name": "ipython",
    "version": 3
   },
   "file_extension": ".py",
   "mimetype": "text/x-python",
   "name": "python",
   "nbconvert_exporter": "python",
   "pygments_lexer": "ipython3",
   "version": "3.6.4"
  }
 },
 "nbformat": 4,
 "nbformat_minor": 2
}
